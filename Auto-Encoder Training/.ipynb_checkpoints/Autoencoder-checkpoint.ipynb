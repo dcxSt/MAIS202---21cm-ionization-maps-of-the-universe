{
 "cells": [
  {
   "cell_type": "markdown",
   "metadata": {},
   "source": [
    "# BASELINE MODEL\n",
    "\n",
    "Using [this webpage](https://medium.com/@pallawi.ds/ai-starter-train-and-test-your-first-neural-network-classifier-in-keras-from-scratch-b6a5f3b3ebc4) to help me out"
   ]
  },
  {
   "cell_type": "markdown",
   "metadata": {},
   "source": [
    "# import statements"
   ]
  },
  {
   "cell_type": "code",
   "execution_count": 1,
   "metadata": {},
   "outputs": [
    {
     "name": "stderr",
     "output_type": "stream",
     "text": [
      "Using TensorFlow backend.\n"
     ]
    },
    {
     "name": "stdout",
     "output_type": "stream",
     "text": [
      "keras is using tensorflow as the backend\n"
     ]
    }
   ],
   "source": [
    "import matplotlib.pyplot as plt\n",
    "import matplotlib as mpl\n",
    "import sklearn\n",
    "import numpy as np\n",
    "import random\n",
    "\n",
    "# import keras\n",
    "import keras\n",
    "from keras.models import Sequential\n",
    "from keras import backend as K\n",
    "backend_keras = keras.backend.backend()\n",
    "print(\"keras is using\", backend_keras,\"as the backend\")\n",
    "from keras.layers.core import Dense\n",
    "from keras.optimizers import SGD"
   ]
  },
  {
   "cell_type": "markdown",
   "metadata": {},
   "source": [
    "# Load the data"
   ]
  },
  {
   "cell_type": "code",
   "execution_count": 3,
   "metadata": {},
   "outputs": [
    {
     "name": "stdout",
     "output_type": "stream",
     "text": [
      "(6171, 50, 50)\n",
      "(6171,)\n"
     ]
    }
   ],
   "source": [
    "images = np.load(\"training_set.npy\")\n",
    "labels_all = np.load(\"training_redshift_labels.npy\")\n",
    "print(images.shape)\n",
    "print(labels_all.shape)\n",
    "\n",
    "images = list(images)\n",
    "labels_all = list(labels_all)"
   ]
  },
  {
   "cell_type": "markdown",
   "metadata": {},
   "source": [
    "# Preprocessing"
   ]
  },
  {
   "cell_type": "code",
   "execution_count": 4,
   "metadata": {},
   "outputs": [],
   "source": [
    "# Shuffle the data\n",
    "shuffled_images = []\n",
    "shuffled_labels_all = []\n",
    "while images:\n",
    "    i = random.randrange(len(images))\n",
    "    shuffled_images.append(images[i])\n",
    "    del images[i]\n",
    "    shuffled_labels_all.append(labels_all[i])\n",
    "    del labels_all[i]\n",
    "    \n",
    "images = np.array(shuffled_images[:])\n",
    "labels_all = np.array(shuffled_labels_all)"
   ]
  },
  {
   "cell_type": "code",
   "execution_count": 5,
   "metadata": {},
   "outputs": [
    {
     "name": "stdout",
     "output_type": "stream",
     "text": [
      "(6171, 50, 50)\n",
      "(6171,)\n"
     ]
    }
   ],
   "source": [
    "print(images.shape)\n",
    "print(labels_all.shape)"
   ]
  },
  {
   "cell_type": "markdown",
   "metadata": {},
   "source": [
    "### make the labels so that the model can learn them\n",
    "Sofar the labels are floats "
   ]
  },
  {
   "cell_type": "code",
   "execution_count": 6,
   "metadata": {},
   "outputs": [
    {
     "name": "stdout",
     "output_type": "stream",
     "text": [
      "[5.0, 5.5, 6.0, 6.5, 7.0, 7.5, 8.0, 8.5, 9.0, 9.5, 10.0, 10.5, 11.0, 11.5, 12.0, 12.5, 13.0] \n",
      "There are 17 labels. So the the problem is an image classification into 17 classes\n"
     ]
    }
   ],
   "source": [
    "# display the labels\n",
    "l = []\n",
    "for i in labels_all:\n",
    "    if i not in l: l.append(i)\n",
    "l.sort()\n",
    "print(l,\"\\nThere are\",len(l),\"labels. So the the problem is an image classification into\",len(l),\"classes\")"
   ]
  },
  {
   "cell_type": "code",
   "execution_count": 7,
   "metadata": {},
   "outputs": [
    {
     "name": "stdout",
     "output_type": "stream",
     "text": [
      "train_labels shape = (6171, 17) \n",
      "First 3 entries:\n",
      "[[0. 1. 0. 0. 0. 0. 0. 0. 0. 0. 0. 0. 0. 0. 0. 0. 0.]\n",
      " [0. 0. 0. 0. 0. 0. 0. 0. 1. 0. 0. 0. 0. 0. 0. 0. 0.]\n",
      " [0. 0. 0. 0. 0. 0. 0. 0. 0. 0. 0. 0. 0. 0. 1. 0. 0.]]\n"
     ]
    }
   ],
   "source": [
    "# define the train labels in len 17 arrays\n",
    "labels = []\n",
    "for i in labels_all:\n",
    "    arr = np.zeros(17)\n",
    "    index = int(np.round((i-5)*2,0))\n",
    "    arr[index]=1\n",
    "    labels.append(arr[:])\n",
    "    \n",
    "labels = np.array(labels)\n",
    "print(\"train_labels shape =\", labels.shape,\"\\nFirst 3 entries:\")\n",
    "print(labels[:3])"
   ]
  },
  {
   "cell_type": "markdown",
   "metadata": {},
   "source": [
    "### normalise the images\n",
    "because the values of the pixels in these images are somewhat unconventional I normalize by dividing by 70 instead of 255, this is because I checked and the max value was 66 point something."
   ]
  },
  {
   "cell_type": "code",
   "execution_count": 8,
   "metadata": {},
   "outputs": [
    {
     "name": "stdout",
     "output_type": "stream",
     "text": [
      "max :  0.9500968\n",
      "min :  0.0\n"
     ]
    }
   ],
   "source": [
    "# normalize images\n",
    "images_n = images / 70.0 # n for normalized\n",
    "print(\"max : \",np.max(images_n))\n",
    "print(\"min : \",np.min(images_n))"
   ]
  },
  {
   "cell_type": "markdown",
   "metadata": {},
   "source": [
    "#### Flatten the images for training"
   ]
  },
  {
   "cell_type": "markdown",
   "metadata": {},
   "source": [
    "images_flatten = np.array([i.flatten(\"C\") for i in images_n])\n",
    "print(\"triain images flatten shape : \",images_flatten.shape)"
   ]
  },
  {
   "cell_type": "markdown",
   "metadata": {},
   "source": [
    "# Train Test Split"
   ]
  },
  {
   "cell_type": "code",
   "execution_count": 10,
   "metadata": {},
   "outputs": [],
   "source": [
    "ratio = 0.9\n",
    "cut = int(len(images_flatten)*ratio)\n",
    "images_train = images_flatten[:cut]\n",
    "labels_train = labels[:cut]\n",
    "images_test = images_flatten[cut:]\n",
    "labels_test = labels[cut:]"
   ]
  },
  {
   "cell_type": "markdown",
   "metadata": {},
   "source": [
    "# Define Architecture\n",
    "The input size is 2500 and the output is gonna have size 17. I'm gonna make it single hidden layer."
   ]
  },
  {
   "cell_type": "code",
   "execution_count": 11,
   "metadata": {},
   "outputs": [
    {
     "name": "stdout",
     "output_type": "stream",
     "text": [
      "printing summary of model\n",
      "Model: \"sequential_1\"\n",
      "_________________________________________________________________\n",
      "Layer (type)                 Output Shape              Param #   \n",
      "=================================================================\n",
      "dense_1 (Dense)              (None, 350)               875350    \n",
      "_________________________________________________________________\n",
      "dense_2 (Dense)              (None, 17)                5967      \n",
      "=================================================================\n",
      "Total params: 881,317\n",
      "Trainable params: 881,317\n",
      "Non-trainable params: 0\n",
      "_________________________________________________________________\n"
     ]
    }
   ],
   "source": [
    "model = Sequential()\n",
    "\n",
    "model.add(Dense(350, input_shape=(2500,), activation=\"sigmoid\"))\n",
    "model.add(Dense(17, activation=\"softmax\"))\n",
    "\n",
    "print(\"printing summary of model\")\n",
    "model.summary()"
   ]
  },
  {
   "cell_type": "markdown",
   "metadata": {},
   "source": [
    "# Compile the mode\n",
    "You can compile a network (model) as many times as you want. You need to compile the model if you wish to change the loss function, optimizer or matrices.\n",
    "\n",
    "You need a compiled model to train (because training uses the loss function and the optimizer). But it’s not necessary to compile the model when testing the model on a new data."
   ]
  },
  {
   "cell_type": "code",
   "execution_count": 16,
   "metadata": {},
   "outputs": [
    {
     "name": "stdout",
     "output_type": "stream",
     "text": [
      "[INFO] Compiled the network...\n"
     ]
    }
   ],
   "source": [
    "# Initialize the initial learning rate and number of Epochs\n",
    "INIT_LR = 0.01\n",
    "EPOCHS = 250\n",
    "\n",
    "# compile the model using SGD optimizer (see imports) and categorical cross-entropy loss\n",
    "print(\"[INFO] Compiled the network...\")\n",
    "opt = SGD(lr = INIT_LR) # stochastic gradient descent\n",
    "model.compile(loss=\"categorical_crossentropy\", optimizer=opt,\n",
    "             metrics=[\"accuracy\"])"
   ]
  },
  {
   "cell_type": "code",
   "execution_count": 17,
   "metadata": {},
   "outputs": [],
   "source": [
    "# split the train into a train and valid set to feed into the model\n",
    "ratio = 0.8\n",
    "cut = int(ratio*len(images_train))\n",
    "trainX = images_train[:cut]\n",
    "trainY = labels_train[:cut]\n",
    "valX = images_train[cut:]\n",
    "valY = labels_train[cut:]"
   ]
  },
  {
   "cell_type": "markdown",
   "metadata": {},
   "source": [
    "## OR possible import an old network / pre-defined network for (re)training"
   ]
  },
  {
   "cell_type": "markdown",
   "metadata": {},
   "source": [
    "# Train the network"
   ]
  },
  {
   "cell_type": "code",
   "execution_count": 18,
   "metadata": {},
   "outputs": [
    {
     "name": "stdout",
     "output_type": "stream",
     "text": [
      "a random guess would have probability 5.882352941176471\n"
     ]
    }
   ],
   "source": [
    "print(\"a random guess would have probability\",100./17)"
   ]
  },
  {
   "cell_type": "code",
   "execution_count": 19,
   "metadata": {
    "scrolled": true
   },
   "outputs": [
    {
     "name": "stdout",
     "output_type": "stream",
     "text": [
      "Train on 4442 samples, validate on 1111 samples\n",
      "Epoch 1/250\n",
      "4442/4442 [==============================] - 1s 263us/step - loss: 1.9485 - accuracy: 0.3627 - val_loss: 1.9513 - val_accuracy: 0.3348\n",
      "Epoch 2/250\n",
      "4442/4442 [==============================] - 1s 223us/step - loss: 1.9371 - accuracy: 0.3593 - val_loss: 1.9377 - val_accuracy: 0.3312\n",
      "Epoch 3/250\n",
      "4442/4442 [==============================] - 1s 199us/step - loss: 1.9241 - accuracy: 0.3627 - val_loss: 1.9146 - val_accuracy: 0.3501\n",
      "Epoch 4/250\n",
      "4442/4442 [==============================] - 1s 283us/step - loss: 1.9126 - accuracy: 0.3613 - val_loss: 1.9204 - val_accuracy: 0.3114\n",
      "Epoch 5/250\n",
      "4442/4442 [==============================] - 1s 296us/step - loss: 1.9013 - accuracy: 0.3710 - val_loss: 1.8987 - val_accuracy: 0.3330\n",
      "Epoch 6/250\n",
      "4442/4442 [==============================] - 1s 291us/step - loss: 1.8902 - accuracy: 0.3719 - val_loss: 1.8818 - val_accuracy: 0.4077\n",
      "Epoch 7/250\n",
      "4442/4442 [==============================] - 1s 286us/step - loss: 1.8806 - accuracy: 0.3901 - val_loss: 1.8840 - val_accuracy: 0.3609\n",
      "Epoch 8/250\n",
      "4442/4442 [==============================] - 1s 273us/step - loss: 1.8708 - accuracy: 0.3829 - val_loss: 1.8738 - val_accuracy: 0.3231\n",
      "Epoch 9/250\n",
      "4442/4442 [==============================] - 1s 319us/step - loss: 1.8594 - accuracy: 0.3820 - val_loss: 1.8598 - val_accuracy: 0.3708\n",
      "Epoch 10/250\n",
      "4442/4442 [==============================] - 1s 263us/step - loss: 1.8538 - accuracy: 0.3834 - val_loss: 1.8544 - val_accuracy: 0.3564\n",
      "Epoch 11/250\n",
      "4442/4442 [==============================] - 1s 318us/step - loss: 1.8435 - accuracy: 0.3935 - val_loss: 1.8405 - val_accuracy: 0.4032\n",
      "Epoch 12/250\n",
      "4442/4442 [==============================] - 1s 270us/step - loss: 1.8350 - accuracy: 0.4068 - val_loss: 1.8391 - val_accuracy: 0.3168\n",
      "Epoch 13/250\n",
      "4442/4442 [==============================] - 1s 298us/step - loss: 1.8270 - accuracy: 0.3985 - val_loss: 1.8316 - val_accuracy: 0.4437\n",
      "Epoch 14/250\n",
      "4442/4442 [==============================] - 1s 291us/step - loss: 1.8189 - accuracy: 0.4131 - val_loss: 1.8207 - val_accuracy: 0.3294\n",
      "Epoch 15/250\n",
      "4442/4442 [==============================] - 1s 309us/step - loss: 1.8101 - accuracy: 0.4194 - val_loss: 1.8162 - val_accuracy: 0.3411\n",
      "Epoch 16/250\n",
      "4442/4442 [==============================] - 2s 339us/step - loss: 1.8050 - accuracy: 0.4088 - val_loss: 1.8102 - val_accuracy: 0.3402\n",
      "Epoch 17/250\n",
      "4442/4442 [==============================] - 1s 260us/step - loss: 1.7958 - accuracy: 0.4140 - val_loss: 1.8077 - val_accuracy: 0.4221\n",
      "Epoch 18/250\n",
      "4442/4442 [==============================] - 1s 306us/step - loss: 1.7905 - accuracy: 0.4149 - val_loss: 1.7931 - val_accuracy: 0.3636\n",
      "Epoch 19/250\n",
      "4442/4442 [==============================] - 1s 271us/step - loss: 1.7836 - accuracy: 0.4325 - val_loss: 1.7851 - val_accuracy: 0.4068\n",
      "Epoch 20/250\n",
      "4442/4442 [==============================] - 1s 302us/step - loss: 1.7753 - accuracy: 0.4109 - val_loss: 1.7865 - val_accuracy: 0.3897\n",
      "Epoch 21/250\n",
      "4442/4442 [==============================] - 1s 271us/step - loss: 1.7687 - accuracy: 0.4379 - val_loss: 1.7717 - val_accuracy: 0.4059\n",
      "Epoch 22/250\n",
      "4442/4442 [==============================] - 1s 294us/step - loss: 1.7637 - accuracy: 0.4286 - val_loss: 1.7698 - val_accuracy: 0.3699\n",
      "Epoch 23/250\n",
      "4442/4442 [==============================] - 1s 290us/step - loss: 1.7553 - accuracy: 0.4154 - val_loss: 1.7647 - val_accuracy: 0.4005\n",
      "Epoch 24/250\n",
      "4442/4442 [==============================] - 1s 261us/step - loss: 1.7497 - accuracy: 0.4426 - val_loss: 1.7665 - val_accuracy: 0.3726\n",
      "Epoch 25/250\n",
      "4442/4442 [==============================] - 1s 327us/step - loss: 1.7438 - accuracy: 0.4228 - val_loss: 1.7529 - val_accuracy: 0.3969\n",
      "Epoch 26/250\n",
      "4442/4442 [==============================] - 1s 259us/step - loss: 1.7359 - accuracy: 0.4406 - val_loss: 1.7557 - val_accuracy: 0.3357\n",
      "Epoch 27/250\n",
      "4442/4442 [==============================] - 1s 292us/step - loss: 1.7323 - accuracy: 0.4442 - val_loss: 1.7445 - val_accuracy: 0.3780\n",
      "Epoch 28/250\n",
      "4442/4442 [==============================] - 1s 276us/step - loss: 1.7264 - accuracy: 0.4331 - val_loss: 1.7363 - val_accuracy: 0.4014\n",
      "Epoch 29/250\n",
      "4442/4442 [==============================] - 1s 268us/step - loss: 1.7232 - accuracy: 0.4410 - val_loss: 1.7294 - val_accuracy: 0.3645\n",
      "Epoch 30/250\n",
      "4442/4442 [==============================] - 1s 298us/step - loss: 1.7148 - accuracy: 0.4399 - val_loss: 1.7229 - val_accuracy: 0.4788\n",
      "Epoch 31/250\n",
      "4442/4442 [==============================] - 1s 277us/step - loss: 1.7120 - accuracy: 0.4593 - val_loss: 1.7245 - val_accuracy: 0.4032\n",
      "Epoch 32/250\n",
      "4442/4442 [==============================] - 1s 299us/step - loss: 1.7034 - accuracy: 0.4604 - val_loss: 1.7254 - val_accuracy: 0.3609\n",
      "Epoch 33/250\n",
      "4442/4442 [==============================] - 1s 269us/step - loss: 1.7000 - accuracy: 0.4466 - val_loss: 1.7148 - val_accuracy: 0.4221\n",
      "Epoch 34/250\n",
      "4442/4442 [==============================] - 1s 305us/step - loss: 1.6942 - accuracy: 0.4557 - val_loss: 1.7012 - val_accuracy: 0.4392\n",
      "Epoch 35/250\n",
      "4442/4442 [==============================] - 1s 277us/step - loss: 1.6891 - accuracy: 0.4662 - val_loss: 1.7079 - val_accuracy: 0.3843\n",
      "Epoch 36/250\n",
      "4442/4442 [==============================] - 1s 299us/step - loss: 1.6837 - accuracy: 0.4527 - val_loss: 1.7021 - val_accuracy: 0.4068\n",
      "Epoch 37/250\n",
      "4442/4442 [==============================] - 2s 351us/step - loss: 1.6805 - accuracy: 0.4593 - val_loss: 1.6973 - val_accuracy: 0.4401\n",
      "Epoch 38/250\n",
      "4442/4442 [==============================] - 1s 293us/step - loss: 1.6756 - accuracy: 0.4723 - val_loss: 1.6915 - val_accuracy: 0.3951\n",
      "Epoch 39/250\n",
      "4442/4442 [==============================] - 1s 328us/step - loss: 1.6710 - accuracy: 0.4698 - val_loss: 1.6916 - val_accuracy: 0.4014\n",
      "Epoch 40/250\n",
      "4442/4442 [==============================] - 1s 272us/step - loss: 1.6662 - accuracy: 0.4624 - val_loss: 1.6858 - val_accuracy: 0.4311\n",
      "Epoch 41/250\n",
      "4442/4442 [==============================] - 1s 333us/step - loss: 1.6613 - accuracy: 0.4653 - val_loss: 1.6739 - val_accuracy: 0.4257\n",
      "Epoch 42/250\n",
      "4442/4442 [==============================] - 1s 284us/step - loss: 1.6562 - accuracy: 0.4748 - val_loss: 1.6728 - val_accuracy: 0.4347\n",
      "Epoch 43/250\n",
      "4442/4442 [==============================] - 1s 330us/step - loss: 1.6521 - accuracy: 0.4935 - val_loss: 1.6661 - val_accuracy: 0.4707\n",
      "Epoch 44/250\n",
      "4442/4442 [==============================] - 1s 307us/step - loss: 1.6464 - accuracy: 0.4809 - val_loss: 1.6645 - val_accuracy: 0.4347\n",
      "Epoch 45/250\n",
      "4442/4442 [==============================] - 1s 285us/step - loss: 1.6417 - accuracy: 0.4876 - val_loss: 1.6621 - val_accuracy: 0.3951\n",
      "Epoch 46/250\n",
      "4442/4442 [==============================] - 1s 276us/step - loss: 1.6385 - accuracy: 0.4815 - val_loss: 1.6638 - val_accuracy: 0.3609\n",
      "Epoch 47/250\n",
      "4442/4442 [==============================] - 1s 275us/step - loss: 1.6342 - accuracy: 0.4842 - val_loss: 1.6544 - val_accuracy: 0.3933\n",
      "Epoch 48/250\n",
      "4442/4442 [==============================] - 1s 309us/step - loss: 1.6314 - accuracy: 0.4851 - val_loss: 1.6474 - val_accuracy: 0.4590\n",
      "Epoch 49/250\n",
      "4442/4442 [==============================] - 1s 272us/step - loss: 1.6259 - accuracy: 0.4811 - val_loss: 1.6478 - val_accuracy: 0.4527\n",
      "Epoch 50/250\n",
      "4442/4442 [==============================] - 1s 305us/step - loss: 1.6209 - accuracy: 0.4759 - val_loss: 1.6428 - val_accuracy: 0.4284\n",
      "Epoch 51/250\n",
      "4442/4442 [==============================] - 1s 270us/step - loss: 1.6168 - accuracy: 0.4935 - val_loss: 1.6394 - val_accuracy: 0.3951\n",
      "Epoch 52/250\n",
      "4442/4442 [==============================] - 1s 290us/step - loss: 1.6144 - accuracy: 0.4885 - val_loss: 1.6352 - val_accuracy: 0.4077\n",
      "Epoch 53/250\n",
      "4442/4442 [==============================] - 1s 301us/step - loss: 1.6098 - accuracy: 0.4944 - val_loss: 1.6390 - val_accuracy: 0.4230\n",
      "Epoch 54/250\n",
      "4442/4442 [==============================] - 1s 266us/step - loss: 1.6053 - accuracy: 0.5025 - val_loss: 1.6380 - val_accuracy: 0.4131\n",
      "Epoch 55/250\n",
      "4442/4442 [==============================] - 1s 303us/step - loss: 1.6025 - accuracy: 0.4973 - val_loss: 1.6306 - val_accuracy: 0.4194\n",
      "Epoch 56/250\n",
      "4442/4442 [==============================] - 1s 253us/step - loss: 1.5988 - accuracy: 0.4921 - val_loss: 1.6209 - val_accuracy: 0.4365\n",
      "Epoch 57/250\n",
      "4442/4442 [==============================] - 1s 261us/step - loss: 1.5954 - accuracy: 0.5016 - val_loss: 1.6209 - val_accuracy: 0.4068\n",
      "Epoch 58/250\n",
      "4442/4442 [==============================] - 1s 267us/step - loss: 1.5898 - accuracy: 0.5061 - val_loss: 1.6144 - val_accuracy: 0.4590\n",
      "Epoch 59/250\n",
      "4442/4442 [==============================] - 1s 251us/step - loss: 1.5870 - accuracy: 0.4955 - val_loss: 1.6142 - val_accuracy: 0.4140\n",
      "Epoch 60/250\n",
      "4442/4442 [==============================] - 2s 340us/step - loss: 1.5838 - accuracy: 0.4977 - val_loss: 1.6120 - val_accuracy: 0.4122\n",
      "Epoch 61/250\n",
      "4442/4442 [==============================] - 1s 249us/step - loss: 1.5783 - accuracy: 0.5074 - val_loss: 1.6052 - val_accuracy: 0.4626\n",
      "Epoch 62/250\n",
      "4442/4442 [==============================] - 1s 293us/step - loss: 1.5753 - accuracy: 0.5009 - val_loss: 1.6056 - val_accuracy: 0.4113\n",
      "Epoch 63/250\n",
      "4442/4442 [==============================] - 1s 268us/step - loss: 1.5733 - accuracy: 0.5149 - val_loss: 1.5952 - val_accuracy: 0.4464\n",
      "Epoch 64/250\n",
      "4442/4442 [==============================] - 1s 252us/step - loss: 1.5688 - accuracy: 0.5070 - val_loss: 1.6015 - val_accuracy: 0.4248\n",
      "Epoch 65/250\n",
      "4442/4442 [==============================] - 1s 278us/step - loss: 1.5653 - accuracy: 0.5014 - val_loss: 1.5892 - val_accuracy: 0.4023\n",
      "Epoch 66/250\n",
      "4442/4442 [==============================] - 1s 254us/step - loss: 1.5613 - accuracy: 0.5128 - val_loss: 1.5915 - val_accuracy: 0.4167\n",
      "Epoch 67/250\n",
      "4442/4442 [==============================] - 1s 291us/step - loss: 1.5577 - accuracy: 0.5086 - val_loss: 1.5945 - val_accuracy: 0.4365\n",
      "Epoch 68/250\n",
      "4442/4442 [==============================] - 2s 338us/step - loss: 1.5548 - accuracy: 0.5223 - val_loss: 1.5885 - val_accuracy: 0.4689\n",
      "Epoch 69/250\n",
      "4442/4442 [==============================] - 1s 314us/step - loss: 1.5510 - accuracy: 0.5155 - val_loss: 1.5884 - val_accuracy: 0.4329\n",
      "Epoch 70/250\n",
      "4442/4442 [==============================] - 1s 295us/step - loss: 1.5489 - accuracy: 0.5288 - val_loss: 1.5824 - val_accuracy: 0.3996\n",
      "Epoch 71/250\n",
      "4442/4442 [==============================] - 1s 267us/step - loss: 1.5436 - accuracy: 0.5110 - val_loss: 1.5687 - val_accuracy: 0.4410\n",
      "Epoch 72/250\n",
      "4442/4442 [==============================] - 1s 272us/step - loss: 1.5420 - accuracy: 0.5178 - val_loss: 1.5786 - val_accuracy: 0.4302\n",
      "Epoch 73/250\n",
      "4442/4442 [==============================] - 1s 267us/step - loss: 1.5388 - accuracy: 0.5313 - val_loss: 1.5691 - val_accuracy: 0.4410\n",
      "Epoch 74/250\n",
      "4442/4442 [==============================] - 1s 309us/step - loss: 1.5353 - accuracy: 0.5212 - val_loss: 1.5670 - val_accuracy: 0.4239\n",
      "Epoch 75/250\n",
      "4442/4442 [==============================] - 1s 329us/step - loss: 1.5321 - accuracy: 0.5198 - val_loss: 1.5681 - val_accuracy: 0.4671\n",
      "Epoch 76/250\n",
      "4442/4442 [==============================] - 1s 331us/step - loss: 1.5297 - accuracy: 0.5176 - val_loss: 1.5626 - val_accuracy: 0.4716\n",
      "Epoch 77/250\n",
      "4442/4442 [==============================] - 1s 278us/step - loss: 1.5248 - accuracy: 0.5374 - val_loss: 1.5587 - val_accuracy: 0.4266\n",
      "Epoch 78/250\n",
      "4442/4442 [==============================] - 1s 294us/step - loss: 1.5216 - accuracy: 0.5281 - val_loss: 1.5547 - val_accuracy: 0.4806\n",
      "Epoch 79/250\n",
      "4442/4442 [==============================] - 1s 298us/step - loss: 1.5184 - accuracy: 0.5252 - val_loss: 1.5525 - val_accuracy: 0.4482\n",
      "Epoch 80/250\n",
      "4442/4442 [==============================] - 1s 281us/step - loss: 1.5176 - accuracy: 0.5241 - val_loss: 1.5442 - val_accuracy: 0.4833\n",
      "Epoch 81/250\n",
      "4442/4442 [==============================] - 1s 337us/step - loss: 1.5139 - accuracy: 0.5340 - val_loss: 1.5459 - val_accuracy: 0.4293\n",
      "Epoch 82/250\n",
      "4442/4442 [==============================] - 1s 263us/step - loss: 1.5101 - accuracy: 0.5131 - val_loss: 1.5439 - val_accuracy: 0.3987\n",
      "Epoch 83/250\n",
      "4442/4442 [==============================] - 1s 301us/step - loss: 1.5074 - accuracy: 0.5320 - val_loss: 1.5406 - val_accuracy: 0.4590\n",
      "Epoch 84/250\n",
      "4442/4442 [==============================] - 1s 319us/step - loss: 1.5042 - accuracy: 0.5342 - val_loss: 1.5388 - val_accuracy: 0.4851\n",
      "Epoch 85/250\n",
      "4442/4442 [==============================] - 1s 312us/step - loss: 1.5023 - accuracy: 0.5297 - val_loss: 1.5373 - val_accuracy: 0.4464\n",
      "Epoch 86/250\n",
      "4442/4442 [==============================] - 1s 308us/step - loss: 1.4984 - accuracy: 0.5248 - val_loss: 1.5320 - val_accuracy: 0.4806\n",
      "Epoch 87/250\n",
      "4442/4442 [==============================] - 2s 349us/step - loss: 1.4966 - accuracy: 0.5509 - val_loss: 1.5287 - val_accuracy: 0.4788\n",
      "Epoch 88/250\n",
      "4442/4442 [==============================] - 1s 251us/step - loss: 1.4923 - accuracy: 0.5288 - val_loss: 1.5409 - val_accuracy: 0.3798\n",
      "Epoch 89/250\n",
      "4442/4442 [==============================] - 1s 249us/step - loss: 1.4905 - accuracy: 0.5329 - val_loss: 1.5313 - val_accuracy: 0.4131\n",
      "Epoch 90/250\n",
      "4442/4442 [==============================] - 1s 290us/step - loss: 1.4863 - accuracy: 0.5407 - val_loss: 1.5290 - val_accuracy: 0.4653\n",
      "Epoch 91/250\n",
      "4442/4442 [==============================] - 1s 300us/step - loss: 1.4847 - accuracy: 0.5448 - val_loss: 1.5276 - val_accuracy: 0.4014\n",
      "Epoch 92/250\n",
      "4442/4442 [==============================] - 1s 309us/step - loss: 1.4817 - accuracy: 0.5448 - val_loss: 1.5199 - val_accuracy: 0.4752\n",
      "Epoch 93/250\n",
      "4442/4442 [==============================] - 2s 355us/step - loss: 1.4784 - accuracy: 0.5549 - val_loss: 1.5171 - val_accuracy: 0.4590\n",
      "Epoch 94/250\n",
      "4442/4442 [==============================] - 1s 329us/step - loss: 1.4761 - accuracy: 0.5389 - val_loss: 1.5133 - val_accuracy: 0.4392\n",
      "Epoch 95/250\n",
      "4442/4442 [==============================] - 1s 262us/step - loss: 1.4723 - accuracy: 0.5482 - val_loss: 1.5101 - val_accuracy: 0.4725\n",
      "Epoch 96/250\n",
      "4442/4442 [==============================] - 1s 253us/step - loss: 1.4702 - accuracy: 0.5498 - val_loss: 1.5139 - val_accuracy: 0.4608\n",
      "Epoch 97/250\n",
      "4442/4442 [==============================] - 1s 260us/step - loss: 1.4685 - accuracy: 0.5522 - val_loss: 1.5108 - val_accuracy: 0.4806\n",
      "Epoch 98/250\n",
      "4442/4442 [==============================] - 1s 251us/step - loss: 1.4649 - accuracy: 0.5538 - val_loss: 1.5137 - val_accuracy: 0.4500\n",
      "Epoch 99/250\n",
      "4442/4442 [==============================] - 1s 296us/step - loss: 1.4631 - accuracy: 0.5597 - val_loss: 1.5042 - val_accuracy: 0.5140\n",
      "Epoch 100/250\n",
      "4442/4442 [==============================] - 1s 270us/step - loss: 1.4589 - accuracy: 0.5664 - val_loss: 1.5102 - val_accuracy: 0.3960\n",
      "Epoch 101/250\n",
      "4442/4442 [==============================] - 1s 284us/step - loss: 1.4569 - accuracy: 0.5617 - val_loss: 1.5064 - val_accuracy: 0.4518\n",
      "Epoch 102/250\n",
      "4442/4442 [==============================] - 1s 313us/step - loss: 1.4548 - accuracy: 0.5720 - val_loss: 1.4989 - val_accuracy: 0.4644\n",
      "Epoch 103/250\n",
      "4442/4442 [==============================] - 1s 250us/step - loss: 1.4510 - accuracy: 0.5637 - val_loss: 1.4932 - val_accuracy: 0.4977\n",
      "Epoch 104/250\n",
      "4442/4442 [==============================] - 1s 288us/step - loss: 1.4497 - accuracy: 0.5664 - val_loss: 1.5038 - val_accuracy: 0.4059\n",
      "Epoch 105/250\n",
      "4442/4442 [==============================] - 1s 278us/step - loss: 1.4467 - accuracy: 0.5624 - val_loss: 1.4895 - val_accuracy: 0.4689\n",
      "Epoch 106/250\n",
      "4442/4442 [==============================] - 1s 290us/step - loss: 1.4453 - accuracy: 0.5664 - val_loss: 1.4939 - val_accuracy: 0.4455\n",
      "Epoch 107/250\n",
      "4442/4442 [==============================] - 1s 253us/step - loss: 1.4419 - accuracy: 0.5711 - val_loss: 1.4915 - val_accuracy: 0.4608\n",
      "Epoch 108/250\n",
      "4442/4442 [==============================] - 1s 243us/step - loss: 1.4408 - accuracy: 0.5871 - val_loss: 1.4938 - val_accuracy: 0.4410\n",
      "Epoch 109/250\n",
      "4442/4442 [==============================] - 1s 274us/step - loss: 1.4358 - accuracy: 0.5624 - val_loss: 1.4831 - val_accuracy: 0.4617\n",
      "Epoch 110/250\n",
      "4442/4442 [==============================] - 1s 244us/step - loss: 1.4330 - accuracy: 0.5777 - val_loss: 1.4971 - val_accuracy: 0.4014\n",
      "Epoch 111/250\n"
     ]
    },
    {
     "name": "stdout",
     "output_type": "stream",
     "text": [
      "4442/4442 [==============================] - 1s 265us/step - loss: 1.4312 - accuracy: 0.5790 - val_loss: 1.4836 - val_accuracy: 0.4815\n",
      "Epoch 112/250\n",
      "4442/4442 [==============================] - 1s 274us/step - loss: 1.4275 - accuracy: 0.5709 - val_loss: 1.4932 - val_accuracy: 0.4347\n",
      "Epoch 113/250\n",
      "4442/4442 [==============================] - 1s 265us/step - loss: 1.4269 - accuracy: 0.5700 - val_loss: 1.4770 - val_accuracy: 0.4284\n",
      "Epoch 114/250\n",
      "4442/4442 [==============================] - 1s 279us/step - loss: 1.4239 - accuracy: 0.5693 - val_loss: 1.4767 - val_accuracy: 0.4365\n",
      "Epoch 115/250\n",
      "4442/4442 [==============================] - 1s 238us/step - loss: 1.4210 - accuracy: 0.5734 - val_loss: 1.4722 - val_accuracy: 0.4437\n",
      "Epoch 116/250\n",
      "4442/4442 [==============================] - 1s 240us/step - loss: 1.4213 - accuracy: 0.5761 - val_loss: 1.4706 - val_accuracy: 0.4617\n",
      "Epoch 117/250\n",
      "4442/4442 [==============================] - 1s 272us/step - loss: 1.4152 - accuracy: 0.5664 - val_loss: 1.4763 - val_accuracy: 0.4464\n",
      "Epoch 118/250\n",
      "4442/4442 [==============================] - 1s 229us/step - loss: 1.4142 - accuracy: 0.5779 - val_loss: 1.4679 - val_accuracy: 0.4734\n",
      "Epoch 119/250\n",
      "4442/4442 [==============================] - 1s 259us/step - loss: 1.4117 - accuracy: 0.5720 - val_loss: 1.4668 - val_accuracy: 0.4473\n",
      "Epoch 120/250\n",
      "4442/4442 [==============================] - 1s 281us/step - loss: 1.4096 - accuracy: 0.5835 - val_loss: 1.4633 - val_accuracy: 0.4734\n",
      "Epoch 121/250\n",
      "4442/4442 [==============================] - 1s 230us/step - loss: 1.4059 - accuracy: 0.5885 - val_loss: 1.4636 - val_accuracy: 0.4545\n",
      "Epoch 122/250\n",
      "4442/4442 [==============================] - 1s 263us/step - loss: 1.4054 - accuracy: 0.5813 - val_loss: 1.4688 - val_accuracy: 0.4167\n",
      "Epoch 123/250\n",
      "4442/4442 [==============================] - 1s 231us/step - loss: 1.4017 - accuracy: 0.5745 - val_loss: 1.4548 - val_accuracy: 0.4887\n",
      "Epoch 124/250\n",
      "4442/4442 [==============================] - 1s 241us/step - loss: 1.4013 - accuracy: 0.5837 - val_loss: 1.4535 - val_accuracy: 0.4779\n",
      "Epoch 125/250\n",
      "4442/4442 [==============================] - 1s 289us/step - loss: 1.3969 - accuracy: 0.5822 - val_loss: 1.4657 - val_accuracy: 0.4590\n",
      "Epoch 126/250\n",
      "4442/4442 [==============================] - 1s 266us/step - loss: 1.3949 - accuracy: 0.5840 - val_loss: 1.4454 - val_accuracy: 0.4824\n",
      "Epoch 127/250\n",
      "4442/4442 [==============================] - 1s 309us/step - loss: 1.3937 - accuracy: 0.5801 - val_loss: 1.4499 - val_accuracy: 0.4509\n",
      "Epoch 128/250\n",
      "4442/4442 [==============================] - 1s 279us/step - loss: 1.3918 - accuracy: 0.5952 - val_loss: 1.4520 - val_accuracy: 0.4887\n",
      "Epoch 129/250\n",
      "4442/4442 [==============================] - 1s 255us/step - loss: 1.3886 - accuracy: 0.5896 - val_loss: 1.4505 - val_accuracy: 0.4428\n",
      "Epoch 130/250\n",
      "4442/4442 [==============================] - 1s 255us/step - loss: 1.3862 - accuracy: 0.6018 - val_loss: 1.4448 - val_accuracy: 0.4509\n",
      "Epoch 131/250\n",
      "4442/4442 [==============================] - 1s 235us/step - loss: 1.3851 - accuracy: 0.5991 - val_loss: 1.4499 - val_accuracy: 0.4104\n",
      "Epoch 132/250\n",
      "4442/4442 [==============================] - 1s 264us/step - loss: 1.3819 - accuracy: 0.6045 - val_loss: 1.4402 - val_accuracy: 0.5041\n",
      "Epoch 133/250\n",
      "4442/4442 [==============================] - 1s 239us/step - loss: 1.3792 - accuracy: 0.5880 - val_loss: 1.4445 - val_accuracy: 0.4770\n",
      "Epoch 134/250\n",
      "4442/4442 [==============================] - 1s 229us/step - loss: 1.3783 - accuracy: 0.5991 - val_loss: 1.4389 - val_accuracy: 0.5185\n",
      "Epoch 135/250\n",
      "4442/4442 [==============================] - 1s 271us/step - loss: 1.3740 - accuracy: 0.5984 - val_loss: 1.4414 - val_accuracy: 0.4626\n",
      "Epoch 136/250\n",
      "4442/4442 [==============================] - 1s 235us/step - loss: 1.3730 - accuracy: 0.6042 - val_loss: 1.4404 - val_accuracy: 0.4347\n",
      "Epoch 137/250\n",
      "4442/4442 [==============================] - 1s 231us/step - loss: 1.3706 - accuracy: 0.5966 - val_loss: 1.4401 - val_accuracy: 0.4959\n",
      "Epoch 138/250\n",
      "4442/4442 [==============================] - 1s 280us/step - loss: 1.3688 - accuracy: 0.6092 - val_loss: 1.4373 - val_accuracy: 0.4500\n",
      "Epoch 139/250\n",
      "4442/4442 [==============================] - 1s 237us/step - loss: 1.3667 - accuracy: 0.5889 - val_loss: 1.4319 - val_accuracy: 0.4446\n",
      "Epoch 140/250\n",
      "4442/4442 [==============================] - 1s 254us/step - loss: 1.3641 - accuracy: 0.6056 - val_loss: 1.4277 - val_accuracy: 0.4914\n",
      "Epoch 141/250\n",
      "4442/4442 [==============================] - 1s 270us/step - loss: 1.3623 - accuracy: 0.6141 - val_loss: 1.4240 - val_accuracy: 0.4797\n",
      "Epoch 142/250\n",
      "4442/4442 [==============================] - 1s 236us/step - loss: 1.3592 - accuracy: 0.5930 - val_loss: 1.4261 - val_accuracy: 0.4518\n",
      "Epoch 143/250\n",
      "4442/4442 [==============================] - 1s 263us/step - loss: 1.3578 - accuracy: 0.5916 - val_loss: 1.4210 - val_accuracy: 0.4977\n",
      "Epoch 144/250\n",
      "4442/4442 [==============================] - 1s 234us/step - loss: 1.3563 - accuracy: 0.6101 - val_loss: 1.4244 - val_accuracy: 0.4896\n",
      "Epoch 145/250\n",
      "4442/4442 [==============================] - 1s 246us/step - loss: 1.3545 - accuracy: 0.6139 - val_loss: 1.4305 - val_accuracy: 0.4716\n",
      "Epoch 146/250\n",
      "4442/4442 [==============================] - 1s 283us/step - loss: 1.3520 - accuracy: 0.5997 - val_loss: 1.4251 - val_accuracy: 0.4572\n",
      "Epoch 147/250\n",
      "4442/4442 [==============================] - 1s 236us/step - loss: 1.3495 - accuracy: 0.6103 - val_loss: 1.4196 - val_accuracy: 0.4284\n",
      "Epoch 148/250\n",
      "4442/4442 [==============================] - 1s 253us/step - loss: 1.3475 - accuracy: 0.5984 - val_loss: 1.4191 - val_accuracy: 0.4464\n",
      "Epoch 149/250\n",
      "4442/4442 [==============================] - 1s 277us/step - loss: 1.3447 - accuracy: 0.6159 - val_loss: 1.4190 - val_accuracy: 0.4554\n",
      "Epoch 150/250\n",
      "4442/4442 [==============================] - 1s 236us/step - loss: 1.3452 - accuracy: 0.6254 - val_loss: 1.4082 - val_accuracy: 0.5005\n",
      "Epoch 151/250\n",
      "4442/4442 [==============================] - 1s 264us/step - loss: 1.3413 - accuracy: 0.6227 - val_loss: 1.4079 - val_accuracy: 0.5095\n",
      "Epoch 152/250\n",
      "4442/4442 [==============================] - 1s 235us/step - loss: 1.3403 - accuracy: 0.6175 - val_loss: 1.4178 - val_accuracy: 0.4743\n",
      "Epoch 153/250\n",
      "4442/4442 [==============================] - 1s 236us/step - loss: 1.3374 - accuracy: 0.6189 - val_loss: 1.4151 - val_accuracy: 0.4581\n",
      "Epoch 154/250\n",
      "4442/4442 [==============================] - 1s 285us/step - loss: 1.3354 - accuracy: 0.6193 - val_loss: 1.4084 - val_accuracy: 0.4977\n",
      "Epoch 155/250\n",
      "4442/4442 [==============================] - 1s 237us/step - loss: 1.3333 - accuracy: 0.6211 - val_loss: 1.4102 - val_accuracy: 0.4446\n",
      "Epoch 156/250\n",
      "4442/4442 [==============================] - 1s 245us/step - loss: 1.3311 - accuracy: 0.6056 - val_loss: 1.4093 - val_accuracy: 0.5212\n",
      "Epoch 157/250\n",
      "4442/4442 [==============================] - 1s 255us/step - loss: 1.3294 - accuracy: 0.6301 - val_loss: 1.4013 - val_accuracy: 0.5068\n",
      "Epoch 158/250\n",
      "4442/4442 [==============================] - 1s 235us/step - loss: 1.3271 - accuracy: 0.6254 - val_loss: 1.4070 - val_accuracy: 0.4248\n",
      "Epoch 159/250\n",
      "4442/4442 [==============================] - 1s 260us/step - loss: 1.3254 - accuracy: 0.6367 - val_loss: 1.4034 - val_accuracy: 0.4905\n",
      "Epoch 160/250\n",
      "4442/4442 [==============================] - 1s 245us/step - loss: 1.3222 - accuracy: 0.6081 - val_loss: 1.3984 - val_accuracy: 0.4950\n",
      "Epoch 161/250\n",
      "4442/4442 [==============================] - 1s 243us/step - loss: 1.3199 - accuracy: 0.6279 - val_loss: 1.3971 - val_accuracy: 0.5005\n",
      "Epoch 162/250\n",
      "4442/4442 [==============================] - 1s 273us/step - loss: 1.3192 - accuracy: 0.6252 - val_loss: 1.3949 - val_accuracy: 0.5068\n",
      "Epoch 163/250\n",
      "4442/4442 [==============================] - 1s 240us/step - loss: 1.3173 - accuracy: 0.6283 - val_loss: 1.3938 - val_accuracy: 0.4608\n",
      "Epoch 164/250\n",
      "4442/4442 [==============================] - 1s 254us/step - loss: 1.3145 - accuracy: 0.6279 - val_loss: 1.3912 - val_accuracy: 0.4743\n",
      "Epoch 165/250\n",
      "4442/4442 [==============================] - 1s 259us/step - loss: 1.3141 - accuracy: 0.6312 - val_loss: 1.3935 - val_accuracy: 0.4482\n",
      "Epoch 166/250\n"
     ]
    },
    {
     "name": "stdout",
     "output_type": "stream",
     "text": [
      "4442/4442 [==============================] - 1s 231us/step - loss: 1.3104 - accuracy: 0.6288 - val_loss: 1.3933 - val_accuracy: 0.4725\n",
      "Epoch 167/250\n",
      "4442/4442 [==============================] - 1s 268us/step - loss: 1.3089 - accuracy: 0.6283 - val_loss: 1.3926 - val_accuracy: 0.4626\n",
      "Epoch 168/250\n",
      "4442/4442 [==============================] - 1s 284us/step - loss: 1.3069 - accuracy: 0.6344 - val_loss: 1.3942 - val_accuracy: 0.4743\n",
      "Epoch 169/250\n",
      "4442/4442 [==============================] - 1s 243us/step - loss: 1.3054 - accuracy: 0.6303 - val_loss: 1.3832 - val_accuracy: 0.4887\n",
      "Epoch 170/250\n",
      "4442/4442 [==============================] - 2s 340us/step - loss: 1.3037 - accuracy: 0.6265 - val_loss: 1.3811 - val_accuracy: 0.5014\n",
      "Epoch 171/250\n",
      "4442/4442 [==============================] - 1s 280us/step - loss: 1.3009 - accuracy: 0.6394 - val_loss: 1.3894 - val_accuracy: 0.4563\n",
      "Epoch 172/250\n",
      "4442/4442 [==============================] - 1s 273us/step - loss: 1.2995 - accuracy: 0.6299 - val_loss: 1.3904 - val_accuracy: 0.5212\n",
      "Epoch 173/250\n",
      "4442/4442 [==============================] - 1s 232us/step - loss: 1.2971 - accuracy: 0.6310 - val_loss: 1.3884 - val_accuracy: 0.4239\n",
      "Epoch 174/250\n",
      "4442/4442 [==============================] - 1s 227us/step - loss: 1.2949 - accuracy: 0.6369 - val_loss: 1.3771 - val_accuracy: 0.5113\n",
      "Epoch 175/250\n",
      "4442/4442 [==============================] - 1s 264us/step - loss: 1.2926 - accuracy: 0.6436 - val_loss: 1.3899 - val_accuracy: 0.4275\n",
      "Epoch 176/250\n",
      "4442/4442 [==============================] - 1s 233us/step - loss: 1.2916 - accuracy: 0.6276 - val_loss: 1.3874 - val_accuracy: 0.4824\n",
      "Epoch 177/250\n",
      "4442/4442 [==============================] - 1s 237us/step - loss: 1.2892 - accuracy: 0.6398 - val_loss: 1.3848 - val_accuracy: 0.4554\n",
      "Epoch 178/250\n",
      "4442/4442 [==============================] - 1s 279us/step - loss: 1.2889 - accuracy: 0.6321 - val_loss: 1.3700 - val_accuracy: 0.4671\n",
      "Epoch 179/250\n",
      "4442/4442 [==============================] - 1s 226us/step - loss: 1.2871 - accuracy: 0.6470 - val_loss: 1.3758 - val_accuracy: 0.4590\n",
      "Epoch 180/250\n",
      "4442/4442 [==============================] - 1s 311us/step - loss: 1.2840 - accuracy: 0.6452 - val_loss: 1.3726 - val_accuracy: 0.4923\n",
      "Epoch 181/250\n",
      "4442/4442 [==============================] - 1s 273us/step - loss: 1.2818 - accuracy: 0.6353 - val_loss: 1.3669 - val_accuracy: 0.4887\n",
      "Epoch 182/250\n",
      "4442/4442 [==============================] - 1s 324us/step - loss: 1.2782 - accuracy: 0.6362 - val_loss: 1.3819 - val_accuracy: 0.4761\n",
      "Epoch 183/250\n",
      "4442/4442 [==============================] - 2s 447us/step - loss: 1.2789 - accuracy: 0.6360 - val_loss: 1.3700 - val_accuracy: 0.4662\n",
      "Epoch 184/250\n",
      "4442/4442 [==============================] - 2s 369us/step - loss: 1.2765 - accuracy: 0.6506 - val_loss: 1.3740 - val_accuracy: 0.4356\n",
      "Epoch 185/250\n",
      "4442/4442 [==============================] - 1s 334us/step - loss: 1.2747 - accuracy: 0.6407 - val_loss: 1.3752 - val_accuracy: 0.4770\n",
      "Epoch 186/250\n",
      "4442/4442 [==============================] - 2s 390us/step - loss: 1.2732 - accuracy: 0.6461 - val_loss: 1.3639 - val_accuracy: 0.4860\n",
      "Epoch 187/250\n",
      "4442/4442 [==============================] - 2s 384us/step - loss: 1.2722 - accuracy: 0.6508 - val_loss: 1.3659 - val_accuracy: 0.4689\n",
      "Epoch 188/250\n",
      "4442/4442 [==============================] - 2s 482us/step - loss: 1.2688 - accuracy: 0.6583 - val_loss: 1.3674 - val_accuracy: 0.4977\n",
      "Epoch 189/250\n",
      "4442/4442 [==============================] - 2s 486us/step - loss: 1.2676 - accuracy: 0.6594 - val_loss: 1.3669 - val_accuracy: 0.5005\n",
      "Epoch 190/250\n",
      "4442/4442 [==============================] - 2s 387us/step - loss: 1.2652 - accuracy: 0.6400 - val_loss: 1.3656 - val_accuracy: 0.4851\n",
      "Epoch 191/250\n",
      "4442/4442 [==============================] - 1s 324us/step - loss: 1.2625 - accuracy: 0.6596 - val_loss: 1.3654 - val_accuracy: 0.4509\n",
      "Epoch 192/250\n",
      "4442/4442 [==============================] - 1s 281us/step - loss: 1.2617 - accuracy: 0.6479 - val_loss: 1.3609 - val_accuracy: 0.4689\n",
      "Epoch 193/250\n",
      "4442/4442 [==============================] - 1s 318us/step - loss: 1.2600 - accuracy: 0.6418 - val_loss: 1.3577 - val_accuracy: 0.4563\n",
      "Epoch 194/250\n",
      "4442/4442 [==============================] - 1s 236us/step - loss: 1.2591 - accuracy: 0.6637 - val_loss: 1.3592 - val_accuracy: 0.4680\n",
      "Epoch 195/250\n",
      "4442/4442 [==============================] - 1s 260us/step - loss: 1.2562 - accuracy: 0.6605 - val_loss: 1.3498 - val_accuracy: 0.4869\n",
      "Epoch 196/250\n",
      "4442/4442 [==============================] - 1s 306us/step - loss: 1.2549 - accuracy: 0.6544 - val_loss: 1.3535 - val_accuracy: 0.4743\n",
      "Epoch 197/250\n",
      "4442/4442 [==============================] - 1s 259us/step - loss: 1.2536 - accuracy: 0.6623 - val_loss: 1.3495 - val_accuracy: 0.4887\n",
      "Epoch 198/250\n",
      "4442/4442 [==============================] - 1s 304us/step - loss: 1.2511 - accuracy: 0.6661 - val_loss: 1.3519 - val_accuracy: 0.4419\n",
      "Epoch 199/250\n",
      "4442/4442 [==============================] - 1s 279us/step - loss: 1.2505 - accuracy: 0.6587 - val_loss: 1.3479 - val_accuracy: 0.4689\n",
      "Epoch 200/250\n",
      "4442/4442 [==============================] - 1s 297us/step - loss: 1.2470 - accuracy: 0.6655 - val_loss: 1.3564 - val_accuracy: 0.4239\n",
      "Epoch 201/250\n",
      "4442/4442 [==============================] - 1s 285us/step - loss: 1.2461 - accuracy: 0.6587 - val_loss: 1.3601 - val_accuracy: 0.4005\n",
      "Epoch 202/250\n",
      "4442/4442 [==============================] - 1s 277us/step - loss: 1.2448 - accuracy: 0.6652 - val_loss: 1.3525 - val_accuracy: 0.4455\n",
      "Epoch 203/250\n",
      "4442/4442 [==============================] - 1s 263us/step - loss: 1.2434 - accuracy: 0.6711 - val_loss: 1.3523 - val_accuracy: 0.4779\n",
      "Epoch 204/250\n",
      "4442/4442 [==============================] - 1s 257us/step - loss: 1.2409 - accuracy: 0.6824 - val_loss: 1.3448 - val_accuracy: 0.4797\n",
      "Epoch 205/250\n",
      "4442/4442 [==============================] - 1s 286us/step - loss: 1.2385 - accuracy: 0.6715 - val_loss: 1.3430 - val_accuracy: 0.4752\n",
      "Epoch 206/250\n",
      "4442/4442 [==============================] - 1s 254us/step - loss: 1.2368 - accuracy: 0.6693 - val_loss: 1.3446 - val_accuracy: 0.4446\n",
      "Epoch 207/250\n",
      "4442/4442 [==============================] - 1s 269us/step - loss: 1.2358 - accuracy: 0.6686 - val_loss: 1.3438 - val_accuracy: 0.4545\n",
      "Epoch 208/250\n",
      "4442/4442 [==============================] - 1s 271us/step - loss: 1.2335 - accuracy: 0.6655 - val_loss: 1.3393 - val_accuracy: 0.4815\n",
      "Epoch 209/250\n",
      "4442/4442 [==============================] - 1s 259us/step - loss: 1.2316 - accuracy: 0.6702 - val_loss: 1.3385 - val_accuracy: 0.4806\n",
      "Epoch 210/250\n",
      "4442/4442 [==============================] - 1s 288us/step - loss: 1.2304 - accuracy: 0.6688 - val_loss: 1.3383 - val_accuracy: 0.4590\n",
      "Epoch 211/250\n",
      "4442/4442 [==============================] - 1s 258us/step - loss: 1.2272 - accuracy: 0.6736 - val_loss: 1.3531 - val_accuracy: 0.4194\n",
      "Epoch 212/250\n",
      "4442/4442 [==============================] - 1s 317us/step - loss: 1.2258 - accuracy: 0.6682 - val_loss: 1.3422 - val_accuracy: 0.4689\n",
      "Epoch 213/250\n",
      "4442/4442 [==============================] - 1s 264us/step - loss: 1.2251 - accuracy: 0.6715 - val_loss: 1.3313 - val_accuracy: 0.4734\n",
      "Epoch 214/250\n",
      "4442/4442 [==============================] - 1s 240us/step - loss: 1.2228 - accuracy: 0.6736 - val_loss: 1.3455 - val_accuracy: 0.4527\n",
      "Epoch 215/250\n",
      "4442/4442 [==============================] - 1s 286us/step - loss: 1.2217 - accuracy: 0.6686 - val_loss: 1.3304 - val_accuracy: 0.4932\n",
      "Epoch 216/250\n",
      "4442/4442 [==============================] - 1s 246us/step - loss: 1.2202 - accuracy: 0.6619 - val_loss: 1.3361 - val_accuracy: 0.4383\n",
      "Epoch 217/250\n",
      "4442/4442 [==============================] - 2s 372us/step - loss: 1.2183 - accuracy: 0.6657 - val_loss: 1.3300 - val_accuracy: 0.4842\n",
      "Epoch 218/250\n",
      "4442/4442 [==============================] - 2s 382us/step - loss: 1.2169 - accuracy: 0.6835 - val_loss: 1.3267 - val_accuracy: 0.4923\n",
      "Epoch 219/250\n",
      "4442/4442 [==============================] - 2s 435us/step - loss: 1.2144 - accuracy: 0.6812 - val_loss: 1.3290 - val_accuracy: 0.4905\n",
      "Epoch 220/250\n",
      "4442/4442 [==============================] - 1s 277us/step - loss: 1.2123 - accuracy: 0.6835 - val_loss: 1.3442 - val_accuracy: 0.4068\n",
      "Epoch 221/250\n"
     ]
    },
    {
     "name": "stdout",
     "output_type": "stream",
     "text": [
      "4442/4442 [==============================] - 1s 275us/step - loss: 1.2091 - accuracy: 0.6648 - val_loss: 1.3326 - val_accuracy: 0.4995\n",
      "Epoch 222/250\n",
      "4442/4442 [==============================] - 1s 233us/step - loss: 1.2088 - accuracy: 0.6722 - val_loss: 1.3273 - val_accuracy: 0.4887\n",
      "Epoch 223/250\n",
      "4442/4442 [==============================] - 1s 235us/step - loss: 1.2079 - accuracy: 0.6961 - val_loss: 1.3342 - val_accuracy: 0.4689\n",
      "Epoch 224/250\n",
      "4442/4442 [==============================] - 1s 302us/step - loss: 1.2070 - accuracy: 0.6882 - val_loss: 1.3214 - val_accuracy: 0.4743\n",
      "Epoch 225/250\n",
      "4442/4442 [==============================] - 1s 257us/step - loss: 1.2028 - accuracy: 0.6889 - val_loss: 1.3245 - val_accuracy: 0.4743\n",
      "Epoch 226/250\n",
      "4442/4442 [==============================] - 1s 295us/step - loss: 1.2033 - accuracy: 0.6961 - val_loss: 1.3326 - val_accuracy: 0.4968\n",
      "Epoch 227/250\n",
      "4442/4442 [==============================] - 1s 298us/step - loss: 1.2002 - accuracy: 0.6796 - val_loss: 1.3237 - val_accuracy: 0.4860\n",
      "Epoch 228/250\n",
      "4442/4442 [==============================] - 1s 286us/step - loss: 1.1993 - accuracy: 0.6833 - val_loss: 1.3268 - val_accuracy: 0.4563\n",
      "Epoch 229/250\n",
      "4442/4442 [==============================] - 1s 308us/step - loss: 1.1977 - accuracy: 0.6927 - val_loss: 1.3252 - val_accuracy: 0.4806\n",
      "Epoch 230/250\n",
      "4442/4442 [==============================] - 1s 233us/step - loss: 1.1963 - accuracy: 0.6801 - val_loss: 1.3250 - val_accuracy: 0.4662\n",
      "Epoch 231/250\n",
      "4442/4442 [==============================] - 1s 332us/step - loss: 1.1937 - accuracy: 0.6972 - val_loss: 1.3212 - val_accuracy: 0.4446\n",
      "Epoch 232/250\n",
      "4442/4442 [==============================] - 1s 273us/step - loss: 1.1935 - accuracy: 0.6889 - val_loss: 1.3221 - val_accuracy: 0.4941\n",
      "Epoch 233/250\n",
      "4442/4442 [==============================] - 1s 282us/step - loss: 1.1903 - accuracy: 0.6828 - val_loss: 1.3232 - val_accuracy: 0.4581\n",
      "Epoch 234/250\n",
      "4442/4442 [==============================] - 1s 253us/step - loss: 1.1903 - accuracy: 0.6932 - val_loss: 1.3157 - val_accuracy: 0.4734\n",
      "Epoch 235/250\n",
      "4442/4442 [==============================] - 1s 236us/step - loss: 1.1864 - accuracy: 0.7031 - val_loss: 1.3226 - val_accuracy: 0.4707\n",
      "Epoch 236/250\n",
      "4442/4442 [==============================] - 1s 288us/step - loss: 1.1857 - accuracy: 0.6977 - val_loss: 1.3223 - val_accuracy: 0.4392\n",
      "Epoch 237/250\n",
      "4442/4442 [==============================] - 1s 231us/step - loss: 1.1842 - accuracy: 0.6893 - val_loss: 1.3198 - val_accuracy: 0.4473\n",
      "Epoch 238/250\n",
      "4442/4442 [==============================] - 1s 250us/step - loss: 1.1826 - accuracy: 0.6927 - val_loss: 1.3086 - val_accuracy: 0.4860\n",
      "Epoch 239/250\n",
      "4442/4442 [==============================] - 1s 281us/step - loss: 1.1815 - accuracy: 0.6882 - val_loss: 1.3134 - val_accuracy: 0.4491\n",
      "Epoch 240/250\n",
      "4442/4442 [==============================] - 1s 249us/step - loss: 1.1797 - accuracy: 0.6986 - val_loss: 1.3219 - val_accuracy: 0.4653\n",
      "Epoch 241/250\n",
      "4442/4442 [==============================] - 1s 275us/step - loss: 1.1766 - accuracy: 0.6959 - val_loss: 1.3189 - val_accuracy: 0.4968\n",
      "Epoch 242/250\n",
      "4442/4442 [==============================] - 1s 286us/step - loss: 1.1769 - accuracy: 0.6956 - val_loss: 1.3075 - val_accuracy: 0.4689\n",
      "Epoch 243/250\n",
      "4442/4442 [==============================] - 2s 355us/step - loss: 1.1745 - accuracy: 0.7026 - val_loss: 1.3163 - val_accuracy: 0.4185\n",
      "Epoch 244/250\n",
      "4442/4442 [==============================] - 1s 244us/step - loss: 1.1727 - accuracy: 0.7017 - val_loss: 1.3074 - val_accuracy: 0.4491\n",
      "Epoch 245/250\n",
      "4442/4442 [==============================] - 1s 238us/step - loss: 1.1715 - accuracy: 0.7019 - val_loss: 1.3104 - val_accuracy: 0.5050\n",
      "Epoch 246/250\n",
      "4442/4442 [==============================] - 1s 268us/step - loss: 1.1703 - accuracy: 0.7022 - val_loss: 1.3068 - val_accuracy: 0.4626\n",
      "Epoch 247/250\n",
      "4442/4442 [==============================] - 1s 293us/step - loss: 1.1676 - accuracy: 0.6968 - val_loss: 1.3034 - val_accuracy: 0.4545\n",
      "Epoch 248/250\n",
      "4442/4442 [==============================] - 1s 261us/step - loss: 1.1669 - accuracy: 0.7051 - val_loss: 1.3037 - val_accuracy: 0.4365\n",
      "Epoch 249/250\n",
      "4442/4442 [==============================] - 1s 289us/step - loss: 1.1648 - accuracy: 0.7157 - val_loss: 1.3127 - val_accuracy: 0.4536\n",
      "Epoch 250/250\n",
      "4442/4442 [==============================] - 1s 250us/step - loss: 1.1636 - accuracy: 0.7071 - val_loss: 1.3122 - val_accuracy: 0.4761\n"
     ]
    }
   ],
   "source": [
    "H = model.fit(trainX, trainY,\n",
    "             validation_data=(valX,valY),\n",
    "             epochs=EPOCHS, batch_size=32)"
   ]
  },
  {
   "cell_type": "markdown",
   "metadata": {},
   "source": [
    "## Evaluate the netork"
   ]
  },
  {
   "cell_type": "code",
   "execution_count": 20,
   "metadata": {},
   "outputs": [
    {
     "name": "stdout",
     "output_type": "stream",
     "text": [
      "[INFO] evaluating netowrk...\n",
      "The test data set accuracy is 47.73462783171521\n"
     ]
    }
   ],
   "source": [
    "print(\"[INFO] evaluating netowrk...\")\n",
    "predictions = model.predict(images_test, batch_size=32)\n",
    "correct, incorrect = 0,0\n",
    "if len(predictions)!=len(labels_test): raise Exception\n",
    "for i in range(len(predictions)):\n",
    "    if list(predictions[i]).index(max(predictions[i])) == list(labels_test[i]).index(1): \n",
    "        correct +=1\n",
    "    else: \n",
    "        incorrect +=1\n",
    "    \n",
    "print(\"The test data set accuracy is\", 100*(correct / (correct+incorrect)))"
   ]
  },
  {
   "cell_type": "code",
   "execution_count": 21,
   "metadata": {},
   "outputs": [
    {
     "data": {
      "image/png": "[encoded data removed]",
      "text/plain": [
       "<Figure size 432x288 with 1 Axes>"
      ]
     },
     "metadata": {},
     "output_type": "display_data"
    }
   ],
   "source": [
    "# plot the training loss and accuracy for each epoch\n",
    "N = np.arange(0, EPOCHS)\n",
    "plt.style.use(\"ggplot\")\n",
    "plt.figure()\n",
    "plt.plot(N, H.history[\"loss\"], label=\"train_loss\")\n",
    "plt.plot(N, H.history[\"val_loss\"], label=\"val_loss\")\n",
    "plt.plot(N, H.history[\"accuracy\"], label=\"train_acc\")\n",
    "plt.plot(N, H.history[\"val_accuracy\"], label=\"val_acc\")\n",
    "plt.title(\"Training Loss and Accuracy (simple multiclass classification)\")\n",
    "plt.xlabel(\"Epoch #\")\n",
    "plt.ylabel(\"Loss/Accuracy\")\n",
    "plt.legend()\n",
    "plt.savefig(\"training_performance.png\")\n",
    "plt.show()"
   ]
  },
  {
   "cell_type": "markdown",
   "metadata": {},
   "source": [
    "### Save the weights"
   ]
  },
  {
   "cell_type": "code",
   "execution_count": 22,
   "metadata": {},
   "outputs": [
    {
     "name": "stdout",
     "output_type": "stream",
     "text": [
      "[INFO] serializing network...\n"
     ]
    }
   ],
   "source": [
    "# save the model to the disk\n",
    "print(\"[INFO] serializing network...\")\n",
    "model.save(\"keras_single_hidden_layer_2500_350_17_acc_48.model\")"
   ]
  },
  {
   "cell_type": "markdown",
   "metadata": {},
   "source": [
    "# OR Import an old neural network"
   ]
  },
  {
   "cell_type": "code",
   "execution_count": null,
   "metadata": {},
   "outputs": [],
   "source": []
  },
  {
   "cell_type": "code",
   "execution_count": null,
   "metadata": {},
   "outputs": [],
   "source": []
  }
 ],
 "metadata": {
  "kernelspec": {
   "display_name": "Python 3",
   "language": "python",
   "name": "python3"
  },
  "language_info": {
   "codemirror_mode": {
    "name": "ipython",
    "version": 3
   },
   "file_extension": ".py",
   "mimetype": "text/x-python",
   "name": "python",
   "nbconvert_exporter": "python",
   "pygments_lexer": "ipython3",
   "version": "3.7.3"
  }
 },
 "nbformat": 4,
 "nbformat_minor": 2
}
