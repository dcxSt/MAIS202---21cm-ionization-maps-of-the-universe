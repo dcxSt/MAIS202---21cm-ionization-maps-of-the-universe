{
  "nbformat": 4,
  "nbformat_minor": 0,
  "metadata": {
    "colab": {
      "name": "net classifying ionization maps.ipynb",
      "provenance": [],
      "collapsed_sections": []
    },
    "kernelspec": {
      "name": "python3",
      "display_name": "Python 3"
    }
  },
  "cells": [
    {
      "cell_type": "code",
      "metadata": {
        "id": "cRnUDEtZ8AUw",
        "colab_type": "code",
        "colab": {}
      },
      "source": [
        ""
      ],
      "execution_count": 0,
      "outputs": []
    },
    {
      "cell_type": "markdown",
      "metadata": {
        "id": "aAOaCqJA8Ieg",
        "colab_type": "text"
      },
      "source": [
        "# nerual net for classifying ionization maps"
      ]
    },
    {
      "cell_type": "code",
      "metadata": {
        "id": "3Hd7zfem8Ddj",
        "colab_type": "code",
        "outputId": "fc60e1cf-afec-4b68-d2b7-d87eaedc815b",
        "colab": {
          "base_uri": "https://localhost:8080/",
          "height": 129
        }
      },
      "source": [
        "from google.colab import drive\n",
        "drive.mount('/content/drive')"
      ],
      "execution_count": 1,
      "outputs": [
        {
          "output_type": "stream",
          "text": [
            "Go to this URL in a browser: https://accounts.google.com/o/oauth2/auth?client_id=947318989803-6bn6qk8qdgf4n4g3pfee6491hc0brc4i.apps.googleusercontent.com&redirect_uri=urn%3Aietf%3Awg%3Aoauth%3A2.0%3Aoob&scope=email%20https%3A%2F%2Fwww.googleapis.com%2Fauth%2Fdocs.test%20https%3A%2F%2Fwww.googleapis.com%2Fauth%2Fdrive%20https%3A%2F%2Fwww.googleapis.com%2Fauth%2Fdrive.photos.readonly%20https%3A%2F%2Fwww.googleapis.com%2Fauth%2Fpeopleapi.readonly&response_type=code\n",
            "\n",
            "Enter your authorization code:\n",
            "··········\n",
            "Mounted at /content/drive\n"
          ],
          "name": "stdout"
        }
      ]
    },
    {
      "cell_type": "code",
      "metadata": {
        "id": "3R9c-NlQ8E2-",
        "colab_type": "code",
        "colab": {}
      },
      "source": [
        "import os"
      ],
      "execution_count": 0,
      "outputs": []
    },
    {
      "cell_type": "code",
      "metadata": {
        "id": "gGeTEShS8FHR",
        "colab_type": "code",
        "outputId": "8d2fc0c4-32ae-4b52-a7d0-61e459a335a9",
        "colab": {
          "base_uri": "https://localhost:8080/",
          "height": 1000
        }
      },
      "source": [
        "\n",
        "files = [f for f in os.listdir(\"./drive/My Drive/21cmFAST_bank/joelle_batch_2.1/joelle_ESC_FRAC_0.096_RNG_150/\")]\n",
        "files.sort()\n",
        "for f in files:\n",
        "  print(f)"
      ],
      "execution_count": 3,
      "outputs": [
        {
          "output_type": "stream",
          "text": [
            "Gamma12aveHII_z005.00_HIIfilter1_RHIImax50_200_300Mpc\n",
            "Gamma12aveHII_z005.50_HIIfilter1_RHIImax50_200_300Mpc\n",
            "Gamma12aveHII_z006.00_HIIfilter1_RHIImax50_200_300Mpc\n",
            "Gamma12aveHII_z006.50_HIIfilter1_RHIImax50_200_300Mpc\n",
            "Gamma12aveHII_z007.00_HIIfilter1_RHIImax50_200_300Mpc\n",
            "Gamma12aveHII_z007.50_HIIfilter1_RHIImax50_200_300Mpc\n",
            "Gamma12aveHII_z008.00_HIIfilter1_RHIImax50_200_300Mpc\n",
            "Gamma12aveHII_z008.50_HIIfilter1_RHIImax50_200_300Mpc\n",
            "Gamma12aveHII_z009.00_HIIfilter1_RHIImax50_200_300Mpc\n",
            "Gamma12aveHII_z009.50_HIIfilter1_RHIImax50_200_300Mpc\n",
            "Gamma12aveHII_z010.00_HIIfilter1_RHIImax50_200_300Mpc\n",
            "Gamma12aveHII_z010.50_HIIfilter1_RHIImax50_200_300Mpc\n",
            "Gamma12aveHII_z011.00_HIIfilter1_RHIImax50_200_300Mpc\n",
            "Gamma12aveHII_z011.50_HIIfilter1_RHIImax50_200_300Mpc\n",
            "Gamma12aveHII_z012.00_HIIfilter1_RHIImax50_200_300Mpc\n",
            "Gamma12aveHII_z012.50_HIIfilter1_RHIImax50_200_300Mpc\n",
            "Gamma12aveHII_z013.00_HIIfilter1_RHIImax50_200_300Mpc\n",
            "Nrec_z005.00_HIIfilter1_RHIImax50_200_300Mpc\n",
            "Nrec_z005.50_HIIfilter1_RHIImax50_200_300Mpc\n",
            "Nrec_z006.00_HIIfilter1_RHIImax50_200_300Mpc\n",
            "Nrec_z006.50_HIIfilter1_RHIImax50_200_300Mpc\n",
            "Nrec_z007.00_HIIfilter1_RHIImax50_200_300Mpc\n",
            "Nrec_z007.50_HIIfilter1_RHIImax50_200_300Mpc\n",
            "Nrec_z008.00_HIIfilter1_RHIImax50_200_300Mpc\n",
            "Nrec_z008.50_HIIfilter1_RHIImax50_200_300Mpc\n",
            "Nrec_z009.00_HIIfilter1_RHIImax50_200_300Mpc\n",
            "Nrec_z009.50_HIIfilter1_RHIImax50_200_300Mpc\n",
            "Nrec_z010.00_HIIfilter1_RHIImax50_200_300Mpc\n",
            "Nrec_z010.50_HIIfilter1_RHIImax50_200_300Mpc\n",
            "Nrec_z011.00_HIIfilter1_RHIImax50_200_300Mpc\n",
            "Nrec_z011.50_HIIfilter1_RHIImax50_200_300Mpc\n",
            "Nrec_z012.00_HIIfilter1_RHIImax50_200_300Mpc\n",
            "Nrec_z012.50_HIIfilter1_RHIImax50_200_300Mpc\n",
            "Nrec_z013.00_HIIfilter1_RHIImax50_200_300Mpc\n",
            "delta_T_v3_z005.00_nf0.000000_useTs0_200_300Mpc\n",
            "delta_T_v3_z005.50_nf0.000000_useTs0_200_300Mpc\n",
            "delta_T_v3_z006.00_nf0.010864_useTs0_200_300Mpc\n",
            "delta_T_v3_z006.50_nf0.125889_useTs0_200_300Mpc\n",
            "delta_T_v3_z007.00_nf0.313263_useTs0_200_300Mpc\n",
            "delta_T_v3_z007.50_nf0.480754_useTs0_200_300Mpc\n",
            "delta_T_v3_z008.00_nf0.612527_useTs0_200_300Mpc\n",
            "delta_T_v3_z008.50_nf0.710691_useTs0_200_300Mpc\n",
            "delta_T_v3_z009.00_nf0.784924_useTs0_200_300Mpc\n",
            "delta_T_v3_z009.50_nf0.840546_useTs0_200_300Mpc\n",
            "delta_T_v3_z010.00_nf0.882295_useTs0_200_300Mpc\n",
            "delta_T_v3_z010.50_nf0.913875_useTs0_200_300Mpc\n",
            "delta_T_v3_z011.00_nf0.937055_useTs0_200_300Mpc\n",
            "delta_T_v3_z011.50_nf0.954318_useTs0_200_300Mpc\n",
            "delta_T_v3_z012.00_nf0.967183_useTs0_200_300Mpc\n",
            "delta_T_v3_z012.50_nf0.976686_useTs0_200_300Mpc\n",
            "delta_T_v3_z013.00_nf0.983412_useTs0_200_300Mpc\n",
            "updated_smoothed_deltax_z005.00_200_300Mpc\n",
            "updated_smoothed_deltax_z005.50_200_300Mpc\n",
            "updated_smoothed_deltax_z006.00_200_300Mpc\n",
            "updated_smoothed_deltax_z006.50_200_300Mpc\n",
            "updated_smoothed_deltax_z007.00_200_300Mpc\n",
            "updated_smoothed_deltax_z007.50_200_300Mpc\n",
            "updated_smoothed_deltax_z008.00_200_300Mpc\n",
            "updated_smoothed_deltax_z008.50_200_300Mpc\n",
            "updated_smoothed_deltax_z009.00_200_300Mpc\n",
            "updated_smoothed_deltax_z009.50_200_300Mpc\n",
            "updated_smoothed_deltax_z010.00_200_300Mpc\n",
            "updated_smoothed_deltax_z010.50_200_300Mpc\n",
            "updated_smoothed_deltax_z011.00_200_300Mpc\n",
            "updated_smoothed_deltax_z011.50_200_300Mpc\n",
            "updated_smoothed_deltax_z012.00_200_300Mpc\n",
            "updated_smoothed_deltax_z012.50_200_300Mpc\n",
            "updated_smoothed_deltax_z013.00_200_300Mpc\n",
            "updated_vx_z005.00_200_300Mpc\n",
            "updated_vx_z005.50_200_300Mpc\n",
            "updated_vx_z006.00_200_300Mpc\n",
            "updated_vx_z006.50_200_300Mpc\n",
            "updated_vx_z007.00_200_300Mpc\n",
            "updated_vx_z007.50_200_300Mpc\n",
            "updated_vx_z008.00_200_300Mpc\n",
            "updated_vx_z008.50_200_300Mpc\n",
            "updated_vx_z009.00_200_300Mpc\n",
            "updated_vx_z009.50_200_300Mpc\n",
            "updated_vx_z010.00_200_300Mpc\n",
            "updated_vx_z010.50_200_300Mpc\n",
            "updated_vx_z011.00_200_300Mpc\n",
            "updated_vx_z011.50_200_300Mpc\n",
            "updated_vx_z012.00_200_300Mpc\n",
            "updated_vx_z012.50_200_300Mpc\n",
            "updated_vx_z013.00_200_300Mpc\n",
            "updated_vy_z005.00_200_300Mpc\n",
            "updated_vy_z005.50_200_300Mpc\n",
            "updated_vy_z006.00_200_300Mpc\n",
            "updated_vy_z006.50_200_300Mpc\n",
            "updated_vy_z007.00_200_300Mpc\n",
            "updated_vy_z007.50_200_300Mpc\n",
            "updated_vy_z008.00_200_300Mpc\n",
            "updated_vy_z008.50_200_300Mpc\n",
            "updated_vy_z009.00_200_300Mpc\n",
            "updated_vy_z009.50_200_300Mpc\n",
            "updated_vy_z010.00_200_300Mpc\n",
            "updated_vy_z010.50_200_300Mpc\n",
            "updated_vy_z011.00_200_300Mpc\n",
            "updated_vy_z011.50_200_300Mpc\n",
            "updated_vy_z012.00_200_300Mpc\n",
            "updated_vy_z012.50_200_300Mpc\n",
            "updated_vy_z013.00_200_300Mpc\n",
            "updated_vz_z005.00_200_300Mpc\n",
            "updated_vz_z005.50_200_300Mpc\n",
            "updated_vz_z006.00_200_300Mpc\n",
            "updated_vz_z006.50_200_300Mpc\n",
            "updated_vz_z007.00_200_300Mpc\n",
            "updated_vz_z007.50_200_300Mpc\n",
            "updated_vz_z008.00_200_300Mpc\n",
            "updated_vz_z008.50_200_300Mpc\n",
            "updated_vz_z009.00_200_300Mpc\n",
            "updated_vz_z009.50_200_300Mpc\n",
            "updated_vz_z010.00_200_300Mpc\n",
            "updated_vz_z010.50_200_300Mpc\n",
            "updated_vz_z011.00_200_300Mpc\n",
            "updated_vz_z011.50_200_300Mpc\n",
            "updated_vz_z012.00_200_300Mpc\n",
            "updated_vz_z012.50_200_300Mpc\n",
            "updated_vz_z013.00_200_300Mpc\n",
            "xH_nohalos_z005.00_nf0.000000_Fstar0.0500_starPL0.5000_Fesc0.0960_escPL-0.5000_Mturn5.00e+08_HIIfilter1_RHIImax50_200_300Mpc\n",
            "xH_nohalos_z005.50_nf0.000000_Fstar0.0500_starPL0.5000_Fesc0.0960_escPL-0.5000_Mturn5.00e+08_HIIfilter1_RHIImax50_200_300Mpc\n",
            "xH_nohalos_z006.00_nf0.010864_Fstar0.0500_starPL0.5000_Fesc0.0960_escPL-0.5000_Mturn5.00e+08_HIIfilter1_RHIImax50_200_300Mpc\n",
            "xH_nohalos_z006.50_nf0.125889_Fstar0.0500_starPL0.5000_Fesc0.0960_escPL-0.5000_Mturn5.00e+08_HIIfilter1_RHIImax50_200_300Mpc\n",
            "xH_nohalos_z007.00_nf0.313263_Fstar0.0500_starPL0.5000_Fesc0.0960_escPL-0.5000_Mturn5.00e+08_HIIfilter1_RHIImax50_200_300Mpc\n",
            "xH_nohalos_z007.50_nf0.480754_Fstar0.0500_starPL0.5000_Fesc0.0960_escPL-0.5000_Mturn5.00e+08_HIIfilter1_RHIImax50_200_300Mpc\n",
            "xH_nohalos_z008.00_nf0.612527_Fstar0.0500_starPL0.5000_Fesc0.0960_escPL-0.5000_Mturn5.00e+08_HIIfilter1_RHIImax50_200_300Mpc\n",
            "xH_nohalos_z008.50_nf0.710691_Fstar0.0500_starPL0.5000_Fesc0.0960_escPL-0.5000_Mturn5.00e+08_HIIfilter1_RHIImax50_200_300Mpc\n",
            "xH_nohalos_z009.00_nf0.784924_Fstar0.0500_starPL0.5000_Fesc0.0960_escPL-0.5000_Mturn5.00e+08_HIIfilter1_RHIImax50_200_300Mpc\n",
            "xH_nohalos_z009.50_nf0.840546_Fstar0.0500_starPL0.5000_Fesc0.0960_escPL-0.5000_Mturn5.00e+08_HIIfilter1_RHIImax50_200_300Mpc\n",
            "xH_nohalos_z010.00_nf0.882295_Fstar0.0500_starPL0.5000_Fesc0.0960_escPL-0.5000_Mturn5.00e+08_HIIfilter1_RHIImax50_200_300Mpc\n",
            "xH_nohalos_z010.50_nf0.913875_Fstar0.0500_starPL0.5000_Fesc0.0960_escPL-0.5000_Mturn5.00e+08_HIIfilter1_RHIImax50_200_300Mpc\n",
            "xH_nohalos_z011.00_nf0.937055_Fstar0.0500_starPL0.5000_Fesc0.0960_escPL-0.5000_Mturn5.00e+08_HIIfilter1_RHIImax50_200_300Mpc\n",
            "xH_nohalos_z011.50_nf0.954318_Fstar0.0500_starPL0.5000_Fesc0.0960_escPL-0.5000_Mturn5.00e+08_HIIfilter1_RHIImax50_200_300Mpc\n",
            "xH_nohalos_z012.00_nf0.967183_Fstar0.0500_starPL0.5000_Fesc0.0960_escPL-0.5000_Mturn5.00e+08_HIIfilter1_RHIImax50_200_300Mpc\n",
            "xH_nohalos_z012.50_nf0.976686_Fstar0.0500_starPL0.5000_Fesc0.0960_escPL-0.5000_Mturn5.00e+08_HIIfilter1_RHIImax50_200_300Mpc\n",
            "xH_nohalos_z013.00_nf0.983412_Fstar0.0500_starPL0.5000_Fesc0.0960_escPL-0.5000_Mturn5.00e+08_HIIfilter1_RHIImax50_200_300Mpc\n",
            "z_first_ionization_z005.00_HIIfilter1_RHIImax50_200_300Mpc\n",
            "z_first_ionization_z005.50_HIIfilter1_RHIImax50_200_300Mpc\n",
            "z_first_ionization_z006.00_HIIfilter1_RHIImax50_200_300Mpc\n",
            "z_first_ionization_z006.50_HIIfilter1_RHIImax50_200_300Mpc\n",
            "z_first_ionization_z007.00_HIIfilter1_RHIImax50_200_300Mpc\n",
            "z_first_ionization_z007.50_HIIfilter1_RHIImax50_200_300Mpc\n",
            "z_first_ionization_z008.00_HIIfilter1_RHIImax50_200_300Mpc\n",
            "z_first_ionization_z008.50_HIIfilter1_RHIImax50_200_300Mpc\n",
            "z_first_ionization_z009.00_HIIfilter1_RHIImax50_200_300Mpc\n",
            "z_first_ionization_z009.50_HIIfilter1_RHIImax50_200_300Mpc\n",
            "z_first_ionization_z010.00_HIIfilter1_RHIImax50_200_300Mpc\n",
            "z_first_ionization_z010.50_HIIfilter1_RHIImax50_200_300Mpc\n",
            "z_first_ionization_z011.00_HIIfilter1_RHIImax50_200_300Mpc\n",
            "z_first_ionization_z011.50_HIIfilter1_RHIImax50_200_300Mpc\n",
            "z_first_ionization_z012.00_HIIfilter1_RHIImax50_200_300Mpc\n",
            "z_first_ionization_z012.50_HIIfilter1_RHIImax50_200_300Mpc\n",
            "z_first_ionization_z013.00_HIIfilter1_RHIImax50_200_300Mpc\n"
          ],
          "name": "stdout"
        }
      ]
    },
    {
      "cell_type": "code",
      "metadata": {
        "id": "F8dI7o7e8FKY",
        "colab_type": "code",
        "colab": {}
      },
      "source": [
        ""
      ],
      "execution_count": 0,
      "outputs": []
    },
    {
      "cell_type": "code",
      "metadata": {
        "id": "EjK0g_IT8FNA",
        "colab_type": "code",
        "colab": {}
      },
      "source": [
        ""
      ],
      "execution_count": 0,
      "outputs": []
    },
    {
      "cell_type": "code",
      "metadata": {
        "id": "fZtVhI_68FSe",
        "colab_type": "code",
        "colab": {}
      },
      "source": [
        ""
      ],
      "execution_count": 0,
      "outputs": []
    },
    {
      "cell_type": "code",
      "metadata": {
        "id": "k6qYoFYI8FQD",
        "colab_type": "code",
        "colab": {}
      },
      "source": [
        ""
      ],
      "execution_count": 0,
      "outputs": []
    }
  ]
}