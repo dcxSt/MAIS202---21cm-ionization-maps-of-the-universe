{
 "cells": [
  {
   "cell_type": "markdown",
   "metadata": {},
   "source": [
    "# BASELINE MODEL\n",
    "\n",
    "Using [this webpage](https://medium.com/@pallawi.ds/ai-starter-train-and-test-your-first-neural-network-classifier-in-keras-from-scratch-b6a5f3b3ebc4) to help me out"
   ]
  },
  {
   "cell_type": "markdown",
   "metadata": {},
   "source": [
    "# import statements"
   ]
  },
  {
   "cell_type": "code",
   "execution_count": 230,
   "metadata": {},
   "outputs": [
    {
     "name": "stdout",
     "output_type": "stream",
     "text": [
      "keras is using tensorflow as the backend\n"
     ]
    }
   ],
   "source": [
    "import matplotlib.pyplot as plt\n",
    "import matplotlib as mpl\n",
    "import sklearn\n",
    "import numpy as np\n",
    "import random\n",
    "\n",
    "# import keras\n",
    "import keras\n",
    "from keras.models import Sequential\n",
    "from keras import backend as K\n",
    "backend_keras = keras.backend.backend()\n",
    "print(\"keras is using\", backend_keras,\"as the backend\")\n",
    "from keras.layers.core import Dense\n",
    "from keras.optimizers import SGD"
   ]
  },
  {
   "cell_type": "markdown",
   "metadata": {},
   "source": [
    "# Load the data"
   ]
  },
  {
   "cell_type": "code",
   "execution_count": 231,
   "metadata": {},
   "outputs": [
    {
     "name": "stdout",
     "output_type": "stream",
     "text": [
      "(6171, 50, 50)\n",
      "(6171,)\n"
     ]
    }
   ],
   "source": [
    "images = np.load(\"training_set.npy\")\n",
    "labels_all = np.load(\"training_redshift_labels.npy\")\n",
    "print(train.shape)\n",
    "print(labels_all.shape)\n",
    "\n",
    "images = list(images)\n",
    "labels_all = list(labels_all)"
   ]
  },
  {
   "cell_type": "markdown",
   "metadata": {},
   "source": [
    "# Preprocessing"
   ]
  },
  {
   "cell_type": "code",
   "execution_count": 232,
   "metadata": {},
   "outputs": [],
   "source": [
    "# Shuffle the data\n",
    "shuffled_images = []\n",
    "shuffled_labels_all = []\n",
    "while images:\n",
    "    i = random.randrange(len(images))\n",
    "    shuffled_images.append(images[i])\n",
    "    del images[i]\n",
    "    shuffled_labels_all.append(labels_all[i])\n",
    "    del labels_all[i]\n",
    "    \n",
    "images = np.array(shuffled_images[:])\n",
    "labels_all = np.array(shuffled_labels_all)"
   ]
  },
  {
   "cell_type": "code",
   "execution_count": 233,
   "metadata": {},
   "outputs": [
    {
     "name": "stdout",
     "output_type": "stream",
     "text": [
      "(6171, 50, 50)\n",
      "(6171,)\n"
     ]
    }
   ],
   "source": [
    "print(images.shape)\n",
    "print(labels_all.shape)"
   ]
  },
  {
   "cell_type": "markdown",
   "metadata": {},
   "source": [
    "### make the labels so that the model can learn them\n",
    "Sofar the labels are floats "
   ]
  },
  {
   "cell_type": "code",
   "execution_count": 240,
   "metadata": {},
   "outputs": [
    {
     "name": "stdout",
     "output_type": "stream",
     "text": [
      "[5.0, 5.5, 6.0, 6.5, 7.0, 7.5, 8.0, 8.5, 9.0, 9.5, 10.0, 10.5, 11.0, 11.5, 12.0, 12.5, 13.0] \n",
      "There are 17 labels. So the the problem is an image classification into 17 classes\n"
     ]
    }
   ],
   "source": [
    "# display the labels\n",
    "l = []\n",
    "for i in labels_all:\n",
    "    if i not in l: l.append(i)\n",
    "l.sort()\n",
    "print(l,\"\\nThere are\",len(l),\"labels. So the the problem is an image classification into\",len(l),\"classes\")"
   ]
  },
  {
   "cell_type": "code",
   "execution_count": 244,
   "metadata": {},
   "outputs": [
    {
     "name": "stdout",
     "output_type": "stream",
     "text": [
      "train_labels shape = (6171, 17) \n",
      "First 3 entries:\n",
      "[[0. 0. 0. 0. 0. 0. 0. 0. 1. 0. 0. 0. 0. 0. 0. 0. 0.]\n",
      " [0. 0. 0. 0. 0. 0. 0. 0. 1. 0. 0. 0. 0. 0. 0. 0. 0.]\n",
      " [1. 0. 0. 0. 0. 0. 0. 0. 0. 0. 0. 0. 0. 0. 0. 0. 0.]]\n"
     ]
    }
   ],
   "source": [
    "# define the train labels in len 17 arrays\n",
    "labels = []\n",
    "for i in labels_all:\n",
    "    arr = np.zeros(17)\n",
    "    index = int(np.round((i-5)*2,0))\n",
    "    arr[index]=1\n",
    "    labels.append(arr[:])\n",
    "    \n",
    "labels = np.array(labels)\n",
    "print(\"train_labels shape =\", labels.shape,\"\\nFirst 3 entries:\")\n",
    "print(labels[:3])"
   ]
  },
  {
   "cell_type": "markdown",
   "metadata": {},
   "source": [
    "### normalise the images\n",
    "because the values of the pixels in these images are somewhat unconventional I normalize by dividing by 70 instead of 255, this is because I checked and the max value was 66 point something."
   ]
  },
  {
   "cell_type": "code",
   "execution_count": 242,
   "metadata": {},
   "outputs": [
    {
     "name": "stdout",
     "output_type": "stream",
     "text": [
      "max :  0.9500968\n",
      "min :  0.0\n"
     ]
    }
   ],
   "source": [
    "# normalize images\n",
    "images_n = images / 70.0 # n for normalized\n",
    "print(\"max : \",np.max(images_n))\n",
    "print(\"min : \",np.min(images_n))"
   ]
  },
  {
   "cell_type": "markdown",
   "metadata": {},
   "source": [
    "Flatten the images for training"
   ]
  },
  {
   "cell_type": "code",
   "execution_count": 243,
   "metadata": {},
   "outputs": [
    {
     "name": "stdout",
     "output_type": "stream",
     "text": [
      "triain images flatten shape :  (6171, 2500)\n"
     ]
    }
   ],
   "source": [
    "images_flatten = np.array([i.flatten(\"C\") for i in images_n])\n",
    "print(\"triain images flatten shape : \",images_flatten.shape)"
   ]
  },
  {
   "cell_type": "markdown",
   "metadata": {},
   "source": [
    "# Train Test Split"
   ]
  },
  {
   "cell_type": "code",
   "execution_count": 249,
   "metadata": {},
   "outputs": [],
   "source": [
    "ratio = 0.9\n",
    "cut = int(len(images_flatten)*ratio)\n",
    "images_train = images_flatten[:cut]\n",
    "labels_train = labels[:cut]\n",
    "images_test = images_flatten[cut:]\n",
    "labels_test = labels[cut:]"
   ]
  },
  {
   "cell_type": "markdown",
   "metadata": {},
   "source": [
    "# Define Architecture\n",
    "The input size is 2500 and the output is gonna have size 17. I'm gonna make it single hidden layer."
   ]
  },
  {
   "cell_type": "code",
   "execution_count": 250,
   "metadata": {},
   "outputs": [
    {
     "name": "stdout",
     "output_type": "stream",
     "text": [
      "printing summary of model\n",
      "Model: \"sequential_7\"\n",
      "_________________________________________________________________\n",
      "Layer (type)                 Output Shape              Param #   \n",
      "=================================================================\n",
      "dense_11 (Dense)             (None, 350)               875350    \n",
      "_________________________________________________________________\n",
      "dense_12 (Dense)             (None, 17)                5967      \n",
      "=================================================================\n",
      "Total params: 881,317\n",
      "Trainable params: 881,317\n",
      "Non-trainable params: 0\n",
      "_________________________________________________________________\n"
     ]
    }
   ],
   "source": [
    "model = Sequential()\n",
    "\n",
    "model.add(Dense(350, input_shape=(2500,), activation=\"sigmoid\"))\n",
    "model.add(Dense(17, activation=\"softmax\"))\n",
    "\n",
    "print(\"printing summary of model\")\n",
    "model.summary()"
   ]
  },
  {
   "cell_type": "markdown",
   "metadata": {},
   "source": [
    "# Compile the mode\n",
    "You can compile a network (model) as many times as you want. You need to compile the model if you wish to change the loss function, optimizer or matrices.\n",
    "\n",
    "You need a compiled model to train (because training uses the loss function and the optimizer). But it’s not necessary to compile the model when testing the model on a new data."
   ]
  },
  {
   "cell_type": "code",
   "execution_count": 251,
   "metadata": {},
   "outputs": [
    {
     "name": "stdout",
     "output_type": "stream",
     "text": [
      "[INFO] Compiled the network...\n"
     ]
    }
   ],
   "source": [
    "# Initialize the initial learning rate and number of Epochs\n",
    "INIT_LR = 0.01\n",
    "EPOCHS = 50\n",
    "\n",
    "# compile the model using SGD optimizer (see imports) and categorical cross-entropy loss\n",
    "print(\"[INFO] Compiled the network...\")\n",
    "opt = SGD(lr = INIT_LR) # stochastic gradient descent\n",
    "model.compile(loss=\"categorical_crossentropy\", optimizer=opt,\n",
    "             metrics=[\"accuracy\"])"
   ]
  },
  {
   "cell_type": "code",
   "execution_count": 255,
   "metadata": {},
   "outputs": [],
   "source": [
    "# split the train into a train and valid set to feed into the model\n",
    "ratio = 0.8\n",
    "cut = int(ratio*len(images_train))\n",
    "trainX = images_train[:cut]\n",
    "trainY = labels_train[:cut]\n",
    "valX = images_train[cut:]\n",
    "valY = labels_train[cut:]"
   ]
  },
  {
   "cell_type": "markdown",
   "metadata": {},
   "source": [
    "## OR possible import an old network / pre-defined network for (re)training"
   ]
  },
  {
   "cell_type": "markdown",
   "metadata": {},
   "source": [
    "# Train the network"
   ]
  },
  {
   "cell_type": "code",
   "execution_count": 253,
   "metadata": {},
   "outputs": [
    {
     "name": "stdout",
     "output_type": "stream",
     "text": [
      "a random guess would have probability 0.058823529411764705\n"
     ]
    }
   ],
   "source": [
    "print(\"a random guess would have probability\",1./17)"
   ]
  },
  {
   "cell_type": "code",
   "execution_count": 275,
   "metadata": {
    "scrolled": true
   },
   "outputs": [
    {
     "name": "stdout",
     "output_type": "stream",
     "text": [
      "Train on 4442 samples, validate on 1111 samples\n",
      "Epoch 1/50\n",
      "4442/4442 [==============================] - 2s 342us/step - loss: 1.2594 - accuracy: 0.6502 - val_loss: 1.3775 - val_accuracy: 0.4617\n",
      "Epoch 2/50\n",
      "4442/4442 [==============================] - 1s 212us/step - loss: 1.2595 - accuracy: 0.6508 - val_loss: 1.3783 - val_accuracy: 0.4599\n",
      "Epoch 3/50\n",
      "4442/4442 [==============================] - 1s 261us/step - loss: 1.2580 - accuracy: 0.6448 - val_loss: 1.3751 - val_accuracy: 0.4293\n",
      "Epoch 4/50\n",
      "4442/4442 [==============================] - 1s 301us/step - loss: 1.2555 - accuracy: 0.6601 - val_loss: 1.3723 - val_accuracy: 0.4554\n",
      "Epoch 5/50\n",
      "4442/4442 [==============================] - 1s 309us/step - loss: 1.2537 - accuracy: 0.6605 - val_loss: 1.3740 - val_accuracy: 0.4401\n",
      "Epoch 6/50\n",
      "4442/4442 [==============================] - 1s 319us/step - loss: 1.2512 - accuracy: 0.6641 - val_loss: 1.3787 - val_accuracy: 0.4383\n",
      "Epoch 7/50\n",
      "4442/4442 [==============================] - 1s 305us/step - loss: 1.2497 - accuracy: 0.6535 - val_loss: 1.3681 - val_accuracy: 0.4653\n",
      "Epoch 8/50\n",
      "4442/4442 [==============================] - 2s 367us/step - loss: 1.2488 - accuracy: 0.6619 - val_loss: 1.3684 - val_accuracy: 0.4563\n",
      "Epoch 9/50\n",
      "4442/4442 [==============================] - 1s 283us/step - loss: 1.2463 - accuracy: 0.6643 - val_loss: 1.3698 - val_accuracy: 0.4680\n",
      "Epoch 10/50\n",
      "4442/4442 [==============================] - 1s 326us/step - loss: 1.2437 - accuracy: 0.6594 - val_loss: 1.3649 - val_accuracy: 0.4608\n",
      "Epoch 11/50\n",
      "4442/4442 [==============================] - 1s 298us/step - loss: 1.2431 - accuracy: 0.6720 - val_loss: 1.3706 - val_accuracy: 0.4275\n",
      "Epoch 12/50\n",
      "4442/4442 [==============================] - 2s 347us/step - loss: 1.2416 - accuracy: 0.6634 - val_loss: 1.3644 - val_accuracy: 0.4671\n",
      "Epoch 13/50\n",
      "4442/4442 [==============================] - 1s 304us/step - loss: 1.2385 - accuracy: 0.6675 - val_loss: 1.3705 - val_accuracy: 0.4527\n",
      "Epoch 14/50\n",
      "4442/4442 [==============================] - 1s 313us/step - loss: 1.2370 - accuracy: 0.6639 - val_loss: 1.3696 - val_accuracy: 0.4527\n",
      "Epoch 15/50\n",
      "4442/4442 [==============================] - 1s 259us/step - loss: 1.2351 - accuracy: 0.6639 - val_loss: 1.3673 - val_accuracy: 0.4428\n",
      "Epoch 16/50\n",
      "4442/4442 [==============================] - 1s 263us/step - loss: 1.2337 - accuracy: 0.6686 - val_loss: 1.3629 - val_accuracy: 0.4572\n",
      "Epoch 17/50\n",
      "4442/4442 [==============================] - 1s 279us/step - loss: 1.2325 - accuracy: 0.6727 - val_loss: 1.3608 - val_accuracy: 0.4365\n",
      "Epoch 18/50\n",
      "4442/4442 [==============================] - 1s 257us/step - loss: 1.2295 - accuracy: 0.6742 - val_loss: 1.3783 - val_accuracy: 0.4077\n",
      "Epoch 19/50\n",
      "4442/4442 [==============================] - 1s 310us/step - loss: 1.2290 - accuracy: 0.6722 - val_loss: 1.3598 - val_accuracy: 0.4545\n",
      "Epoch 20/50\n",
      "4442/4442 [==============================] - 1s 330us/step - loss: 1.2263 - accuracy: 0.6679 - val_loss: 1.3604 - val_accuracy: 0.4482\n",
      "Epoch 21/50\n",
      "4442/4442 [==============================] - 2s 390us/step - loss: 1.2243 - accuracy: 0.6607 - val_loss: 1.3607 - val_accuracy: 0.4500\n",
      "Epoch 22/50\n",
      "4442/4442 [==============================] - 1s 281us/step - loss: 1.2240 - accuracy: 0.6668 - val_loss: 1.3594 - val_accuracy: 0.4482\n",
      "Epoch 23/50\n",
      "4442/4442 [==============================] - 2s 340us/step - loss: 1.2191 - accuracy: 0.6538 - val_loss: 1.3577 - val_accuracy: 0.4545\n",
      "Epoch 24/50\n",
      "4442/4442 [==============================] - 1s 247us/step - loss: 1.2185 - accuracy: 0.6713 - val_loss: 1.3625 - val_accuracy: 0.4554\n",
      "Epoch 25/50\n",
      "4442/4442 [==============================] - 1s 307us/step - loss: 1.2162 - accuracy: 0.6571 - val_loss: 1.3565 - val_accuracy: 0.4833\n",
      "Epoch 26/50\n",
      "4442/4442 [==============================] - 1s 271us/step - loss: 1.2161 - accuracy: 0.6819 - val_loss: 1.3553 - val_accuracy: 0.4545\n",
      "Epoch 27/50\n",
      "4442/4442 [==============================] - 1s 276us/step - loss: 1.2138 - accuracy: 0.6675 - val_loss: 1.3514 - val_accuracy: 0.4275\n",
      "Epoch 28/50\n",
      "4442/4442 [==============================] - 1s 282us/step - loss: 1.2116 - accuracy: 0.6718 - val_loss: 1.3575 - val_accuracy: 0.4275\n",
      "Epoch 29/50\n",
      "4442/4442 [==============================] - 1s 283us/step - loss: 1.2110 - accuracy: 0.6846 - val_loss: 1.3554 - val_accuracy: 0.4896\n",
      "Epoch 30/50\n",
      "4442/4442 [==============================] - 2s 339us/step - loss: 1.2080 - accuracy: 0.6603 - val_loss: 1.3533 - val_accuracy: 0.4383\n",
      "Epoch 31/50\n",
      "4442/4442 [==============================] - 1s 279us/step - loss: 1.2068 - accuracy: 0.6688 - val_loss: 1.3513 - val_accuracy: 0.4716\n",
      "Epoch 32/50\n",
      "4442/4442 [==============================] - 1s 294us/step - loss: 1.2059 - accuracy: 0.6862 - val_loss: 1.3471 - val_accuracy: 0.4284\n",
      "Epoch 33/50\n",
      "4442/4442 [==============================] - 1s 333us/step - loss: 1.2034 - accuracy: 0.6857 - val_loss: 1.3470 - val_accuracy: 0.4590\n",
      "Epoch 34/50\n",
      "4442/4442 [==============================] - 1s 275us/step - loss: 1.2016 - accuracy: 0.6830 - val_loss: 1.3469 - val_accuracy: 0.4329\n",
      "Epoch 35/50\n",
      "4442/4442 [==============================] - 1s 308us/step - loss: 1.2002 - accuracy: 0.6835 - val_loss: 1.3426 - val_accuracy: 0.4563\n",
      "Epoch 36/50\n",
      "4442/4442 [==============================] - 1s 269us/step - loss: 1.1984 - accuracy: 0.6772 - val_loss: 1.3369 - val_accuracy: 0.4509\n",
      "Epoch 37/50\n",
      "4442/4442 [==============================] - 2s 340us/step - loss: 1.1972 - accuracy: 0.6873 - val_loss: 1.3469 - val_accuracy: 0.4473\n",
      "Epoch 38/50\n",
      "4442/4442 [==============================] - 1s 272us/step - loss: 1.1944 - accuracy: 0.6706 - val_loss: 1.3382 - val_accuracy: 0.4518\n",
      "Epoch 39/50\n",
      "4442/4442 [==============================] - 1s 300us/step - loss: 1.1927 - accuracy: 0.6905 - val_loss: 1.3410 - val_accuracy: 0.4446\n",
      "Epoch 40/50\n",
      "4442/4442 [==============================] - 1s 284us/step - loss: 1.1902 - accuracy: 0.6808 - val_loss: 1.3429 - val_accuracy: 0.4302\n",
      "Epoch 41/50\n",
      "4442/4442 [==============================] - 1s 277us/step - loss: 1.1907 - accuracy: 0.6830 - val_loss: 1.3434 - val_accuracy: 0.4662\n",
      "Epoch 42/50\n",
      "4442/4442 [==============================] - 1s 317us/step - loss: 1.1876 - accuracy: 0.6871 - val_loss: 1.3454 - val_accuracy: 0.4509\n",
      "Epoch 43/50\n",
      "4442/4442 [==============================] - 1s 269us/step - loss: 1.1868 - accuracy: 0.6826 - val_loss: 1.3415 - val_accuracy: 0.4365\n",
      "Epoch 44/50\n",
      "4442/4442 [==============================] - 1s 314us/step - loss: 1.1853 - accuracy: 0.6898 - val_loss: 1.3356 - val_accuracy: 0.4401\n",
      "Epoch 45/50\n",
      "4442/4442 [==============================] - 1s 301us/step - loss: 1.1834 - accuracy: 0.7015 - val_loss: 1.3356 - val_accuracy: 0.4248\n",
      "Epoch 46/50\n",
      "4442/4442 [==============================] - 1s 304us/step - loss: 1.1807 - accuracy: 0.6968 - val_loss: 1.3447 - val_accuracy: 0.4374\n",
      "Epoch 47/50\n",
      "4442/4442 [==============================] - 1s 268us/step - loss: 1.1795 - accuracy: 0.6855 - val_loss: 1.3380 - val_accuracy: 0.4329\n",
      "Epoch 48/50\n",
      "4442/4442 [==============================] - 1s 280us/step - loss: 1.1764 - accuracy: 0.6920 - val_loss: 1.3432 - val_accuracy: 0.4572\n",
      "Epoch 49/50\n",
      "4442/4442 [==============================] - 1s 306us/step - loss: 1.1768 - accuracy: 0.6974 - val_loss: 1.3334 - val_accuracy: 0.4392\n",
      "Epoch 50/50\n",
      "4442/4442 [==============================] - 1s 277us/step - loss: 1.1754 - accuracy: 0.6918 - val_loss: 1.3313 - val_accuracy: 0.4491\n"
     ]
    }
   ],
   "source": [
    "H = model.fit(trainX, trainY,\n",
    "             validation_data=(valX,valY),\n",
    "             epochs=EPOCHS, batch_size=32)"
   ]
  },
  {
   "cell_type": "markdown",
   "metadata": {},
   "source": [
    "### Evaluate the netork"
   ]
  },
  {
   "cell_type": "code",
   "execution_count": 276,
   "metadata": {},
   "outputs": [
    {
     "name": "stdout",
     "output_type": "stream",
     "text": [
      "[INFO] evaluating netowrk...\n",
      "The test data set accuracy is 44.01294498381877\n"
     ]
    }
   ],
   "source": [
    "print(\"[INFO] evaluating netowrk...\")\n",
    "predictions = model.predict(images_test, batch_size=32)\n",
    "correct, incorrect = 0,0\n",
    "if len(predictions)!=len(labels_test): raise Exception\n",
    "for i in range(len(predictions)):\n",
    "    if list(predictions[i]).index(max(predictions[i])) == list(labels_test[i]).index(1): \n",
    "        correct +=1\n",
    "    else: \n",
    "        incorrect +=1\n",
    "    \n",
    "print(\"The test data set accuracy is\", 100*(correct / (correct+incorrect)))"
   ]
  },
  {
   "cell_type": "code",
   "execution_count": 277,
   "metadata": {},
   "outputs": [
    {
     "data": {
      "image/png": "[encoded data removed]",
      "text/plain": [
       "<Figure size 432x288 with 1 Axes>"
      ]
     },
     "metadata": {},
     "output_type": "display_data"
    }
   ],
   "source": [
    "# plot the training loss and accuracy for each epoch\n",
    "N = np.arange(0, EPOCHS)\n",
    "plt.style.use(\"ggplot\")\n",
    "plt.figure()\n",
    "plt.plot(N, H.history[\"loss\"], label=\"train_loss\")\n",
    "plt.plot(N, H.history[\"val_loss\"], label=\"val_loss\")\n",
    "plt.plot(N, H.history[\"accuracy\"], label=\"train_acc\")\n",
    "plt.plot(N, H.history[\"val_accuracy\"], label=\"val_acc\")\n",
    "plt.title(\"Training Loss and Accuracy (simple multiclass classification)\")\n",
    "plt.xlabel(\"Epoch #\")\n",
    "plt.ylabel(\"Loss/Accuracy\")\n",
    "plt.legend()\n",
    "plt.savefig(\"training_performance.png\")\n",
    "plt.show()"
   ]
  },
  {
   "cell_type": "markdown",
   "metadata": {},
   "source": [
    "### Save the weights"
   ]
  },
  {
   "cell_type": "code",
   "execution_count": 278,
   "metadata": {},
   "outputs": [
    {
     "name": "stdout",
     "output_type": "stream",
     "text": [
      "[INFO] serializing network...\n"
     ]
    }
   ],
   "source": [
    "# save the model to the disk\n",
    "print(\"[INFO] serializing network...\")\n",
    "model.save(\"keras_single_hidden_layer_2500_350_17_acc_44.model\")"
   ]
  },
  {
   "cell_type": "markdown",
   "metadata": {},
   "source": [
    "# OR Import an old neural network"
   ]
  },
  {
   "cell_type": "code",
   "execution_count": null,
   "metadata": {},
   "outputs": [],
   "source": []
  },
  {
   "cell_type": "code",
   "execution_count": null,
   "metadata": {},
   "outputs": [],
   "source": []
  },
  {
   "cell_type": "code",
   "execution_count": null,
   "metadata": {},
   "outputs": [],
   "source": []
  },
  {
   "cell_type": "code",
   "execution_count": null,
   "metadata": {},
   "outputs": [],
   "source": []
  },
  {
   "cell_type": "code",
   "execution_count": null,
   "metadata": {},
   "outputs": [],
   "source": []
  }
 ],
 "metadata": {
  "kernelspec": {
   "display_name": "Python 3",
   "language": "python",
   "name": "python3"
  },
  "language_info": {
   "codemirror_mode": {
    "name": "ipython",
    "version": 3
   },
   "file_extension": ".py",
   "mimetype": "text/x-python",
   "name": "python",
   "nbconvert_exporter": "python",
   "pygments_lexer": "ipython3",
   "version": "3.7.3"
  }
 },
 "nbformat": 4,
 "nbformat_minor": 2
}
