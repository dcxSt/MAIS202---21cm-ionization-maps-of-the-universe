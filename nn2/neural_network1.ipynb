{
 "cells": [
  {
   "cell_type": "markdown",
   "metadata": {},
   "source": [
    "# BASELINE MODEL\n",
    "\n",
    "Using [this webpage](https://medium.com/@pallawi.ds/ai-starter-train-and-test-your-first-neural-network-classifier-in-keras-from-scratch-b6a5f3b3ebc4) to help me out"
   ]
  },
  {
   "cell_type": "markdown",
   "metadata": {},
   "source": [
    "import statements"
   ]
  },
  {
   "cell_type": "code",
   "execution_count": 126,
   "metadata": {},
   "outputs": [
    {
     "name": "stdout",
     "output_type": "stream",
     "text": [
      "keras is using tensorflow as the backend\n"
     ]
    }
   ],
   "source": [
    "import matplotlib.pyplot as plt\n",
    "import matplotlib as mpl\n",
    "import sklearn\n",
    "import numpy as np\n",
    "import random\n",
    "\n",
    "# import keras\n",
    "import keras\n",
    "from keras.models import Sequential\n",
    "from keras import backend as K\n",
    "backend_keras = keras.backend.backend()\n",
    "print(\"keras is using\", backend_keras,\"as the backend\")\n",
    "from keras.layers.core import Dense\n",
    "from keras.optimizers import SGD"
   ]
  },
  {
   "cell_type": "markdown",
   "metadata": {},
   "source": [
    "# Load the data"
   ]
  },
  {
   "cell_type": "code",
   "execution_count": 127,
   "metadata": {},
   "outputs": [
    {
     "name": "stdout",
     "output_type": "stream",
     "text": [
      "(6171, 50, 50)\n",
      "(6171,)\n"
     ]
    }
   ],
   "source": [
    "train_images = np.load(\"training_set.npy\")\n",
    "labels = np.load(\"training_redshift_labels.npy\")\n",
    "print(train.shape)\n",
    "print(labels.shape)\n",
    "train_images = list(train_images)\n",
    "labels = list(labels)"
   ]
  },
  {
   "cell_type": "markdown",
   "metadata": {},
   "source": [
    "# Preprocessing"
   ]
  },
  {
   "cell_type": "code",
   "execution_count": 128,
   "metadata": {},
   "outputs": [],
   "source": [
    "# Shuffle the data\n",
    "new_train_images = []\n",
    "new_labels = []\n",
    "while train_images:\n",
    "    i = random.randrange(len(train_images))\n",
    "    new_train_images.append(train_images[i])\n",
    "    del train_images[i]\n",
    "    new_labels.append(labels[i])\n",
    "    del labels[i]\n",
    "train_images = np.array(new_train_images[:])\n",
    "labels = np.array(new_labels)"
   ]
  },
  {
   "cell_type": "code",
   "execution_count": 129,
   "metadata": {},
   "outputs": [
    {
     "name": "stdout",
     "output_type": "stream",
     "text": [
      "(6171, 50, 50)\n",
      "(6171,)\n"
     ]
    }
   ],
   "source": [
    "print(train.shape)\n",
    "print(labels.shape)"
   ]
  },
  {
   "cell_type": "markdown",
   "metadata": {},
   "source": [
    "### make the labels so that the model can learn them\n",
    "Sofar the labels are floats "
   ]
  },
  {
   "cell_type": "code",
   "execution_count": 130,
   "metadata": {},
   "outputs": [
    {
     "name": "stdout",
     "output_type": "stream",
     "text": [
      "[5.0, 5.5, 6.0, 6.5, 7.0, 7.5, 8.0, 8.5, 9.0, 9.5, 10.0, 10.5, 11.0, 11.5, 12.0, 12.5, 13.0] \n",
      "There are 17 labels. So the the problem is an image classification into 17 classes\n"
     ]
    }
   ],
   "source": [
    "# display the labels\n",
    "l = []\n",
    "for i in labels:\n",
    "    if i not in l: l.append(i)\n",
    "l.sort()\n",
    "print(l,\"\\nThere are\",len(l),\"labels. So the the problem is an image classification into\",len(l),\"classes\")"
   ]
  },
  {
   "cell_type": "code",
   "execution_count": 131,
   "metadata": {},
   "outputs": [
    {
     "name": "stdout",
     "output_type": "stream",
     "text": [
      "train_labels shape = (6171, 17) \n",
      "First 3 entries:\n",
      "[[0. 0. 0. 0. 0. 0. 0. 0. 0. 0. 0. 0. 0. 0. 0. 1. 0.]\n",
      " [0. 0. 0. 0. 0. 0. 0. 0. 0. 0. 0. 0. 1. 0. 0. 0. 0.]\n",
      " [0. 0. 0. 0. 0. 0. 0. 0. 0. 0. 0. 0. 0. 0. 0. 1. 0.]]\n"
     ]
    }
   ],
   "source": [
    "# define the train labels in len 17 arrays\n",
    "\n",
    "train_labels = []\n",
    "for i in labels:\n",
    "    arr = np.zeros(17)\n",
    "    index = int(np.round((i-5)*2,0))\n",
    "    arr[index]=1\n",
    "    train_labels.append(arr[:])\n",
    "    \n",
    "train_labels = np.array(train_labels)\n",
    "print(\"train_labels shape =\", train_labels.shape,\"\\nFirst 3 entries:\")\n",
    "print(train_labels[:3])"
   ]
  },
  {
   "cell_type": "markdown",
   "metadata": {},
   "source": [
    "### normalise the images\n",
    "because the values of the pixels in these images are somewhat unconventional I normalize by dividing by 70 instead of 255, this is because I checked and the max value was 66 point something."
   ]
  },
  {
   "cell_type": "code",
   "execution_count": 132,
   "metadata": {},
   "outputs": [
    {
     "name": "stdout",
     "output_type": "stream",
     "text": [
      "max :  0.9500968\n",
      "min :  0.0\n"
     ]
    }
   ],
   "source": [
    "# normalize images\n",
    "train_images_n = train_images / 70.0 # n for normalized\n",
    "print(\"max : \",np.max(train_images_n))\n",
    "print(\"min : \",np.min(train_images_n))"
   ]
  },
  {
   "cell_type": "markdown",
   "metadata": {},
   "source": [
    "Flatten the images for training"
   ]
  },
  {
   "cell_type": "code",
   "execution_count": 133,
   "metadata": {},
   "outputs": [
    {
     "name": "stdout",
     "output_type": "stream",
     "text": [
      "triain images flatten shape :  (6171, 2500)\n"
     ]
    }
   ],
   "source": [
    "train_images_flatten = np.array([i.flatten(\"C\") for i in train_images])\n",
    "print(\"triain images flatten shape : \",train_images_flatten.shape)"
   ]
  },
  {
   "cell_type": "markdown",
   "metadata": {},
   "source": [
    "## Define Architecture\n",
    "The input size is 2500 and the output is gonna have size 17. I'm gonna make it single hidden layer."
   ]
  },
  {
   "cell_type": "code",
   "execution_count": 134,
   "metadata": {},
   "outputs": [
    {
     "name": "stdout",
     "output_type": "stream",
     "text": [
      "printing summary of model\n",
      "Model: \"sequential_4\"\n",
      "_________________________________________________________________\n",
      "Layer (type)                 Output Shape              Param #   \n",
      "=================================================================\n",
      "dense_5 (Dense)              (None, 350)               875350    \n",
      "_________________________________________________________________\n",
      "dense_6 (Dense)              (None, 17)                5967      \n",
      "=================================================================\n",
      "Total params: 881,317\n",
      "Trainable params: 881,317\n",
      "Non-trainable params: 0\n",
      "_________________________________________________________________\n"
     ]
    }
   ],
   "source": [
    "model = Sequential()\n",
    "\n",
    "model.add(Dense(350, input_shape=(2500,), activation=\"sigmoid\"))\n",
    "model.add(Dense(17, activation=\"softmax\"))\n",
    "\n",
    "print(\"printing summary of model\")\n",
    "model.summary()"
   ]
  },
  {
   "cell_type": "markdown",
   "metadata": {},
   "source": [
    "## Compile the mode\n",
    "You can compile a network (model) as many times as you want. You need to compile the model if you wish to change the loss function, optimizer or matrices.\n",
    "\n",
    "You need a compiled model to train (because training uses the loss function and the optimizer). But it’s not necessary to compile the model when testing the model on a new data."
   ]
  },
  {
   "cell_type": "code",
   "execution_count": 146,
   "metadata": {},
   "outputs": [
    {
     "name": "stdout",
     "output_type": "stream",
     "text": [
      "[INFO] Compiled the network...\n"
     ]
    }
   ],
   "source": [
    "# Initialize the initial learning rate and number of Epochs\n",
    "INIT_LR = 0.01\n",
    "EPOCHS = 25\n",
    "\n",
    "# compile the model using SGD optimizer (see imports) and categorical cross-entropy loss\n",
    "print(\"[INFO] Compiled the network...\")\n",
    "opt = SGD(lr = INIT_LR) # stochastic gradient descent\n",
    "model.compile(loss=\"categorical_crossentropy\", optimizer=opt,\n",
    "             metrics=[\"accuracy\"])"
   ]
  },
  {
   "cell_type": "code",
   "execution_count": 147,
   "metadata": {},
   "outputs": [],
   "source": [
    "# split the train into a train and valid set\n",
    "ratio = 0.8\n",
    "cut = int(ratio*len(train_images_flatten))\n",
    "trainX = train_images_flatten[:cut]\n",
    "trainY = train_labels[:cut]\n",
    "valX = train_images_flatten[cut:]\n",
    "valY = train_labels[cut:]"
   ]
  },
  {
   "cell_type": "markdown",
   "metadata": {},
   "source": [
    "## OR possible import an old network / pre-defined network for (re)training"
   ]
  },
  {
   "cell_type": "markdown",
   "metadata": {},
   "source": [
    "# Train the neural network"
   ]
  },
  {
   "cell_type": "code",
   "execution_count": null,
   "metadata": {},
   "outputs": [
    {
     "name": "stdout",
     "output_type": "stream",
     "text": [
      "Train on 4936 samples, validate on 1235 samples\n",
      "Epoch 1/25\n",
      "4936/4936 [==============================] - 1s 237us/step - loss: 2.5542 - accuracy: 0.1584 - val_loss: 2.4445 - val_accuracy: 0.2138\n",
      "Epoch 2/25\n",
      "2080/4936 [===========>..................] - ETA: 0s - loss: 2.3711 - accuracy: 0.2245"
     ]
    }
   ],
   "source": [
    "H = model.fit(trainX, trainY,\n",
    "             validation_data=(valX,valY),\n",
    "             epochs=EPOCHS, batch_size=32)"
   ]
  },
  {
   "cell_type": "code",
   "execution_count": null,
   "metadata": {},
   "outputs": [],
   "source": []
  },
  {
   "cell_type": "markdown",
   "metadata": {},
   "source": [
    "# OR Import a neural network"
   ]
  },
  {
   "cell_type": "code",
   "execution_count": null,
   "metadata": {},
   "outputs": [],
   "source": []
  },
  {
   "cell_type": "code",
   "execution_count": null,
   "metadata": {},
   "outputs": [],
   "source": []
  },
  {
   "cell_type": "markdown",
   "metadata": {},
   "source": [
    "# Make a prediction"
   ]
  },
  {
   "cell_type": "code",
   "execution_count": null,
   "metadata": {},
   "outputs": [],
   "source": []
  },
  {
   "cell_type": "code",
   "execution_count": null,
   "metadata": {},
   "outputs": [],
   "source": []
  },
  {
   "cell_type": "code",
   "execution_count": null,
   "metadata": {},
   "outputs": [],
   "source": []
  },
  {
   "cell_type": "code",
   "execution_count": null,
   "metadata": {},
   "outputs": [],
   "source": []
  },
  {
   "cell_type": "code",
   "execution_count": null,
   "metadata": {},
   "outputs": [],
   "source": []
  }
 ],
 "metadata": {
  "kernelspec": {
   "display_name": "Python 3",
   "language": "python",
   "name": "python3"
  },
  "language_info": {
   "codemirror_mode": {
    "name": "ipython",
    "version": 3
   },
   "file_extension": ".py",
   "mimetype": "text/x-python",
   "name": "python",
   "nbconvert_exporter": "python",
   "pygments_lexer": "ipython3",
   "version": "3.7.3"
  }
 },
 "nbformat": 4,
 "nbformat_minor": 2
}
