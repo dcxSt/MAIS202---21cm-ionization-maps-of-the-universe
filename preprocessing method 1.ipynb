{
 "cells": [
  {
   "cell_type": "code",
   "execution_count": 8,
   "metadata": {},
   "outputs": [],
   "source": [
    "import numpy as np\n",
    "import random\n",
    "import matplotlib.pyplot as plt\n",
    "import matplotlib.cm as cm\n",
    "import os\n",
    "\n",
    "from preprocessing_methods import *"
   ]
  },
  {
   "cell_type": "markdown",
   "metadata": {},
   "source": [
    "# Define a Function that takes as input binary files imported from joelle_batch and yields a bunch of 2 x 50 x 50 arrays."
   ]
  },
  {
   "cell_type": "code",
   "execution_count": 9,
   "metadata": {},
   "outputs": [
    {
     "name": "stdout",
     "output_type": "stream",
     "text": [
      "there are  17 files in the category updated_smoothed_deltax\n",
      "there are  18 files in the category delta_T\n"
     ]
    }
   ],
   "source": [
    "# loading the specific files\n",
    "mypath=\"./joelle_batch_2.1/joelle_ESC_FRAC_0.070_RNG_150/\"\n",
    "\n",
    "data_mass = get_bin21(filename_includes=\"z006.5\" , \n",
    "                      category_includes=\"updated_smoothed_deltax\", \n",
    "                      mypath=mypath)\n",
    "\n",
    "data_ion = get_bin21(filename_includes=\"z006.5\" , \n",
    "                     category_includes=\"delta_T\" , \n",
    "                     mypath=mypath)\n"
   ]
  },
  {
   "cell_type": "code",
   "execution_count": 10,
   "metadata": {},
   "outputs": [
    {
     "name": "stdout",
     "output_type": "stream",
     "text": [
      "shape of boxes: (50, 50, 50)\n",
      "shape of boxes: (50, 50, 50)\n",
      "64.0\n",
      "small_boxes.shape: (64, 2, 50, 50, 50)\n",
      "1 2 3 4 5 6 7 8 9 10 11 12 13 14 15 16 17 18 19 20 21 22 23 24 25 26 27 28 29 30 31 32 33 34 35 36 37 38 39 40 41 42 43 44 45 46 47 48 49 50 51 52 53 54 55 56 57 58 59 60 61 62 63 64 "
     ]
    }
   ],
   "source": [
    "save_to_2d_arrays(data_mass , data_ion , \n",
    "                  dir_path=\"./saved_slice_pictures/matching_pictures/\" , \n",
    "                  fname_suffix=\"matching\")"
   ]
  },
  {
   "cell_type": "markdown",
   "metadata": {},
   "source": [
    "### now do the same thing for two that don't match and save to  directory"
   ]
  },
  {
   "cell_type": "markdown",
   "metadata": {},
   "source": [
    "load the data from two different boxes into data_mass and data_ion"
   ]
  },
  {
   "cell_type": "code",
   "execution_count": 6,
   "metadata": {},
   "outputs": [
    {
     "name": "stdout",
     "output_type": "stream",
     "text": [
      "there are  17 files in the category updated_smoothed_deltax\n",
      "there are  18 files in the category delta_T\n"
     ]
    }
   ],
   "source": [
    "mypath=\"./joelle_batch_2.1/joelle_ESC_FRAC_0.070_RNG_150/\"\n",
    "data_mass = get_bin21(filename_includes=\"z007.0\" , # intentionally don't match\n",
    "                      category_includes=\"updated_smoothed_deltax\",\n",
    "                      mypath=mypath)\n",
    "data_ion = get_bin21(filename_includes=\"z007.5\" , \n",
    "                     category_includes=\"delta_T\",\n",
    "                     mypath=mypath)"
   ]
  },
  {
   "cell_type": "code",
   "execution_count": 7,
   "metadata": {},
   "outputs": [
    {
     "name": "stdout",
     "output_type": "stream",
     "text": [
      "shape of boxes: (50, 50, 50)\n",
      "shape of boxes: (50, 50, 50)\n",
      "64.0\n",
      "small_boxes.shape: (64, 2, 50, 50, 50)\n",
      "1 2 3 4 5 6 7 8 9 10 11 12 13 14 15 16 17 18 19 20 21 22 23 24 25 26 27 28 29 30 31 32 33 34 35 36 37 38 39 40 41 42 43 44 45 46 47 48 49 50 51 52 53 54 55 56 57 58 59 60 61 62 63 64 "
     ]
    }
   ],
   "source": [
    "save_to_2d_arrays(data_mass , data_ion , \n",
    "                  dir_path=\"./saved_slice_pictures/not_matching_pictures/\" , \n",
    "                  fname_suffix=\"not_matching\")"
   ]
  },
  {
   "cell_type": "code",
   "execution_count": null,
   "metadata": {},
   "outputs": [],
   "source": []
  },
  {
   "cell_type": "code",
   "execution_count": null,
   "metadata": {},
   "outputs": [],
   "source": []
  },
  {
   "cell_type": "code",
   "execution_count": null,
   "metadata": {},
   "outputs": [],
   "source": []
  },
  {
   "cell_type": "code",
   "execution_count": null,
   "metadata": {},
   "outputs": [],
   "source": []
  },
  {
   "cell_type": "code",
   "execution_count": null,
   "metadata": {},
   "outputs": [],
   "source": []
  },
  {
   "cell_type": "code",
   "execution_count": null,
   "metadata": {},
   "outputs": [],
   "source": []
  },
  {
   "cell_type": "code",
   "execution_count": null,
   "metadata": {},
   "outputs": [],
   "source": []
  },
  {
   "cell_type": "code",
   "execution_count": null,
   "metadata": {},
   "outputs": [],
   "source": []
  },
  {
   "cell_type": "code",
   "execution_count": null,
   "metadata": {},
   "outputs": [],
   "source": []
  },
  {
   "cell_type": "code",
   "execution_count": null,
   "metadata": {},
   "outputs": [],
   "source": []
  },
  {
   "cell_type": "code",
   "execution_count": null,
   "metadata": {},
   "outputs": [],
   "source": [
    "filenames_in(\"./joelle_batch_2.1/joelle_ESC_FRAC_0.070_RNG_150/\")"
   ]
  }
 ],
 "metadata": {
  "kernelspec": {
   "display_name": "Python 3",
   "language": "python",
   "name": "python3"
  },
  "language_info": {
   "codemirror_mode": {
    "name": "ipython",
    "version": 3
   },
   "file_extension": ".py",
   "mimetype": "text/x-python",
   "name": "python",
   "nbconvert_exporter": "python",
   "pygments_lexer": "ipython3",
   "version": "3.7.3"
  }
 },
 "nbformat": 4,
 "nbformat_minor": 2
}
