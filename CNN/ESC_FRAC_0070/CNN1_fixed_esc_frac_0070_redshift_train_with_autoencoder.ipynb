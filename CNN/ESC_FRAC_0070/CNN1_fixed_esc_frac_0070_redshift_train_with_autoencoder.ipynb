{
 "cells": [
  {
   "cell_type": "markdown",
   "metadata": {},
   "source": [
    "# Import statements"
   ]
  },
  {
   "cell_type": "code",
   "execution_count": 35,
   "metadata": {},
   "outputs": [
    {
     "name": "stdout",
     "output_type": "stream",
     "text": [
      "keras is using tensorflow as the backend\n"
     ]
    }
   ],
   "source": [
    "import numpy as np\n",
    "import matplotlib.pyplot as plt\n",
    "import matplotlib as mpl\n",
    "import sklearn\n",
    "import random\n",
    "import os\n",
    "import sys\n",
    "\n",
    "# import keras\n",
    "import keras\n",
    "from keras import backend as K\n",
    "backend_keras = keras.backend.backend()\n",
    "print(\"keras is using\", backend_keras, \"as the backend\")\n",
    "from keras.layers import Input, Dense, Conv2D, MaxPooling2D, Flatten, UpSampling2D\n",
    "from keras.models import Model, load_model, Sequential\n",
    "\n",
    "# for training \n",
    "# https://keras.io/optimizers/ - list of optimizers, keras documentation\n",
    "from keras.optimizers import SGD, Nadam, Adamax, Adam, Adadelta, Adagrad, RMSprop\n"
   ]
  },
  {
   "cell_type": "markdown",
   "metadata": {},
   "source": [
    "# Load proprocessed data - redshift data and labels\n",
    "These are the ones which have been created with the keras notebook"
   ]
  },
  {
   "cell_type": "code",
   "execution_count": 36,
   "metadata": {},
   "outputs": [
    {
     "data": {
      "text/plain": [
       "['preprocessing.ipynb',\n",
       " 'CNN1_fixed_esc_frac_0070_redshift_train_with_autoencoder.ipynb',\n",
       " 'esc0070_labels_test.npy',\n",
       " 'esc0070_labels_val.npy',\n",
       " 'esc0070_data_test.npy',\n",
       " 'esc_frac_0070_labels.npy',\n",
       " 'CNN1_fixed_esc_frac_0070_redshift_train_no_encoder.ipynb',\n",
       " 'esc0070_labels_train.npy',\n",
       " 'esc_frac_0070_data.npy',\n",
       " '.ipynb_checkpoints',\n",
       " 'esc0070_data_train.npy',\n",
       " 'esc0070_data_val.npy']"
      ]
     },
     "execution_count": 36,
     "metadata": {},
     "output_type": "execute_result"
    }
   ],
   "source": [
    "os.listdir()"
   ]
  },
  {
   "cell_type": "code",
   "execution_count": 37,
   "metadata": {},
   "outputs": [
    {
     "name": "stdout",
     "output_type": "stream",
     "text": [
      "shapes :  (2550, 200, 200, 1) (340, 200, 200, 1) (510, 200, 200, 1)\n",
      "more shapes (2550, 17) (340, 17) (510, 17)\n"
     ]
    }
   ],
   "source": [
    "x_train_raw = np.load(\"esc0070_data_train.npy\")\n",
    "x_val_raw = np.load(\"esc0070_data_val.npy\")\n",
    "x_test_raw = np.load(\"esc0070_data_test.npy\")\n",
    "labels_train = np.load(\"esc0070_labels_train.npy\")\n",
    "labels_val = np.load(\"esc0070_labels_val.npy\")\n",
    "labels_test = np.load(\"esc0070_labels_test.npy\")\n",
    "\n",
    "print(\"shapes : \", x_train_raw.shape, x_val_raw.shape, x_test_raw.shape)\n",
    "print(\"more shapes\", labels_train.shape, labels_val.shape, labels_test.shape)"
   ]
  },
  {
   "cell_type": "markdown",
   "metadata": {},
   "source": [
    "# Apply Autoencoder\n",
    "## first load the autoencoder"
   ]
  },
  {
   "cell_type": "code",
   "execution_count": 38,
   "metadata": {},
   "outputs": [],
   "source": [
    "os.listdir(\"../../Auto-Encoder Training/\")\n",
    "autoencoder = load_model(\"../../Auto-Encoder Training/autoencoder_adam_95.model\")"
   ]
  },
  {
   "cell_type": "code",
   "execution_count": 39,
   "metadata": {
    "scrolled": true
   },
   "outputs": [
    {
     "name": "stdout",
     "output_type": "stream",
     "text": [
      "Model: \"model_2\"\n",
      "_________________________________________________________________\n",
      "Layer (type)                 Output Shape              Param #   \n",
      "=================================================================\n",
      "input_1 (InputLayer)         (None, 200, 200, 1)       0         \n",
      "_________________________________________________________________\n",
      "conv2d_1 (Conv2D)            (None, 200, 200, 16)      160       \n",
      "_________________________________________________________________\n",
      "max_pooling2d_1 (MaxPooling2 (None, 100, 100, 16)      0         \n",
      "_________________________________________________________________\n",
      "conv2d_2 (Conv2D)            (None, 100, 100, 8)       1160      \n",
      "_________________________________________________________________\n",
      "max_pooling2d_2 (MaxPooling2 (None, 50, 50, 8)         0         \n",
      "_________________________________________________________________\n",
      "conv2d_3 (Conv2D)            (None, 50, 50, 8)         584       \n",
      "_________________________________________________________________\n",
      "max_pooling2d_3 (MaxPooling2 (None, 25, 25, 8)         0         \n",
      "=================================================================\n",
      "Total params: 1,904\n",
      "Trainable params: 1,904\n",
      "Non-trainable params: 0\n",
      "_________________________________________________________________\n"
     ]
    }
   ],
   "source": [
    "#autoencoder.summary()\n",
    "encoder = Model(autoencoder.input, autoencoder.layers[-8].output)\n",
    "encoder.summary()"
   ]
  },
  {
   "cell_type": "code",
   "execution_count": 40,
   "metadata": {},
   "outputs": [],
   "source": [
    "x_train = encoder.predict(x_train_raw)\n",
    "x_val = encoder.predict(x_val_raw)\n",
    "x_test = encoder.predict(x_test_raw)"
   ]
  },
  {
   "cell_type": "markdown",
   "metadata": {},
   "source": [
    "# Define the CNN architecture"
   ]
  },
  {
   "cell_type": "code",
   "execution_count": 47,
   "metadata": {},
   "outputs": [],
   "source": [
    "classifier = Sequential()\n",
    "\n",
    "# extract features\n",
    "classifier.add(Conv2D(16, (3,3), input_shape=(25,25,8),\n",
    "                     activation='relu', padding='valid'))\n",
    "# reduce dimensionality, keep most important info\n",
    "classifier.add(MaxPooling2D(pool_size=(2,2)))\n",
    "\n",
    "# add a second layer, again with no padding\n",
    "classifier.add(Conv2D(8, (3,3), activation='relu', padding='valid'))\n",
    "\n",
    "# pool again\n",
    "classifier.add(MaxPooling2D(pool_size=(2,2)))\n",
    "\n",
    "# here i flatten and then guess the class\n",
    "classifier.add(Flatten())\n",
    "\n",
    "# fully connected layers ensures connections to all activations \n",
    "# in previous layers\n",
    "\n",
    "classifier.add(Dense(units=17, activation='softmax'))"
   ]
  },
  {
   "cell_type": "code",
   "execution_count": null,
   "metadata": {},
   "outputs": [],
   "source": []
  },
  {
   "cell_type": "markdown",
   "metadata": {},
   "source": [
    "# Alternative Architectures"
   ]
  },
  {
   "cell_type": "code",
   "execution_count": 48,
   "metadata": {},
   "outputs": [],
   "source": [
    "#classifier = Sequential()\n",
    "\n",
    "# padding = 'valid' means that i reduce dimentionality a little\n"
   ]
  },
  {
   "cell_type": "markdown",
   "metadata": {},
   "source": [
    "# Tune hyperparams and compile"
   ]
  },
  {
   "cell_type": "code",
   "execution_count": 49,
   "metadata": {
    "scrolled": true
   },
   "outputs": [
    {
     "name": "stdout",
     "output_type": "stream",
     "text": [
      "printing summary of model\n",
      "Model: \"sequential_10\"\n",
      "_________________________________________________________________\n",
      "Layer (type)                 Output Shape              Param #   \n",
      "=================================================================\n",
      "conv2d_15 (Conv2D)           (None, 23, 23, 16)        1168      \n",
      "_________________________________________________________________\n",
      "max_pooling2d_15 (MaxPooling (None, 11, 11, 16)        0         \n",
      "_________________________________________________________________\n",
      "conv2d_16 (Conv2D)           (None, 9, 9, 8)           1160      \n",
      "_________________________________________________________________\n",
      "max_pooling2d_16 (MaxPooling (None, 4, 4, 8)           0         \n",
      "_________________________________________________________________\n",
      "flatten_7 (Flatten)          (None, 128)               0         \n",
      "_________________________________________________________________\n",
      "dense_5 (Dense)              (None, 17)                2193      \n",
      "=================================================================\n",
      "Total params: 4,521\n",
      "Trainable params: 4,521\n",
      "Non-trainable params: 0\n",
      "_________________________________________________________________\n"
     ]
    }
   ],
   "source": [
    "opt = Adam(learning_rate=0.001, beta_1=0.9, beta_2=0.999,\n",
    "          amsgrad=True)\n",
    "\n",
    "classifier.compile(optimizer=opt,\n",
    "                   loss='categorical_crossentropy',\n",
    "                   metrics=[\"accuracy\"])\n",
    "print(\"printing summary of model\")\n",
    "classifier.summary()"
   ]
  },
  {
   "cell_type": "markdown",
   "metadata": {},
   "source": [
    "# Train the network"
   ]
  },
  {
   "cell_type": "code",
   "execution_count": 50,
   "metadata": {},
   "outputs": [
    {
     "name": "stdout",
     "output_type": "stream",
     "text": [
      "(2550, 25, 25, 8) (2550, 17)\n"
     ]
    }
   ],
   "source": [
    "print(x_train.shape, labels_train.shape)"
   ]
  },
  {
   "cell_type": "code",
   "execution_count": 52,
   "metadata": {
    "scrolled": true
   },
   "outputs": [
    {
     "name": "stdout",
     "output_type": "stream",
     "text": [
      "Train on 2550 samples, validate on 340 samples\n",
      "Epoch 1/100\n",
      "2550/2550 [==============================] - 1s 311us/step - loss: 0.6687 - accuracy: 0.8133 - val_loss: 0.6516 - val_accuracy: 0.8324\n",
      "Epoch 2/100\n",
      "2550/2550 [==============================] - 1s 399us/step - loss: 0.6392 - accuracy: 0.8184 - val_loss: 0.6138 - val_accuracy: 0.8559\n",
      "Epoch 3/100\n",
      "2550/2550 [==============================] - 1s 554us/step - loss: 0.6049 - accuracy: 0.8192 - val_loss: 0.5905 - val_accuracy: 0.8618\n",
      "Epoch 4/100\n",
      "2550/2550 [==============================] - 2s 692us/step - loss: 0.5815 - accuracy: 0.8404 - val_loss: 0.5599 - val_accuracy: 0.8647\n",
      "Epoch 5/100\n",
      "2550/2550 [==============================] - 2s 711us/step - loss: 0.5576 - accuracy: 0.8510 - val_loss: 0.5437 - val_accuracy: 0.8794\n",
      "Epoch 6/100\n",
      "2550/2550 [==============================] - 1s 482us/step - loss: 0.5329 - accuracy: 0.8588 - val_loss: 0.5437 - val_accuracy: 0.8824\n",
      "Epoch 7/100\n",
      "2550/2550 [==============================] - 1s 369us/step - loss: 0.5203 - accuracy: 0.8722 - val_loss: 0.5251 - val_accuracy: 0.8647\n",
      "Epoch 8/100\n",
      "2550/2550 [==============================] - 1s 549us/step - loss: 0.5159 - accuracy: 0.8459 - val_loss: 0.4738 - val_accuracy: 0.8971\n",
      "Epoch 9/100\n",
      "2550/2550 [==============================] - 1s 379us/step - loss: 0.5118 - accuracy: 0.8420 - val_loss: 0.5116 - val_accuracy: 0.8235\n",
      "Epoch 10/100\n",
      "2550/2550 [==============================] - 2s 658us/step - loss: 0.4935 - accuracy: 0.8580 - val_loss: 0.4719 - val_accuracy: 0.8912\n",
      "Epoch 11/100\n",
      "2550/2550 [==============================] - 2s 629us/step - loss: 0.4750 - accuracy: 0.8588 - val_loss: 0.4428 - val_accuracy: 0.9147\n",
      "Epoch 12/100\n",
      "2550/2550 [==============================] - 1s 500us/step - loss: 0.4515 - accuracy: 0.8804 - val_loss: 0.4413 - val_accuracy: 0.8971\n",
      "Epoch 13/100\n",
      "2550/2550 [==============================] - 1s 268us/step - loss: 0.4335 - accuracy: 0.8878 - val_loss: 0.4255 - val_accuracy: 0.8971\n",
      "Epoch 14/100\n",
      "2550/2550 [==============================] - 1s 580us/step - loss: 0.4070 - accuracy: 0.9012 - val_loss: 0.3950 - val_accuracy: 0.9147\n",
      "Epoch 15/100\n",
      "2550/2550 [==============================] - 2s 643us/step - loss: 0.3932 - accuracy: 0.9071 - val_loss: 0.3803 - val_accuracy: 0.9029\n",
      "Epoch 16/100\n",
      "2550/2550 [==============================] - 1s 305us/step - loss: 0.4016 - accuracy: 0.8922 - val_loss: 0.3978 - val_accuracy: 0.9059\n",
      "Epoch 17/100\n",
      "2550/2550 [==============================] - 1s 355us/step - loss: 0.3828 - accuracy: 0.8973 - val_loss: 0.4652 - val_accuracy: 0.8500\n",
      "Epoch 18/100\n",
      "2550/2550 [==============================] - 1s 424us/step - loss: 0.3764 - accuracy: 0.8961 - val_loss: 0.3885 - val_accuracy: 0.8882\n",
      "Epoch 19/100\n",
      "2550/2550 [==============================] - 1s 433us/step - loss: 0.3565 - accuracy: 0.9125 - val_loss: 0.3775 - val_accuracy: 0.8853\n",
      "Epoch 20/100\n",
      "2550/2550 [==============================] - 2s 691us/step - loss: 0.3524 - accuracy: 0.9161 - val_loss: 0.3450 - val_accuracy: 0.8971\n",
      "Epoch 21/100\n",
      "2550/2550 [==============================] - 2s 695us/step - loss: 0.3453 - accuracy: 0.9137 - val_loss: 0.3418 - val_accuracy: 0.9147\n",
      "Epoch 22/100\n",
      "2550/2550 [==============================] - 2s 741us/step - loss: 0.3226 - accuracy: 0.9294 - val_loss: 0.3121 - val_accuracy: 0.9441\n",
      "Epoch 23/100\n",
      "2550/2550 [==============================] - 2s 703us/step - loss: 0.3186 - accuracy: 0.9149 - val_loss: 0.3171 - val_accuracy: 0.9382\n",
      "Epoch 24/100\n",
      "2550/2550 [==============================] - 1s 508us/step - loss: 0.3144 - accuracy: 0.9231 - val_loss: 0.3034 - val_accuracy: 0.9235\n",
      "Epoch 25/100\n",
      "2550/2550 [==============================] - 1s 360us/step - loss: 0.3121 - accuracy: 0.9125 - val_loss: 0.3255 - val_accuracy: 0.9000\n",
      "Epoch 26/100\n",
      "2550/2550 [==============================] - 1s 556us/step - loss: 0.2995 - accuracy: 0.9231 - val_loss: 0.2748 - val_accuracy: 0.9353\n",
      "Epoch 27/100\n",
      "2550/2550 [==============================] - 2s 618us/step - loss: 0.2865 - accuracy: 0.9322 - val_loss: 0.2728 - val_accuracy: 0.9529\n",
      "Epoch 28/100\n",
      "2550/2550 [==============================] - 1s 489us/step - loss: 0.2736 - accuracy: 0.9373 - val_loss: 0.2600 - val_accuracy: 0.9500\n",
      "Epoch 29/100\n",
      "2550/2550 [==============================] - 1s 444us/step - loss: 0.2701 - accuracy: 0.9384 - val_loss: 0.3077 - val_accuracy: 0.9412\n",
      "Epoch 30/100\n",
      "2550/2550 [==============================] - 1s 301us/step - loss: 0.2580 - accuracy: 0.9396 - val_loss: 0.2405 - val_accuracy: 0.9529\n",
      "Epoch 31/100\n",
      "2550/2550 [==============================] - 1s 310us/step - loss: 0.2453 - accuracy: 0.9471 - val_loss: 0.2529 - val_accuracy: 0.9529\n",
      "Epoch 32/100\n",
      "2550/2550 [==============================] - 2s 598us/step - loss: 0.2545 - accuracy: 0.9404 - val_loss: 0.3146 - val_accuracy: 0.8735\n",
      "Epoch 33/100\n",
      "2550/2550 [==============================] - 1s 586us/step - loss: 0.2614 - accuracy: 0.9298 - val_loss: 0.2430 - val_accuracy: 0.9588\n",
      "Epoch 34/100\n",
      "2550/2550 [==============================] - 1s 513us/step - loss: 0.2325 - accuracy: 0.9490 - val_loss: 0.2535 - val_accuracy: 0.9294\n",
      "Epoch 35/100\n",
      "2550/2550 [==============================] - 1s 472us/step - loss: 0.2360 - accuracy: 0.9412 - val_loss: 0.2550 - val_accuracy: 0.9382\n",
      "Epoch 36/100\n",
      "2550/2550 [==============================] - 1s 462us/step - loss: 0.2430 - accuracy: 0.9369 - val_loss: 0.2453 - val_accuracy: 0.9294\n",
      "Epoch 37/100\n",
      "2550/2550 [==============================] - 1s 411us/step - loss: 0.2316 - accuracy: 0.9482 - val_loss: 0.2298 - val_accuracy: 0.9500\n",
      "Epoch 38/100\n",
      "2550/2550 [==============================] - 1s 226us/step - loss: 0.2310 - accuracy: 0.9400 - val_loss: 0.2126 - val_accuracy: 0.9559\n",
      "Epoch 39/100\n",
      "2550/2550 [==============================] - 1s 556us/step - loss: 0.2119 - accuracy: 0.9514 - val_loss: 0.2095 - val_accuracy: 0.9500\n",
      "Epoch 40/100\n",
      "2550/2550 [==============================] - 1s 526us/step - loss: 0.2045 - accuracy: 0.9553 - val_loss: 0.1988 - val_accuracy: 0.9647\n",
      "Epoch 41/100\n",
      "2550/2550 [==============================] - 1s 503us/step - loss: 0.2006 - accuracy: 0.9522 - val_loss: 0.1976 - val_accuracy: 0.9706\n",
      "Epoch 42/100\n",
      "2550/2550 [==============================] - 1s 502us/step - loss: 0.2012 - accuracy: 0.9573 - val_loss: 0.2373 - val_accuracy: 0.9118\n",
      "Epoch 43/100\n",
      "2550/2550 [==============================] - 1s 515us/step - loss: 0.1920 - accuracy: 0.9592 - val_loss: 0.1804 - val_accuracy: 0.9706\n",
      "Epoch 44/100\n",
      "2550/2550 [==============================] - 1s 495us/step - loss: 0.1916 - accuracy: 0.9553 - val_loss: 0.1925 - val_accuracy: 0.9588\n",
      "Epoch 45/100\n",
      "2550/2550 [==============================] - 1s 507us/step - loss: 0.1965 - accuracy: 0.9498 - val_loss: 0.1878 - val_accuracy: 0.9765\n",
      "Epoch 46/100\n",
      "2550/2550 [==============================] - 1s 343us/step - loss: 0.1811 - accuracy: 0.9620 - val_loss: 0.1784 - val_accuracy: 0.9588\n",
      "Epoch 47/100\n",
      "2550/2550 [==============================] - 1s 488us/step - loss: 0.1746 - accuracy: 0.9584 - val_loss: 0.1798 - val_accuracy: 0.9588\n",
      "Epoch 48/100\n",
      "2550/2550 [==============================] - 2s 624us/step - loss: 0.1900 - accuracy: 0.9471 - val_loss: 0.1863 - val_accuracy: 0.9441\n",
      "Epoch 49/100\n",
      "2550/2550 [==============================] - 1s 388us/step - loss: 0.1788 - accuracy: 0.9580 - val_loss: 0.1821 - val_accuracy: 0.9588\n",
      "Epoch 50/100\n",
      "2550/2550 [==============================] - 1s 317us/step - loss: 0.1773 - accuracy: 0.9549 - val_loss: 0.1724 - val_accuracy: 0.9588\n",
      "Epoch 51/100\n",
      "2550/2550 [==============================] - 1s 380us/step - loss: 0.1609 - accuracy: 0.9655 - val_loss: 0.1774 - val_accuracy: 0.9412\n",
      "Epoch 52/100\n",
      "2550/2550 [==============================] - 1s 464us/step - loss: 0.1705 - accuracy: 0.9576 - val_loss: 0.2376 - val_accuracy: 0.9294\n",
      "Epoch 53/100\n",
      "2550/2550 [==============================] - 2s 609us/step - loss: 0.2181 - accuracy: 0.9267 - val_loss: 0.2047 - val_accuracy: 0.9529\n",
      "Epoch 54/100\n",
      "2550/2550 [==============================] - 1s 376us/step - loss: 0.1979 - accuracy: 0.9388 - val_loss: 0.1881 - val_accuracy: 0.9324\n",
      "Epoch 55/100\n",
      "2550/2550 [==============================] - 1s 538us/step - loss: 0.1768 - accuracy: 0.9522 - val_loss: 0.1769 - val_accuracy: 0.9441\n",
      "Epoch 56/100\n"
     ]
    },
    {
     "name": "stdout",
     "output_type": "stream",
     "text": [
      "2550/2550 [==============================] - 1s 331us/step - loss: 0.1626 - accuracy: 0.9569 - val_loss: 0.1554 - val_accuracy: 0.9735\n",
      "Epoch 57/100\n",
      "2550/2550 [==============================] - 1s 496us/step - loss: 0.1567 - accuracy: 0.9580 - val_loss: 0.1590 - val_accuracy: 0.9676\n",
      "Epoch 58/100\n",
      "2550/2550 [==============================] - 1s 323us/step - loss: 0.1610 - accuracy: 0.9588 - val_loss: 0.1499 - val_accuracy: 0.9765\n",
      "Epoch 59/100\n",
      "2550/2550 [==============================] - 1s 451us/step - loss: 0.1616 - accuracy: 0.9518 - val_loss: 0.1602 - val_accuracy: 0.9588\n",
      "Epoch 60/100\n",
      "2550/2550 [==============================] - 1s 393us/step - loss: 0.1489 - accuracy: 0.9627 - val_loss: 0.1414 - val_accuracy: 0.9706\n",
      "Epoch 61/100\n",
      "2550/2550 [==============================] - 1s 495us/step - loss: 0.1453 - accuracy: 0.9635 - val_loss: 0.1560 - val_accuracy: 0.9588\n",
      "Epoch 62/100\n",
      "2550/2550 [==============================] - 1s 385us/step - loss: 0.1422 - accuracy: 0.9635 - val_loss: 0.1583 - val_accuracy: 0.9529\n",
      "Epoch 63/100\n",
      "2550/2550 [==============================] - 1s 287us/step - loss: 0.1376 - accuracy: 0.9655 - val_loss: 0.1477 - val_accuracy: 0.9529\n",
      "Epoch 64/100\n",
      "2550/2550 [==============================] - 1s 389us/step - loss: 0.1369 - accuracy: 0.9694 - val_loss: 0.1439 - val_accuracy: 0.9706\n",
      "Epoch 65/100\n",
      "2550/2550 [==============================] - 1s 509us/step - loss: 0.1309 - accuracy: 0.9702 - val_loss: 0.1430 - val_accuracy: 0.9647\n",
      "Epoch 66/100\n",
      "2550/2550 [==============================] - 1s 477us/step - loss: 0.1308 - accuracy: 0.9690 - val_loss: 0.1242 - val_accuracy: 0.9735\n",
      "Epoch 67/100\n",
      "2550/2550 [==============================] - 1s 302us/step - loss: 0.1332 - accuracy: 0.9678 - val_loss: 0.1350 - val_accuracy: 0.9735\n",
      "Epoch 68/100\n",
      "2550/2550 [==============================] - 1s 290us/step - loss: 0.1236 - accuracy: 0.9694 - val_loss: 0.1261 - val_accuracy: 0.9706\n",
      "Epoch 69/100\n",
      "2550/2550 [==============================] - 1s 338us/step - loss: 0.1175 - accuracy: 0.9718 - val_loss: 0.1382 - val_accuracy: 0.9559\n",
      "Epoch 70/100\n",
      "2550/2550 [==============================] - 1s 477us/step - loss: 0.1153 - accuracy: 0.9788 - val_loss: 0.1187 - val_accuracy: 0.9706\n",
      "Epoch 71/100\n",
      "2550/2550 [==============================] - 1s 563us/step - loss: 0.1094 - accuracy: 0.9757 - val_loss: 0.1357 - val_accuracy: 0.9588\n",
      "Epoch 72/100\n",
      "2550/2550 [==============================] - 1s 332us/step - loss: 0.1173 - accuracy: 0.9741 - val_loss: 0.1276 - val_accuracy: 0.9618\n",
      "Epoch 73/100\n",
      "2550/2550 [==============================] - 1s 376us/step - loss: 0.1197 - accuracy: 0.9714 - val_loss: 0.1323 - val_accuracy: 0.9647\n",
      "Epoch 74/100\n",
      "2550/2550 [==============================] - 1s 213us/step - loss: 0.1266 - accuracy: 0.9663 - val_loss: 0.1331 - val_accuracy: 0.9471\n",
      "Epoch 75/100\n",
      "2550/2550 [==============================] - 1s 407us/step - loss: 0.1312 - accuracy: 0.9612 - val_loss: 0.1380 - val_accuracy: 0.9559\n",
      "Epoch 76/100\n",
      "2550/2550 [==============================] - 1s 496us/step - loss: 0.1293 - accuracy: 0.9651 - val_loss: 0.1411 - val_accuracy: 0.9559\n",
      "Epoch 77/100\n",
      "2550/2550 [==============================] - 1s 377us/step - loss: 0.1300 - accuracy: 0.9663 - val_loss: 0.1229 - val_accuracy: 0.9824\n",
      "Epoch 78/100\n",
      "2550/2550 [==============================] - 1s 299us/step - loss: 0.1119 - accuracy: 0.9714 - val_loss: 0.1189 - val_accuracy: 0.9706\n",
      "Epoch 79/100\n",
      "2550/2550 [==============================] - 1s 433us/step - loss: 0.1202 - accuracy: 0.9659 - val_loss: 0.1272 - val_accuracy: 0.9676\n",
      "Epoch 80/100\n",
      "2550/2550 [==============================] - 1s 368us/step - loss: 0.1168 - accuracy: 0.9694 - val_loss: 0.1251 - val_accuracy: 0.9647\n",
      "Epoch 81/100\n",
      "2550/2550 [==============================] - 1s 247us/step - loss: 0.1013 - accuracy: 0.9776 - val_loss: 0.1412 - val_accuracy: 0.9529\n",
      "Epoch 82/100\n",
      "2550/2550 [==============================] - 1s 351us/step - loss: 0.1167 - accuracy: 0.9725 - val_loss: 0.1653 - val_accuracy: 0.9324\n",
      "Epoch 83/100\n",
      "2550/2550 [==============================] - 1s 392us/step - loss: 0.1659 - accuracy: 0.9447 - val_loss: 0.1562 - val_accuracy: 0.9471\n",
      "Epoch 84/100\n",
      "2550/2550 [==============================] - 1s 402us/step - loss: 0.1435 - accuracy: 0.9514 - val_loss: 0.1600 - val_accuracy: 0.9353\n",
      "Epoch 85/100\n",
      "2550/2550 [==============================] - 1s 344us/step - loss: 0.1197 - accuracy: 0.9678 - val_loss: 0.1376 - val_accuracy: 0.9735\n",
      "Epoch 86/100\n",
      "2550/2550 [==============================] - 1s 375us/step - loss: 0.1251 - accuracy: 0.9659 - val_loss: 0.1362 - val_accuracy: 0.9500\n",
      "Epoch 87/100\n",
      "2550/2550 [==============================] - 1s 328us/step - loss: 0.1485 - accuracy: 0.9522 - val_loss: 0.1930 - val_accuracy: 0.9118\n",
      "Epoch 88/100\n",
      "2550/2550 [==============================] - 1s 302us/step - loss: 0.1614 - accuracy: 0.9447 - val_loss: 0.1430 - val_accuracy: 0.9412\n",
      "Epoch 89/100\n",
      "2550/2550 [==============================] - 1s 396us/step - loss: 0.1278 - accuracy: 0.9627 - val_loss: 0.1080 - val_accuracy: 0.9647\n",
      "Epoch 90/100\n",
      "2550/2550 [==============================] - 1s 436us/step - loss: 0.1045 - accuracy: 0.9706 - val_loss: 0.1112 - val_accuracy: 0.9735\n",
      "Epoch 91/100\n",
      "2550/2550 [==============================] - 1s 519us/step - loss: 0.1012 - accuracy: 0.9757 - val_loss: 0.1070 - val_accuracy: 0.9735\n",
      "Epoch 92/100\n",
      "2550/2550 [==============================] - 1s 486us/step - loss: 0.0991 - accuracy: 0.9741 - val_loss: 0.1129 - val_accuracy: 0.9735\n",
      "Epoch 93/100\n",
      "2550/2550 [==============================] - 1s 321us/step - loss: 0.0923 - accuracy: 0.9776 - val_loss: 0.1174 - val_accuracy: 0.9647\n",
      "Epoch 94/100\n",
      "2550/2550 [==============================] - 1s 392us/step - loss: 0.0911 - accuracy: 0.9769 - val_loss: 0.1074 - val_accuracy: 0.9676\n",
      "Epoch 95/100\n",
      "2550/2550 [==============================] - 1s 414us/step - loss: 0.0928 - accuracy: 0.9776 - val_loss: 0.0971 - val_accuracy: 0.9824\n",
      "Epoch 96/100\n",
      "2550/2550 [==============================] - 1s 306us/step - loss: 0.0834 - accuracy: 0.9816 - val_loss: 0.1132 - val_accuracy: 0.9647\n",
      "Epoch 97/100\n",
      "2550/2550 [==============================] - 1s 389us/step - loss: 0.0876 - accuracy: 0.9804 - val_loss: 0.0972 - val_accuracy: 0.9735\n",
      "Epoch 98/100\n",
      "2550/2550 [==============================] - 1s 435us/step - loss: 0.0943 - accuracy: 0.9757 - val_loss: 0.1308 - val_accuracy: 0.9588\n",
      "Epoch 99/100\n",
      "2550/2550 [==============================] - 1s 284us/step - loss: 0.1230 - accuracy: 0.9533 - val_loss: 0.1015 - val_accuracy: 0.9735\n",
      "Epoch 100/100\n",
      "2550/2550 [==============================] - 1s 410us/step - loss: 0.1114 - accuracy: 0.9671 - val_loss: 0.1223 - val_accuracy: 0.9647\n"
     ]
    }
   ],
   "source": [
    "EPOCHS = 100\n",
    "\n",
    "H = classifier.fit(x_train, labels_train,\n",
    "                  epochs = EPOCHS,\n",
    "                  batch_size = 128,\n",
    "                  shuffle=True,\n",
    "                  validation_data=(x_val,labels_val))"
   ]
  },
  {
   "cell_type": "markdown",
   "metadata": {},
   "source": [
    "# Evaluate the network - Display netowrk stats and save plots"
   ]
  },
  {
   "cell_type": "code",
   "execution_count": 60,
   "metadata": {},
   "outputs": [
    {
     "data": {
      "image/png": "[encoded data removed]",
      "text/plain": [
       "<Figure size 432x288 with 1 Axes>"
      ]
     },
     "metadata": {},
     "output_type": "display_data"
    }
   ],
   "source": [
    "# plot the training loss and accuracy for each epoch\n",
    "N = np.arange(0,EPOCHS)\n",
    "plt.figure()\n",
    "plt.style.use(\"ggplot\")\n",
    "plt.plot(N, H.history[\"loss\"], label=\"train_loss\")\n",
    "plt.plot(N, H.history[\"val_loss\"], label=\"val_loss\")\n",
    "plt.plot(N, H.history[\"accuracy\"], label=\"train_accuracy\")\n",
    "plt.plot(N, H.history[\"val_accuracy\"], label=\"val_accuracy\")\n",
    "plt.title(\"Training Loss / Accuracy\")\n",
    "plt.xlabel(\"Epoch #\")\n",
    "plt.ylabel(\"Loss/Accuracy\")\n",
    "plt.legend()\n",
    "plt.savefig(\"training_perf_100_arch_01_fix_esc_encoder.png\")\n",
    "plt.show()"
   ]
  },
  {
   "cell_type": "markdown",
   "metadata": {},
   "source": [
    "# OR load trained CNN"
   ]
  },
  {
   "cell_type": "code",
   "execution_count": null,
   "metadata": {},
   "outputs": [],
   "source": []
  },
  {
   "cell_type": "markdown",
   "metadata": {},
   "source": [
    "# Save the weights"
   ]
  },
  {
   "cell_type": "code",
   "execution_count": 59,
   "metadata": {},
   "outputs": [],
   "source": [
    "classifier.save(\"keras_arch_01_with_encoder_esc_fix.model\")"
   ]
  },
  {
   "cell_type": "markdown",
   "metadata": {},
   "source": [
    "# Make prediction"
   ]
  },
  {
   "cell_type": "code",
   "execution_count": 64,
   "metadata": {},
   "outputs": [
    {
     "name": "stdout",
     "output_type": "stream",
     "text": [
      "(510, 17) (510, 17)\n"
     ]
    }
   ],
   "source": [
    "pred = classifier.predict(x_test)\n",
    "print(pred.shape,labels_test.shape)\n",
    "l = len(pred)"
   ]
  },
  {
   "cell_type": "code",
   "execution_count": 66,
   "metadata": {},
   "outputs": [],
   "source": [
    "right,wrong = 0,0\n",
    "for i in range(len(pred)):\n",
    "    if pred[i].all()==labels_test[i].all(): right+=1\n",
    "    else: wrong+=1\n",
    "count = right+wrong"
   ]
  },
  {
   "cell_type": "code",
   "execution_count": 71,
   "metadata": {},
   "outputs": [
    {
     "name": "stdout",
     "output_type": "stream",
     "text": [
      "right, wrong :  510 0\n",
      "percentage correct =  100.0 %\n"
     ]
    }
   ],
   "source": [
    "print(\"right, wrong : \",right,wrong)\n",
    "print(\"percentage correct = \",100.0*float(right)/count,\"%\")"
   ]
  },
  {
   "cell_type": "code",
   "execution_count": null,
   "metadata": {},
   "outputs": [],
   "source": []
  },
  {
   "cell_type": "code",
   "execution_count": null,
   "metadata": {},
   "outputs": [],
   "source": []
  }
 ],
 "metadata": {
  "kernelspec": {
   "display_name": "Python 3",
   "language": "python",
   "name": "python3"
  },
  "language_info": {
   "codemirror_mode": {
    "name": "ipython",
    "version": 3
   },
   "file_extension": ".py",
   "mimetype": "text/x-python",
   "name": "python",
   "nbconvert_exporter": "python",
   "pygments_lexer": "ipython3",
   "version": "3.7.3"
  }
 },
 "nbformat": 4,
 "nbformat_minor": 2
}
