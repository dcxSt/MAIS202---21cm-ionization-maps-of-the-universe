{
 "cells": [
  {
   "cell_type": "markdown",
   "metadata": {},
   "source": [
    "# Preprocessing"
   ]
  },
  {
   "cell_type": "code",
   "execution_count": 7,
   "metadata": {},
   "outputs": [],
   "source": [
    "import numpy as np\n",
    "import random\n",
    "import os"
   ]
  },
  {
   "cell_type": "markdown",
   "metadata": {},
   "source": [
    "# Load redshift data labels"
   ]
  },
  {
   "cell_type": "code",
   "execution_count": 8,
   "metadata": {},
   "outputs": [
    {
     "data": {
      "text/plain": [
       "['CNN4_classify_esc_frac_direct_cnn.ipynb',\n",
       " 'preprocessing.ipynb',\n",
       " 'CNN4_classify_esc_frac_with_autoencoder.ipynb',\n",
       " 'CNN5_classify_redshift_direct_cnn.ipynb',\n",
       " 'big_mix_labels_6528.npy',\n",
       " '.ipynb_checkpoints',\n",
       " 'big_mix_data_6528.npy',\n",
       " 'CNN3_classify_redshift_with_autoencoder.ipynb']"
      ]
     },
     "execution_count": 8,
     "metadata": {},
     "output_type": "execute_result"
    }
   ],
   "source": [
    "os.listdir()"
   ]
  },
  {
   "cell_type": "code",
   "execution_count": 9,
   "metadata": {},
   "outputs": [
    {
     "name": "stdout",
     "output_type": "stream",
     "text": [
      "(6528, 200, 200)\n",
      "(6528, 2)\n"
     ]
    }
   ],
   "source": [
    "labels_all = np.load(\"big_mix_labels_6528.npy\")\n",
    "images = np.load(\"big_mix_data_6528.npy\")\n",
    "\n",
    "print(images.shape)\n",
    "print(labels_all.shape)\n",
    "\n",
    "images = list(images)\n",
    "labels_all = list(labels_all)"
   ]
  },
  {
   "cell_type": "markdown",
   "metadata": {},
   "source": [
    "# Shuffle"
   ]
  },
  {
   "cell_type": "code",
   "execution_count": 10,
   "metadata": {},
   "outputs": [
    {
     "name": "stdout",
     "output_type": "stream",
     "text": [
      "(6528, 200, 200)\n"
     ]
    }
   ],
   "source": [
    "shuffled_images = []\n",
    "shuffled_labels_all = []\n",
    "while images:\n",
    "    i = random.randrange(len(images))\n",
    "    shuffled_images.append(images[i])\n",
    "    del images[i]\n",
    "    shuffled_labels_all.append(labels_all[i])\n",
    "    del labels_all[i]\n",
    "    \n",
    "images = np.array(shuffled_images[:])\n",
    "labels_all = np.array(shuffled_labels_all[:])\n",
    "print(images.shape)"
   ]
  },
  {
   "cell_type": "markdown",
   "metadata": {},
   "source": [
    "## make the labels machine readable"
   ]
  },
  {
   "cell_type": "code",
   "execution_count": 11,
   "metadata": {},
   "outputs": [
    {
     "name": "stdout",
     "output_type": "stream",
     "text": [
      "max :  0.9526767\n",
      "min :  0.0\n"
     ]
    },
    {
     "data": {
      "text/plain": [
       "(6528, 200, 200)"
      ]
     },
     "execution_count": 11,
     "metadata": {},
     "output_type": "execute_result"
    }
   ],
   "source": [
    "# normalizes images\n",
    "images_n = images / 70.0 # n for normalized\n",
    "print(\"max : \", np.max(images_n))\n",
    "print(\"min : \", np.min(images_n))\n",
    "images.shape"
   ]
  },
  {
   "cell_type": "code",
   "execution_count": 13,
   "metadata": {},
   "outputs": [
    {
     "name": "stdout",
     "output_type": "stream",
     "text": [
      "this is the shape (6528, 200, 200, 1)\n"
     ]
    }
   ],
   "source": [
    "# reshape images \n",
    "im_reshape = np.array(images_n[:])\n",
    "im_reshape = np.expand_dims(im_reshape, axis=3)\n",
    "im_reshape = np.array(im_reshape)\n",
    "print(\"this is the shape\", im_reshape.shape)"
   ]
  },
  {
   "cell_type": "code",
   "execution_count": 17,
   "metadata": {},
   "outputs": [
    {
     "name": "stdout",
     "output_type": "stream",
     "text": [
      "[0.108 6.   ]\n",
      "[0.092 6.5  ]\n",
      "[0.08 5.  ]\n",
      "[ 0.094 12.5  ]\n",
      "[0.092 5.5  ]\n",
      "[ 0.108 10.   ]\n",
      "[0.08 5.5 ]\n",
      "[ 0.106 10.5  ]\n",
      "[0.08 7.  ]\n",
      "[ 0.094 13.   ]\n",
      "[0.108 7.   ]\n",
      "[0.094 9.5  ]\n",
      "[0.102 9.   ]\n",
      "[ 0.106 12.5  ]\n",
      "[0.106 8.   ]\n"
     ]
    }
   ],
   "source": [
    "for i in range(15): print(labels_all[i])\n",
    "labels_all_esc = np.array([i[0] for i in labels_all])\n",
    "labels_all_redshift = np.array([i[1] for i in labels_all])"
   ]
  },
  {
   "cell_type": "markdown",
   "metadata": {},
   "source": [
    "#### Escape frac labels"
   ]
  },
  {
   "cell_type": "code",
   "execution_count": 18,
   "metadata": {},
   "outputs": [
    {
     "name": "stdout",
     "output_type": "stream",
     "text": [
      "[0.07, 0.08, 0.092, 0.094, 0.096, 0.098, 0.102, 0.104, 0.106, 0.108, 0.12, 0.13] \n",
      "There are 12 labels. So the want 12 classes\n"
     ]
    }
   ],
   "source": [
    "# display the esc frac labels\n",
    "l = []\n",
    "for i in labels_all_esc:\n",
    "    if i not in l: l.append(i)\n",
    "l.sort()\n",
    "print(l, \"\\nThere are\", len(l), \"labels. So we want\",\n",
    "     len(l), \"classes\")"
   ]
  },
  {
   "cell_type": "code",
   "execution_count": 19,
   "metadata": {},
   "outputs": [
    {
     "name": "stdout",
     "output_type": "stream",
     "text": [
      "labels_esc shape = (6528, 12) \n",
      "\n",
      "First 3 entries:\n",
      "[[0. 0. 0. 0. 0. 0. 0. 0. 0. 1. 0. 0.]\n",
      " [0. 0. 1. 0. 0. 0. 0. 0. 0. 0. 0. 0.]\n",
      " [0. 1. 0. 0. 0. 0. 0. 0. 0. 0. 0. 0.]]\n"
     ]
    }
   ],
   "source": [
    "# define the train labels for the escape frac in 12 classes\n",
    "labels_esc = []\n",
    "for i in labels_all_esc:\n",
    "    arr = np.zeros(len(l))\n",
    "    index = l.index(i)\n",
    "    arr[index] = 1\n",
    "    labels_esc.append(arr[:])\n",
    "    \n",
    "labels_esc = np.array(labels_esc)\n",
    "print(\"labels_esc shape =\", labels_esc.shape,\n",
    "     \"\\n\\nFirst 3 entries:\")\n",
    "print(labels_esc[:3])"
   ]
  },
  {
   "cell_type": "markdown",
   "metadata": {},
   "source": [
    "#### redshift labels"
   ]
  },
  {
   "cell_type": "code",
   "execution_count": 20,
   "metadata": {},
   "outputs": [
    {
     "name": "stdout",
     "output_type": "stream",
     "text": [
      "[5.0, 5.5, 6.0, 6.5, 7.0, 7.5, 8.0, 8.5, 9.0, 9.5, 10.0, 10.5, 11.0, 11.5, 12.0, 12.5, 13.0] \n",
      "There are 17 labels. So we want 17 classes\n"
     ]
    }
   ],
   "source": [
    "# display the esc frac labels\n",
    "l = []\n",
    "for i in labels_all_redshift:\n",
    "    if i not in l: l.append(i)\n",
    "l.sort()\n",
    "print(l, \"\\nThere are\", len(l), \"labels. So we want\",\n",
    "     len(l), \"classes\")"
   ]
  },
  {
   "cell_type": "code",
   "execution_count": 28,
   "metadata": {},
   "outputs": [
    {
     "name": "stdout",
     "output_type": "stream",
     "text": [
      "labels_red shape = (6528, 17) \n",
      "\n",
      "First 3 entries:\n",
      "[[0. 0. 1. 0. 0. 0. 0. 0. 0. 0. 0. 0. 0. 0. 0. 0. 0.]\n",
      " [0. 0. 0. 1. 0. 0. 0. 0. 0. 0. 0. 0. 0. 0. 0. 0. 0.]\n",
      " [1. 0. 0. 0. 0. 0. 0. 0. 0. 0. 0. 0. 0. 0. 0. 0. 0.]]\n",
      "True\n"
     ]
    }
   ],
   "source": [
    "# define the train labels for the redshift 17 classes\n",
    "labels_red = []\n",
    "for i in labels_all_redshift:\n",
    "    arr = np.zeros(len(l))\n",
    "    index= l.index(i)\n",
    "    arr[index] = 1\n",
    "    labels_red.append(arr[:])\n",
    "    \n",
    "labels_red = np.array(labels_red)\n",
    "print(\"labels_red shape =\", labels_red.shape,\n",
    "      \"\\n\\nFirst 3 entries:\")\n",
    "print(labels_red[:3])\n",
    "print(len(labels_red) == len(labels_esc))"
   ]
  },
  {
   "cell_type": "markdown",
   "metadata": {},
   "source": [
    "### recombine the labels into one array"
   ]
  },
  {
   "cell_type": "code",
   "execution_count": 29,
   "metadata": {},
   "outputs": [],
   "source": [
    "l1 = len(labels_red)\n",
    "labels = np.array([[labels_esc[i],labels_red[i]] for i in range(l1)])"
   ]
  },
  {
   "cell_type": "markdown",
   "metadata": {},
   "source": [
    "## Normalise"
   ]
  },
  {
   "cell_type": "code",
   "execution_count": 30,
   "metadata": {},
   "outputs": [
    {
     "name": "stdout",
     "output_type": "stream",
     "text": [
      "max : 0.9526767\n",
      "min : 0.0\n"
     ]
    }
   ],
   "source": [
    "# normalise images\n",
    "images_n = images / 70.0 \n",
    "print(\"max :\", np.max(images_n))\n",
    "print(\"min :\", np.min(images_n))"
   ]
  },
  {
   "cell_type": "markdown",
   "metadata": {},
   "source": [
    "## augmentation of dimension"
   ]
  },
  {
   "cell_type": "code",
   "execution_count": 31,
   "metadata": {},
   "outputs": [
    {
     "name": "stdout",
     "output_type": "stream",
     "text": [
      "this is the shape (6528, 200, 200, 1)\n"
     ]
    }
   ],
   "source": [
    "im_reshape = np.array(images_n[:])\n",
    "im_reshape = np.expand_dims(im_reshape, axis=3)\n",
    "im_reshape = np.array(im_reshape)\n",
    "print(\"this is the shape\", im_reshape.shape)"
   ]
  },
  {
   "cell_type": "markdown",
   "metadata": {},
   "source": [
    "## train test split"
   ]
  },
  {
   "cell_type": "code",
   "execution_count": 32,
   "metadata": {},
   "outputs": [],
   "source": [
    "ratios = [0.75,0.85]\n",
    "cut1,cut2 = int(len(im_reshape)*ratios[0]),int(len(im_reshape)*ratios[1])\n",
    "images_train = im_reshape[:cut1]\n",
    "images_val = im_reshape[cut1:cut2]\n",
    "images_test = im_reshape[cut2:]\n",
    "\n",
    "labels_train = labels[:cut1]\n",
    "labels_val = labels[cut1:cut2]\n",
    "labels_test = labels[cut2:]"
   ]
  },
  {
   "cell_type": "markdown",
   "metadata": {},
   "source": [
    "## Save them"
   ]
  },
  {
   "cell_type": "code",
   "execution_count": 34,
   "metadata": {},
   "outputs": [],
   "source": [
    "np.save(\"data_train.npy\", images_train)\n",
    "np.save(\"data_val.npy\", images_val)\n",
    "np.save(\"data_test.npy\", images_test)\n",
    "np.save(\"labels_train.npy\", labels_train)\n",
    "np.save(\"labels_val.npy\", labels_val)\n",
    "np.save(\"labels_test.npy\", labels_test)"
   ]
  },
  {
   "cell_type": "code",
   "execution_count": null,
   "metadata": {},
   "outputs": [],
   "source": []
  }
 ],
 "metadata": {
  "kernelspec": {
   "display_name": "Python 3",
   "language": "python",
   "name": "python3"
  },
  "language_info": {
   "codemirror_mode": {
    "name": "ipython",
    "version": 3
   },
   "file_extension": ".py",
   "mimetype": "text/x-python",
   "name": "python",
   "nbconvert_exporter": "python",
   "pygments_lexer": "ipython3",
   "version": "3.7.3"
  }
 },
 "nbformat": 4,
 "nbformat_minor": 2
}
