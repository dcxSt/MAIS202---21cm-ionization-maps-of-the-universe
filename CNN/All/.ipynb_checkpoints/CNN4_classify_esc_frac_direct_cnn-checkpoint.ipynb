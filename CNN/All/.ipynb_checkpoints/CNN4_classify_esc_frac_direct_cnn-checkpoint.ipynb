{
 "cells": [
  {
   "cell_type": "markdown",
   "metadata": {},
   "source": [
    "# Import statements"
   ]
  },
  {
   "cell_type": "code",
   "execution_count": 2,
   "metadata": {},
   "outputs": [
    {
     "name": "stdout",
     "output_type": "stream",
     "text": [
      "keras is using tensorflow as the backend\n"
     ]
    }
   ],
   "source": [
    "import numpy as np\n",
    "import matplotlib.pyplot as plt\n",
    "import matplotlib as mpl\n",
    "import sklearn\n",
    "import random\n",
    "import os,sys\n",
    "\n",
    "# import keras\n",
    "import keras\n",
    "from keras import backend as K\n",
    "backend_keras = keras.backend.backend()\n",
    "print(\"keras is using\", backend_keras, \"as the backend\")\n",
    "from keras.layers import Input, Dense, Conv2D, MaxPooling2D, UpSampling2D\n",
    "from keras.models import Model, Sequential\n",
    "from keras.models import load_model\n",
    "\n",
    "from keras.optimizers import SGD, Nadam, Adamax, Adam, Adadelta, Adagrad, RMSprop\n"
   ]
  },
  {
   "cell_type": "markdown",
   "metadata": {},
   "source": [
    "# Load redshift data and labels\n",
    "These are the ones which have been created with the keras notebook"
   ]
  },
  {
   "cell_type": "code",
   "execution_count": 4,
   "metadata": {},
   "outputs": [
    {
     "name": "stdout",
     "output_type": "stream",
     "text": [
      ".ipynb_checkpoints\n",
      "CNN3_classify_redshift_with_autoencoder.ipynb\n",
      "CNN4_classify_esc_frac_direct_cnn.ipynb\n",
      "CNN5_classify_esc_frac_with_autoencoder.ipynb\n",
      "CNN6_classify_redshift_direct_cnn.ipynb\n",
      "big_mix_data_6528.npy\n",
      "big_mix_labels_6528.npy\n",
      "data_test.npy\n",
      "data_train.npy\n",
      "data_val.npy\n",
      "figures\n",
      "keras_arch_05.0_with_encoder_esc_predict.model\n",
      "keras_arch_05.1_with_encoder_esc_predict.model\n",
      "keras_arch_05.2_with_encoder_esc_predict.model\n",
      "keras_arch_05.3_with_encoder_esc_predict.model\n",
      "keras_arch_05.4.5_with_encoder_esc_predict.model\n",
      "keras_arch_05.4.75_with_encoder_esc_predict.model\n",
      "keras_arch_05.4_with_encoder_esc_predict.model\n",
      "labels_test.npy\n",
      "labels_train.npy\n",
      "labels_val.npy\n",
      "preprocessing.ipynb\n",
      "trained models\n",
      "training_perf_250_arch_03.0_pred_redshift_with_encoder.png\n"
     ]
    }
   ],
   "source": [
    "f = os.listdir()\n",
    "f.sort()\n",
    "for i in f: print(i)"
   ]
  },
  {
   "cell_type": "code",
   "execution_count": 5,
   "metadata": {},
   "outputs": [
    {
     "name": "stdout",
     "output_type": "stream",
     "text": [
      "shapes : (4896, 200, 200, 1) (652, 200, 200, 1) (980, 200, 200, 1)\n",
      "more shape : (4896, 12) (652, 12) (980, 12)\n"
     ]
    }
   ],
   "source": [
    "# load data\n",
    "x_train_raw = np.load(\"data_train.npy\",allow_pickle=True)\n",
    "x_val_raw = np.load(\"data_val.npy\")\n",
    "x_test_raw = np.load(\"data_test.npy\")\n",
    "\n",
    "# load labels\n",
    "labels_train = np.load(\"labels_train.npy\",allow_pickle=True)\n",
    "labels_val = np.load(\"labels_val.npy\",allow_pickle=True)\n",
    "labels_test = np.load(\"labels_test.npy\",allow_pickle=True)\n",
    "\n",
    "# we only care about the redshift labels here\n",
    "lab_esc_train = np.array([i[0] for i in labels_train])\n",
    "lab_esc_val = np.array([i[0] for i in labels_val])\n",
    "lab_esc_test = np.array([i[0] for i in labels_test])\n",
    "\n",
    "print(\"shapes :\", x_train_raw.shape, x_val_raw.shape, x_test_raw.shape)\n",
    "print(\"more shape :\", lab_esc_train.shape, lab_esc_val.shape, lab_esc_test.shape)"
   ]
  },
  {
   "cell_type": "markdown",
   "metadata": {},
   "source": [
    "# Define the CNN architecture"
   ]
  },
  {
   "cell_type": "code",
   "execution_count": 6,
   "metadata": {},
   "outputs": [],
   "source": [
    "os.listdir(\"../../Auto-Encoder Training/\")\n",
    "autoencoder = load_model(\"../../Auto-Encoder Training/autoencoder_adam_95.model\")"
   ]
  },
  {
   "cell_type": "code",
   "execution_count": null,
   "metadata": {},
   "outputs": [],
   "source": []
  },
  {
   "cell_type": "code",
   "execution_count": null,
   "metadata": {},
   "outputs": [],
   "source": []
  },
  {
   "cell_type": "code",
   "execution_count": null,
   "metadata": {},
   "outputs": [],
   "source": []
  },
  {
   "cell_type": "markdown",
   "metadata": {},
   "source": [
    "# Train the network"
   ]
  },
  {
   "cell_type": "code",
   "execution_count": null,
   "metadata": {},
   "outputs": [],
   "source": []
  },
  {
   "cell_type": "markdown",
   "metadata": {},
   "source": [
    "# Display netowrk stats and save plots"
   ]
  },
  {
   "cell_type": "code",
   "execution_count": null,
   "metadata": {},
   "outputs": [],
   "source": []
  },
  {
   "cell_type": "markdown",
   "metadata": {},
   "source": [
    "# OR load trained CNN"
   ]
  },
  {
   "cell_type": "code",
   "execution_count": null,
   "metadata": {},
   "outputs": [],
   "source": []
  },
  {
   "cell_type": "markdown",
   "metadata": {},
   "source": [
    "# Make prediction"
   ]
  },
  {
   "cell_type": "code",
   "execution_count": null,
   "metadata": {},
   "outputs": [],
   "source": []
  },
  {
   "cell_type": "code",
   "execution_count": null,
   "metadata": {},
   "outputs": [],
   "source": []
  },
  {
   "cell_type": "code",
   "execution_count": null,
   "metadata": {},
   "outputs": [],
   "source": []
  },
  {
   "cell_type": "code",
   "execution_count": null,
   "metadata": {},
   "outputs": [],
   "source": []
  },
  {
   "cell_type": "code",
   "execution_count": null,
   "metadata": {},
   "outputs": [],
   "source": []
  }
 ],
 "metadata": {
  "kernelspec": {
   "display_name": "Python 3",
   "language": "python",
   "name": "python3"
  },
  "language_info": {
   "codemirror_mode": {
    "name": "ipython",
    "version": 3
   },
   "file_extension": ".py",
   "mimetype": "text/x-python",
   "name": "python",
   "nbconvert_exporter": "python",
   "pygments_lexer": "ipython3",
   "version": "3.7.3"
  }
 },
 "nbformat": 4,
 "nbformat_minor": 2
}
