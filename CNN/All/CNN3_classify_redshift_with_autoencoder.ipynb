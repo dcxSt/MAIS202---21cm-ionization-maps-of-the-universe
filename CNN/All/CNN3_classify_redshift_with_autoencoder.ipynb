{
 "cells": [
  {
   "cell_type": "markdown",
   "metadata": {},
   "source": [
    "# Import statements"
   ]
  },
  {
   "cell_type": "code",
   "execution_count": 6,
   "metadata": {},
   "outputs": [
    {
     "name": "stdout",
     "output_type": "stream",
     "text": [
      "keras is using tensorflow as the backend\n"
     ]
    }
   ],
   "source": [
    "import numpy as np\n",
    "import matplotlib.pyplot as plt\n",
    "import matplotlib as mpl\n",
    "import sklearn\n",
    "import random\n",
    "import os, sys\n",
    "\n",
    "# import keras\n",
    "import keras\n",
    "from keras import backend as K\n",
    "backend_keras = keras.backend.backend()\n",
    "print(\"keras is using\", backend_keras, \"as the backend\")\n",
    "from keras.layers import Input, Dense, Flatten, Conv2D, MaxPooling2D, UpSampling2D\n",
    "from keras.models import Model, load_model, Sequential\n",
    "\n",
    "# optimizers \n",
    "from keras.optimizers import SGD, Nadam, Adamax, Adam, Adadelta, Adagrad, RMSprop\n"
   ]
  },
  {
   "cell_type": "markdown",
   "metadata": {},
   "source": [
    "# Load redshift data and labels\n",
    "These are the ones which have been created with the keras notebook"
   ]
  },
  {
   "cell_type": "code",
   "execution_count": 13,
   "metadata": {
    "scrolled": true
   },
   "outputs": [
    {
     "name": "stdout",
     "output_type": "stream",
     "text": [
      ".ipynb_checkpoints\n",
      "CNN3_classify_redshift_with_autoencoder.ipynb\n",
      "CNN4_classify_esc_frac_direct_cnn.ipynb\n",
      "CNN4_classify_esc_frac_with_autoencoder.ipynb\n",
      "CNN5_classify_redshift_direct_cnn.ipynb\n",
      "big_mix_data_6528.npy\n",
      "big_mix_labels_6528.npy\n",
      "data_test.npy\n",
      "data_train.npy\n",
      "data_val.npy\n",
      "labels_test.npy\n",
      "labels_train.npy\n",
      "labels_val.npy\n",
      "preprocessing.ipynb\n"
     ]
    }
   ],
   "source": [
    "f = os.listdir()\n",
    "f.sort()\n",
    "for i in f: print(i)"
   ]
  },
  {
   "cell_type": "code",
   "execution_count": 18,
   "metadata": {},
   "outputs": [
    {
     "name": "stdout",
     "output_type": "stream",
     "text": [
      "shapes : (4896, 200, 200, 1) (652, 200, 200, 1) (980, 200, 200, 1)\n",
      "more shape : (4896, 17) (652, 17) (980, 17)\n"
     ]
    }
   ],
   "source": [
    "# load data\n",
    "x_train_raw = np.load(\"data_train.npy\")\n",
    "x_val_raw = np.load(\"data_val.npy\")\n",
    "x_test_raw = np.load(\"data_test.npy\")\n",
    "\n",
    "# load labels\n",
    "labels_train = np.load(\"labels_train.npy\",allow_pickle=True)\n",
    "labels_val = np.load(\"labels_val.npy\",allow_pickle=True)\n",
    "labels_test = np.load(\"labels_test.npy\",allow_pickle=True)\n",
    "\n",
    "# we only care about the redshift labels here\n",
    "lab_red_train = np.array([i[1] for i in labels_train])\n",
    "lab_red_val = np.array([i[1] for i in labels_val])\n",
    "lab_red_test = np.array([i[1] for i in labels_test])\n",
    "\n",
    "print(\"shapes :\", x_train_raw.shape, x_val_raw.shape, x_test_raw.shape)\n",
    "print(\"more shape :\", lab_red_train.shape, lab_red_val.shape, lab_red_test.shape)"
   ]
  },
  {
   "cell_type": "markdown",
   "metadata": {},
   "source": [
    "# Apply Autoencoder\n",
    "## first load the autoencoder"
   ]
  },
  {
   "cell_type": "code",
   "execution_count": 21,
   "metadata": {},
   "outputs": [],
   "source": [
    "os.listdir(\"../../Auto-Encoder Training/\")\n",
    "autoencoder = load_model(\"../../Auto-Encoder Training/autoencoder_adam_95.model\")"
   ]
  },
  {
   "cell_type": "code",
   "execution_count": 22,
   "metadata": {},
   "outputs": [
    {
     "name": "stdout",
     "output_type": "stream",
     "text": [
      "Model: \"model_1\"\n",
      "_________________________________________________________________\n",
      "Layer (type)                 Output Shape              Param #   \n",
      "=================================================================\n",
      "input_1 (InputLayer)         (None, 200, 200, 1)       0         \n",
      "_________________________________________________________________\n",
      "conv2d_1 (Conv2D)            (None, 200, 200, 16)      160       \n",
      "_________________________________________________________________\n",
      "max_pooling2d_1 (MaxPooling2 (None, 100, 100, 16)      0         \n",
      "_________________________________________________________________\n",
      "conv2d_2 (Conv2D)            (None, 100, 100, 8)       1160      \n",
      "_________________________________________________________________\n",
      "max_pooling2d_2 (MaxPooling2 (None, 50, 50, 8)         0         \n",
      "_________________________________________________________________\n",
      "conv2d_3 (Conv2D)            (None, 50, 50, 8)         584       \n",
      "_________________________________________________________________\n",
      "max_pooling2d_3 (MaxPooling2 (None, 25, 25, 8)         0         \n",
      "=================================================================\n",
      "Total params: 1,904\n",
      "Trainable params: 1,904\n",
      "Non-trainable params: 0\n",
      "_________________________________________________________________\n"
     ]
    }
   ],
   "source": [
    "#autoencoder.summary()\n",
    "encoder = Model(autoencoder.input, autoencoder.layers[-8].output)\n",
    "encoder.summary()"
   ]
  },
  {
   "cell_type": "code",
   "execution_count": 23,
   "metadata": {},
   "outputs": [],
   "source": [
    "x_train = encoder.predict(x_train_raw)\n",
    "x_val = encoder.predict(x_val_raw)\n",
    "x_test = encoder.predict(x_test_raw)"
   ]
  },
  {
   "cell_type": "markdown",
   "metadata": {},
   "source": [
    "# Define the CNN architecture"
   ]
  },
  {
   "cell_type": "code",
   "execution_count": 35,
   "metadata": {},
   "outputs": [],
   "source": [
    "classifier = Sequential()\n",
    "\n",
    "# extract features\n",
    "classifier.add(Conv2D(16, (3,3), input_shape=(25,25,8),\n",
    "                     activation='relu', padding='valid'))\n",
    "# reduce dimensionality, keep most important info\n",
    "classifier.add(MaxPooling2D(pool_size=(2,2)))\n",
    "\n",
    "# add a second layer, again with no padding\n",
    "classifier.add(Conv2D(8, (3,3), activation='relu', padding='valid'))\n",
    "\n",
    "# pool again\n",
    "classifier.add(MaxPooling2D(pool_size=(2,2)))\n",
    "\n",
    "# here i flatten and then guess the class\n",
    "classifier.add(Flatten())\n",
    "\n",
    "# fully connected layers ensures connections to all activations \n",
    "# in previous layers\n",
    "\n",
    "classifier.add(Dense(units=17, activation='softmax'))"
   ]
  },
  {
   "cell_type": "code",
   "execution_count": null,
   "metadata": {},
   "outputs": [],
   "source": []
  },
  {
   "cell_type": "markdown",
   "metadata": {},
   "source": [
    "# Alternative Architecutre"
   ]
  },
  {
   "cell_type": "code",
   "execution_count": null,
   "metadata": {},
   "outputs": [],
   "source": []
  },
  {
   "cell_type": "markdown",
   "metadata": {},
   "source": [
    "# Hyper params + compile netowrk"
   ]
  },
  {
   "cell_type": "code",
   "execution_count": 38,
   "metadata": {
    "scrolled": true
   },
   "outputs": [
    {
     "name": "stdout",
     "output_type": "stream",
     "text": [
      "printing summary of model\n",
      "Model: \"sequential_3\"\n",
      "_________________________________________________________________\n",
      "Layer (type)                 Output Shape              Param #   \n",
      "=================================================================\n",
      "conv2d_5 (Conv2D)            (None, 23, 23, 16)        1168      \n",
      "_________________________________________________________________\n",
      "max_pooling2d_5 (MaxPooling2 (None, 11, 11, 16)        0         \n",
      "_________________________________________________________________\n",
      "conv2d_6 (Conv2D)            (None, 9, 9, 8)           1160      \n",
      "_________________________________________________________________\n",
      "max_pooling2d_6 (MaxPooling2 (None, 4, 4, 8)           0         \n",
      "_________________________________________________________________\n",
      "flatten_3 (Flatten)          (None, 128)               0         \n",
      "_________________________________________________________________\n",
      "dense_3 (Dense)              (None, 17)                2193      \n",
      "=================================================================\n",
      "Total params: 4,521\n",
      "Trainable params: 4,521\n",
      "Non-trainable params: 0\n",
      "_________________________________________________________________\n"
     ]
    }
   ],
   "source": [
    "opt = Adam(learning_rate=0.001, beta_1=0.9, beta_2=0.999,\n",
    "          amsgrad=True)\n",
    "\n",
    "classifier.compile(optimizer=opt,\n",
    "                   loss='categorical_crossentropy',\n",
    "                   metrics=[\"accuracy\"])\n",
    "print(\"printing summary of model\")\n",
    "classifier.summary()"
   ]
  },
  {
   "cell_type": "markdown",
   "metadata": {},
   "source": [
    "# Train the network"
   ]
  },
  {
   "cell_type": "code",
   "execution_count": 39,
   "metadata": {},
   "outputs": [
    {
     "name": "stdout",
     "output_type": "stream",
     "text": [
      "(4896, 25, 25, 8) (4896, 17)\n"
     ]
    }
   ],
   "source": [
    "print(x_train.shape, lab_red_train.shape)"
   ]
  },
  {
   "cell_type": "markdown",
   "metadata": {},
   "source": [
    "# Display netowrk stats and save plots"
   ]
  },
  {
   "cell_type": "code",
   "execution_count": 40,
   "metadata": {
    "scrolled": true
   },
   "outputs": [
    {
     "name": "stdout",
     "output_type": "stream",
     "text": [
      "Train on 4896 samples, validate on 652 samples\n",
      "Epoch 1/250\n",
      "4896/4896 [==============================] - 1s 224us/step - loss: 2.8092 - accuracy: 0.0956 - val_loss: 2.6696 - val_accuracy: 0.1104\n",
      "Epoch 2/250\n",
      "4896/4896 [==============================] - 1s 199us/step - loss: 2.3892 - accuracy: 0.1183 - val_loss: 2.1575 - val_accuracy: 0.1564\n",
      "Epoch 3/250\n",
      "4896/4896 [==============================] - 1s 206us/step - loss: 1.8998 - accuracy: 0.2516 - val_loss: 1.7028 - val_accuracy: 0.3589\n",
      "Epoch 4/250\n",
      "4896/4896 [==============================] - 1s 200us/step - loss: 1.5313 - accuracy: 0.4383 - val_loss: 1.4124 - val_accuracy: 0.4540\n",
      "Epoch 5/250\n",
      "4896/4896 [==============================] - 1s 192us/step - loss: 1.2979 - accuracy: 0.5088 - val_loss: 1.2357 - val_accuracy: 0.5276\n",
      "Epoch 6/250\n",
      "4896/4896 [==============================] - 1s 193us/step - loss: 1.1582 - accuracy: 0.5684 - val_loss: 1.1314 - val_accuracy: 0.5859\n",
      "Epoch 7/250\n",
      "4896/4896 [==============================] - 1s 201us/step - loss: 1.0601 - accuracy: 0.5831 - val_loss: 1.0255 - val_accuracy: 0.5859\n",
      "Epoch 8/250\n",
      "4896/4896 [==============================] - 1s 214us/step - loss: 0.9994 - accuracy: 0.5954 - val_loss: 0.9881 - val_accuracy: 0.5660\n",
      "Epoch 9/250\n",
      "4896/4896 [==============================] - 2s 311us/step - loss: 0.9336 - accuracy: 0.6326 - val_loss: 0.9092 - val_accuracy: 0.6641\n",
      "Epoch 10/250\n",
      "4896/4896 [==============================] - 2s 371us/step - loss: 0.8789 - accuracy: 0.6675 - val_loss: 0.9062 - val_accuracy: 0.6273\n",
      "Epoch 11/250\n",
      "4896/4896 [==============================] - 2s 318us/step - loss: 0.8596 - accuracy: 0.6556 - val_loss: 0.8196 - val_accuracy: 0.7163\n",
      "Epoch 12/250\n",
      "4896/4896 [==============================] - 1s 302us/step - loss: 0.8148 - accuracy: 0.6865 - val_loss: 0.7791 - val_accuracy: 0.7117\n",
      "Epoch 13/250\n",
      "4896/4896 [==============================] - 1s 297us/step - loss: 0.7909 - accuracy: 0.6897 - val_loss: 0.8077 - val_accuracy: 0.6840\n",
      "Epoch 14/250\n",
      "4896/4896 [==============================] - 1s 297us/step - loss: 0.7726 - accuracy: 0.6908 - val_loss: 0.7452 - val_accuracy: 0.7117\n",
      "Epoch 15/250\n",
      "4896/4896 [==============================] - 1s 304us/step - loss: 0.7554 - accuracy: 0.6967 - val_loss: 0.7108 - val_accuracy: 0.7469\n",
      "Epoch 16/250\n",
      "4896/4896 [==============================] - 2s 309us/step - loss: 0.7442 - accuracy: 0.7083 - val_loss: 0.7049 - val_accuracy: 0.7515\n",
      "Epoch 17/250\n",
      "4896/4896 [==============================] - 2s 315us/step - loss: 0.7150 - accuracy: 0.7143 - val_loss: 0.7265 - val_accuracy: 0.6979\n",
      "Epoch 18/250\n",
      "4896/4896 [==============================] - 2s 307us/step - loss: 0.7138 - accuracy: 0.7157 - val_loss: 0.7091 - val_accuracy: 0.7255\n",
      "Epoch 19/250\n",
      "4896/4896 [==============================] - 2s 307us/step - loss: 0.6887 - accuracy: 0.7200 - val_loss: 0.6563 - val_accuracy: 0.7515\n",
      "Epoch 20/250\n",
      "4896/4896 [==============================] - 1s 305us/step - loss: 0.6830 - accuracy: 0.7204 - val_loss: 0.6837 - val_accuracy: 0.7239\n",
      "Epoch 21/250\n",
      "4896/4896 [==============================] - 2s 307us/step - loss: 0.6900 - accuracy: 0.7159 - val_loss: 0.6571 - val_accuracy: 0.7301\n",
      "Epoch 22/250\n",
      "4896/4896 [==============================] - 2s 360us/step - loss: 0.6675 - accuracy: 0.7200 - val_loss: 0.6686 - val_accuracy: 0.7193\n",
      "Epoch 23/250\n",
      "4896/4896 [==============================] - 2s 320us/step - loss: 0.6661 - accuracy: 0.7234 - val_loss: 0.6316 - val_accuracy: 0.7577\n",
      "Epoch 24/250\n",
      "4896/4896 [==============================] - 2s 314us/step - loss: 0.6413 - accuracy: 0.7292 - val_loss: 0.6721 - val_accuracy: 0.7117\n",
      "Epoch 25/250\n",
      "4896/4896 [==============================] - 2s 316us/step - loss: 0.6468 - accuracy: 0.7290 - val_loss: 0.6313 - val_accuracy: 0.7561\n",
      "Epoch 26/250\n",
      "4896/4896 [==============================] - 1s 302us/step - loss: 0.6343 - accuracy: 0.7292 - val_loss: 0.6490 - val_accuracy: 0.7086\n",
      "Epoch 27/250\n",
      "4896/4896 [==============================] - 2s 307us/step - loss: 0.6419 - accuracy: 0.7283 - val_loss: 0.6553 - val_accuracy: 0.7101\n",
      "Epoch 28/250\n",
      "4896/4896 [==============================] - 2s 311us/step - loss: 0.6319 - accuracy: 0.7337 - val_loss: 0.6195 - val_accuracy: 0.7469\n",
      "Epoch 29/250\n",
      "4896/4896 [==============================] - 2s 307us/step - loss: 0.6284 - accuracy: 0.7314 - val_loss: 0.6334 - val_accuracy: 0.7239\n",
      "Epoch 30/250\n",
      "4896/4896 [==============================] - 1s 305us/step - loss: 0.6275 - accuracy: 0.7283 - val_loss: 0.6846 - val_accuracy: 0.6963\n",
      "Epoch 31/250\n",
      "4896/4896 [==============================] - 1s 300us/step - loss: 0.6127 - accuracy: 0.7347 - val_loss: 0.5826 - val_accuracy: 0.7592\n",
      "Epoch 32/250\n",
      "4896/4896 [==============================] - 1s 298us/step - loss: 0.6151 - accuracy: 0.7375 - val_loss: 0.5972 - val_accuracy: 0.7515\n",
      "Epoch 33/250\n",
      "4896/4896 [==============================] - 1s 302us/step - loss: 0.5897 - accuracy: 0.7414 - val_loss: 0.6070 - val_accuracy: 0.7500\n",
      "Epoch 34/250\n",
      "4896/4896 [==============================] - 1s 300us/step - loss: 0.6117 - accuracy: 0.7347 - val_loss: 0.5706 - val_accuracy: 0.7761\n",
      "Epoch 35/250\n",
      "4896/4896 [==============================] - 2s 311us/step - loss: 0.6210 - accuracy: 0.7281 - val_loss: 0.5921 - val_accuracy: 0.7454\n",
      "Epoch 36/250\n",
      "4896/4896 [==============================] - 1s 296us/step - loss: 0.5954 - accuracy: 0.7459 - val_loss: 0.5809 - val_accuracy: 0.7577\n",
      "Epoch 37/250\n",
      "4896/4896 [==============================] - 1s 299us/step - loss: 0.5846 - accuracy: 0.7441 - val_loss: 0.5823 - val_accuracy: 0.7715\n",
      "Epoch 38/250\n",
      "4896/4896 [==============================] - 1s 298us/step - loss: 0.5823 - accuracy: 0.7429 - val_loss: 0.5609 - val_accuracy: 0.7423\n",
      "Epoch 39/250\n",
      "4896/4896 [==============================] - 2s 314us/step - loss: 0.5720 - accuracy: 0.7469 - val_loss: 0.5840 - val_accuracy: 0.7531\n",
      "Epoch 40/250\n",
      "4896/4896 [==============================] - 1s 304us/step - loss: 0.5726 - accuracy: 0.7473 - val_loss: 0.5720 - val_accuracy: 0.7730\n",
      "Epoch 41/250\n",
      "4896/4896 [==============================] - 1s 295us/step - loss: 0.5785 - accuracy: 0.7439 - val_loss: 0.5723 - val_accuracy: 0.7485\n",
      "Epoch 42/250\n",
      "4896/4896 [==============================] - 2s 310us/step - loss: 0.5745 - accuracy: 0.7420 - val_loss: 0.6234 - val_accuracy: 0.7132\n",
      "Epoch 43/250\n",
      "4896/4896 [==============================] - 2s 310us/step - loss: 0.5781 - accuracy: 0.7443 - val_loss: 0.5841 - val_accuracy: 0.7592\n",
      "Epoch 44/250\n",
      "4896/4896 [==============================] - 1s 299us/step - loss: 0.5808 - accuracy: 0.7498 - val_loss: 0.5774 - val_accuracy: 0.7515\n",
      "Epoch 45/250\n",
      "4896/4896 [==============================] - 1s 304us/step - loss: 0.5600 - accuracy: 0.7541 - val_loss: 0.5524 - val_accuracy: 0.7546\n",
      "Epoch 46/250\n",
      "4896/4896 [==============================] - 1s 297us/step - loss: 0.5613 - accuracy: 0.7478 - val_loss: 0.5434 - val_accuracy: 0.7607\n",
      "Epoch 47/250\n",
      "4896/4896 [==============================] - 2s 353us/step - loss: 0.5545 - accuracy: 0.7555 - val_loss: 0.5516 - val_accuracy: 0.7776\n",
      "Epoch 48/250\n",
      "4896/4896 [==============================] - 2s 316us/step - loss: 0.5588 - accuracy: 0.7449 - val_loss: 0.5403 - val_accuracy: 0.7730\n",
      "Epoch 49/250\n",
      "4896/4896 [==============================] - 2s 321us/step - loss: 0.5498 - accuracy: 0.7525 - val_loss: 0.5645 - val_accuracy: 0.7408\n",
      "Epoch 50/250\n",
      "4896/4896 [==============================] - 2s 325us/step - loss: 0.5429 - accuracy: 0.7510 - val_loss: 0.5516 - val_accuracy: 0.7807\n",
      "Epoch 51/250\n",
      "4896/4896 [==============================] - 1s 299us/step - loss: 0.5727 - accuracy: 0.7506 - val_loss: 0.5291 - val_accuracy: 0.7592\n",
      "Epoch 52/250\n",
      "4896/4896 [==============================] - 1s 304us/step - loss: 0.5478 - accuracy: 0.7506 - val_loss: 0.5381 - val_accuracy: 0.7761\n",
      "Epoch 53/250\n",
      "4896/4896 [==============================] - 1s 296us/step - loss: 0.5388 - accuracy: 0.7610 - val_loss: 0.5557 - val_accuracy: 0.7669\n",
      "Epoch 54/250\n",
      "4896/4896 [==============================] - 1s 299us/step - loss: 0.5430 - accuracy: 0.7549 - val_loss: 0.5260 - val_accuracy: 0.7515\n",
      "Epoch 55/250\n",
      "4896/4896 [==============================] - 2s 313us/step - loss: 0.5549 - accuracy: 0.7543 - val_loss: 0.5344 - val_accuracy: 0.7730\n",
      "Epoch 56/250\n"
     ]
    },
    {
     "name": "stdout",
     "output_type": "stream",
     "text": [
      "4896/4896 [==============================] - 1s 292us/step - loss: 0.5390 - accuracy: 0.7574 - val_loss: 0.5697 - val_accuracy: 0.7546\n",
      "Epoch 57/250\n",
      "4896/4896 [==============================] - 1s 288us/step - loss: 0.5523 - accuracy: 0.7529 - val_loss: 0.5327 - val_accuracy: 0.7607\n",
      "Epoch 58/250\n",
      "4896/4896 [==============================] - 1s 290us/step - loss: 0.5389 - accuracy: 0.7623 - val_loss: 0.5771 - val_accuracy: 0.7561\n",
      "Epoch 59/250\n",
      "4896/4896 [==============================] - 1s 300us/step - loss: 0.5420 - accuracy: 0.7535 - val_loss: 0.5486 - val_accuracy: 0.7684\n",
      "Epoch 60/250\n",
      "4896/4896 [==============================] - 1s 289us/step - loss: 0.5443 - accuracy: 0.7600 - val_loss: 0.5568 - val_accuracy: 0.7607\n",
      "Epoch 61/250\n",
      "4896/4896 [==============================] - 1s 286us/step - loss: 0.5385 - accuracy: 0.7559 - val_loss: 0.5441 - val_accuracy: 0.7423\n",
      "Epoch 62/250\n",
      "4896/4896 [==============================] - 1s 293us/step - loss: 0.5358 - accuracy: 0.7486 - val_loss: 0.5234 - val_accuracy: 0.7699\n",
      "Epoch 63/250\n",
      "4896/4896 [==============================] - 2s 308us/step - loss: 0.5367 - accuracy: 0.7551 - val_loss: 0.6125 - val_accuracy: 0.7270\n",
      "Epoch 64/250\n",
      "4896/4896 [==============================] - 1s 304us/step - loss: 0.5396 - accuracy: 0.7535 - val_loss: 0.5403 - val_accuracy: 0.7669\n",
      "Epoch 65/250\n",
      "4896/4896 [==============================] - 2s 330us/step - loss: 0.5221 - accuracy: 0.7686 - val_loss: 0.5452 - val_accuracy: 0.7607\n",
      "Epoch 66/250\n",
      "4896/4896 [==============================] - 1s 294us/step - loss: 0.5102 - accuracy: 0.7700 - val_loss: 0.5360 - val_accuracy: 0.7669\n",
      "Epoch 67/250\n",
      "4896/4896 [==============================] - 1s 294us/step - loss: 0.5279 - accuracy: 0.7557 - val_loss: 0.5288 - val_accuracy: 0.7684\n",
      "Epoch 68/250\n",
      "4896/4896 [==============================] - 1s 289us/step - loss: 0.5213 - accuracy: 0.7639 - val_loss: 0.5038 - val_accuracy: 0.7776\n",
      "Epoch 69/250\n",
      "4896/4896 [==============================] - 1s 282us/step - loss: 0.5239 - accuracy: 0.7627 - val_loss: 0.5469 - val_accuracy: 0.7531\n",
      "Epoch 70/250\n",
      "4896/4896 [==============================] - 1s 301us/step - loss: 0.5196 - accuracy: 0.7629 - val_loss: 0.5929 - val_accuracy: 0.7285\n",
      "Epoch 71/250\n",
      "4896/4896 [==============================] - 1s 300us/step - loss: 0.5355 - accuracy: 0.7539 - val_loss: 0.5527 - val_accuracy: 0.7347\n",
      "Epoch 72/250\n",
      "4896/4896 [==============================] - 1s 285us/step - loss: 0.5198 - accuracy: 0.7616 - val_loss: 0.5022 - val_accuracy: 0.7653\n",
      "Epoch 73/250\n",
      "4896/4896 [==============================] - 1s 305us/step - loss: 0.5124 - accuracy: 0.7637 - val_loss: 0.5068 - val_accuracy: 0.7791\n",
      "Epoch 74/250\n",
      "4896/4896 [==============================] - 1s 296us/step - loss: 0.5182 - accuracy: 0.7623 - val_loss: 0.5071 - val_accuracy: 0.7745\n",
      "Epoch 75/250\n",
      "4896/4896 [==============================] - 1s 300us/step - loss: 0.5118 - accuracy: 0.7621 - val_loss: 0.5175 - val_accuracy: 0.7791\n",
      "Epoch 76/250\n",
      "4896/4896 [==============================] - 1s 292us/step - loss: 0.5271 - accuracy: 0.7635 - val_loss: 0.5171 - val_accuracy: 0.7776\n",
      "Epoch 77/250\n",
      "4896/4896 [==============================] - 1s 288us/step - loss: 0.5061 - accuracy: 0.7714 - val_loss: 0.5146 - val_accuracy: 0.7868\n",
      "Epoch 78/250\n",
      "4896/4896 [==============================] - 1s 290us/step - loss: 0.4989 - accuracy: 0.7678 - val_loss: 0.4923 - val_accuracy: 0.7914\n",
      "Epoch 79/250\n",
      "4896/4896 [==============================] - 1s 286us/step - loss: 0.4988 - accuracy: 0.7663 - val_loss: 0.5112 - val_accuracy: 0.7761\n",
      "Epoch 80/250\n",
      "4896/4896 [==============================] - 1s 285us/step - loss: 0.4966 - accuracy: 0.7698 - val_loss: 0.4900 - val_accuracy: 0.7715\n",
      "Epoch 81/250\n",
      "4896/4896 [==============================] - 1s 296us/step - loss: 0.5000 - accuracy: 0.7714 - val_loss: 0.4938 - val_accuracy: 0.7853\n",
      "Epoch 82/250\n",
      "4896/4896 [==============================] - 1s 298us/step - loss: 0.5132 - accuracy: 0.7682 - val_loss: 0.4787 - val_accuracy: 0.7929\n",
      "Epoch 83/250\n",
      "4896/4896 [==============================] - 1s 295us/step - loss: 0.4998 - accuracy: 0.7684 - val_loss: 0.4832 - val_accuracy: 0.7791\n",
      "Epoch 84/250\n",
      "4896/4896 [==============================] - 1s 287us/step - loss: 0.5036 - accuracy: 0.7676 - val_loss: 0.4908 - val_accuracy: 0.7975\n",
      "Epoch 85/250\n",
      "4896/4896 [==============================] - 1s 293us/step - loss: 0.4897 - accuracy: 0.7739 - val_loss: 0.4869 - val_accuracy: 0.7699\n",
      "Epoch 86/250\n",
      "4896/4896 [==============================] - 1s 304us/step - loss: 0.4864 - accuracy: 0.7678 - val_loss: 0.5123 - val_accuracy: 0.7975\n",
      "Epoch 87/250\n",
      "4896/4896 [==============================] - 2s 354us/step - loss: 0.5048 - accuracy: 0.7714 - val_loss: 0.6171 - val_accuracy: 0.6994\n",
      "Epoch 88/250\n",
      "4896/4896 [==============================] - 2s 327us/step - loss: 0.5063 - accuracy: 0.7635 - val_loss: 0.4866 - val_accuracy: 0.7945\n",
      "Epoch 89/250\n",
      "4896/4896 [==============================] - 1s 303us/step - loss: 0.4925 - accuracy: 0.7745 - val_loss: 0.5023 - val_accuracy: 0.7791\n",
      "Epoch 90/250\n",
      "4896/4896 [==============================] - 2s 315us/step - loss: 0.4830 - accuracy: 0.7766 - val_loss: 0.5008 - val_accuracy: 0.7592\n",
      "Epoch 91/250\n",
      "4896/4896 [==============================] - 2s 335us/step - loss: 0.4769 - accuracy: 0.7778 - val_loss: 0.4833 - val_accuracy: 0.7868\n",
      "Epoch 92/250\n",
      "4896/4896 [==============================] - 2s 310us/step - loss: 0.4904 - accuracy: 0.7772 - val_loss: 0.5073 - val_accuracy: 0.7515\n",
      "Epoch 93/250\n",
      "4896/4896 [==============================] - 2s 310us/step - loss: 0.4873 - accuracy: 0.7755 - val_loss: 0.4847 - val_accuracy: 0.7929\n",
      "Epoch 94/250\n",
      "4896/4896 [==============================] - 2s 316us/step - loss: 0.4853 - accuracy: 0.7684 - val_loss: 0.4759 - val_accuracy: 0.7822\n",
      "Epoch 95/250\n",
      "4896/4896 [==============================] - 2s 309us/step - loss: 0.4710 - accuracy: 0.7835 - val_loss: 0.4790 - val_accuracy: 0.7669\n",
      "Epoch 96/250\n",
      "4896/4896 [==============================] - 2s 311us/step - loss: 0.4766 - accuracy: 0.7780 - val_loss: 0.4756 - val_accuracy: 0.7745\n",
      "Epoch 97/250\n",
      "4896/4896 [==============================] - 2s 313us/step - loss: 0.4710 - accuracy: 0.7796 - val_loss: 0.4837 - val_accuracy: 0.7822\n",
      "Epoch 98/250\n",
      "4896/4896 [==============================] - 2s 315us/step - loss: 0.4887 - accuracy: 0.7759 - val_loss: 0.4772 - val_accuracy: 0.7991\n",
      "Epoch 99/250\n",
      "4896/4896 [==============================] - 2s 309us/step - loss: 0.4749 - accuracy: 0.7841 - val_loss: 0.4816 - val_accuracy: 0.7684\n",
      "Epoch 100/250\n",
      "4896/4896 [==============================] - 2s 311us/step - loss: 0.4747 - accuracy: 0.7768 - val_loss: 0.4733 - val_accuracy: 0.7699\n",
      "Epoch 101/250\n",
      "4896/4896 [==============================] - 2s 311us/step - loss: 0.4709 - accuracy: 0.7823 - val_loss: 0.4647 - val_accuracy: 0.7991\n",
      "Epoch 102/250\n",
      "4896/4896 [==============================] - 2s 314us/step - loss: 0.4743 - accuracy: 0.7788 - val_loss: 0.4668 - val_accuracy: 0.7868\n",
      "Epoch 103/250\n",
      "4896/4896 [==============================] - 2s 309us/step - loss: 0.4621 - accuracy: 0.7810 - val_loss: 0.4890 - val_accuracy: 0.7822\n",
      "Epoch 104/250\n",
      "4896/4896 [==============================] - 2s 310us/step - loss: 0.4598 - accuracy: 0.7800 - val_loss: 0.4610 - val_accuracy: 0.7914\n",
      "Epoch 105/250\n",
      "4896/4896 [==============================] - 2s 312us/step - loss: 0.4639 - accuracy: 0.7827 - val_loss: 0.5046 - val_accuracy: 0.7791\n",
      "Epoch 106/250\n",
      "4896/4896 [==============================] - 2s 321us/step - loss: 0.4677 - accuracy: 0.7864 - val_loss: 0.4704 - val_accuracy: 0.7791\n",
      "Epoch 107/250\n",
      "4896/4896 [==============================] - 2s 311us/step - loss: 0.4519 - accuracy: 0.7855 - val_loss: 0.4911 - val_accuracy: 0.7776\n",
      "Epoch 108/250\n",
      "4896/4896 [==============================] - 1s 294us/step - loss: 0.4668 - accuracy: 0.7862 - val_loss: 0.4987 - val_accuracy: 0.7500\n",
      "Epoch 109/250\n",
      "4896/4896 [==============================] - 2s 309us/step - loss: 0.4703 - accuracy: 0.7808 - val_loss: 0.4729 - val_accuracy: 0.8006\n",
      "Epoch 110/250\n",
      "4896/4896 [==============================] - 1s 295us/step - loss: 0.4542 - accuracy: 0.7878 - val_loss: 0.4890 - val_accuracy: 0.7546\n",
      "Epoch 111/250\n"
     ]
    },
    {
     "name": "stdout",
     "output_type": "stream",
     "text": [
      "4896/4896 [==============================] - 2s 313us/step - loss: 0.4734 - accuracy: 0.7835 - val_loss: 0.4652 - val_accuracy: 0.8037\n",
      "Epoch 112/250\n",
      "4896/4896 [==============================] - 1s 291us/step - loss: 0.4624 - accuracy: 0.7855 - val_loss: 0.4897 - val_accuracy: 0.7730\n",
      "Epoch 113/250\n",
      "4896/4896 [==============================] - 1s 296us/step - loss: 0.4673 - accuracy: 0.7833 - val_loss: 0.4651 - val_accuracy: 0.7899\n",
      "Epoch 114/250\n",
      "4896/4896 [==============================] - 1s 299us/step - loss: 0.4534 - accuracy: 0.7853 - val_loss: 0.4714 - val_accuracy: 0.7960\n",
      "Epoch 115/250\n",
      "4896/4896 [==============================] - 1s 293us/step - loss: 0.4477 - accuracy: 0.7921 - val_loss: 0.4592 - val_accuracy: 0.7868\n",
      "Epoch 116/250\n",
      "4896/4896 [==============================] - 1s 298us/step - loss: 0.4508 - accuracy: 0.7853 - val_loss: 0.4533 - val_accuracy: 0.7761\n",
      "Epoch 117/250\n",
      "4896/4896 [==============================] - 2s 311us/step - loss: 0.4650 - accuracy: 0.7780 - val_loss: 0.4952 - val_accuracy: 0.7807\n",
      "Epoch 118/250\n",
      "4896/4896 [==============================] - 2s 313us/step - loss: 0.4474 - accuracy: 0.7898 - val_loss: 0.4699 - val_accuracy: 0.7960\n",
      "Epoch 119/250\n",
      "4896/4896 [==============================] - 2s 380us/step - loss: 0.4473 - accuracy: 0.7911 - val_loss: 0.4821 - val_accuracy: 0.7730\n",
      "Epoch 120/250\n",
      "4896/4896 [==============================] - 2s 387us/step - loss: 0.4444 - accuracy: 0.7878 - val_loss: 0.4672 - val_accuracy: 0.7868\n",
      "Epoch 121/250\n",
      "4896/4896 [==============================] - 1s 300us/step - loss: 0.4575 - accuracy: 0.7866 - val_loss: 0.4443 - val_accuracy: 0.8006\n",
      "Epoch 122/250\n",
      "4896/4896 [==============================] - 1s 305us/step - loss: 0.4466 - accuracy: 0.7868 - val_loss: 0.4576 - val_accuracy: 0.7669\n",
      "Epoch 123/250\n",
      "4896/4896 [==============================] - 1s 305us/step - loss: 0.4438 - accuracy: 0.7900 - val_loss: 0.4808 - val_accuracy: 0.7791\n",
      "Epoch 124/250\n",
      "4896/4896 [==============================] - 2s 321us/step - loss: 0.4695 - accuracy: 0.7870 - val_loss: 0.4617 - val_accuracy: 0.7929\n",
      "Epoch 125/250\n",
      "4896/4896 [==============================] - 1s 300us/step - loss: 0.4419 - accuracy: 0.7964 - val_loss: 0.4671 - val_accuracy: 0.7607\n",
      "Epoch 126/250\n",
      "4896/4896 [==============================] - 2s 320us/step - loss: 0.4454 - accuracy: 0.7947 - val_loss: 0.4434 - val_accuracy: 0.7761\n",
      "Epoch 127/250\n",
      "4896/4896 [==============================] - 2s 307us/step - loss: 0.4347 - accuracy: 0.7951 - val_loss: 0.4636 - val_accuracy: 0.7745\n",
      "Epoch 128/250\n",
      "4896/4896 [==============================] - 1s 295us/step - loss: 0.4426 - accuracy: 0.7947 - val_loss: 0.4708 - val_accuracy: 0.7929\n",
      "Epoch 129/250\n",
      "4896/4896 [==============================] - 2s 308us/step - loss: 0.4405 - accuracy: 0.7984 - val_loss: 0.4714 - val_accuracy: 0.7761\n",
      "Epoch 130/250\n",
      "4896/4896 [==============================] - 2s 307us/step - loss: 0.4355 - accuracy: 0.7978 - val_loss: 0.4360 - val_accuracy: 0.8144\n",
      "Epoch 131/250\n",
      "4896/4896 [==============================] - 1s 306us/step - loss: 0.4359 - accuracy: 0.7964 - val_loss: 0.4592 - val_accuracy: 0.7561\n",
      "Epoch 132/250\n",
      "4896/4896 [==============================] - 1s 300us/step - loss: 0.4463 - accuracy: 0.7862 - val_loss: 0.4816 - val_accuracy: 0.7715\n",
      "Epoch 133/250\n",
      "4896/4896 [==============================] - 2s 317us/step - loss: 0.4451 - accuracy: 0.7876 - val_loss: 0.4664 - val_accuracy: 0.7761\n",
      "Epoch 134/250\n",
      "4896/4896 [==============================] - 2s 311us/step - loss: 0.4378 - accuracy: 0.7972 - val_loss: 0.4693 - val_accuracy: 0.7883\n",
      "Epoch 135/250\n",
      "4896/4896 [==============================] - 2s 309us/step - loss: 0.4329 - accuracy: 0.7898 - val_loss: 0.4329 - val_accuracy: 0.8083\n",
      "Epoch 136/250\n",
      "4896/4896 [==============================] - 1s 302us/step - loss: 0.4212 - accuracy: 0.7992 - val_loss: 0.4663 - val_accuracy: 0.7853\n",
      "Epoch 137/250\n",
      "4896/4896 [==============================] - 1s 305us/step - loss: 0.4400 - accuracy: 0.8004 - val_loss: 0.4364 - val_accuracy: 0.7868\n",
      "Epoch 138/250\n",
      "4896/4896 [==============================] - 1s 302us/step - loss: 0.4300 - accuracy: 0.8009 - val_loss: 0.4446 - val_accuracy: 0.7730\n",
      "Epoch 139/250\n",
      "4896/4896 [==============================] - 1s 305us/step - loss: 0.4281 - accuracy: 0.7974 - val_loss: 0.4777 - val_accuracy: 0.7807\n",
      "Epoch 140/250\n",
      "4896/4896 [==============================] - 1s 290us/step - loss: 0.4314 - accuracy: 0.8031 - val_loss: 0.4549 - val_accuracy: 0.8113\n",
      "Epoch 141/250\n",
      "4896/4896 [==============================] - 1s 294us/step - loss: 0.4415 - accuracy: 0.7900 - val_loss: 0.4533 - val_accuracy: 0.7991\n",
      "Epoch 142/250\n",
      "4896/4896 [==============================] - 1s 292us/step - loss: 0.4093 - accuracy: 0.8054 - val_loss: 0.4351 - val_accuracy: 0.7991\n",
      "Epoch 143/250\n",
      "4896/4896 [==============================] - 1s 290us/step - loss: 0.4211 - accuracy: 0.8017 - val_loss: 0.4500 - val_accuracy: 0.7883\n",
      "Epoch 144/250\n",
      "4896/4896 [==============================] - 1s 292us/step - loss: 0.4343 - accuracy: 0.7984 - val_loss: 0.4447 - val_accuracy: 0.8113\n",
      "Epoch 145/250\n",
      "4896/4896 [==============================] - 1s 297us/step - loss: 0.4146 - accuracy: 0.8035 - val_loss: 0.4380 - val_accuracy: 0.8052\n",
      "Epoch 146/250\n",
      "4896/4896 [==============================] - 1s 302us/step - loss: 0.4384 - accuracy: 0.8011 - val_loss: 0.4543 - val_accuracy: 0.7822\n",
      "Epoch 147/250\n",
      "4896/4896 [==============================] - 1s 299us/step - loss: 0.4248 - accuracy: 0.8054 - val_loss: 0.4234 - val_accuracy: 0.8206\n",
      "Epoch 148/250\n",
      "4896/4896 [==============================] - 1s 299us/step - loss: 0.4199 - accuracy: 0.8041 - val_loss: 0.4663 - val_accuracy: 0.7715\n",
      "Epoch 149/250\n",
      "4896/4896 [==============================] - 2s 459us/step - loss: 0.4149 - accuracy: 0.8078 - val_loss: 0.4382 - val_accuracy: 0.7807\n",
      "Epoch 150/250\n",
      "4896/4896 [==============================] - 2s 355us/step - loss: 0.4313 - accuracy: 0.7990 - val_loss: 0.4339 - val_accuracy: 0.7991\n",
      "Epoch 151/250\n",
      "4896/4896 [==============================] - 1s 303us/step - loss: 0.4268 - accuracy: 0.8007 - val_loss: 0.4392 - val_accuracy: 0.8067\n",
      "Epoch 152/250\n",
      "4896/4896 [==============================] - 2s 355us/step - loss: 0.4172 - accuracy: 0.8060 - val_loss: 0.4669 - val_accuracy: 0.7699\n",
      "Epoch 153/250\n",
      "4896/4896 [==============================] - 2s 310us/step - loss: 0.4395 - accuracy: 0.7935 - val_loss: 0.4466 - val_accuracy: 0.8083\n",
      "Epoch 154/250\n",
      "4896/4896 [==============================] - 2s 314us/step - loss: 0.4319 - accuracy: 0.7988 - val_loss: 0.4353 - val_accuracy: 0.7791\n",
      "Epoch 155/250\n",
      "4896/4896 [==============================] - 2s 341us/step - loss: 0.4206 - accuracy: 0.8098 - val_loss: 0.4280 - val_accuracy: 0.7914\n",
      "Epoch 156/250\n",
      "4896/4896 [==============================] - 2s 322us/step - loss: 0.4300 - accuracy: 0.8070 - val_loss: 0.4445 - val_accuracy: 0.7899\n",
      "Epoch 157/250\n",
      "4896/4896 [==============================] - 2s 328us/step - loss: 0.4096 - accuracy: 0.8056 - val_loss: 0.4135 - val_accuracy: 0.7975\n",
      "Epoch 158/250\n",
      "4896/4896 [==============================] - 2s 316us/step - loss: 0.4077 - accuracy: 0.8115 - val_loss: 0.4608 - val_accuracy: 0.8006\n",
      "Epoch 159/250\n",
      "4896/4896 [==============================] - 1s 303us/step - loss: 0.4118 - accuracy: 0.8096 - val_loss: 0.4261 - val_accuracy: 0.8083\n",
      "Epoch 160/250\n",
      "4896/4896 [==============================] - 1s 298us/step - loss: 0.4129 - accuracy: 0.8115 - val_loss: 0.4652 - val_accuracy: 0.8052\n",
      "Epoch 161/250\n",
      "4896/4896 [==============================] - 1s 298us/step - loss: 0.4055 - accuracy: 0.8084 - val_loss: 0.4585 - val_accuracy: 0.7653\n",
      "Epoch 162/250\n",
      "4896/4896 [==============================] - 2s 312us/step - loss: 0.4040 - accuracy: 0.8127 - val_loss: 0.4189 - val_accuracy: 0.7975\n",
      "Epoch 163/250\n",
      "4896/4896 [==============================] - 1s 301us/step - loss: 0.4133 - accuracy: 0.8135 - val_loss: 0.4102 - val_accuracy: 0.8144\n",
      "Epoch 164/250\n",
      "4896/4896 [==============================] - 2s 316us/step - loss: 0.3981 - accuracy: 0.8190 - val_loss: 0.4651 - val_accuracy: 0.7960\n",
      "Epoch 165/250\n",
      "4896/4896 [==============================] - 2s 335us/step - loss: 0.4050 - accuracy: 0.8078 - val_loss: 0.4196 - val_accuracy: 0.8267\n",
      "Epoch 166/250\n"
     ]
    },
    {
     "name": "stdout",
     "output_type": "stream",
     "text": [
      "4896/4896 [==============================] - 1s 298us/step - loss: 0.4055 - accuracy: 0.8011 - val_loss: 0.4131 - val_accuracy: 0.8129\n",
      "Epoch 167/250\n",
      "4896/4896 [==============================] - 2s 318us/step - loss: 0.4089 - accuracy: 0.8168 - val_loss: 0.4206 - val_accuracy: 0.8052\n",
      "Epoch 168/250\n",
      "4896/4896 [==============================] - 2s 313us/step - loss: 0.4087 - accuracy: 0.8094 - val_loss: 0.4297 - val_accuracy: 0.8282\n",
      "Epoch 169/250\n",
      "4896/4896 [==============================] - 1s 305us/step - loss: 0.4034 - accuracy: 0.8096 - val_loss: 0.4589 - val_accuracy: 0.7807\n",
      "Epoch 170/250\n",
      "4896/4896 [==============================] - 1s 296us/step - loss: 0.4118 - accuracy: 0.8070 - val_loss: 0.4373 - val_accuracy: 0.7960\n",
      "Epoch 171/250\n",
      "4896/4896 [==============================] - 1s 296us/step - loss: 0.4032 - accuracy: 0.8098 - val_loss: 0.4112 - val_accuracy: 0.8144\n",
      "Epoch 172/250\n",
      "4896/4896 [==============================] - 1s 286us/step - loss: 0.4002 - accuracy: 0.8121 - val_loss: 0.4114 - val_accuracy: 0.7791\n",
      "Epoch 173/250\n",
      "4896/4896 [==============================] - 1s 289us/step - loss: 0.3964 - accuracy: 0.8174 - val_loss: 0.4063 - val_accuracy: 0.8113\n",
      "Epoch 174/250\n",
      "4896/4896 [==============================] - 1s 291us/step - loss: 0.3940 - accuracy: 0.8150 - val_loss: 0.4043 - val_accuracy: 0.8328\n",
      "Epoch 175/250\n",
      "4896/4896 [==============================] - 1s 292us/step - loss: 0.4027 - accuracy: 0.8139 - val_loss: 0.4322 - val_accuracy: 0.7853\n",
      "Epoch 176/250\n",
      "4896/4896 [==============================] - 1s 294us/step - loss: 0.3996 - accuracy: 0.8178 - val_loss: 0.4349 - val_accuracy: 0.8098\n",
      "Epoch 177/250\n",
      "4896/4896 [==============================] - 1s 288us/step - loss: 0.3900 - accuracy: 0.8250 - val_loss: 0.4257 - val_accuracy: 0.8236\n",
      "Epoch 178/250\n",
      "4896/4896 [==============================] - 1s 297us/step - loss: 0.3876 - accuracy: 0.8192 - val_loss: 0.3984 - val_accuracy: 0.8144\n",
      "Epoch 179/250\n",
      "4896/4896 [==============================] - 2s 308us/step - loss: 0.3933 - accuracy: 0.8199 - val_loss: 0.4104 - val_accuracy: 0.8113\n",
      "Epoch 180/250\n",
      "4896/4896 [==============================] - 2s 306us/step - loss: 0.3920 - accuracy: 0.8113 - val_loss: 0.4346 - val_accuracy: 0.8067\n",
      "Epoch 181/250\n",
      "4896/4896 [==============================] - 1s 304us/step - loss: 0.3958 - accuracy: 0.8170 - val_loss: 0.4227 - val_accuracy: 0.8083\n",
      "Epoch 182/250\n",
      "4896/4896 [==============================] - 2s 427us/step - loss: 0.4030 - accuracy: 0.8168 - val_loss: 0.4118 - val_accuracy: 0.8344\n",
      "Epoch 183/250\n",
      "4896/4896 [==============================] - 2s 439us/step - loss: 0.3973 - accuracy: 0.8129 - val_loss: 0.4713 - val_accuracy: 0.7745\n",
      "Epoch 184/250\n",
      "4896/4896 [==============================] - 2s 432us/step - loss: 0.4074 - accuracy: 0.8123 - val_loss: 0.4031 - val_accuracy: 0.8006\n",
      "Epoch 185/250\n",
      "4896/4896 [==============================] - 2s 413us/step - loss: 0.3840 - accuracy: 0.8248 - val_loss: 0.4122 - val_accuracy: 0.8144\n",
      "Epoch 186/250\n",
      "4896/4896 [==============================] - 2s 420us/step - loss: 0.3905 - accuracy: 0.8209 - val_loss: 0.4123 - val_accuracy: 0.8252\n",
      "Epoch 187/250\n",
      "4896/4896 [==============================] - 2s 487us/step - loss: 0.3856 - accuracy: 0.8170 - val_loss: 0.4047 - val_accuracy: 0.8083\n",
      "Epoch 188/250\n",
      "4896/4896 [==============================] - 2s 479us/step - loss: 0.3892 - accuracy: 0.8188 - val_loss: 0.4965 - val_accuracy: 0.7745\n",
      "Epoch 189/250\n",
      "4896/4896 [==============================] - 3s 524us/step - loss: 0.3973 - accuracy: 0.8121 - val_loss: 0.4200 - val_accuracy: 0.8021\n",
      "Epoch 190/250\n",
      "4896/4896 [==============================] - 2s 483us/step - loss: 0.3843 - accuracy: 0.8152 - val_loss: 0.4076 - val_accuracy: 0.7960\n",
      "Epoch 191/250\n",
      "4896/4896 [==============================] - 2s 349us/step - loss: 0.3900 - accuracy: 0.8203 - val_loss: 0.4074 - val_accuracy: 0.8344\n",
      "Epoch 192/250\n",
      "4896/4896 [==============================] - 2s 461us/step - loss: 0.3912 - accuracy: 0.8154 - val_loss: 0.3841 - val_accuracy: 0.8313\n",
      "Epoch 193/250\n",
      "4896/4896 [==============================] - 2s 437us/step - loss: 0.3795 - accuracy: 0.8194 - val_loss: 0.3998 - val_accuracy: 0.8160\n",
      "Epoch 194/250\n",
      "4896/4896 [==============================] - 2s 407us/step - loss: 0.3899 - accuracy: 0.8139 - val_loss: 0.3977 - val_accuracy: 0.8298\n",
      "Epoch 195/250\n",
      "4896/4896 [==============================] - 1s 295us/step - loss: 0.3910 - accuracy: 0.8150 - val_loss: 0.4393 - val_accuracy: 0.7837\n",
      "Epoch 196/250\n",
      "4896/4896 [==============================] - 1s 298us/step - loss: 0.3910 - accuracy: 0.8186 - val_loss: 0.4278 - val_accuracy: 0.8129\n",
      "Epoch 197/250\n",
      "4896/4896 [==============================] - 1s 301us/step - loss: 0.3869 - accuracy: 0.8205 - val_loss: 0.3849 - val_accuracy: 0.8313\n",
      "Epoch 198/250\n",
      "4896/4896 [==============================] - 2s 339us/step - loss: 0.3714 - accuracy: 0.8286 - val_loss: 0.3747 - val_accuracy: 0.8160\n",
      "Epoch 199/250\n",
      "4896/4896 [==============================] - 2s 391us/step - loss: 0.3761 - accuracy: 0.8260 - val_loss: 0.3988 - val_accuracy: 0.8113\n",
      "Epoch 200/250\n",
      "4896/4896 [==============================] - 2s 320us/step - loss: 0.3775 - accuracy: 0.8184 - val_loss: 0.4108 - val_accuracy: 0.8067\n",
      "Epoch 201/250\n",
      "4896/4896 [==============================] - 2s 316us/step - loss: 0.3794 - accuracy: 0.8243 - val_loss: 0.4024 - val_accuracy: 0.8298\n",
      "Epoch 202/250\n",
      "4896/4896 [==============================] - 2s 320us/step - loss: 0.3768 - accuracy: 0.8262 - val_loss: 0.3836 - val_accuracy: 0.8436\n",
      "Epoch 203/250\n",
      "4896/4896 [==============================] - 2s 310us/step - loss: 0.3977 - accuracy: 0.8135 - val_loss: 0.3897 - val_accuracy: 0.8282\n",
      "Epoch 204/250\n",
      "4896/4896 [==============================] - 1s 298us/step - loss: 0.3726 - accuracy: 0.8182 - val_loss: 0.3992 - val_accuracy: 0.8252\n",
      "Epoch 205/250\n",
      "4896/4896 [==============================] - 1s 305us/step - loss: 0.3756 - accuracy: 0.8262 - val_loss: 0.4087 - val_accuracy: 0.8098\n",
      "Epoch 206/250\n",
      "4896/4896 [==============================] - 1s 287us/step - loss: 0.3751 - accuracy: 0.8194 - val_loss: 0.4132 - val_accuracy: 0.8175\n",
      "Epoch 207/250\n",
      "4896/4896 [==============================] - 1s 300us/step - loss: 0.3686 - accuracy: 0.8311 - val_loss: 0.4055 - val_accuracy: 0.8052\n",
      "Epoch 208/250\n",
      "4896/4896 [==============================] - 1s 291us/step - loss: 0.3835 - accuracy: 0.8233 - val_loss: 0.3770 - val_accuracy: 0.8512\n",
      "Epoch 209/250\n",
      "4896/4896 [==============================] - 2s 317us/step - loss: 0.3704 - accuracy: 0.8229 - val_loss: 0.3866 - val_accuracy: 0.8359\n",
      "Epoch 210/250\n",
      "4896/4896 [==============================] - 1s 293us/step - loss: 0.3680 - accuracy: 0.8288 - val_loss: 0.4195 - val_accuracy: 0.8006\n",
      "Epoch 211/250\n",
      "4896/4896 [==============================] - 2s 310us/step - loss: 0.3690 - accuracy: 0.8288 - val_loss: 0.3983 - val_accuracy: 0.8313\n",
      "Epoch 212/250\n",
      "4896/4896 [==============================] - 2s 314us/step - loss: 0.3797 - accuracy: 0.8223 - val_loss: 0.4118 - val_accuracy: 0.8067\n",
      "Epoch 213/250\n",
      "4896/4896 [==============================] - 2s 317us/step - loss: 0.3722 - accuracy: 0.8297 - val_loss: 0.3960 - val_accuracy: 0.8206\n",
      "Epoch 214/250\n",
      "4896/4896 [==============================] - 2s 310us/step - loss: 0.3690 - accuracy: 0.8215 - val_loss: 0.4167 - val_accuracy: 0.8175\n",
      "Epoch 215/250\n",
      "4896/4896 [==============================] - 2s 332us/step - loss: 0.3776 - accuracy: 0.8258 - val_loss: 0.3853 - val_accuracy: 0.8405\n",
      "Epoch 216/250\n",
      "4896/4896 [==============================] - 2s 334us/step - loss: 0.3795 - accuracy: 0.8297 - val_loss: 0.3816 - val_accuracy: 0.8282\n",
      "Epoch 217/250\n",
      "4896/4896 [==============================] - 2s 323us/step - loss: 0.3841 - accuracy: 0.8227 - val_loss: 0.3813 - val_accuracy: 0.8144\n",
      "Epoch 218/250\n",
      "4896/4896 [==============================] - 2s 318us/step - loss: 0.3706 - accuracy: 0.8327 - val_loss: 0.3967 - val_accuracy: 0.8221\n",
      "Epoch 219/250\n",
      "4896/4896 [==============================] - 2s 311us/step - loss: 0.3649 - accuracy: 0.8297 - val_loss: 0.3903 - val_accuracy: 0.8267\n",
      "Epoch 220/250\n",
      "4896/4896 [==============================] - 2s 351us/step - loss: 0.3690 - accuracy: 0.8286 - val_loss: 0.3959 - val_accuracy: 0.8190\n",
      "Epoch 221/250\n"
     ]
    },
    {
     "name": "stdout",
     "output_type": "stream",
     "text": [
      "4896/4896 [==============================] - 1s 287us/step - loss: 0.3676 - accuracy: 0.8301 - val_loss: 0.4221 - val_accuracy: 0.8206\n",
      "Epoch 222/250\n",
      "4896/4896 [==============================] - 1s 304us/step - loss: 0.3630 - accuracy: 0.8307 - val_loss: 0.3702 - val_accuracy: 0.8282\n",
      "Epoch 223/250\n",
      "4896/4896 [==============================] - 1s 295us/step - loss: 0.3759 - accuracy: 0.8203 - val_loss: 0.3898 - val_accuracy: 0.8144\n",
      "Epoch 224/250\n",
      "4896/4896 [==============================] - 1s 296us/step - loss: 0.3763 - accuracy: 0.8266 - val_loss: 0.3995 - val_accuracy: 0.8221\n",
      "Epoch 225/250\n",
      "4896/4896 [==============================] - 1s 288us/step - loss: 0.3651 - accuracy: 0.8256 - val_loss: 0.3712 - val_accuracy: 0.8359\n",
      "Epoch 226/250\n",
      "4896/4896 [==============================] - 1s 300us/step - loss: 0.3677 - accuracy: 0.8288 - val_loss: 0.3873 - val_accuracy: 0.8129\n",
      "Epoch 227/250\n",
      "4896/4896 [==============================] - 1s 302us/step - loss: 0.3652 - accuracy: 0.8329 - val_loss: 0.4018 - val_accuracy: 0.8298\n",
      "Epoch 228/250\n",
      "4896/4896 [==============================] - 1s 288us/step - loss: 0.3583 - accuracy: 0.8391 - val_loss: 0.3824 - val_accuracy: 0.8206\n",
      "Epoch 229/250\n",
      "4896/4896 [==============================] - 1s 306us/step - loss: 0.3569 - accuracy: 0.8327 - val_loss: 0.3797 - val_accuracy: 0.8466\n",
      "Epoch 230/250\n",
      "4896/4896 [==============================] - 1s 292us/step - loss: 0.3526 - accuracy: 0.8309 - val_loss: 0.3596 - val_accuracy: 0.8482\n",
      "Epoch 231/250\n",
      "4896/4896 [==============================] - 2s 339us/step - loss: 0.3639 - accuracy: 0.8288 - val_loss: 0.4086 - val_accuracy: 0.8129\n",
      "Epoch 232/250\n",
      "4896/4896 [==============================] - 1s 302us/step - loss: 0.3571 - accuracy: 0.8290 - val_loss: 0.3842 - val_accuracy: 0.8160\n",
      "Epoch 233/250\n",
      "4896/4896 [==============================] - 2s 328us/step - loss: 0.3577 - accuracy: 0.8299 - val_loss: 0.4151 - val_accuracy: 0.7975\n",
      "Epoch 234/250\n",
      "4896/4896 [==============================] - 2s 331us/step - loss: 0.3687 - accuracy: 0.8262 - val_loss: 0.3914 - val_accuracy: 0.8267\n",
      "Epoch 235/250\n",
      "4896/4896 [==============================] - 2s 335us/step - loss: 0.3780 - accuracy: 0.8268 - val_loss: 0.3627 - val_accuracy: 0.8420\n",
      "Epoch 236/250\n",
      "4896/4896 [==============================] - 2s 339us/step - loss: 0.3547 - accuracy: 0.8297 - val_loss: 0.3822 - val_accuracy: 0.8267\n",
      "Epoch 237/250\n",
      "4896/4896 [==============================] - 2s 307us/step - loss: 0.3548 - accuracy: 0.8352 - val_loss: 0.3936 - val_accuracy: 0.8067\n",
      "Epoch 238/250\n",
      "4896/4896 [==============================] - 1s 292us/step - loss: 0.3526 - accuracy: 0.8309 - val_loss: 0.3570 - val_accuracy: 0.8574\n",
      "Epoch 239/250\n",
      "4896/4896 [==============================] - 1s 288us/step - loss: 0.3661 - accuracy: 0.8321 - val_loss: 0.3867 - val_accuracy: 0.8313\n",
      "Epoch 240/250\n",
      "4896/4896 [==============================] - 2s 359us/step - loss: 0.3557 - accuracy: 0.8378 - val_loss: 0.3896 - val_accuracy: 0.8021\n",
      "Epoch 241/250\n",
      "4896/4896 [==============================] - 2s 312us/step - loss: 0.3574 - accuracy: 0.8337 - val_loss: 0.3692 - val_accuracy: 0.8390\n",
      "Epoch 242/250\n",
      "4896/4896 [==============================] - 1s 300us/step - loss: 0.3608 - accuracy: 0.8276 - val_loss: 0.3750 - val_accuracy: 0.8344\n",
      "Epoch 243/250\n",
      "4896/4896 [==============================] - 2s 465us/step - loss: 0.3456 - accuracy: 0.8399 - val_loss: 0.3507 - val_accuracy: 0.8420\n",
      "Epoch 244/250\n",
      "4896/4896 [==============================] - 2s 431us/step - loss: 0.3568 - accuracy: 0.8305 - val_loss: 0.3708 - val_accuracy: 0.8405\n",
      "Epoch 245/250\n",
      "4896/4896 [==============================] - 2s 341us/step - loss: 0.3625 - accuracy: 0.8243 - val_loss: 0.3696 - val_accuracy: 0.8313\n",
      "Epoch 246/250\n",
      "4896/4896 [==============================] - 2s 327us/step - loss: 0.3479 - accuracy: 0.8395 - val_loss: 0.3719 - val_accuracy: 0.8175\n",
      "Epoch 247/250\n",
      "4896/4896 [==============================] - 2s 353us/step - loss: 0.3504 - accuracy: 0.8350 - val_loss: 0.3766 - val_accuracy: 0.8267\n",
      "Epoch 248/250\n",
      "4896/4896 [==============================] - 2s 355us/step - loss: 0.3501 - accuracy: 0.8358 - val_loss: 0.4007 - val_accuracy: 0.8221\n",
      "Epoch 249/250\n",
      "4896/4896 [==============================] - 1s 301us/step - loss: 0.3528 - accuracy: 0.8329 - val_loss: 0.4228 - val_accuracy: 0.8313\n",
      "Epoch 250/250\n",
      "4896/4896 [==============================] - 1s 300us/step - loss: 0.3639 - accuracy: 0.8286 - val_loss: 0.3764 - val_accuracy: 0.8328\n"
     ]
    }
   ],
   "source": [
    "EPOCHS = 250\n",
    "\n",
    "H = classifier.fit(x_train, lab_red_train,\n",
    "                  epochs = EPOCHS,\n",
    "                  batch_size = 128,\n",
    "                  shuffle = True,\n",
    "                  validation_data=(x_val, lab_red_val))"
   ]
  },
  {
   "cell_type": "markdown",
   "metadata": {},
   "source": [
    "# Evaluate the network - display netowork stats and save plots"
   ]
  },
  {
   "cell_type": "code",
   "execution_count": 47,
   "metadata": {},
   "outputs": [
    {
     "data": {
      "image/png": "[encoded data removed]",
      "text/plain": [
       "<Figure size 432x288 with 1 Axes>"
      ]
     },
     "metadata": {},
     "output_type": "display_data"
    }
   ],
   "source": [
    "# plot the training loss and accuracy for each epoch\n",
    "N = np.arange(0,EPOCHS)\n",
    "plt.figure()\n",
    "plt.style.use(\"ggplot\")\n",
    "plt.plot(N, H.history[\"loss\"], label=\"train_loss\")\n",
    "plt.plot(N, H.history[\"val_loss\"], label=\"val_loss\")\n",
    "plt.plot(N, H.history[\"accuracy\"], label=\"train_accuracy\")\n",
    "plt.plot(N, H.history[\"val_accuracy\"], label=\"val_accuracy\")\n",
    "plt.title(\"Predicting Redshift\")\n",
    "plt.xlabel(\"Epoch #\")\n",
    "plt.ylabel(\"Loss/Accuracy\")\n",
    "plt.legend()\n",
    "plt.savefig(\"training_perf_250_arch_03.0_pred_redshift_with_encoder.png\")\n",
    "plt.show()"
   ]
  },
  {
   "cell_type": "markdown",
   "metadata": {},
   "source": [
    "# Save the weights"
   ]
  },
  {
   "cell_type": "code",
   "execution_count": 48,
   "metadata": {},
   "outputs": [],
   "source": [
    "classifier.save(\"keras_arch_03.0_with_encoder_redshift_predict.model\")"
   ]
  },
  {
   "cell_type": "markdown",
   "metadata": {},
   "source": [
    "# Make prediction"
   ]
  },
  {
   "cell_type": "code",
   "execution_count": 49,
   "metadata": {},
   "outputs": [
    {
     "name": "stdout",
     "output_type": "stream",
     "text": [
      "(980, 17) (980, 17)\n"
     ]
    }
   ],
   "source": [
    "pred = classifier.predict(x_test)\n",
    "print(pred.shape, lab_red_test.shape)\n",
    "l = len(pred)"
   ]
  },
  {
   "cell_type": "code",
   "execution_count": 54,
   "metadata": {},
   "outputs": [],
   "source": [
    "right,wrong = 0,0\n",
    "for i in range(len(pred)):\n",
    "    if pred[i].all()==lab_red_test[i].all(): right+=1\n",
    "    else: wrong+=1\n",
    "count = right+wrong"
   ]
  },
  {
   "cell_type": "code",
   "execution_count": 52,
   "metadata": {},
   "outputs": [
    {
     "name": "stdout",
     "output_type": "stream",
     "text": [
      "percentage correctly classified\n",
      " 100.0\n"
     ]
    }
   ],
   "source": [
    "print(\"percentage correctly classified\\n\",\n",
    "     100.0*float(right)/count)"
   ]
  },
  {
   "cell_type": "code",
   "execution_count": null,
   "metadata": {},
   "outputs": [],
   "source": []
  },
  {
   "cell_type": "code",
   "execution_count": null,
   "metadata": {},
   "outputs": [],
   "source": []
  }
 ],
 "metadata": {
  "kernelspec": {
   "display_name": "Python 3",
   "language": "python",
   "name": "python3"
  },
  "language_info": {
   "codemirror_mode": {
    "name": "ipython",
    "version": 3
   },
   "file_extension": ".py",
   "mimetype": "text/x-python",
   "name": "python",
   "nbconvert_exporter": "python",
   "pygments_lexer": "ipython3",
   "version": "3.7.3"
  }
 },
 "nbformat": 4,
 "nbformat_minor": 2
}
