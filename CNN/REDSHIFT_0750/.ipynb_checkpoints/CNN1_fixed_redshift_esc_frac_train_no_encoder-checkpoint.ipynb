{
 "cells": [
  {
   "cell_type": "markdown",
   "metadata": {},
   "source": [
    "# Import statements"
   ]
  },
  {
   "cell_type": "code",
   "execution_count": 1,
   "metadata": {},
   "outputs": [
    {
     "name": "stderr",
     "output_type": "stream",
     "text": [
      "Using TensorFlow backend.\n"
     ]
    },
    {
     "name": "stdout",
     "output_type": "stream",
     "text": [
      "keras is using tensorflow as the backend\n"
     ]
    }
   ],
   "source": [
    "import numpy as np\n",
    "import matplotlib.pyplot as plt\n",
    "import matplotlib as mpl\n",
    "import sklearn\n",
    "import random\n",
    "import os\n",
    "import sys\n",
    "\n",
    "# import keras\n",
    "import keras\n",
    "from keras import backend as K\n",
    "backend_keras = keras.backend.backend()\n",
    "print(\"keras is using\", backend_keras, \"as the backend\")\n",
    "from keras.layers import Input, Dense, Conv2D, MaxPooling2D, UpSampling2D, Flatten\n",
    "from keras.models import Model, load_model, Sequential\n",
    "\n",
    "# for training\n",
    "# https://keras.io/optimizers/ - list of optimizers, keras documentation\n",
    "from keras.optimizers import SGD, Nadam, Adamax, Adam, Adadelta, Adagrad, RMSprop, SGD\n"
   ]
  },
  {
   "cell_type": "markdown",
   "metadata": {},
   "source": [
    "# Load preprocessed data\n",
    "These are the ones which have been created with the keras notebook"
   ]
  },
  {
   "cell_type": "code",
   "execution_count": 2,
   "metadata": {},
   "outputs": [],
   "source": [
    "#os.listdir()"
   ]
  },
  {
   "cell_type": "code",
   "execution_count": 3,
   "metadata": {},
   "outputs": [
    {
     "name": "stdout",
     "output_type": "stream",
     "text": [
      "(2160, 200, 200, 1)\n",
      "(240, 200, 200, 1)\n",
      "(2160, 12)\n",
      "(240, 12)\n"
     ]
    }
   ],
   "source": [
    "x_train_raw = np.load(\"redshift0750_data_train.npy\")\n",
    "x_test_raw = np.load(\"redshift0750_data_test.npy\")\n",
    "y_train_val = np.load(\"redshift0750_labels_train.npy\")\n",
    "y_test = np.load(\"redshift0750_labels_test.npy\")\n",
    "\n",
    "print(x_train_raw.shape)\n",
    "print(x_test_raw.shape)\n",
    "print(y_train_val.shape)\n",
    "print(y_test.shape)"
   ]
  },
  {
   "cell_type": "markdown",
   "metadata": {},
   "source": [
    "### train val split"
   ]
  },
  {
   "cell_type": "code",
   "execution_count": 6,
   "metadata": {},
   "outputs": [
    {
     "name": "stdout",
     "output_type": "stream",
     "text": [
      "(1836, 200, 200, 1)\n",
      "(324, 200, 200, 1)\n",
      "(1836, 12)\n",
      "(324, 12)\n"
     ]
    }
   ],
   "source": [
    "ratio = 0.85\n",
    "cut = int(len(x_train_raw)*ratio)\n",
    "x_train = x_train_raw[:cut]\n",
    "x_val = x_train_raw[cut:]\n",
    "y_train = y_train_val[:cut]\n",
    "y_val = y_train_val[cut:]\n",
    "\n",
    "print(x_train.shape)\n",
    "print(x_val.shape)\n",
    "print(y_train.shape)\n",
    "print(y_val.shape)"
   ]
  },
  {
   "cell_type": "markdown",
   "metadata": {},
   "source": [
    "# Define the CNN architecture\n",
    "\n",
    "Remember this one is a 12 class problem\n",
    "Resourses used:\n",
    "- Guid for implementing keras CNN https://towardsdatascience.com/image-recognition-with-keras-convolutional-neural-networks-e2af10a10114\n",
    "- Guid to Sequential Model : https://keras.io/getting-started/sequential-model-guide/\n",
    "- how padding works https://stackoverflow.com/questions/45013060/how-to-do-zero-padding-in-keras-conv-layer#45013181"
   ]
  },
  {
   "cell_type": "markdown",
   "metadata": {},
   "source": [
    "Note : at the bottom of this cell the activation was 'sigmoid', I changed it to 'softmax' in the hope that this would allow me to plot the accuracy of the classifier. Also I think with softmax it will give me a definite answer..."
   ]
  },
  {
   "cell_type": "code",
   "execution_count": 133,
   "metadata": {},
   "outputs": [],
   "source": [
    "classifier = Sequential()\n",
    "\n",
    "# padding = 'valid' means that i reduce dimentionality a little\n",
    "\n",
    "# extract features\n",
    "classifier.add(Conv2D(16, (3,3), input_shape=(200,200,1),\n",
    "                      activation='relu', padding='valid'))\n",
    "# reduce dimensionality, keep most important info\n",
    "classifier.add(MaxPooling2D(pool_size=(2,2)))\n",
    "\n",
    "# add a second layer, again with no padding\n",
    "classifier.add(Conv2D(8, (3,3), activation='relu', padding='valid'))\n",
    "\n",
    "# pool again\n",
    "classifier.add(MaxPooling2D(pool_size=(2,2)))\n",
    "\n",
    "# Here I flatten and then guess the class\n",
    "classifier.add(Flatten())\n",
    "\n",
    "# fully connected layers: ensures connections to all activations in prev layer\n",
    "\n",
    "classifier.add(Dense(units=12, activation='softmax'))"
   ]
  },
  {
   "cell_type": "code",
   "execution_count": null,
   "metadata": {},
   "outputs": [],
   "source": []
  },
  {
   "cell_type": "markdown",
   "metadata": {},
   "source": [
    "# Alternative Architecutres"
   ]
  },
  {
   "cell_type": "code",
   "execution_count": 141,
   "metadata": {},
   "outputs": [],
   "source": [
    "classifier = Sequential()\n",
    "\n",
    "# padding = 'valid' means that i reduce dimentionality a little\n",
    "\n",
    "# extract features\n",
    "classifier.add(Conv2D(16, (3,3), input_shape=(25,25,8),\n",
    "                      activation='relu', padding='valid'))\n",
    "\n",
    "classifier.add(Conv2D(16, (3,3), activation='relu', padding='valid'))\n",
    "classifier.add(Conv2D(8, (3,3), activation='relu', padding='valid'))\n",
    "classifier.add(Conv2D(8, (3,3), activation='relu', padding='valid'))\n",
    "\n",
    "classifier.add(Flatten())\n",
    "\n",
    "# fully connected layers: ensures connections to all activations in prev layer\n",
    "classifier.add(Dense(units=256, activation='relu'))\n",
    "classifier.add(Dense(units=12, activation='softmax'))"
   ]
  },
  {
   "cell_type": "code",
   "execution_count": null,
   "metadata": {},
   "outputs": [],
   "source": []
  },
  {
   "cell_type": "code",
   "execution_count": null,
   "metadata": {},
   "outputs": [],
   "source": []
  },
  {
   "cell_type": "markdown",
   "metadata": {},
   "source": [
    "# Choose optimizer and compile netowrk\n",
    "sparse_categorical"
   ]
  },
  {
   "cell_type": "code",
   "execution_count": 142,
   "metadata": {},
   "outputs": [
    {
     "name": "stdout",
     "output_type": "stream",
     "text": [
      "printing summary of model\n",
      "Model: \"sequential_24\"\n",
      "_________________________________________________________________\n",
      "Layer (type)                 Output Shape              Param #   \n",
      "=================================================================\n",
      "conv2d_49 (Conv2D)           (None, 23, 23, 16)        1168      \n",
      "_________________________________________________________________\n",
      "conv2d_50 (Conv2D)           (None, 21, 21, 16)        2320      \n",
      "_________________________________________________________________\n",
      "conv2d_51 (Conv2D)           (None, 19, 19, 8)         1160      \n",
      "_________________________________________________________________\n",
      "conv2d_52 (Conv2D)           (None, 17, 17, 8)         584       \n",
      "_________________________________________________________________\n",
      "flatten_21 (Flatten)         (None, 2312)              0         \n",
      "_________________________________________________________________\n",
      "dense_24 (Dense)             (None, 256)               592128    \n",
      "_________________________________________________________________\n",
      "dense_25 (Dense)             (None, 12)                3084      \n",
      "=================================================================\n",
      "Total params: 600,444\n",
      "Trainable params: 600,444\n",
      "Non-trainable params: 0\n",
      "_________________________________________________________________\n"
     ]
    }
   ],
   "source": [
    "opt = Adam(learning_rate=0.003, beta_1=0.9, beta_2=0.999, amsgrad=True)\n",
    "classifier.compile(optimizer=opt, \n",
    "                   loss='categorical_crossentropy',\n",
    "                   metrics=[\"accuracy\"])\n",
    "print(\"printing summary of model\")\n",
    "classifier.summary()"
   ]
  },
  {
   "cell_type": "markdown",
   "metadata": {},
   "source": [
    "# Train the network"
   ]
  },
  {
   "cell_type": "code",
   "execution_count": null,
   "metadata": {
    "scrolled": true
   },
   "outputs": [
    {
     "name": "stdout",
     "output_type": "stream",
     "text": [
      "Train on 1836 samples, validate on 324 samples\n",
      "Epoch 1/100\n",
      "1836/1836 [==============================] - 2s 1ms/step - loss: 2.4651 - accuracy: 0.1057 - val_loss: 2.3316 - val_accuracy: 0.1389\n",
      "Epoch 2/100\n",
      "1836/1836 [==============================] - 2s 977us/step - loss: 2.1821 - accuracy: 0.1923 - val_loss: 1.9743 - val_accuracy: 0.1728\n",
      "Epoch 3/100\n",
      "1836/1836 [==============================] - 2s 898us/step - loss: 1.7194 - accuracy: 0.3028 - val_loss: 1.5634 - val_accuracy: 0.3117\n",
      "Epoch 4/100\n",
      "1836/1836 [==============================] - 2s 1ms/step - loss: 1.6892 - accuracy: 0.3263 - val_loss: 1.5515 - val_accuracy: 0.4198\n",
      "Epoch 5/100\n",
      "1836/1836 [==============================] - 2s 896us/step - loss: 1.5551 - accuracy: 0.3519 - val_loss: 1.4480 - val_accuracy: 0.4444\n",
      "Epoch 6/100\n",
      "1836/1836 [==============================] - 1s 761us/step - loss: 1.2792 - accuracy: 0.5120 - val_loss: 1.2155 - val_accuracy: 0.4722\n",
      "Epoch 7/100\n",
      "1836/1836 [==============================] - 2s 924us/step - loss: 1.3445 - accuracy: 0.4760 - val_loss: 1.5514 - val_accuracy: 0.3333\n",
      "Epoch 8/100\n",
      "1836/1836 [==============================] - 1s 733us/step - loss: 1.3427 - accuracy: 0.4352 - val_loss: 1.2325 - val_accuracy: 0.5247\n",
      "Epoch 9/100\n",
      "1836/1836 [==============================] - 2s 971us/step - loss: 1.0866 - accuracy: 0.6182 - val_loss: 1.0864 - val_accuracy: 0.5216\n",
      "Epoch 10/100\n",
      "1836/1836 [==============================] - 2s 930us/step - loss: 0.9385 - accuracy: 0.6275 - val_loss: 1.0094 - val_accuracy: 0.5123\n",
      "Epoch 11/100\n",
      "1836/1836 [==============================] - 2s 818us/step - loss: 0.8827 - accuracy: 0.6198 - val_loss: 0.8926 - val_accuracy: 0.5586\n",
      "Epoch 12/100\n",
      "1836/1836 [==============================] - 2s 970us/step - loss: 1.5403 - accuracy: 0.5354 - val_loss: 1.2685 - val_accuracy: 0.4938\n",
      "Epoch 13/100\n",
      "1836/1836 [==============================] - 2s 862us/step - loss: 1.3843 - accuracy: 0.4221 - val_loss: 1.2005 - val_accuracy: 0.4815\n",
      "Epoch 14/100\n",
      "1836/1836 [==============================] - 2s 1ms/step - loss: 1.0949 - accuracy: 0.5784 - val_loss: 1.1329 - val_accuracy: 0.4784\n",
      "Epoch 15/100\n",
      "1836/1836 [==============================] - 2s 1ms/step - loss: 0.9344 - accuracy: 0.6656 - val_loss: 1.0109 - val_accuracy: 0.5278\n",
      "Epoch 16/100\n",
      "1836/1836 [==============================] - 2s 939us/step - loss: 0.8598 - accuracy: 0.6596 - val_loss: 1.0050 - val_accuracy: 0.5247\n",
      "Epoch 17/100\n",
      "1836/1836 [==============================] - 2s 1ms/step - loss: 0.7768 - accuracy: 0.6846 - val_loss: 0.9002 - val_accuracy: 0.5833\n",
      "Epoch 18/100\n",
      "1836/1836 [==============================] - 2s 858us/step - loss: 0.6876 - accuracy: 0.7184 - val_loss: 1.4068 - val_accuracy: 0.3951\n",
      "Epoch 19/100\n",
      "1836/1836 [==============================] - 2s 942us/step - loss: 0.7249 - accuracy: 0.6803 - val_loss: 0.8045 - val_accuracy: 0.6080\n",
      "Epoch 20/100\n",
      "1836/1836 [==============================] - 2s 1000us/step - loss: 0.6326 - accuracy: 0.7326 - val_loss: 1.1225 - val_accuracy: 0.4691\n",
      "Epoch 21/100\n",
      "1836/1836 [==============================] - 2s 936us/step - loss: 0.6177 - accuracy: 0.7260 - val_loss: 0.7178 - val_accuracy: 0.6296\n",
      "Epoch 22/100\n",
      "1836/1836 [==============================] - 2s 958us/step - loss: 1.0066 - accuracy: 0.6574 - val_loss: 0.9338 - val_accuracy: 0.5556\n",
      "Epoch 23/100\n",
      "1836/1836 [==============================] - 2s 920us/step - loss: 1.5734 - accuracy: 0.4401 - val_loss: 1.2614 - val_accuracy: 0.4290\n",
      "Epoch 24/100\n",
      "1836/1836 [==============================] - 2s 1ms/step - loss: 0.9925 - accuracy: 0.5910 - val_loss: 1.0511 - val_accuracy: 0.5000\n",
      "Epoch 25/100\n",
      "1836/1836 [==============================] - 2s 974us/step - loss: 0.8329 - accuracy: 0.7075 - val_loss: 0.9047 - val_accuracy: 0.5463\n",
      "Epoch 26/100\n",
      "1836/1836 [==============================] - 2s 1ms/step - loss: 0.7186 - accuracy: 0.7429 - val_loss: 0.8681 - val_accuracy: 0.5988\n",
      "Epoch 27/100\n",
      "1836/1836 [==============================] - 2s 942us/step - loss: 0.6382 - accuracy: 0.7756 - val_loss: 0.8210 - val_accuracy: 0.5957\n",
      "Epoch 28/100\n",
      "1836/1836 [==============================] - 2s 939us/step - loss: 0.5789 - accuracy: 0.7936 - val_loss: 0.7400 - val_accuracy: 0.6080\n",
      "Epoch 29/100\n",
      "1836/1836 [==============================] - 2s 1ms/step - loss: 0.5422 - accuracy: 0.7827 - val_loss: 0.7773 - val_accuracy: 0.5833\n",
      "Epoch 30/100\n",
      "1836/1836 [==============================] - 2s 1ms/step - loss: 0.5326 - accuracy: 0.7734 - val_loss: 0.6868 - val_accuracy: 0.6759\n",
      "Epoch 31/100\n",
      "1836/1836 [==============================] - 2s 957us/step - loss: 0.4664 - accuracy: 0.8388 - val_loss: 0.8410 - val_accuracy: 0.5802\n",
      "Epoch 32/100\n",
      "1836/1836 [==============================] - 2s 963us/step - loss: 0.6440 - accuracy: 0.7042 - val_loss: 0.8119 - val_accuracy: 0.5833\n",
      "Epoch 33/100\n",
      "1836/1836 [==============================] - 2s 993us/step - loss: 0.5592 - accuracy: 0.7456 - val_loss: 0.7451 - val_accuracy: 0.5957\n",
      "Epoch 34/100\n",
      "1836/1836 [==============================] - 2s 892us/step - loss: 0.7655 - accuracy: 0.6438 - val_loss: 0.9614 - val_accuracy: 0.5710\n",
      "Epoch 35/100\n",
      "1836/1836 [==============================] - 2s 1ms/step - loss: 0.6450 - accuracy: 0.6836 - val_loss: 0.9539 - val_accuracy: 0.4938\n",
      "Epoch 36/100\n",
      "1836/1836 [==============================] - 2s 911us/step - loss: 0.5050 - accuracy: 0.7876 - val_loss: 0.6669 - val_accuracy: 0.6574\n",
      "Epoch 37/100\n",
      "1836/1836 [==============================] - 2s 972us/step - loss: 0.4576 - accuracy: 0.8186 - val_loss: 0.8387 - val_accuracy: 0.5525\n",
      "Epoch 38/100\n",
      "1836/1836 [==============================] - 2s 1ms/step - loss: 0.5978 - accuracy: 0.6977 - val_loss: 0.6898 - val_accuracy: 0.6759\n",
      "Epoch 39/100\n",
      "1836/1836 [==============================] - 2s 956us/step - loss: 0.4738 - accuracy: 0.7952 - val_loss: 0.6042 - val_accuracy: 0.7006\n",
      "Epoch 40/100\n",
      "1836/1836 [==============================] - 2s 930us/step - loss: 0.5094 - accuracy: 0.7609 - val_loss: 1.0625 - val_accuracy: 0.4815\n",
      "Epoch 41/100\n",
      "1836/1836 [==============================] - 2s 938us/step - loss: 0.5418 - accuracy: 0.7424 - val_loss: 0.6153 - val_accuracy: 0.7099\n",
      "Epoch 42/100\n",
      "1836/1836 [==============================] - 2s 917us/step - loss: 0.3753 - accuracy: 0.8802 - val_loss: 0.5707 - val_accuracy: 0.7315\n",
      "Epoch 43/100\n",
      "1836/1836 [==============================] - 2s 917us/step - loss: 0.4271 - accuracy: 0.8546 - val_loss: 2.9198 - val_accuracy: 0.3426\n",
      "Epoch 44/100\n",
      "1836/1836 [==============================] - 2s 932us/step - loss: 0.8618 - accuracy: 0.6536 - val_loss: 0.6719 - val_accuracy: 0.6667\n",
      "Epoch 45/100\n",
      "1836/1836 [==============================] - 2s 921us/step - loss: 0.4361 - accuracy: 0.8361 - val_loss: 0.6463 - val_accuracy: 0.6358\n",
      "Epoch 46/100\n",
      "1836/1836 [==============================] - 2s 921us/step - loss: 0.3607 - accuracy: 0.9063 - val_loss: 0.8111 - val_accuracy: 0.5370\n",
      "Epoch 47/100\n",
      "1836/1836 [==============================] - 2s 915us/step - loss: 0.3999 - accuracy: 0.8339 - val_loss: 0.5978 - val_accuracy: 0.7130\n",
      "Epoch 48/100\n",
      "1836/1836 [==============================] - 2s 931us/step - loss: 0.3736 - accuracy: 0.8486 - val_loss: 0.5265 - val_accuracy: 0.7407\n",
      "Epoch 49/100\n",
      "1836/1836 [==============================] - 2s 929us/step - loss: 0.5528 - accuracy: 0.7195 - val_loss: 1.0144 - val_accuracy: 0.5463\n",
      "Epoch 50/100\n",
      "1836/1836 [==============================] - 2s 920us/step - loss: 0.5359 - accuracy: 0.7304 - val_loss: 0.5758 - val_accuracy: 0.7037\n",
      "Epoch 51/100\n",
      "1836/1836 [==============================] - 2s 911us/step - loss: 0.6377 - accuracy: 0.7010 - val_loss: 0.8778 - val_accuracy: 0.5370\n",
      "Epoch 52/100\n",
      "1836/1836 [==============================] - 2s 956us/step - loss: 0.5886 - accuracy: 0.6901 - val_loss: 0.7372 - val_accuracy: 0.6265\n",
      "Epoch 53/100\n",
      "1836/1836 [==============================] - 2s 977us/step - loss: 0.4162 - accuracy: 0.8361 - val_loss: 0.5700 - val_accuracy: 0.7284\n",
      "Epoch 54/100\n",
      "1836/1836 [==============================] - 2s 968us/step - loss: 0.3287 - accuracy: 0.9063 - val_loss: 0.5690 - val_accuracy: 0.7191\n",
      "Epoch 55/100\n",
      "1836/1836 [==============================] - 2s 1ms/step - loss: 0.3111 - accuracy: 0.9031 - val_loss: 0.5380 - val_accuracy: 0.7593\n",
      "Epoch 56/100\n",
      "1836/1836 [==============================] - 2s 1ms/step - loss: 0.2754 - accuracy: 0.9314 - val_loss: 1.0144 - val_accuracy: 0.4938\n",
      "Epoch 57/100\n",
      "1664/1836 [==========================>...] - ETA: 0s - loss: 0.4712 - accuracy: 0.7614"
     ]
    }
   ],
   "source": [
    "EPOCHS = 100\n",
    "\n",
    "H = classifier.fit(x_train, y_train,\n",
    "                  epochs=EPOCHS,\n",
    "                  batch_size=128,\n",
    "                  shuffle=True,\n",
    "                  validation_data=(x_val, y_val))"
   ]
  },
  {
   "cell_type": "markdown",
   "metadata": {},
   "source": [
    "# Evaluate netowrk : stats and plots"
   ]
  },
  {
   "cell_type": "code",
   "execution_count": null,
   "metadata": {
    "scrolled": true
   },
   "outputs": [],
   "source": [
    "# plot the training loss and accuracy for each epoch\n",
    "N = np.arange(0,EPOCHS)\n",
    "plt.style.use(\"ggplot\")\n",
    "plt.figure()\n",
    "plt.plot(N, H.history[\"loss\"], label=\"train_loss\")\n",
    "plt.plot(N, H.history[\"val_loss\"], label=\"val_loss\")\n",
    "plt.plot(N, H.history[\"accuracy\"], label=\"train_acc\")\n",
    "plt.plot(N, H.history[\"val_accuracy\"], label=\"val_acc\")\n",
    "plt.title(\"Training Loss and Accuracy\")\n",
    "plt.xlabel(\"Epoch #\")\n",
    "plt.ylabel(\"Loss/Accuracy\")\n",
    "plt.legend()\n",
    "plt.savefig(\"training_performance_100_architecture_03.png\")\n",
    "plt.show()"
   ]
  },
  {
   "cell_type": "code",
   "execution_count": 137,
   "metadata": {},
   "outputs": [
    {
     "name": "stdout",
     "output_type": "stream",
     "text": [
      "dict_keys(['val_loss', 'val_accuracy', 'loss', 'accuracy'])\n"
     ]
    }
   ],
   "source": [
    "print(H.history.keys())\n",
    "#print(H.history[\"accuracy\"])"
   ]
  },
  {
   "cell_type": "markdown",
   "metadata": {},
   "source": [
    "# OR load trained CNN"
   ]
  },
  {
   "cell_type": "code",
   "execution_count": null,
   "metadata": {},
   "outputs": [],
   "source": []
  },
  {
   "cell_type": "markdown",
   "metadata": {},
   "source": [
    "# Make prediction"
   ]
  },
  {
   "cell_type": "code",
   "execution_count": null,
   "metadata": {},
   "outputs": [],
   "source": []
  },
  {
   "cell_type": "code",
   "execution_count": null,
   "metadata": {},
   "outputs": [],
   "source": []
  },
  {
   "cell_type": "code",
   "execution_count": null,
   "metadata": {},
   "outputs": [],
   "source": []
  },
  {
   "cell_type": "code",
   "execution_count": null,
   "metadata": {},
   "outputs": [],
   "source": []
  },
  {
   "cell_type": "code",
   "execution_count": null,
   "metadata": {},
   "outputs": [],
   "source": []
  }
 ],
 "metadata": {
  "kernelspec": {
   "display_name": "Python 3",
   "language": "python",
   "name": "python3"
  },
  "language_info": {
   "codemirror_mode": {
    "name": "ipython",
    "version": 3
   },
   "file_extension": ".py",
   "mimetype": "text/x-python",
   "name": "python",
   "nbconvert_exporter": "python",
   "pygments_lexer": "ipython3",
   "version": "3.7.3"
  }
 },
 "nbformat": 4,
 "nbformat_minor": 2
}
