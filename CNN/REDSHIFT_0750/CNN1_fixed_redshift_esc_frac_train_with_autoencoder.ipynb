{
 "cells": [
  {
   "cell_type": "markdown",
   "metadata": {},
   "source": [
    "# Import statements"
   ]
  },
  {
   "cell_type": "code",
   "execution_count": 35,
   "metadata": {},
   "outputs": [
    {
     "name": "stdout",
     "output_type": "stream",
     "text": [
      "keras is using tensorflow as the backend\n"
     ]
    }
   ],
   "source": [
    "import numpy as np\n",
    "import matplotlib.pyplot as plt\n",
    "import matplotlib as mpl\n",
    "import sklearn\n",
    "import random\n",
    "import os\n",
    "import sys\n",
    "\n",
    "# import keras\n",
    "import keras\n",
    "from keras import backend as K\n",
    "backend_keras = keras.backend.backend()\n",
    "print(\"keras is using\", backend_keras, \"as the backend\")\n",
    "from keras.layers import Input, Dense, Conv2D, MaxPooling2D, UpSampling2D, Flatten\n",
    "from keras.models import Model, load_model, Sequential\n",
    "\n",
    "# for training\n",
    "# https://keras.io/optimizers/ - list of optimizers, keras documentation\n",
    "from keras.optimizers import SGD, Nadam, Adamax, Adam, Adadelta, Adagrad, RMSprop\n"
   ]
  },
  {
   "cell_type": "markdown",
   "metadata": {},
   "source": [
    "# Load preprocessed data\n",
    "These are the ones which have been created with the keras notebook"
   ]
  },
  {
   "cell_type": "code",
   "execution_count": 36,
   "metadata": {},
   "outputs": [
    {
     "data": {
      "text/plain": [
       "['preprocessing.ipynb',\n",
       " 'CNN1_fixed_redshift_esc_frac_train_no_encoder.ipynb',\n",
       " 'redshift0750_data.npy',\n",
       " 'redshift0750_labels_test.npy',\n",
       " 'keras_architecture_01_with_encoder.model',\n",
       " 'keras_architecture_04_with_encoder.model',\n",
       " 'architecture_03.png',\n",
       " 'training_performance_250_architecture_04_autoencoder.png',\n",
       " 'training_performance_100_architecture_02_autoencoder.png',\n",
       " 'redshift0750_data_train.npy',\n",
       " 'Screenshot at 2019-11-18 02-31-25.png',\n",
       " 'architecutre_01.png',\n",
       " 'training_performance_100_architecture_01_autoencoder.png',\n",
       " 'training_performance_100_architecture_03_autoencoder.png',\n",
       " '.ipynb_checkpoints',\n",
       " 'architecture_02.png',\n",
       " 'redshift0750_labels_train.npy',\n",
       " 'redshift0750_labels.npy',\n",
       " 'redshift0750_data_test.npy',\n",
       " 'CNN1_fixed_redshift_esc_frac_train_with_autoencoder.ipynb',\n",
       " 'training_performance_no_encoder_150_architecture_01.png']"
      ]
     },
     "execution_count": 36,
     "metadata": {},
     "output_type": "execute_result"
    }
   ],
   "source": [
    "os.listdir()"
   ]
  },
  {
   "cell_type": "code",
   "execution_count": 37,
   "metadata": {},
   "outputs": [
    {
     "name": "stdout",
     "output_type": "stream",
     "text": [
      "(2160, 200, 200, 1)\n",
      "(240, 200, 200, 1)\n",
      "(2160, 12)\n",
      "(240, 12)\n"
     ]
    }
   ],
   "source": [
    "x_train_raw = np.load(\"redshift0750_data_train.npy\")\n",
    "x_test_raw = np.load(\"redshift0750_data_test.npy\")\n",
    "y_train_val = np.load(\"redshift0750_labels_train.npy\")\n",
    "y_test = np.load(\"redshift0750_labels_test.npy\")\n",
    "\n",
    "print(x_train_raw.shape)\n",
    "print(x_test_raw.shape)\n",
    "print(y_train_val.shape)\n",
    "print(y_test.shape)"
   ]
  },
  {
   "cell_type": "markdown",
   "metadata": {},
   "source": [
    "# Apply Autoencoder\n",
    "## first load the autoencoder, and extract the encoder"
   ]
  },
  {
   "cell_type": "code",
   "execution_count": 38,
   "metadata": {},
   "outputs": [],
   "source": [
    "os.listdir(\"../../Auto-Encoder Training/\")\n",
    "autoencoder = load_model(\"../../Auto-Encoder Training/autoencoder_adam_95.model\")\n"
   ]
  },
  {
   "cell_type": "code",
   "execution_count": 39,
   "metadata": {
    "scrolled": true
   },
   "outputs": [],
   "source": [
    "#autoencoder.summary()"
   ]
  },
  {
   "cell_type": "code",
   "execution_count": 40,
   "metadata": {
    "scrolled": true
   },
   "outputs": [
    {
     "name": "stdout",
     "output_type": "stream",
     "text": [
      "Model: \"model_3\"\n",
      "_________________________________________________________________\n",
      "Layer (type)                 Output Shape              Param #   \n",
      "=================================================================\n",
      "input_1 (InputLayer)         (None, 200, 200, 1)       0         \n",
      "_________________________________________________________________\n",
      "conv2d_1 (Conv2D)            (None, 200, 200, 16)      160       \n",
      "_________________________________________________________________\n",
      "max_pooling2d_1 (MaxPooling2 (None, 100, 100, 16)      0         \n",
      "_________________________________________________________________\n",
      "conv2d_2 (Conv2D)            (None, 100, 100, 8)       1160      \n",
      "_________________________________________________________________\n",
      "max_pooling2d_2 (MaxPooling2 (None, 50, 50, 8)         0         \n",
      "_________________________________________________________________\n",
      "conv2d_3 (Conv2D)            (None, 50, 50, 8)         584       \n",
      "_________________________________________________________________\n",
      "max_pooling2d_3 (MaxPooling2 (None, 25, 25, 8)         0         \n",
      "=================================================================\n",
      "Total params: 1,904\n",
      "Trainable params: 1,904\n",
      "Non-trainable params: 0\n",
      "_________________________________________________________________\n"
     ]
    }
   ],
   "source": [
    "encoder = Model(autoencoder.input, autoencoder.layers[-8].output)\n",
    "\n",
    "encoder.summary()\n",
    "\n",
    "# this stackoverflow was useful\n",
    "# https://stackoverflow.com/questions/52271644/extract-encoder-and-decoder-from-trained-autoencoder"
   ]
  },
  {
   "cell_type": "code",
   "execution_count": 41,
   "metadata": {},
   "outputs": [],
   "source": [
    "x_train_val = encoder.predict(x_train_raw)"
   ]
  },
  {
   "cell_type": "markdown",
   "metadata": {},
   "source": [
    "### train val split"
   ]
  },
  {
   "cell_type": "code",
   "execution_count": 42,
   "metadata": {},
   "outputs": [
    {
     "name": "stdout",
     "output_type": "stream",
     "text": [
      "(1836, 25, 25, 8)\n",
      "(324, 25, 25, 8)\n",
      "(1836, 12)\n",
      "(324, 12)\n"
     ]
    }
   ],
   "source": [
    "ratio = 0.85\n",
    "cut = int(len(x_train_val)*ratio)\n",
    "x_train = x_train_val[:cut]\n",
    "x_val = x_train_val[cut:]\n",
    "y_train = y_train_val[:cut]\n",
    "y_val = y_train_val[cut:]\n",
    "\n",
    "print(x_train.shape)\n",
    "print(x_val.shape)\n",
    "print(y_train.shape)\n",
    "print(y_val.shape)"
   ]
  },
  {
   "cell_type": "markdown",
   "metadata": {},
   "source": [
    "# Define the CNN architecture\n",
    "\n",
    "Remember this one is a 12 class problem\n",
    "Resourses used:\n",
    "- Guid for implementing keras CNN https://towardsdatascience.com/image-recognition-with-keras-convolutional-neural-networks-e2af10a10114\n",
    "- Guid to Sequential Model : https://keras.io/getting-started/sequential-model-guide/\n",
    "- how padding works https://stackoverflow.com/questions/45013060/how-to-do-zero-padding-in-keras-conv-layer#45013181"
   ]
  },
  {
   "cell_type": "markdown",
   "metadata": {},
   "source": [
    "Note : at the bottom of this cell the activation was 'sigmoid', I changed it to 'softmax' in the hope that this would allow me to plot the accuracy of the classifier. Also I think with softmax it will give me a definite answer..."
   ]
  },
  {
   "cell_type": "code",
   "execution_count": 43,
   "metadata": {},
   "outputs": [],
   "source": [
    "classifier = Sequential()\n",
    "\n",
    "# padding = 'valid' means that i reduce dimentionality a little\n",
    "\n",
    "# extract features\n",
    "classifier.add(Conv2D(16, (3,3), input_shape=(25,25,8),\n",
    "                      activation='relu', padding='valid'))\n",
    "# reduce dimensionality, keep most important info\n",
    "classifier.add(MaxPooling2D(pool_size=(2,2)))\n",
    "\n",
    "# add a second layer, again with no padding\n",
    "classifier.add(Conv2D(8, (3,3), activation='relu', padding='valid'))\n",
    "\n",
    "# pool again\n",
    "classifier.add(MaxPooling2D(pool_size=(2,2)))\n",
    "\n",
    "# Here I flatten and then guess the class\n",
    "classifier.add(Flatten())\n",
    "\n",
    "# fully connected layers: ensures connections to all activations in prev layer\n",
    "\n",
    "classifier.add(Dense(units=12, activation='softmax'))"
   ]
  },
  {
   "cell_type": "code",
   "execution_count": null,
   "metadata": {},
   "outputs": [],
   "source": []
  },
  {
   "cell_type": "markdown",
   "metadata": {},
   "source": [
    "# Alternative Architecutres"
   ]
  },
  {
   "cell_type": "code",
   "execution_count": 17,
   "metadata": {},
   "outputs": [],
   "source": [
    "classifier = Sequential()\n",
    "\n",
    "# padding = 'valid' means that i reduce dimentionality a little\n",
    "\n",
    "# extract features\n",
    "classifier.add(Conv2D(16, (3,3), input_shape=(25,25,8),\n",
    "                      activation='relu', padding='valid'))\n",
    "\n",
    "classifier.add(Conv2D(16, (3,3), activation='relu', padding='valid'))\n",
    "classifier.add(Conv2D(8, (3,3), activation='relu', padding='valid'))\n",
    "classifier.add(Conv2D(8, (3,3), activation='relu', padding='valid'))\n",
    "\n",
    "classifier.add(Flatten())\n",
    "\n",
    "# fully connected layers: ensures connections to all activations in prev layer\n",
    "classifier.add(Dense(units=256, activation='relu'))\n",
    "classifier.add(Dense(units=12, activation='softmax'))"
   ]
  },
  {
   "cell_type": "code",
   "execution_count": null,
   "metadata": {},
   "outputs": [],
   "source": []
  },
  {
   "cell_type": "code",
   "execution_count": null,
   "metadata": {},
   "outputs": [],
   "source": []
  },
  {
   "cell_type": "markdown",
   "metadata": {},
   "source": [
    "# Choose optimizer and compile netowrk\n",
    "sparse_categorical"
   ]
  },
  {
   "cell_type": "code",
   "execution_count": 44,
   "metadata": {},
   "outputs": [
    {
     "name": "stdout",
     "output_type": "stream",
     "text": [
      "printing summary of model\n",
      "Model: \"sequential_5\"\n",
      "_________________________________________________________________\n",
      "Layer (type)                 Output Shape              Param #   \n",
      "=================================================================\n",
      "conv2d_13 (Conv2D)           (None, 23, 23, 16)        1168      \n",
      "_________________________________________________________________\n",
      "max_pooling2d_5 (MaxPooling2 (None, 11, 11, 16)        0         \n",
      "_________________________________________________________________\n",
      "conv2d_14 (Conv2D)           (None, 9, 9, 8)           1160      \n",
      "_________________________________________________________________\n",
      "max_pooling2d_6 (MaxPooling2 (None, 4, 4, 8)           0         \n",
      "_________________________________________________________________\n",
      "flatten_5 (Flatten)          (None, 128)               0         \n",
      "_________________________________________________________________\n",
      "dense_7 (Dense)              (None, 12)                1548      \n",
      "=================================================================\n",
      "Total params: 3,876\n",
      "Trainable params: 3,876\n",
      "Non-trainable params: 0\n",
      "_________________________________________________________________\n"
     ]
    }
   ],
   "source": [
    "opt = Adam(learning_rate=0.001, beta_1=0.9, beta_2=0.999, amsgrad=True)\n",
    "classifier.compile(optimizer=opt, \n",
    "                   loss='categorical_crossentropy',\n",
    "                   metrics=[\"accuracy\"])\n",
    "print(\"printing summary of model\")\n",
    "classifier.summary()"
   ]
  },
  {
   "cell_type": "markdown",
   "metadata": {},
   "source": [
    "# Train the network"
   ]
  },
  {
   "cell_type": "code",
   "execution_count": 47,
   "metadata": {},
   "outputs": [
    {
     "name": "stdout",
     "output_type": "stream",
     "text": [
      "(1836, 25, 25, 8)\n",
      "(324, 25, 25, 8) (324, 12)\n"
     ]
    }
   ],
   "source": [
    "print(x_train.shape)\n",
    "print(x_val.shape,y_val.shape)"
   ]
  },
  {
   "cell_type": "code",
   "execution_count": 29,
   "metadata": {
    "scrolled": true
   },
   "outputs": [
    {
     "name": "stdout",
     "output_type": "stream",
     "text": [
      "Train on 1836 samples, validate on 324 samples\n",
      "Epoch 1/150\n",
      "1836/1836 [==============================] - 0s 215us/step - loss: 1.7560 - accuracy: 0.3175 - val_loss: 1.7378 - val_accuracy: 0.3426\n",
      "Epoch 2/150\n",
      "1836/1836 [==============================] - 0s 205us/step - loss: 1.7049 - accuracy: 0.3377 - val_loss: 1.6778 - val_accuracy: 0.3488\n",
      "Epoch 3/150\n",
      "1836/1836 [==============================] - 0s 214us/step - loss: 1.6579 - accuracy: 0.3513 - val_loss: 1.6409 - val_accuracy: 0.3549\n",
      "Epoch 4/150\n",
      "1836/1836 [==============================] - 0s 210us/step - loss: 1.6237 - accuracy: 0.3589 - val_loss: 1.6327 - val_accuracy: 0.3457\n",
      "Epoch 5/150\n",
      "1836/1836 [==============================] - 0s 230us/step - loss: 1.5938 - accuracy: 0.3736 - val_loss: 1.6025 - val_accuracy: 0.3426\n",
      "Epoch 6/150\n",
      "1836/1836 [==============================] - 1s 292us/step - loss: 1.5764 - accuracy: 0.3796 - val_loss: 1.5680 - val_accuracy: 0.3457\n",
      "Epoch 7/150\n",
      "1836/1836 [==============================] - 1s 363us/step - loss: 1.5440 - accuracy: 0.3802 - val_loss: 1.5731 - val_accuracy: 0.3395\n",
      "Epoch 8/150\n",
      "1836/1836 [==============================] - 1s 331us/step - loss: 1.5308 - accuracy: 0.3845 - val_loss: 1.5087 - val_accuracy: 0.4043\n",
      "Epoch 9/150\n",
      "1836/1836 [==============================] - 1s 341us/step - loss: 1.5122 - accuracy: 0.3992 - val_loss: 1.5508 - val_accuracy: 0.3426\n",
      "Epoch 10/150\n",
      "1836/1836 [==============================] - 1s 361us/step - loss: 1.5186 - accuracy: 0.3911 - val_loss: 1.4940 - val_accuracy: 0.3611\n",
      "Epoch 11/150\n",
      "1836/1836 [==============================] - 1s 336us/step - loss: 1.4877 - accuracy: 0.4003 - val_loss: 1.5552 - val_accuracy: 0.3580\n",
      "Epoch 12/150\n",
      "1836/1836 [==============================] - 1s 321us/step - loss: 1.4865 - accuracy: 0.4080 - val_loss: 1.4944 - val_accuracy: 0.3704\n",
      "Epoch 13/150\n",
      "1836/1836 [==============================] - 1s 342us/step - loss: 1.4592 - accuracy: 0.4167 - val_loss: 1.4676 - val_accuracy: 0.3889\n",
      "Epoch 14/150\n",
      "1836/1836 [==============================] - 1s 325us/step - loss: 1.4436 - accuracy: 0.4276 - val_loss: 1.4668 - val_accuracy: 0.3796\n",
      "Epoch 15/150\n",
      "1836/1836 [==============================] - 1s 362us/step - loss: 1.4405 - accuracy: 0.3987 - val_loss: 1.4392 - val_accuracy: 0.3889\n",
      "Epoch 16/150\n",
      "1836/1836 [==============================] - 1s 328us/step - loss: 1.4121 - accuracy: 0.4336 - val_loss: 1.4359 - val_accuracy: 0.3735\n",
      "Epoch 17/150\n",
      "1836/1836 [==============================] - 1s 330us/step - loss: 1.3958 - accuracy: 0.4319 - val_loss: 1.4198 - val_accuracy: 0.3827\n",
      "Epoch 18/150\n",
      "1836/1836 [==============================] - 1s 323us/step - loss: 1.3864 - accuracy: 0.4330 - val_loss: 1.4191 - val_accuracy: 0.3920\n",
      "Epoch 19/150\n",
      "1836/1836 [==============================] - 1s 322us/step - loss: 1.3818 - accuracy: 0.4395 - val_loss: 1.4045 - val_accuracy: 0.3951\n",
      "Epoch 20/150\n",
      "1836/1836 [==============================] - 1s 320us/step - loss: 1.3740 - accuracy: 0.4308 - val_loss: 1.3928 - val_accuracy: 0.4321\n",
      "Epoch 21/150\n",
      "1836/1836 [==============================] - 1s 318us/step - loss: 1.3601 - accuracy: 0.4423 - val_loss: 1.4200 - val_accuracy: 0.4043\n",
      "Epoch 22/150\n",
      "1836/1836 [==============================] - 1s 320us/step - loss: 1.3560 - accuracy: 0.4423 - val_loss: 1.4288 - val_accuracy: 0.3735\n",
      "Epoch 23/150\n",
      "1836/1836 [==============================] - 1s 353us/step - loss: 1.3563 - accuracy: 0.4357 - val_loss: 1.3619 - val_accuracy: 0.4259\n",
      "Epoch 24/150\n",
      "1836/1836 [==============================] - 1s 353us/step - loss: 1.3470 - accuracy: 0.4477 - val_loss: 1.3569 - val_accuracy: 0.3889\n",
      "Epoch 25/150\n",
      "1836/1836 [==============================] - 1s 372us/step - loss: 1.3211 - accuracy: 0.4515 - val_loss: 1.3559 - val_accuracy: 0.3981\n",
      "Epoch 26/150\n",
      "1836/1836 [==============================] - 1s 363us/step - loss: 1.3064 - accuracy: 0.4673 - val_loss: 1.3398 - val_accuracy: 0.4321\n",
      "Epoch 27/150\n",
      "1836/1836 [==============================] - 1s 367us/step - loss: 1.3061 - accuracy: 0.4570 - val_loss: 1.3428 - val_accuracy: 0.4105\n",
      "Epoch 28/150\n",
      "1836/1836 [==============================] - 1s 330us/step - loss: 1.2961 - accuracy: 0.4651 - val_loss: 1.3115 - val_accuracy: 0.4352\n",
      "Epoch 29/150\n",
      "1836/1836 [==============================] - 1s 335us/step - loss: 1.2859 - accuracy: 0.4744 - val_loss: 1.3590 - val_accuracy: 0.4475\n",
      "Epoch 30/150\n",
      "1836/1836 [==============================] - 1s 338us/step - loss: 1.2815 - accuracy: 0.4608 - val_loss: 1.3198 - val_accuracy: 0.4290\n",
      "Epoch 31/150\n",
      "1836/1836 [==============================] - 1s 349us/step - loss: 1.2785 - accuracy: 0.4793 - val_loss: 1.3165 - val_accuracy: 0.4259\n",
      "Epoch 32/150\n",
      "1836/1836 [==============================] - 1s 328us/step - loss: 1.2799 - accuracy: 0.4771 - val_loss: 1.3205 - val_accuracy: 0.4290\n",
      "Epoch 33/150\n",
      "1836/1836 [==============================] - 1s 325us/step - loss: 1.2589 - accuracy: 0.4700 - val_loss: 1.2778 - val_accuracy: 0.4506\n",
      "Epoch 34/150\n",
      "1836/1836 [==============================] - 1s 347us/step - loss: 1.2438 - accuracy: 0.4869 - val_loss: 1.2700 - val_accuracy: 0.4784\n",
      "Epoch 35/150\n",
      "1836/1836 [==============================] - 1s 328us/step - loss: 1.2459 - accuracy: 0.4897 - val_loss: 1.2754 - val_accuracy: 0.4506\n",
      "Epoch 36/150\n",
      "1836/1836 [==============================] - 1s 330us/step - loss: 1.2165 - accuracy: 0.5022 - val_loss: 1.2821 - val_accuracy: 0.4475\n",
      "Epoch 37/150\n",
      "1836/1836 [==============================] - 1s 325us/step - loss: 1.2188 - accuracy: 0.4984 - val_loss: 1.2537 - val_accuracy: 0.4660\n",
      "Epoch 38/150\n",
      "1836/1836 [==============================] - 1s 328us/step - loss: 1.2132 - accuracy: 0.4978 - val_loss: 1.2504 - val_accuracy: 0.4352\n",
      "Epoch 39/150\n",
      "1836/1836 [==============================] - 1s 322us/step - loss: 1.2123 - accuracy: 0.4995 - val_loss: 1.2526 - val_accuracy: 0.4969\n",
      "Epoch 40/150\n",
      "1836/1836 [==============================] - 1s 318us/step - loss: 1.2079 - accuracy: 0.5147 - val_loss: 1.3183 - val_accuracy: 0.4444\n",
      "Epoch 41/150\n",
      "1836/1836 [==============================] - 1s 323us/step - loss: 1.2374 - accuracy: 0.4766 - val_loss: 1.2700 - val_accuracy: 0.4290\n",
      "Epoch 42/150\n",
      "1836/1836 [==============================] - 1s 311us/step - loss: 1.2079 - accuracy: 0.4820 - val_loss: 1.2297 - val_accuracy: 0.4815\n",
      "Epoch 43/150\n",
      "1836/1836 [==============================] - 1s 320us/step - loss: 1.1792 - accuracy: 0.5103 - val_loss: 1.2331 - val_accuracy: 0.4630\n",
      "Epoch 44/150\n",
      "1836/1836 [==============================] - 1s 322us/step - loss: 1.1773 - accuracy: 0.5125 - val_loss: 1.2150 - val_accuracy: 0.4784\n",
      "Epoch 45/150\n",
      "1836/1836 [==============================] - 1s 329us/step - loss: 1.1802 - accuracy: 0.5158 - val_loss: 1.2236 - val_accuracy: 0.4444\n",
      "Epoch 46/150\n",
      "1836/1836 [==============================] - 1s 319us/step - loss: 1.1625 - accuracy: 0.5272 - val_loss: 1.2326 - val_accuracy: 0.4383\n",
      "Epoch 47/150\n",
      "1836/1836 [==============================] - 1s 326us/step - loss: 1.1586 - accuracy: 0.5169 - val_loss: 1.2434 - val_accuracy: 0.4444\n",
      "Epoch 48/150\n",
      "1836/1836 [==============================] - 1s 313us/step - loss: 1.1679 - accuracy: 0.5114 - val_loss: 1.2102 - val_accuracy: 0.4877\n",
      "Epoch 49/150\n",
      "1836/1836 [==============================] - 1s 326us/step - loss: 1.1467 - accuracy: 0.5202 - val_loss: 1.2311 - val_accuracy: 0.4784\n",
      "Epoch 50/150\n",
      "1836/1836 [==============================] - 1s 317us/step - loss: 1.1420 - accuracy: 0.5196 - val_loss: 1.2055 - val_accuracy: 0.4722\n",
      "Epoch 51/150\n",
      "1836/1836 [==============================] - 1s 319us/step - loss: 1.1295 - accuracy: 0.5414 - val_loss: 1.1802 - val_accuracy: 0.4599\n",
      "Epoch 52/150\n",
      "1836/1836 [==============================] - 1s 332us/step - loss: 1.1389 - accuracy: 0.5272 - val_loss: 1.1885 - val_accuracy: 0.5093\n",
      "Epoch 53/150\n",
      "1836/1836 [==============================] - 1s 311us/step - loss: 1.1267 - accuracy: 0.5332 - val_loss: 1.2342 - val_accuracy: 0.4537\n",
      "Epoch 54/150\n",
      "1836/1836 [==============================] - 1s 318us/step - loss: 1.1139 - accuracy: 0.5272 - val_loss: 1.1971 - val_accuracy: 0.4537\n",
      "Epoch 55/150\n",
      "1836/1836 [==============================] - 1s 316us/step - loss: 1.1219 - accuracy: 0.5381 - val_loss: 1.1827 - val_accuracy: 0.4537\n",
      "Epoch 56/150\n"
     ]
    },
    {
     "name": "stdout",
     "output_type": "stream",
     "text": [
      "1836/1836 [==============================] - 1s 302us/step - loss: 1.0978 - accuracy: 0.5468 - val_loss: 1.1569 - val_accuracy: 0.4907\n",
      "Epoch 57/150\n",
      "1836/1836 [==============================] - 1s 295us/step - loss: 1.0859 - accuracy: 0.5496 - val_loss: 1.1703 - val_accuracy: 0.4660\n",
      "Epoch 58/150\n",
      "1836/1836 [==============================] - 1s 305us/step - loss: 1.0899 - accuracy: 0.5517 - val_loss: 1.1582 - val_accuracy: 0.4784\n",
      "Epoch 59/150\n",
      "1836/1836 [==============================] - 1s 302us/step - loss: 1.0792 - accuracy: 0.5534 - val_loss: 1.1542 - val_accuracy: 0.4969\n",
      "Epoch 60/150\n",
      "1836/1836 [==============================] - 1s 306us/step - loss: 1.0853 - accuracy: 0.5550 - val_loss: 1.1782 - val_accuracy: 0.4722\n",
      "Epoch 61/150\n",
      "1836/1836 [==============================] - 1s 290us/step - loss: 1.0946 - accuracy: 0.5447 - val_loss: 1.1602 - val_accuracy: 0.4815\n",
      "Epoch 62/150\n",
      "1836/1836 [==============================] - 1s 298us/step - loss: 1.0771 - accuracy: 0.5615 - val_loss: 1.1595 - val_accuracy: 0.4969\n",
      "Epoch 63/150\n",
      "1836/1836 [==============================] - 1s 293us/step - loss: 1.0704 - accuracy: 0.5485 - val_loss: 1.1457 - val_accuracy: 0.4537\n",
      "Epoch 64/150\n",
      "1836/1836 [==============================] - 1s 293us/step - loss: 1.0621 - accuracy: 0.5474 - val_loss: 1.1271 - val_accuracy: 0.5278\n",
      "Epoch 65/150\n",
      "1836/1836 [==============================] - 1s 301us/step - loss: 1.0513 - accuracy: 0.5637 - val_loss: 1.1714 - val_accuracy: 0.4630\n",
      "Epoch 66/150\n",
      "1836/1836 [==============================] - 1s 291us/step - loss: 1.0593 - accuracy: 0.5556 - val_loss: 1.1407 - val_accuracy: 0.4846\n",
      "Epoch 67/150\n",
      "1836/1836 [==============================] - 1s 310us/step - loss: 1.0480 - accuracy: 0.5664 - val_loss: 1.1365 - val_accuracy: 0.4784\n",
      "Epoch 68/150\n",
      "1836/1836 [==============================] - 1s 288us/step - loss: 1.0384 - accuracy: 0.5703 - val_loss: 1.1235 - val_accuracy: 0.4938\n",
      "Epoch 69/150\n",
      "1836/1836 [==============================] - 1s 302us/step - loss: 1.0352 - accuracy: 0.5692 - val_loss: 1.1224 - val_accuracy: 0.4969\n",
      "Epoch 70/150\n",
      "1836/1836 [==============================] - 1s 314us/step - loss: 1.0385 - accuracy: 0.5539 - val_loss: 1.1292 - val_accuracy: 0.5093\n",
      "Epoch 71/150\n",
      "1836/1836 [==============================] - 1s 301us/step - loss: 1.0340 - accuracy: 0.5714 - val_loss: 1.1185 - val_accuracy: 0.4907\n",
      "Epoch 72/150\n",
      "1836/1836 [==============================] - 1s 297us/step - loss: 1.0345 - accuracy: 0.5588 - val_loss: 1.1141 - val_accuracy: 0.5401\n",
      "Epoch 73/150\n",
      "1836/1836 [==============================] - 1s 306us/step - loss: 1.0338 - accuracy: 0.5605 - val_loss: 1.1279 - val_accuracy: 0.5000\n",
      "Epoch 74/150\n",
      "1836/1836 [==============================] - 1s 306us/step - loss: 1.0305 - accuracy: 0.5697 - val_loss: 1.1369 - val_accuracy: 0.4846\n",
      "Epoch 75/150\n",
      "1836/1836 [==============================] - 1s 293us/step - loss: 1.0210 - accuracy: 0.5697 - val_loss: 1.0915 - val_accuracy: 0.5123\n",
      "Epoch 76/150\n",
      "1836/1836 [==============================] - 1s 302us/step - loss: 1.0039 - accuracy: 0.5899 - val_loss: 1.0874 - val_accuracy: 0.5278\n",
      "Epoch 77/150\n",
      "1836/1836 [==============================] - 1s 320us/step - loss: 0.9967 - accuracy: 0.5877 - val_loss: 1.0890 - val_accuracy: 0.5278\n",
      "Epoch 78/150\n",
      "1836/1836 [==============================] - 1s 301us/step - loss: 0.9890 - accuracy: 0.5833 - val_loss: 1.0799 - val_accuracy: 0.5370\n",
      "Epoch 79/150\n",
      "1836/1836 [==============================] - 1s 360us/step - loss: 0.9969 - accuracy: 0.5828 - val_loss: 1.0861 - val_accuracy: 0.5000\n",
      "Epoch 80/150\n",
      "1836/1836 [==============================] - 1s 406us/step - loss: 0.9930 - accuracy: 0.5959 - val_loss: 1.0974 - val_accuracy: 0.5154\n",
      "Epoch 81/150\n",
      "1836/1836 [==============================] - 1s 355us/step - loss: 0.9763 - accuracy: 0.6029 - val_loss: 1.0764 - val_accuracy: 0.5062\n",
      "Epoch 82/150\n",
      "1836/1836 [==============================] - 1s 317us/step - loss: 0.9801 - accuracy: 0.5942 - val_loss: 1.1146 - val_accuracy: 0.5093\n",
      "Epoch 83/150\n",
      "1836/1836 [==============================] - 1s 339us/step - loss: 0.9776 - accuracy: 0.5942 - val_loss: 1.0679 - val_accuracy: 0.5154\n",
      "Epoch 84/150\n",
      "1836/1836 [==============================] - 1s 362us/step - loss: 0.9662 - accuracy: 0.5980 - val_loss: 1.0797 - val_accuracy: 0.5340\n",
      "Epoch 85/150\n",
      "1836/1836 [==============================] - 1s 347us/step - loss: 0.9630 - accuracy: 0.6149 - val_loss: 1.0477 - val_accuracy: 0.4784\n",
      "Epoch 86/150\n",
      "1836/1836 [==============================] - 1s 322us/step - loss: 0.9655 - accuracy: 0.6002 - val_loss: 1.1215 - val_accuracy: 0.4753\n",
      "Epoch 87/150\n",
      "1836/1836 [==============================] - 1s 336us/step - loss: 0.9701 - accuracy: 0.5937 - val_loss: 1.0968 - val_accuracy: 0.5370\n",
      "Epoch 88/150\n",
      "1836/1836 [==============================] - 1s 312us/step - loss: 0.9607 - accuracy: 0.6106 - val_loss: 1.1134 - val_accuracy: 0.4877\n",
      "Epoch 89/150\n",
      "1836/1836 [==============================] - 1s 365us/step - loss: 0.9625 - accuracy: 0.5893 - val_loss: 1.0565 - val_accuracy: 0.5463\n",
      "Epoch 90/150\n",
      "1836/1836 [==============================] - 1s 316us/step - loss: 0.9493 - accuracy: 0.6084 - val_loss: 1.0446 - val_accuracy: 0.5556\n",
      "Epoch 91/150\n",
      "1836/1836 [==============================] - 1s 373us/step - loss: 0.9353 - accuracy: 0.6166 - val_loss: 1.0768 - val_accuracy: 0.5432\n",
      "Epoch 92/150\n",
      "1836/1836 [==============================] - 1s 314us/step - loss: 0.9307 - accuracy: 0.6253 - val_loss: 1.0429 - val_accuracy: 0.5093\n",
      "Epoch 93/150\n",
      "1836/1836 [==============================] - 1s 416us/step - loss: 0.9413 - accuracy: 0.6078 - val_loss: 1.0516 - val_accuracy: 0.5401\n",
      "Epoch 94/150\n",
      "1836/1836 [==============================] - 1s 417us/step - loss: 0.9315 - accuracy: 0.6095 - val_loss: 1.0686 - val_accuracy: 0.4907\n",
      "Epoch 95/150\n",
      "1836/1836 [==============================] - 1s 402us/step - loss: 0.9461 - accuracy: 0.6111 - val_loss: 1.0371 - val_accuracy: 0.5525\n",
      "Epoch 96/150\n",
      "1836/1836 [==============================] - 1s 359us/step - loss: 0.9468 - accuracy: 0.5959 - val_loss: 1.0856 - val_accuracy: 0.4938\n",
      "Epoch 97/150\n",
      "1836/1836 [==============================] - 1s 320us/step - loss: 0.9555 - accuracy: 0.5942 - val_loss: 1.0563 - val_accuracy: 0.4877\n",
      "Epoch 98/150\n",
      "1836/1836 [==============================] - 1s 390us/step - loss: 0.9476 - accuracy: 0.6078 - val_loss: 1.0907 - val_accuracy: 0.5000\n",
      "Epoch 99/150\n",
      "1836/1836 [==============================] - 1s 365us/step - loss: 0.9194 - accuracy: 0.6264 - val_loss: 1.0171 - val_accuracy: 0.5340\n",
      "Epoch 100/150\n",
      "1836/1836 [==============================] - 1s 426us/step - loss: 0.9071 - accuracy: 0.6318 - val_loss: 1.0342 - val_accuracy: 0.5093\n",
      "Epoch 101/150\n",
      "1836/1836 [==============================] - 1s 353us/step - loss: 0.9197 - accuracy: 0.6166 - val_loss: 1.0521 - val_accuracy: 0.5247\n",
      "Epoch 102/150\n",
      "1836/1836 [==============================] - 1s 376us/step - loss: 0.9219 - accuracy: 0.6122 - val_loss: 1.0934 - val_accuracy: 0.4599\n",
      "Epoch 103/150\n",
      "1836/1836 [==============================] - 1s 351us/step - loss: 0.9287 - accuracy: 0.6062 - val_loss: 1.0270 - val_accuracy: 0.5216\n",
      "Epoch 104/150\n",
      "1836/1836 [==============================] - 1s 355us/step - loss: 0.9147 - accuracy: 0.6166 - val_loss: 1.0045 - val_accuracy: 0.5309\n",
      "Epoch 105/150\n",
      "1836/1836 [==============================] - 1s 413us/step - loss: 0.8957 - accuracy: 0.6340 - val_loss: 1.0160 - val_accuracy: 0.5309\n",
      "Epoch 106/150\n",
      "1836/1836 [==============================] - 1s 319us/step - loss: 0.9047 - accuracy: 0.6236 - val_loss: 1.0273 - val_accuracy: 0.5154\n",
      "Epoch 107/150\n",
      "1836/1836 [==============================] - 1s 342us/step - loss: 0.8936 - accuracy: 0.6155 - val_loss: 1.0064 - val_accuracy: 0.5154\n",
      "Epoch 108/150\n",
      "1836/1836 [==============================] - 1s 369us/step - loss: 0.8902 - accuracy: 0.6383 - val_loss: 0.9927 - val_accuracy: 0.5247\n",
      "Epoch 109/150\n",
      "1836/1836 [==============================] - 1s 353us/step - loss: 0.8872 - accuracy: 0.6269 - val_loss: 1.0130 - val_accuracy: 0.5340\n",
      "Epoch 110/150\n",
      "1836/1836 [==============================] - 1s 324us/step - loss: 0.8798 - accuracy: 0.6324 - val_loss: 0.9881 - val_accuracy: 0.5247\n",
      "Epoch 111/150\n"
     ]
    },
    {
     "name": "stdout",
     "output_type": "stream",
     "text": [
      "1836/1836 [==============================] - 1s 311us/step - loss: 0.8841 - accuracy: 0.6307 - val_loss: 1.0876 - val_accuracy: 0.4969\n",
      "Epoch 112/150\n",
      "1836/1836 [==============================] - 1s 308us/step - loss: 0.9026 - accuracy: 0.6204 - val_loss: 1.0108 - val_accuracy: 0.5525\n",
      "Epoch 113/150\n",
      "1836/1836 [==============================] - 1s 305us/step - loss: 0.8647 - accuracy: 0.6422 - val_loss: 0.9993 - val_accuracy: 0.5278\n",
      "Epoch 114/150\n",
      "1836/1836 [==============================] - 1s 309us/step - loss: 0.8611 - accuracy: 0.6580 - val_loss: 1.0166 - val_accuracy: 0.5062\n",
      "Epoch 115/150\n",
      "1836/1836 [==============================] - 1s 308us/step - loss: 0.8656 - accuracy: 0.6481 - val_loss: 0.9911 - val_accuracy: 0.5401\n",
      "Epoch 116/150\n",
      "1836/1836 [==============================] - 1s 309us/step - loss: 0.8656 - accuracy: 0.6454 - val_loss: 0.9727 - val_accuracy: 0.5154\n",
      "Epoch 117/150\n",
      "1836/1836 [==============================] - 1s 306us/step - loss: 0.8609 - accuracy: 0.6400 - val_loss: 1.0370 - val_accuracy: 0.5000\n",
      "Epoch 118/150\n",
      "1836/1836 [==============================] - 1s 360us/step - loss: 0.8914 - accuracy: 0.6204 - val_loss: 1.0022 - val_accuracy: 0.5432\n",
      "Epoch 119/150\n",
      "1836/1836 [==============================] - 1s 354us/step - loss: 0.8686 - accuracy: 0.6411 - val_loss: 1.0144 - val_accuracy: 0.5525\n",
      "Epoch 120/150\n",
      "1836/1836 [==============================] - 1s 326us/step - loss: 0.8679 - accuracy: 0.6432 - val_loss: 1.0741 - val_accuracy: 0.4722\n",
      "Epoch 121/150\n",
      "1836/1836 [==============================] - 1s 313us/step - loss: 0.8652 - accuracy: 0.6509 - val_loss: 1.0010 - val_accuracy: 0.5617\n",
      "Epoch 122/150\n",
      "1836/1836 [==============================] - 1s 301us/step - loss: 0.8603 - accuracy: 0.6449 - val_loss: 0.9757 - val_accuracy: 0.5370\n",
      "Epoch 123/150\n",
      "1836/1836 [==============================] - 1s 317us/step - loss: 0.8409 - accuracy: 0.6623 - val_loss: 0.9849 - val_accuracy: 0.5679\n",
      "Epoch 124/150\n",
      "1836/1836 [==============================] - 1s 297us/step - loss: 0.8560 - accuracy: 0.6405 - val_loss: 0.9884 - val_accuracy: 0.5216\n",
      "Epoch 125/150\n",
      "1836/1836 [==============================] - 1s 321us/step - loss: 0.8409 - accuracy: 0.6514 - val_loss: 0.9758 - val_accuracy: 0.5370\n",
      "Epoch 126/150\n",
      "1836/1836 [==============================] - 1s 324us/step - loss: 0.8455 - accuracy: 0.6705 - val_loss: 1.0158 - val_accuracy: 0.5123\n",
      "Epoch 127/150\n",
      "1836/1836 [==============================] - 1s 305us/step - loss: 0.8564 - accuracy: 0.6449 - val_loss: 0.9737 - val_accuracy: 0.5123\n",
      "Epoch 128/150\n",
      "1836/1836 [==============================] - 1s 311us/step - loss: 0.8412 - accuracy: 0.6438 - val_loss: 0.9950 - val_accuracy: 0.5216\n",
      "Epoch 129/150\n",
      "1836/1836 [==============================] - 1s 329us/step - loss: 0.8415 - accuracy: 0.6438 - val_loss: 0.9606 - val_accuracy: 0.5432\n",
      "Epoch 130/150\n",
      "1836/1836 [==============================] - 1s 324us/step - loss: 0.8339 - accuracy: 0.6509 - val_loss: 0.9497 - val_accuracy: 0.5401\n",
      "Epoch 131/150\n",
      "1836/1836 [==============================] - 1s 313us/step - loss: 0.8312 - accuracy: 0.6552 - val_loss: 0.9498 - val_accuracy: 0.5556\n",
      "Epoch 132/150\n",
      "1836/1836 [==============================] - 1s 319us/step - loss: 0.8221 - accuracy: 0.6525 - val_loss: 0.9553 - val_accuracy: 0.5370\n",
      "Epoch 133/150\n",
      "1836/1836 [==============================] - 1s 306us/step - loss: 0.8245 - accuracy: 0.6525 - val_loss: 0.9492 - val_accuracy: 0.5494\n",
      "Epoch 134/150\n",
      "1836/1836 [==============================] - 1s 300us/step - loss: 0.8186 - accuracy: 0.6596 - val_loss: 0.9782 - val_accuracy: 0.5463\n",
      "Epoch 135/150\n",
      "1836/1836 [==============================] - 1s 315us/step - loss: 0.8158 - accuracy: 0.6732 - val_loss: 0.9533 - val_accuracy: 0.5340\n",
      "Epoch 136/150\n",
      "1836/1836 [==============================] - 1s 302us/step - loss: 0.8116 - accuracy: 0.6645 - val_loss: 0.9749 - val_accuracy: 0.5340\n",
      "Epoch 137/150\n",
      "1836/1836 [==============================] - 1s 313us/step - loss: 0.8087 - accuracy: 0.6639 - val_loss: 0.9337 - val_accuracy: 0.5586\n",
      "Epoch 138/150\n",
      "1836/1836 [==============================] - 1s 367us/step - loss: 0.8039 - accuracy: 0.6634 - val_loss: 0.9607 - val_accuracy: 0.5648\n",
      "Epoch 139/150\n",
      "1836/1836 [==============================] - 1s 301us/step - loss: 0.8011 - accuracy: 0.6797 - val_loss: 0.9601 - val_accuracy: 0.5247\n",
      "Epoch 140/150\n",
      "1836/1836 [==============================] - 1s 284us/step - loss: 0.7929 - accuracy: 0.6776 - val_loss: 0.9649 - val_accuracy: 0.5494\n",
      "Epoch 141/150\n",
      "1836/1836 [==============================] - 1s 301us/step - loss: 0.8156 - accuracy: 0.6607 - val_loss: 0.9704 - val_accuracy: 0.5370\n",
      "Epoch 142/150\n",
      "1836/1836 [==============================] - 1s 385us/step - loss: 0.8206 - accuracy: 0.6476 - val_loss: 0.9476 - val_accuracy: 0.5278\n",
      "Epoch 143/150\n",
      "1836/1836 [==============================] - 1s 321us/step - loss: 0.7966 - accuracy: 0.6852 - val_loss: 0.9608 - val_accuracy: 0.5525\n",
      "Epoch 144/150\n",
      "1836/1836 [==============================] - 1s 284us/step - loss: 0.8040 - accuracy: 0.6678 - val_loss: 0.9317 - val_accuracy: 0.5648\n",
      "Epoch 145/150\n",
      "1836/1836 [==============================] - 1s 360us/step - loss: 0.7983 - accuracy: 0.6656 - val_loss: 0.9396 - val_accuracy: 0.5525\n",
      "Epoch 146/150\n",
      "1836/1836 [==============================] - 1s 431us/step - loss: 0.8131 - accuracy: 0.6721 - val_loss: 0.9393 - val_accuracy: 0.5432\n",
      "Epoch 147/150\n",
      "1836/1836 [==============================] - 1s 436us/step - loss: 0.7940 - accuracy: 0.6770 - val_loss: 0.9504 - val_accuracy: 0.5463\n",
      "Epoch 148/150\n",
      "1836/1836 [==============================] - 1s 394us/step - loss: 0.8070 - accuracy: 0.6520 - val_loss: 0.9845 - val_accuracy: 0.5617\n",
      "Epoch 149/150\n",
      "1836/1836 [==============================] - 1s 423us/step - loss: 0.7934 - accuracy: 0.6688 - val_loss: 0.9435 - val_accuracy: 0.5617\n",
      "Epoch 150/150\n",
      "1836/1836 [==============================] - 1s 509us/step - loss: 0.7804 - accuracy: 0.6770 - val_loss: 0.9641 - val_accuracy: 0.5463\n"
     ]
    }
   ],
   "source": [
    "EPOCHS = 150\n",
    "\n",
    "H = classifier.fit(x_train, y_train,\n",
    "                  epochs=EPOCHS,\n",
    "                  batch_size=128,\n",
    "                  shuffle=True,\n",
    "                  validation_data=(x_val, y_val))"
   ]
  },
  {
   "cell_type": "markdown",
   "metadata": {},
   "source": [
    "# Evaluate netowrk : stats and plots"
   ]
  },
  {
   "cell_type": "code",
   "execution_count": 48,
   "metadata": {
    "scrolled": true
   },
   "outputs": [
    {
     "data": {
      "image/png": "[encoded data removed]",
      "text/plain": [
       "<Figure size 432x288 with 1 Axes>"
      ]
     },
     "metadata": {},
     "output_type": "display_data"
    }
   ],
   "source": [
    "# plot the training loss and accuracy for each epoch\n",
    "N = np.arange(0,EPOCHS)\n",
    "plt.style.use(\"ggplot\")\n",
    "plt.figure()\n",
    "plt.plot(N, H.history[\"loss\"], label=\"train_loss\")\n",
    "plt.plot(N, H.history[\"val_loss\"], label=\"val_loss\")\n",
    "plt.plot(N, H.history[\"accuracy\"], label=\"train_acc\")\n",
    "plt.plot(N, H.history[\"val_accuracy\"], label=\"val_acc\")\n",
    "plt.title(\"Training Loss and Accuracy\")\n",
    "plt.xlabel(\"Epoch #\")\n",
    "plt.ylabel(\"Loss/Accuracy\")\n",
    "plt.legend()\n",
    "#plt.savefig(\"training_performance_250_architecture_04.png\")\n",
    "plt.show()"
   ]
  },
  {
   "cell_type": "code",
   "execution_count": 31,
   "metadata": {},
   "outputs": [
    {
     "name": "stdout",
     "output_type": "stream",
     "text": [
      "dict_keys(['val_loss', 'val_accuracy', 'loss', 'accuracy'])\n"
     ]
    }
   ],
   "source": [
    "print(H.history.keys())\n",
    "#print(H.history[\"accuracy\"])"
   ]
  },
  {
   "cell_type": "markdown",
   "metadata": {},
   "source": [
    "# Save the weights\n"
   ]
  },
  {
   "cell_type": "code",
   "execution_count": 32,
   "metadata": {},
   "outputs": [],
   "source": [
    "classifier.save(\"keras_architecture_01_with_encoder.model\")"
   ]
  },
  {
   "cell_type": "code",
   "execution_count": null,
   "metadata": {},
   "outputs": [],
   "source": []
  },
  {
   "cell_type": "code",
   "execution_count": null,
   "metadata": {},
   "outputs": [],
   "source": []
  }
 ],
 "metadata": {
  "kernelspec": {
   "display_name": "Python 3",
   "language": "python",
   "name": "python3"
  },
  "language_info": {
   "codemirror_mode": {
    "name": "ipython",
    "version": 3
   },
   "file_extension": ".py",
   "mimetype": "text/x-python",
   "name": "python",
   "nbconvert_exporter": "python",
   "pygments_lexer": "ipython3",
   "version": "3.7.3"
  }
 },
 "nbformat": 4,
 "nbformat_minor": 2
}
