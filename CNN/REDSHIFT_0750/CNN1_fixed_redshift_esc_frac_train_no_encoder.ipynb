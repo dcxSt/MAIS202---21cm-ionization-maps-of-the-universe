{
 "cells": [
  {
   "cell_type": "markdown",
   "metadata": {},
   "source": [
    "# Import statements"
   ]
  },
  {
   "cell_type": "code",
   "execution_count": 1,
   "metadata": {},
   "outputs": [
    {
     "name": "stderr",
     "output_type": "stream",
     "text": [
      "Using TensorFlow backend.\n"
     ]
    },
    {
     "name": "stdout",
     "output_type": "stream",
     "text": [
      "keras is using tensorflow as the backend\n"
     ]
    }
   ],
   "source": [
    "import numpy as np\n",
    "import matplotlib.pyplot as plt\n",
    "import matplotlib as mpl\n",
    "import sklearn\n",
    "import random\n",
    "import os\n",
    "import sys\n",
    "\n",
    "# import keras\n",
    "import keras\n",
    "from keras import backend as K\n",
    "backend_keras = keras.backend.backend()\n",
    "print(\"keras is using\", backend_keras, \"as the backend\")\n",
    "from keras.layers import Input, Dense, Conv2D, MaxPooling2D, UpSampling2D, Flatten\n",
    "from keras.models import Model, load_model, Sequential\n",
    "\n",
    "# for training\n",
    "# https://keras.io/optimizers/ - list of optimizers, keras documentation\n",
    "from keras.optimizers import SGD, Nadam, Adamax, Adam, Adadelta, Adagrad, RMSprop, SGD\n"
   ]
  },
  {
   "cell_type": "markdown",
   "metadata": {},
   "source": [
    "# Load preprocessed data\n",
    "These are the ones which have been created with the keras notebook"
   ]
  },
  {
   "cell_type": "code",
   "execution_count": 2,
   "metadata": {},
   "outputs": [],
   "source": [
    "#os.listdir()"
   ]
  },
  {
   "cell_type": "code",
   "execution_count": 3,
   "metadata": {},
   "outputs": [
    {
     "name": "stdout",
     "output_type": "stream",
     "text": [
      "(2160, 200, 200, 1)\n",
      "(240, 200, 200, 1)\n",
      "(2160, 12)\n",
      "(240, 12)\n"
     ]
    }
   ],
   "source": [
    "x_train_raw = np.load(\"redshift0750_data_train.npy\")\n",
    "x_test_raw = np.load(\"redshift0750_data_test.npy\")\n",
    "y_train_val = np.load(\"redshift0750_labels_train.npy\")\n",
    "y_test = np.load(\"redshift0750_labels_test.npy\")\n",
    "\n",
    "print(x_train_raw.shape)\n",
    "print(x_test_raw.shape)\n",
    "print(y_train_val.shape)\n",
    "print(y_test.shape)"
   ]
  },
  {
   "cell_type": "markdown",
   "metadata": {},
   "source": [
    "### train val split"
   ]
  },
  {
   "cell_type": "code",
   "execution_count": 4,
   "metadata": {},
   "outputs": [
    {
     "name": "stdout",
     "output_type": "stream",
     "text": [
      "(1836, 200, 200, 1)\n",
      "(324, 200, 200, 1)\n",
      "(1836, 12)\n",
      "(324, 12)\n"
     ]
    }
   ],
   "source": [
    "ratio = 0.85\n",
    "cut = int(len(x_train_raw)*ratio)\n",
    "x_train = x_train_raw[:cut]\n",
    "x_val = x_train_raw[cut:]\n",
    "y_train = y_train_val[:cut]\n",
    "y_val = y_train_val[cut:]\n",
    "\n",
    "print(x_train.shape)\n",
    "print(x_val.shape)\n",
    "print(y_train.shape)\n",
    "print(y_val.shape)"
   ]
  },
  {
   "cell_type": "markdown",
   "metadata": {},
   "source": [
    "# Define the CNN architecture\n",
    "\n",
    "Remember this one is a 12 class problem\n",
    "Resourses used:\n",
    "- Guid for implementing keras CNN https://towardsdatascience.com/image-recognition-with-keras-convolutional-neural-networks-e2af10a10114\n",
    "- Guid to Sequential Model : https://keras.io/getting-started/sequential-model-guide/\n",
    "- how padding works https://stackoverflow.com/questions/45013060/how-to-do-zero-padding-in-keras-conv-layer#45013181"
   ]
  },
  {
   "cell_type": "markdown",
   "metadata": {},
   "source": [
    "Note : at the bottom of this cell the activation was 'sigmoid', I changed it to 'softmax' in the hope that this would allow me to plot the accuracy of the classifier. Also I think with softmax it will give me a definite answer..."
   ]
  },
  {
   "cell_type": "code",
   "execution_count": 5,
   "metadata": {},
   "outputs": [],
   "source": [
    "classifier = Sequential()\n",
    "\n",
    "# padding = 'valid' means that i reduce dimentionality a little\n",
    "\n",
    "# extract features\n",
    "classifier.add(Conv2D(32, (3,3), input_shape=(200,200,1),\n",
    "                      activation='relu', padding='valid'))\n",
    "# reduce dimensionality, keep most important info\n",
    "classifier.add(MaxPooling2D(pool_size=(2,2)))\n",
    "\n",
    "# add a second layer, again with no padding\n",
    "classifier.add(Conv2D(16, (3,3), activation='relu', padding='valid'))\n",
    "\n",
    "# pool again\n",
    "classifier.add(MaxPooling2D(pool_size=(2,2)))\n",
    "\n",
    "# add a third layer, again with no padding, I want to reduce dimentions as much as possible\n",
    "classifier.add(Conv2D(8, (3,3), activation='relu', padding='valid'))\n",
    "\n",
    "# pool again\n",
    "classifier.add(MaxPooling2D(pool_size=(2,2)))\n",
    "\n",
    "# Here I flatten and then guess the class\n",
    "classifier.add(Flatten())\n",
    "\n",
    "# fully connected layers: ensures connections to all activations in prev layer\n",
    "\n",
    "classifier.add(Dense(units=12, activation='softmax'))"
   ]
  },
  {
   "cell_type": "code",
   "execution_count": null,
   "metadata": {},
   "outputs": [],
   "source": []
  },
  {
   "cell_type": "markdown",
   "metadata": {},
   "source": [
    "# Alternative Architecutres"
   ]
  },
  {
   "cell_type": "code",
   "execution_count": null,
   "metadata": {},
   "outputs": [],
   "source": []
  },
  {
   "cell_type": "code",
   "execution_count": null,
   "metadata": {},
   "outputs": [],
   "source": []
  },
  {
   "cell_type": "markdown",
   "metadata": {},
   "source": [
    "# Choose optimizer and compile netowrk\n",
    "sparse_categorical"
   ]
  },
  {
   "cell_type": "code",
   "execution_count": 6,
   "metadata": {},
   "outputs": [
    {
     "name": "stdout",
     "output_type": "stream",
     "text": [
      "printing summary of model\n",
      "Model: \"sequential_1\"\n",
      "_________________________________________________________________\n",
      "Layer (type)                 Output Shape              Param #   \n",
      "=================================================================\n",
      "conv2d_1 (Conv2D)            (None, 198, 198, 32)      320       \n",
      "_________________________________________________________________\n",
      "max_pooling2d_1 (MaxPooling2 (None, 99, 99, 32)        0         \n",
      "_________________________________________________________________\n",
      "conv2d_2 (Conv2D)            (None, 97, 97, 16)        4624      \n",
      "_________________________________________________________________\n",
      "max_pooling2d_2 (MaxPooling2 (None, 48, 48, 16)        0         \n",
      "_________________________________________________________________\n",
      "conv2d_3 (Conv2D)            (None, 46, 46, 8)         1160      \n",
      "_________________________________________________________________\n",
      "max_pooling2d_3 (MaxPooling2 (None, 23, 23, 8)         0         \n",
      "_________________________________________________________________\n",
      "flatten_1 (Flatten)          (None, 4232)              0         \n",
      "_________________________________________________________________\n",
      "dense_1 (Dense)              (None, 12)                50796     \n",
      "=================================================================\n",
      "Total params: 56,900\n",
      "Trainable params: 56,900\n",
      "Non-trainable params: 0\n",
      "_________________________________________________________________\n"
     ]
    }
   ],
   "source": [
    "opt = Adam(learning_rate=0.003, beta_1=0.9, beta_2=0.999, amsgrad=True)\n",
    "classifier.compile(optimizer=opt, \n",
    "                   loss='categorical_crossentropy',\n",
    "                   metrics=[\"accuracy\"])\n",
    "print(\"printing summary of model\")\n",
    "classifier.summary()"
   ]
  },
  {
   "cell_type": "markdown",
   "metadata": {},
   "source": [
    "# Train the network"
   ]
  },
  {
   "cell_type": "code",
   "execution_count": 7,
   "metadata": {
    "scrolled": false
   },
   "outputs": [
    {
     "name": "stdout",
     "output_type": "stream",
     "text": [
      "Train on 1836 samples, validate on 324 samples\n",
      "Epoch 1/150\n",
      "1836/1836 [==============================] - 50s 27ms/step - loss: 2.4521 - accuracy: 0.1334 - val_loss: 2.2564 - val_accuracy: 0.1790\n",
      "Epoch 2/150\n",
      "1836/1836 [==============================] - 59s 32ms/step - loss: 1.9655 - accuracy: 0.2821 - val_loss: 1.6734 - val_accuracy: 0.3457\n",
      "Epoch 3/150\n",
      "1836/1836 [==============================] - 56s 30ms/step - loss: 1.5163 - accuracy: 0.4085 - val_loss: 1.6291 - val_accuracy: 0.2840\n",
      "Epoch 4/150\n",
      "1836/1836 [==============================] - 54s 29ms/step - loss: 1.3980 - accuracy: 0.4047 - val_loss: 1.3803 - val_accuracy: 0.4290\n",
      "Epoch 5/150\n",
      "1836/1836 [==============================] - 55s 30ms/step - loss: 1.2539 - accuracy: 0.4902 - val_loss: 1.3535 - val_accuracy: 0.4414\n",
      "Epoch 6/150\n",
      "1836/1836 [==============================] - 55s 30ms/step - loss: 1.1651 - accuracy: 0.5354 - val_loss: 1.3718 - val_accuracy: 0.4383\n",
      "Epoch 7/150\n",
      "1836/1836 [==============================] - 53s 29ms/step - loss: 1.0455 - accuracy: 0.5719 - val_loss: 1.2080 - val_accuracy: 0.4660\n",
      "Epoch 8/150\n",
      "1836/1836 [==============================] - 54s 30ms/step - loss: 1.0204 - accuracy: 0.5997 - val_loss: 1.1347 - val_accuracy: 0.4907\n",
      "Epoch 9/150\n",
      "1836/1836 [==============================] - 57s 31ms/step - loss: 0.9804 - accuracy: 0.6051 - val_loss: 1.0745 - val_accuracy: 0.4784\n",
      "Epoch 10/150\n",
      "1836/1836 [==============================] - 58s 32ms/step - loss: 0.8790 - accuracy: 0.6302 - val_loss: 1.0940 - val_accuracy: 0.5309\n",
      "Epoch 11/150\n",
      "1836/1836 [==============================] - 65s 36ms/step - loss: 0.8723 - accuracy: 0.6427 - val_loss: 1.1785 - val_accuracy: 0.5093\n",
      "Epoch 12/150\n",
      "1836/1836 [==============================] - 69s 38ms/step - loss: 0.8482 - accuracy: 0.6432 - val_loss: 1.2821 - val_accuracy: 0.4444\n",
      "Epoch 13/150\n",
      "1836/1836 [==============================] - 62s 34ms/step - loss: 0.8274 - accuracy: 0.6449 - val_loss: 1.0323 - val_accuracy: 0.5340\n",
      "Epoch 14/150\n",
      "1836/1836 [==============================] - 59s 32ms/step - loss: 0.7625 - accuracy: 0.6694 - val_loss: 1.1149 - val_accuracy: 0.5340\n",
      "Epoch 15/150\n",
      "1836/1836 [==============================] - 61s 33ms/step - loss: 0.7136 - accuracy: 0.6993 - val_loss: 1.0053 - val_accuracy: 0.5957\n",
      "Epoch 16/150\n",
      "1836/1836 [==============================] - 63s 35ms/step - loss: 0.6982 - accuracy: 0.7184 - val_loss: 1.1154 - val_accuracy: 0.6049\n",
      "Epoch 17/150\n",
      "1836/1836 [==============================] - 56s 30ms/step - loss: 0.6754 - accuracy: 0.7184 - val_loss: 1.1424 - val_accuracy: 0.5123\n",
      "Epoch 18/150\n",
      "1836/1836 [==============================] - 55s 30ms/step - loss: 0.6932 - accuracy: 0.7081 - val_loss: 1.0391 - val_accuracy: 0.5494\n",
      "Epoch 19/150\n",
      "1836/1836 [==============================] - 55s 30ms/step - loss: 0.7743 - accuracy: 0.6650 - val_loss: 1.2147 - val_accuracy: 0.4907\n",
      "Epoch 20/150\n",
      "1836/1836 [==============================] - 56s 31ms/step - loss: 0.7899 - accuracy: 0.6716 - val_loss: 1.2061 - val_accuracy: 0.5772\n",
      "Epoch 21/150\n",
      "1836/1836 [==============================] - 57s 31ms/step - loss: 0.7126 - accuracy: 0.7053 - val_loss: 0.9868 - val_accuracy: 0.5586\n",
      "Epoch 22/150\n",
      "1836/1836 [==============================] - 56s 31ms/step - loss: 0.6463 - accuracy: 0.7298 - val_loss: 1.1380 - val_accuracy: 0.5617\n",
      "Epoch 23/150\n",
      "1836/1836 [==============================] - 56s 31ms/step - loss: 0.6581 - accuracy: 0.7086 - val_loss: 1.0032 - val_accuracy: 0.4877\n",
      "Epoch 24/150\n",
      "1836/1836 [==============================] - 60s 32ms/step - loss: 0.5900 - accuracy: 0.7435 - val_loss: 0.9702 - val_accuracy: 0.5401\n",
      "Epoch 25/150\n",
      "1836/1836 [==============================] - 59s 32ms/step - loss: 0.5585 - accuracy: 0.7702 - val_loss: 0.9846 - val_accuracy: 0.5556\n",
      "Epoch 26/150\n",
      "1836/1836 [==============================] - 56s 30ms/step - loss: 0.5508 - accuracy: 0.7625 - val_loss: 0.9436 - val_accuracy: 0.5926\n",
      "Epoch 27/150\n",
      "1836/1836 [==============================] - 56s 30ms/step - loss: 0.5455 - accuracy: 0.7751 - val_loss: 0.9000 - val_accuracy: 0.6235\n",
      "Epoch 28/150\n",
      "1836/1836 [==============================] - 67s 36ms/step - loss: 0.6003 - accuracy: 0.7756 - val_loss: 1.0536 - val_accuracy: 0.5802\n",
      "Epoch 29/150\n",
      "1836/1836 [==============================] - 65s 36ms/step - loss: 0.5527 - accuracy: 0.7636 - val_loss: 0.8888 - val_accuracy: 0.5617\n",
      "Epoch 30/150\n",
      "1836/1836 [==============================] - 56s 30ms/step - loss: 0.4507 - accuracy: 0.8290 - val_loss: 1.0375 - val_accuracy: 0.5617\n",
      "Epoch 31/150\n",
      "1836/1836 [==============================] - 61s 33ms/step - loss: 0.4892 - accuracy: 0.7903 - val_loss: 1.2132 - val_accuracy: 0.5586\n",
      "Epoch 32/150\n",
      "1836/1836 [==============================] - 56s 30ms/step - loss: 0.7580 - accuracy: 0.6808 - val_loss: 1.0411 - val_accuracy: 0.5679\n",
      "Epoch 33/150\n",
      "1836/1836 [==============================] - 55s 30ms/step - loss: 0.5828 - accuracy: 0.7505 - val_loss: 0.9850 - val_accuracy: 0.6142\n",
      "Epoch 34/150\n",
      "1836/1836 [==============================] - 56s 31ms/step - loss: 0.5068 - accuracy: 0.7903 - val_loss: 0.9597 - val_accuracy: 0.5741\n",
      "Epoch 35/150\n",
      "1836/1836 [==============================] - 55s 30ms/step - loss: 0.4836 - accuracy: 0.7887 - val_loss: 1.1697 - val_accuracy: 0.5556\n",
      "Epoch 36/150\n",
      "1836/1836 [==============================] - 57s 31ms/step - loss: 0.4759 - accuracy: 0.7947 - val_loss: 1.0544 - val_accuracy: 0.5586\n",
      "Epoch 37/150\n",
      "1836/1836 [==============================] - 67s 36ms/step - loss: 0.4816 - accuracy: 0.7968 - val_loss: 0.9282 - val_accuracy: 0.6019\n",
      "Epoch 38/150\n",
      "1836/1836 [==============================] - 60s 33ms/step - loss: 0.4846 - accuracy: 0.8094 - val_loss: 0.9956 - val_accuracy: 0.5556\n",
      "Epoch 39/150\n",
      "1836/1836 [==============================] - 55s 30ms/step - loss: 0.4413 - accuracy: 0.8154 - val_loss: 0.9619 - val_accuracy: 0.5710\n",
      "Epoch 40/150\n",
      "1836/1836 [==============================] - 56s 30ms/step - loss: 0.4461 - accuracy: 0.8110 - val_loss: 1.1403 - val_accuracy: 0.5463\n",
      "Epoch 41/150\n",
      "1836/1836 [==============================] - 57s 31ms/step - loss: 0.5081 - accuracy: 0.7658 - val_loss: 1.4823 - val_accuracy: 0.4599\n",
      "Epoch 42/150\n",
      "1836/1836 [==============================] - 54s 30ms/step - loss: 0.5698 - accuracy: 0.7511 - val_loss: 1.2352 - val_accuracy: 0.5864\n",
      "Epoch 43/150\n",
      "1836/1836 [==============================] - 56s 31ms/step - loss: 0.5792 - accuracy: 0.7636 - val_loss: 1.2555 - val_accuracy: 0.5525\n",
      "Epoch 44/150\n",
      "1836/1836 [==============================] - 58s 32ms/step - loss: 0.4887 - accuracy: 0.7947 - val_loss: 0.8856 - val_accuracy: 0.5741\n",
      "Epoch 45/150\n",
      "1836/1836 [==============================] - 56s 31ms/step - loss: 0.4240 - accuracy: 0.8361 - val_loss: 0.8835 - val_accuracy: 0.5833\n",
      "Epoch 46/150\n",
      "1836/1836 [==============================] - 56s 30ms/step - loss: 0.3614 - accuracy: 0.8617 - val_loss: 1.1859 - val_accuracy: 0.5494\n",
      "Epoch 47/150\n",
      "1836/1836 [==============================] - 56s 30ms/step - loss: 0.4338 - accuracy: 0.8159 - val_loss: 1.0045 - val_accuracy: 0.6142\n",
      "Epoch 48/150\n",
      "1836/1836 [==============================] - 55s 30ms/step - loss: 0.4363 - accuracy: 0.8241 - val_loss: 0.9576 - val_accuracy: 0.6235\n",
      "Epoch 49/150\n",
      "1836/1836 [==============================] - 56s 30ms/step - loss: 0.3728 - accuracy: 0.8584 - val_loss: 0.9115 - val_accuracy: 0.6111\n",
      "Epoch 50/150\n",
      "1836/1836 [==============================] - 56s 31ms/step - loss: 0.3956 - accuracy: 0.8377 - val_loss: 1.0162 - val_accuracy: 0.5648\n",
      "Epoch 51/150\n",
      "1836/1836 [==============================] - 62s 34ms/step - loss: 0.3407 - accuracy: 0.8687 - val_loss: 1.0564 - val_accuracy: 0.6080\n",
      "Epoch 52/150\n",
      "1836/1836 [==============================] - 58s 31ms/step - loss: 0.3915 - accuracy: 0.8306 - val_loss: 1.1083 - val_accuracy: 0.5802\n",
      "Epoch 53/150\n",
      "1836/1836 [==============================] - 55s 30ms/step - loss: 0.4249 - accuracy: 0.8186 - val_loss: 0.9971 - val_accuracy: 0.5802\n",
      "Epoch 54/150\n",
      "1836/1836 [==============================] - 54s 30ms/step - loss: 0.3908 - accuracy: 0.8578 - val_loss: 0.9686 - val_accuracy: 0.5895\n",
      "Epoch 55/150\n",
      "1836/1836 [==============================] - 56s 30ms/step - loss: 0.3142 - accuracy: 0.8840 - val_loss: 0.9719 - val_accuracy: 0.6142\n",
      "Epoch 56/150\n"
     ]
    },
    {
     "name": "stdout",
     "output_type": "stream",
     "text": [
      "1836/1836 [==============================] - 57s 31ms/step - loss: 0.3336 - accuracy: 0.8660 - val_loss: 0.9413 - val_accuracy: 0.5802\n",
      "Epoch 57/150\n",
      "1836/1836 [==============================] - 57s 31ms/step - loss: 0.3040 - accuracy: 0.8802 - val_loss: 1.0169 - val_accuracy: 0.5833\n",
      "Epoch 58/150\n",
      "1836/1836 [==============================] - 55s 30ms/step - loss: 0.3378 - accuracy: 0.8606 - val_loss: 1.1607 - val_accuracy: 0.5340\n",
      "Epoch 59/150\n",
      "1836/1836 [==============================] - 54s 30ms/step - loss: 0.3790 - accuracy: 0.8393 - val_loss: 1.1148 - val_accuracy: 0.5772\n",
      "Epoch 60/150\n",
      "1836/1836 [==============================] - 56s 31ms/step - loss: 0.3654 - accuracy: 0.8399 - val_loss: 1.0504 - val_accuracy: 0.5494\n",
      "Epoch 61/150\n",
      "1836/1836 [==============================] - 64s 35ms/step - loss: 0.5254 - accuracy: 0.7876 - val_loss: 1.9197 - val_accuracy: 0.5062\n",
      "Epoch 62/150\n",
      "1836/1836 [==============================] - 57s 31ms/step - loss: 0.6912 - accuracy: 0.7200 - val_loss: 1.1332 - val_accuracy: 0.5648\n",
      "Epoch 63/150\n",
      "1836/1836 [==============================] - 55s 30ms/step - loss: 0.4361 - accuracy: 0.8214 - val_loss: 1.1972 - val_accuracy: 0.5278\n",
      "Epoch 64/150\n",
      "1836/1836 [==============================] - 54s 30ms/step - loss: 0.3302 - accuracy: 0.8900 - val_loss: 1.1006 - val_accuracy: 0.4969\n",
      "Epoch 65/150\n",
      "1836/1836 [==============================] - 55s 30ms/step - loss: 0.2920 - accuracy: 0.8916 - val_loss: 0.9961 - val_accuracy: 0.5432\n",
      "Epoch 66/150\n",
      "1836/1836 [==============================] - 54s 30ms/step - loss: 0.2597 - accuracy: 0.9085 - val_loss: 0.9429 - val_accuracy: 0.6080\n",
      "Epoch 67/150\n",
      "1836/1836 [==============================] - 54s 30ms/step - loss: 0.2488 - accuracy: 0.9107 - val_loss: 0.9870 - val_accuracy: 0.6019\n",
      "Epoch 68/150\n",
      "1836/1836 [==============================] - 54s 30ms/step - loss: 0.2456 - accuracy: 0.9145 - val_loss: 1.0593 - val_accuracy: 0.5617\n",
      "Epoch 69/150\n",
      "1836/1836 [==============================] - 55s 30ms/step - loss: 0.2581 - accuracy: 0.9085 - val_loss: 1.0212 - val_accuracy: 0.5710\n",
      "Epoch 70/150\n",
      "1836/1836 [==============================] - 54s 30ms/step - loss: 0.3106 - accuracy: 0.8725 - val_loss: 1.1012 - val_accuracy: 0.5988\n",
      "Epoch 71/150\n",
      "1836/1836 [==============================] - 55s 30ms/step - loss: 0.2738 - accuracy: 0.8894 - val_loss: 1.1264 - val_accuracy: 0.5957\n",
      "Epoch 72/150\n",
      "1836/1836 [==============================] - 54s 29ms/step - loss: 0.3362 - accuracy: 0.8557 - val_loss: 1.2634 - val_accuracy: 0.5802\n",
      "Epoch 73/150\n",
      "1836/1836 [==============================] - 54s 29ms/step - loss: 0.2842 - accuracy: 0.8834 - val_loss: 1.0477 - val_accuracy: 0.5617\n",
      "Epoch 74/150\n",
      "1836/1836 [==============================] - 58s 32ms/step - loss: 0.2553 - accuracy: 0.9036 - val_loss: 1.2858 - val_accuracy: 0.5401\n",
      "Epoch 75/150\n",
      "1836/1836 [==============================] - 61s 33ms/step - loss: 0.2332 - accuracy: 0.9188 - val_loss: 1.1630 - val_accuracy: 0.5525\n",
      "Epoch 76/150\n",
      "1836/1836 [==============================] - 61s 33ms/step - loss: 0.2982 - accuracy: 0.8796 - val_loss: 1.2870 - val_accuracy: 0.5895\n",
      "Epoch 77/150\n",
      "1836/1836 [==============================] - 61s 33ms/step - loss: 0.4054 - accuracy: 0.8399 - val_loss: 1.0507 - val_accuracy: 0.5864\n",
      "Epoch 78/150\n",
      "1836/1836 [==============================] - 61s 33ms/step - loss: 0.3554 - accuracy: 0.8568 - val_loss: 1.2100 - val_accuracy: 0.6049\n",
      "Epoch 79/150\n",
      "1836/1836 [==============================] - 61s 33ms/step - loss: 0.3053 - accuracy: 0.8785 - val_loss: 1.1826 - val_accuracy: 0.5864\n",
      "Epoch 80/150\n",
      "1836/1836 [==============================] - 61s 33ms/step - loss: 0.2368 - accuracy: 0.9139 - val_loss: 1.1311 - val_accuracy: 0.5710\n",
      "Epoch 81/150\n",
      "1836/1836 [==============================] - 61s 33ms/step - loss: 0.1563 - accuracy: 0.9613 - val_loss: 1.0471 - val_accuracy: 0.5895\n",
      "Epoch 82/150\n",
      "1836/1836 [==============================] - 61s 33ms/step - loss: 0.1810 - accuracy: 0.9417 - val_loss: 1.1533 - val_accuracy: 0.6080\n",
      "Epoch 83/150\n",
      "1836/1836 [==============================] - 53s 29ms/step - loss: 0.2224 - accuracy: 0.9134 - val_loss: 1.2209 - val_accuracy: 0.5679\n",
      "Epoch 84/150\n",
      "1836/1836 [==============================] - 52s 29ms/step - loss: 0.2600 - accuracy: 0.8873 - val_loss: 1.2356 - val_accuracy: 0.5710\n",
      "Epoch 85/150\n",
      "1836/1836 [==============================] - 53s 29ms/step - loss: 0.1773 - accuracy: 0.9352 - val_loss: 1.1152 - val_accuracy: 0.5802\n",
      "Epoch 86/150\n",
      "1836/1836 [==============================] - 53s 29ms/step - loss: 0.1878 - accuracy: 0.9259 - val_loss: 1.3350 - val_accuracy: 0.5525\n",
      "Epoch 87/150\n",
      "1836/1836 [==============================] - 60s 33ms/step - loss: 0.2335 - accuracy: 0.9118 - val_loss: 1.2000 - val_accuracy: 0.5988\n",
      "Epoch 88/150\n",
      "1836/1836 [==============================] - 53s 29ms/step - loss: 0.2724 - accuracy: 0.8943 - val_loss: 1.0989 - val_accuracy: 0.6111\n",
      "Epoch 89/150\n",
      "1836/1836 [==============================] - 53s 29ms/step - loss: 0.3059 - accuracy: 0.8753 - val_loss: 1.5577 - val_accuracy: 0.5401\n",
      "Epoch 90/150\n",
      "1836/1836 [==============================] - 53s 29ms/step - loss: 0.2720 - accuracy: 0.8894 - val_loss: 1.1935 - val_accuracy: 0.5525\n",
      "Epoch 91/150\n",
      "1836/1836 [==============================] - 53s 29ms/step - loss: 0.2025 - accuracy: 0.9297 - val_loss: 1.3720 - val_accuracy: 0.5586\n",
      "Epoch 92/150\n",
      "1836/1836 [==============================] - 53s 29ms/step - loss: 0.2094 - accuracy: 0.9139 - val_loss: 1.3358 - val_accuracy: 0.5247\n",
      "Epoch 93/150\n",
      "1836/1836 [==============================] - 53s 29ms/step - loss: 0.2716 - accuracy: 0.8883 - val_loss: 1.3510 - val_accuracy: 0.6080\n",
      "Epoch 94/150\n",
      "1836/1836 [==============================] - 53s 29ms/step - loss: 0.2753 - accuracy: 0.9118 - val_loss: 1.5975 - val_accuracy: 0.5401\n",
      "Epoch 95/150\n",
      "1836/1836 [==============================] - 52s 29ms/step - loss: 0.4024 - accuracy: 0.8371 - val_loss: 1.3767 - val_accuracy: 0.5370\n",
      "Epoch 96/150\n",
      "1836/1836 [==============================] - 53s 29ms/step - loss: 0.3633 - accuracy: 0.8638 - val_loss: 1.4276 - val_accuracy: 0.5864\n",
      "Epoch 97/150\n",
      "1836/1836 [==============================] - 53s 29ms/step - loss: 0.4916 - accuracy: 0.8094 - val_loss: 1.1882 - val_accuracy: 0.5586\n",
      "Epoch 98/150\n",
      "1836/1836 [==============================] - 53s 29ms/step - loss: 0.2868 - accuracy: 0.8992 - val_loss: 1.1907 - val_accuracy: 0.5772\n",
      "Epoch 99/150\n",
      "1836/1836 [==============================] - 52s 28ms/step - loss: 0.1970 - accuracy: 0.9330 - val_loss: 1.1932 - val_accuracy: 0.5617\n",
      "Epoch 100/150\n",
      "1836/1836 [==============================] - 53s 29ms/step - loss: 0.1533 - accuracy: 0.9553 - val_loss: 1.2468 - val_accuracy: 0.5772\n",
      "Epoch 101/150\n",
      "1836/1836 [==============================] - 53s 29ms/step - loss: 0.1701 - accuracy: 0.9423 - val_loss: 1.2192 - val_accuracy: 0.5988\n",
      "Epoch 102/150\n",
      "1836/1836 [==============================] - 53s 29ms/step - loss: 0.2096 - accuracy: 0.9232 - val_loss: 1.2421 - val_accuracy: 0.6080\n",
      "Epoch 103/150\n",
      "1836/1836 [==============================] - 52s 29ms/step - loss: 0.1832 - accuracy: 0.9363 - val_loss: 1.1915 - val_accuracy: 0.5926\n",
      "Epoch 104/150\n",
      "1836/1836 [==============================] - 53s 29ms/step - loss: 0.2482 - accuracy: 0.9025 - val_loss: 1.3300 - val_accuracy: 0.6049\n",
      "Epoch 105/150\n",
      "1836/1836 [==============================] - 52s 29ms/step - loss: 0.2622 - accuracy: 0.8976 - val_loss: 1.3012 - val_accuracy: 0.5648\n",
      "Epoch 106/150\n",
      "1836/1836 [==============================] - 53s 29ms/step - loss: 0.2116 - accuracy: 0.9243 - val_loss: 1.2856 - val_accuracy: 0.5586\n",
      "Epoch 107/150\n",
      "1836/1836 [==============================] - 53s 29ms/step - loss: 0.1647 - accuracy: 0.9423 - val_loss: 1.2115 - val_accuracy: 0.5710\n",
      "Epoch 108/150\n",
      "1836/1836 [==============================] - 53s 29ms/step - loss: 0.1071 - accuracy: 0.9733 - val_loss: 1.3590 - val_accuracy: 0.5617\n",
      "Epoch 109/150\n",
      "1836/1836 [==============================] - 52s 29ms/step - loss: 0.1584 - accuracy: 0.9390 - val_loss: 2.0169 - val_accuracy: 0.4568\n",
      "Epoch 110/150\n",
      "1836/1836 [==============================] - 53s 29ms/step - loss: 0.2680 - accuracy: 0.8922 - val_loss: 1.7144 - val_accuracy: 0.5370\n",
      "Epoch 111/150\n"
     ]
    },
    {
     "name": "stdout",
     "output_type": "stream",
     "text": [
      "1836/1836 [==============================] - 52s 29ms/step - loss: 0.3853 - accuracy: 0.8497 - val_loss: 1.4805 - val_accuracy: 0.5340\n",
      "Epoch 112/150\n",
      "1836/1836 [==============================] - 52s 28ms/step - loss: 0.3769 - accuracy: 0.8491 - val_loss: 1.3854 - val_accuracy: 0.5833\n",
      "Epoch 113/150\n",
      "1836/1836 [==============================] - 52s 29ms/step - loss: 0.2413 - accuracy: 0.9025 - val_loss: 1.2780 - val_accuracy: 0.5432\n",
      "Epoch 114/150\n",
      "1836/1836 [==============================] - 53s 29ms/step - loss: 0.1480 - accuracy: 0.9542 - val_loss: 1.2038 - val_accuracy: 0.5926\n",
      "Epoch 115/150\n",
      "1836/1836 [==============================] - 53s 29ms/step - loss: 0.1127 - accuracy: 0.9733 - val_loss: 1.1365 - val_accuracy: 0.5833\n",
      "Epoch 116/150\n",
      "1836/1836 [==============================] - 52s 28ms/step - loss: 0.0893 - accuracy: 0.9853 - val_loss: 1.1814 - val_accuracy: 0.5710\n",
      "Epoch 117/150\n",
      "1836/1836 [==============================] - 53s 29ms/step - loss: 0.0842 - accuracy: 0.9815 - val_loss: 1.2464 - val_accuracy: 0.5833\n",
      "Epoch 118/150\n",
      "1836/1836 [==============================] - 52s 28ms/step - loss: 0.0761 - accuracy: 0.9897 - val_loss: 1.2857 - val_accuracy: 0.5463\n",
      "Epoch 119/150\n",
      "1836/1836 [==============================] - 52s 29ms/step - loss: 0.0742 - accuracy: 0.9847 - val_loss: 1.1268 - val_accuracy: 0.5988\n",
      "Epoch 120/150\n",
      "1836/1836 [==============================] - 53s 29ms/step - loss: 0.0663 - accuracy: 0.9869 - val_loss: 1.2007 - val_accuracy: 0.6173\n",
      "Epoch 121/150\n",
      "1836/1836 [==============================] - 52s 28ms/step - loss: 0.0677 - accuracy: 0.9869 - val_loss: 1.1658 - val_accuracy: 0.5957\n",
      "Epoch 122/150\n",
      "1836/1836 [==============================] - 52s 29ms/step - loss: 0.0564 - accuracy: 0.9946 - val_loss: 1.3293 - val_accuracy: 0.5772\n",
      "Epoch 123/150\n",
      "1836/1836 [==============================] - 53s 29ms/step - loss: 0.0920 - accuracy: 0.9728 - val_loss: 1.4413 - val_accuracy: 0.5525\n",
      "Epoch 124/150\n",
      "1836/1836 [==============================] - 52s 29ms/step - loss: 0.1415 - accuracy: 0.9439 - val_loss: 1.2089 - val_accuracy: 0.5926\n",
      "Epoch 125/150\n",
      "1836/1836 [==============================] - 53s 29ms/step - loss: 0.1054 - accuracy: 0.9624 - val_loss: 1.3906 - val_accuracy: 0.6296\n",
      "Epoch 126/150\n",
      "1836/1836 [==============================] - 52s 28ms/step - loss: 0.1872 - accuracy: 0.9243 - val_loss: 2.5157 - val_accuracy: 0.5340\n",
      "Epoch 127/150\n",
      "1836/1836 [==============================] - 52s 28ms/step - loss: 0.4152 - accuracy: 0.8431 - val_loss: 1.8251 - val_accuracy: 0.5401\n",
      "Epoch 128/150\n",
      "1836/1836 [==============================] - 52s 28ms/step - loss: 0.4047 - accuracy: 0.8519 - val_loss: 1.6950 - val_accuracy: 0.5833\n",
      "Epoch 129/150\n",
      "1836/1836 [==============================] - 52s 28ms/step - loss: 0.3437 - accuracy: 0.8807 - val_loss: 1.8172 - val_accuracy: 0.5000\n",
      "Epoch 130/150\n",
      "1836/1836 [==============================] - 52s 28ms/step - loss: 0.4945 - accuracy: 0.8333 - val_loss: 1.4268 - val_accuracy: 0.5617\n",
      "Epoch 131/150\n",
      "1836/1836 [==============================] - 52s 28ms/step - loss: 0.3535 - accuracy: 0.8546 - val_loss: 1.2767 - val_accuracy: 0.5864\n",
      "Epoch 132/150\n",
      "1836/1836 [==============================] - 52s 28ms/step - loss: 0.3369 - accuracy: 0.8633 - val_loss: 1.6054 - val_accuracy: 0.5586\n",
      "Epoch 133/150\n",
      "1836/1836 [==============================] - 52s 29ms/step - loss: 0.2606 - accuracy: 0.8965 - val_loss: 1.3158 - val_accuracy: 0.5648\n",
      "Epoch 134/150\n",
      "1836/1836 [==============================] - 52s 28ms/step - loss: 0.1453 - accuracy: 0.9515 - val_loss: 1.6298 - val_accuracy: 0.4938\n",
      "Epoch 135/150\n",
      "1836/1836 [==============================] - 52s 29ms/step - loss: 0.2413 - accuracy: 0.9183 - val_loss: 1.2723 - val_accuracy: 0.5525\n",
      "Epoch 136/150\n",
      "1836/1836 [==============================] - 52s 28ms/step - loss: 0.1926 - accuracy: 0.9237 - val_loss: 1.3438 - val_accuracy: 0.6019\n",
      "Epoch 137/150\n",
      "1836/1836 [==============================] - 52s 28ms/step - loss: 0.1687 - accuracy: 0.9325 - val_loss: 1.2117 - val_accuracy: 0.6049\n",
      "Epoch 138/150\n",
      "1836/1836 [==============================] - 52s 28ms/step - loss: 0.1253 - accuracy: 0.9597 - val_loss: 1.3375 - val_accuracy: 0.5710\n",
      "Epoch 139/150\n",
      "1836/1836 [==============================] - 53s 29ms/step - loss: 0.0911 - accuracy: 0.9777 - val_loss: 1.2206 - val_accuracy: 0.5772\n",
      "Epoch 140/150\n",
      "1836/1836 [==============================] - 54s 30ms/step - loss: 0.0914 - accuracy: 0.9782 - val_loss: 1.4341 - val_accuracy: 0.5833\n",
      "Epoch 141/150\n",
      "1836/1836 [==============================] - 53s 29ms/step - loss: 0.1053 - accuracy: 0.9706 - val_loss: 1.4951 - val_accuracy: 0.5401\n",
      "Epoch 142/150\n",
      "1836/1836 [==============================] - 56s 31ms/step - loss: 0.1133 - accuracy: 0.9602 - val_loss: 1.4130 - val_accuracy: 0.5772\n",
      "Epoch 143/150\n",
      "1836/1836 [==============================] - 55s 30ms/step - loss: 0.1436 - accuracy: 0.9472 - val_loss: 1.2806 - val_accuracy: 0.5864\n",
      "Epoch 144/150\n",
      "1836/1836 [==============================] - 56s 30ms/step - loss: 0.1047 - accuracy: 0.9651 - val_loss: 1.3515 - val_accuracy: 0.6142\n",
      "Epoch 145/150\n",
      "1836/1836 [==============================] - 55s 30ms/step - loss: 0.1650 - accuracy: 0.9330 - val_loss: 1.5348 - val_accuracy: 0.6019\n",
      "Epoch 146/150\n",
      "1836/1836 [==============================] - 55s 30ms/step - loss: 0.1451 - accuracy: 0.9423 - val_loss: 1.5472 - val_accuracy: 0.5648\n",
      "Epoch 147/150\n",
      "1836/1836 [==============================] - 54s 29ms/step - loss: 0.1256 - accuracy: 0.9564 - val_loss: 1.7680 - val_accuracy: 0.5247\n",
      "Epoch 148/150\n",
      "1836/1836 [==============================] - 55s 30ms/step - loss: 0.0970 - accuracy: 0.9690 - val_loss: 1.4594 - val_accuracy: 0.5586\n",
      "Epoch 149/150\n",
      "1836/1836 [==============================] - 58s 31ms/step - loss: 0.0745 - accuracy: 0.9782 - val_loss: 1.4384 - val_accuracy: 0.5648\n",
      "Epoch 150/150\n",
      "1836/1836 [==============================] - 56s 30ms/step - loss: 0.0568 - accuracy: 0.9897 - val_loss: 1.4662 - val_accuracy: 0.5586\n"
     ]
    }
   ],
   "source": [
    "EPOCHS = 150\n",
    "\n",
    "H = classifier.fit(x_train, y_train,\n",
    "                  epochs=EPOCHS,\n",
    "                  batch_size=128,\n",
    "                  shuffle=True,\n",
    "                  validation_data=(x_val, y_val))"
   ]
  },
  {
   "cell_type": "markdown",
   "metadata": {},
   "source": [
    "# Evaluate netowrk : stats and plots"
   ]
  },
  {
   "cell_type": "code",
   "execution_count": 8,
   "metadata": {
    "scrolled": true
   },
   "outputs": [
    {
     "data": {
      "image/png": "[encoded data removed]",
      "text/plain": [
       "<Figure size 432x288 with 1 Axes>"
      ]
     },
     "metadata": {},
     "output_type": "display_data"
    }
   ],
   "source": [
    "# plot the training loss and accuracy for each epoch\n",
    "N = np.arange(0,EPOCHS)\n",
    "plt.style.use(\"ggplot\")\n",
    "plt.figure()\n",
    "plt.plot(N, H.history[\"loss\"], label=\"train_loss\")\n",
    "plt.plot(N, H.history[\"val_loss\"], label=\"val_loss\")\n",
    "plt.plot(N, H.history[\"accuracy\"], label=\"train_acc\")\n",
    "plt.plot(N, H.history[\"val_accuracy\"], label=\"val_acc\")\n",
    "plt.title(\"Training Loss and Accuracy\")\n",
    "plt.xlabel(\"Epoch #\")\n",
    "plt.ylabel(\"Loss/Accuracy\")\n",
    "plt.legend()\n",
    "plt.savefig(\"training_performance_no_encoder_50_architecture_01.png\")\n",
    "plt.show()"
   ]
  },
  {
   "cell_type": "code",
   "execution_count": 9,
   "metadata": {},
   "outputs": [
    {
     "name": "stdout",
     "output_type": "stream",
     "text": [
      "dict_keys(['val_loss', 'val_accuracy', 'loss', 'accuracy'])\n"
     ]
    }
   ],
   "source": [
    "print(H.history.keys())\n",
    "#print(H.history[\"accuracy\"])"
   ]
  },
  {
   "cell_type": "markdown",
   "metadata": {},
   "source": [
    "# OR load trained CNN"
   ]
  },
  {
   "cell_type": "code",
   "execution_count": null,
   "metadata": {},
   "outputs": [],
   "source": [
    "print(x_test_raw.shape)\n",
    "print(y_test.shape)"
   ]
  },
  {
   "cell_type": "markdown",
   "metadata": {},
   "source": [
    "# Make prediction"
   ]
  },
  {
   "cell_type": "code",
   "execution_count": null,
   "metadata": {},
   "outputs": [],
   "source": []
  },
  {
   "cell_type": "code",
   "execution_count": null,
   "metadata": {},
   "outputs": [],
   "source": []
  },
  {
   "cell_type": "code",
   "execution_count": null,
   "metadata": {},
   "outputs": [],
   "source": []
  },
  {
   "cell_type": "code",
   "execution_count": null,
   "metadata": {},
   "outputs": [],
   "source": []
  },
  {
   "cell_type": "code",
   "execution_count": null,
   "metadata": {},
   "outputs": [],
   "source": []
  }
 ],
 "metadata": {
  "kernelspec": {
   "display_name": "Python 3",
   "language": "python",
   "name": "python3"
  },
  "language_info": {
   "codemirror_mode": {
    "name": "ipython",
    "version": 3
   },
   "file_extension": ".py",
   "mimetype": "text/x-python",
   "name": "python",
   "nbconvert_exporter": "python",
   "pygments_lexer": "ipython3",
   "version": "3.7.3"
  }
 },
 "nbformat": 4,
 "nbformat_minor": 2
}
