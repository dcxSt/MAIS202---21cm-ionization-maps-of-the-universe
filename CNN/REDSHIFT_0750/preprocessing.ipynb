{
 "cells": [
  {
   "cell_type": "markdown",
   "metadata": {},
   "source": [
    "# PREPROCESSING"
   ]
  },
  {
   "cell_type": "markdown",
   "metadata": {},
   "source": [
    "I want to avoid the problem I had while training the autoencoder, which is that I would have to re-shuffle the training and validation set everytime I closed the notebook, so Instead I will do that once here and save the shuffled data + labels as .npy files"
   ]
  },
  {
   "cell_type": "code",
   "execution_count": 8,
   "metadata": {},
   "outputs": [],
   "source": [
    "import numpy as np\n",
    "import random"
   ]
  },
  {
   "cell_type": "markdown",
   "metadata": {},
   "source": [
    "# Load redshift data and labels"
   ]
  },
  {
   "cell_type": "code",
   "execution_count": 10,
   "metadata": {},
   "outputs": [
    {
     "name": "stdout",
     "output_type": "stream",
     "text": [
      "(2400, 200, 200)\n",
      "(2400,)\n"
     ]
    }
   ],
   "source": [
    "images = np.load(\"redshift0750_data.npy\")\n",
    "labels_all = np.load(\"redshift0750_labels.npy\")\n",
    "\n",
    "print(images.shape)\n",
    "print(labels_all.shape)\n",
    "\n",
    "images = list(images)\n",
    "labels_all = list(labels_all)"
   ]
  },
  {
   "cell_type": "markdown",
   "metadata": {},
   "source": [
    "# Shuffle"
   ]
  },
  {
   "cell_type": "code",
   "execution_count": 11,
   "metadata": {},
   "outputs": [],
   "source": [
    "shuffled_images = []\n",
    "shuffled_labels_all = []\n",
    "while images:\n",
    "    i = random.randrange(len(images))\n",
    "    shuffled_images.append(images[i])\n",
    "    del images[i]\n",
    "    shuffled_labels_all.append(labels_all[i])\n",
    "    del labels_all[i]\n",
    "    \n",
    "images = np.array(shuffled_images[:])\n",
    "labels_all = np.array(shuffled_labels_all)"
   ]
  },
  {
   "cell_type": "code",
   "execution_count": 12,
   "metadata": {},
   "outputs": [
    {
     "name": "stdout",
     "output_type": "stream",
     "text": [
      "(2400, 200, 200)\n",
      "(2400,)\n"
     ]
    }
   ],
   "source": [
    "print(images.shape)\n",
    "print(labels_all.shape)"
   ]
  },
  {
   "cell_type": "markdown",
   "metadata": {},
   "source": [
    "### while im here I might aswell make the labels so that the model can read them... and do the preprocessing"
   ]
  },
  {
   "cell_type": "code",
   "execution_count": 13,
   "metadata": {},
   "outputs": [
    {
     "name": "stdout",
     "output_type": "stream",
     "text": [
      "max :  0.5033855\n",
      "min :  0.0\n"
     ]
    },
    {
     "data": {
      "text/plain": [
       "(2400, 200, 200)"
      ]
     },
     "execution_count": 13,
     "metadata": {},
     "output_type": "execute_result"
    }
   ],
   "source": [
    "# normalize images\n",
    "images_n = images / 70.0 # n for normalized\n",
    "print(\"max : \", np.max(images_n))\n",
    "print(\"min : \", np.min(images_n))\n",
    "images.shape"
   ]
  },
  {
   "cell_type": "markdown",
   "metadata": {},
   "source": [
    "# Reshape the images for feeding through the encoder"
   ]
  },
  {
   "cell_type": "code",
   "execution_count": 14,
   "metadata": {},
   "outputs": [],
   "source": [
    "im_reshape = np.array(images_n[:])\n",
    "im_reshape = np.expand_dims(im_reshape, axis = 3)"
   ]
  },
  {
   "cell_type": "code",
   "execution_count": 15,
   "metadata": {},
   "outputs": [
    {
     "name": "stdout",
     "output_type": "stream",
     "text": [
      "this is the shape (2400, 200, 200, 1)\n"
     ]
    }
   ],
   "source": [
    "im_reshape = np.array(im_reshape)\n",
    "print(\"this is the shape\", im_reshape.shape)"
   ]
  },
  {
   "cell_type": "code",
   "execution_count": 16,
   "metadata": {
    "scrolled": true
   },
   "outputs": [
    {
     "name": "stdout",
     "output_type": "stream",
     "text": [
      "0.07\n",
      "0.08\n",
      "0.108\n",
      "0.104\n",
      "0.098\n",
      "0.098\n",
      "0.092\n",
      "0.098\n",
      "0.13\n",
      "0.106\n",
      "0.098\n",
      "0.098\n",
      "0.106\n",
      "0.104\n",
      "0.07\n"
     ]
    }
   ],
   "source": [
    "for i in range(15):\n",
    "    print(labels_all[i])"
   ]
  },
  {
   "cell_type": "markdown",
   "metadata": {},
   "source": [
    "# format the labels so the network can read them"
   ]
  },
  {
   "cell_type": "code",
   "execution_count": 17,
   "metadata": {},
   "outputs": [
    {
     "name": "stdout",
     "output_type": "stream",
     "text": [
      "[0.07, 0.08, 0.092, 0.094, 0.096, 0.098, 0.102, 0.104, 0.106, 0.108, 0.12, 0.13] \n",
      "There are 12 labels. So we want 12 classes\n"
     ]
    }
   ],
   "source": [
    "# display the labels\n",
    "l = []\n",
    "for i in labels_all:\n",
    "    if i not in l: l.append(i)\n",
    "l.sort()\n",
    "print(l, \"\\nThere are\", len(l), \"labels. So we want\", \n",
    "      len(l), \"classes\")"
   ]
  },
  {
   "cell_type": "code",
   "execution_count": 18,
   "metadata": {},
   "outputs": [
    {
     "name": "stdout",
     "output_type": "stream",
     "text": [
      "train_labels shape = (2400, 12) \n",
      "\n",
      "First 3 entries:\n",
      "[[1. 0. 0. 0. 0. 0. 0. 0. 0. 0. 0. 0.]\n",
      " [0. 1. 0. 0. 0. 0. 0. 0. 0. 0. 0. 0.]\n",
      " [0. 0. 0. 0. 0. 0. 0. 0. 0. 1. 0. 0.]]\n"
     ]
    }
   ],
   "source": [
    "# define the train labels in len 12 arrays\n",
    "labels = []\n",
    "for i in labels_all:\n",
    "    arr = np.zeros(len(l))\n",
    "    index = l.index(i)\n",
    "    arr[index]=1\n",
    "    labels.append(arr[:])\n",
    "    \n",
    "labels = np.array(labels)\n",
    "print(\"train_labels shape =\", labels.shape, \n",
    "      \"\\n\\nFirst 3 entries:\")\n",
    "print(labels[:3])"
   ]
  },
  {
   "cell_type": "markdown",
   "metadata": {},
   "source": [
    "## normalize"
   ]
  },
  {
   "cell_type": "code",
   "execution_count": 19,
   "metadata": {},
   "outputs": [
    {
     "name": "stdout",
     "output_type": "stream",
     "text": [
      "max : 0.8809246\n",
      "min : 0.0\n"
     ]
    }
   ],
   "source": [
    "# normalize images\n",
    "images_n = images / 40.0 # for some reason this one is 40... \n",
    "# it's the data not the me\n",
    "print(\"max :\", np.max(images_n))\n",
    "print(\"min :\", np.min(images_n))"
   ]
  },
  {
   "cell_type": "markdown",
   "metadata": {},
   "source": [
    "# augment dimention"
   ]
  },
  {
   "cell_type": "code",
   "execution_count": null,
   "metadata": {},
   "outputs": [],
   "source": [
    "im_reshape = np.array(images_n[:])\n",
    "im_reshape = np.expand_dims(im_reshape, axis=3)\n",
    "im_reshape = np.array(im_reshape)\n",
    "print(\"this is the shape\", im_reshape.shape)"
   ]
  },
  {
   "cell_type": "markdown",
   "metadata": {},
   "source": [
    "# train test split"
   ]
  },
  {
   "cell_type": "code",
   "execution_count": 20,
   "metadata": {},
   "outputs": [
    {
     "name": "stdout",
     "output_type": "stream",
     "text": [
      "the shape of the arrays are (2160, 200, 200) modify the nn appropriately\n"
     ]
    }
   ],
   "source": [
    "ratio = 0.9\n",
    "cut = int(len(im_reshape)*ratio)\n",
    "images_train = im_reshape[:cut]\n",
    "labels_train = labels[:cut]\n",
    "images_test = im_reshape[cut:]\n",
    "labels_test = labels[cut:]\n",
    "print(\"the shape of the arrays are\", images_train.shape, \"modify the nn appropriately\")"
   ]
  },
  {
   "cell_type": "markdown",
   "metadata": {},
   "source": [
    "# save them"
   ]
  },
  {
   "cell_type": "code",
   "execution_count": 21,
   "metadata": {},
   "outputs": [],
   "source": [
    "np.save(\"redshift0750_data_train.npy\", images_train)\n",
    "np.save(\"redshift0750_data_test.npy\", images_test)\n",
    "np.save(\"redshift0750_labels_train.npy\", labels_train)\n",
    "np.save(\"redshift0750_labels_test.npy\", labels_test)"
   ]
  },
  {
   "cell_type": "code",
   "execution_count": null,
   "metadata": {},
   "outputs": [],
   "source": []
  },
  {
   "cell_type": "code",
   "execution_count": null,
   "metadata": {},
   "outputs": [],
   "source": []
  },
  {
   "cell_type": "code",
   "execution_count": null,
   "metadata": {},
   "outputs": [],
   "source": []
  }
 ],
 "metadata": {
  "kernelspec": {
   "display_name": "Python 3",
   "language": "python",
   "name": "python3"
  },
  "language_info": {
   "codemirror_mode": {
    "name": "ipython",
    "version": 3
   },
   "file_extension": ".py",
   "mimetype": "text/x-python",
   "name": "python",
   "nbconvert_exporter": "python",
   "pygments_lexer": "ipython3",
   "version": "3.7.3"
  }
 },
 "nbformat": 4,
 "nbformat_minor": 2
}
