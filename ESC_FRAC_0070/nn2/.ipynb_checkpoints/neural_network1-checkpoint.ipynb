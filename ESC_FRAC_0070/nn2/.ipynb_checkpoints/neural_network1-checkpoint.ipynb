{
 "cells": [
  {
   "cell_type": "markdown",
   "metadata": {},
   "source": [
    "# BASELINE MODEL\n",
    "\n",
    "Using [this webpage](https://medium.com/@pallawi.ds/ai-starter-train-and-test-your-first-neural-network-classifier-in-keras-from-scratch-b6a5f3b3ebc4) to help me out"
   ]
  },
  {
   "cell_type": "markdown",
   "metadata": {},
   "source": [
    "# import statements"
   ]
  },
  {
   "cell_type": "code",
   "execution_count": 215,
   "metadata": {},
   "outputs": [
    {
     "name": "stdout",
     "output_type": "stream",
     "text": [
      "keras is using tensorflow as the backend\n"
     ]
    }
   ],
   "source": [
    "import matplotlib.pyplot as plt\n",
    "import matplotlib as mpl\n",
    "import sklearn\n",
    "import numpy as np\n",
    "import random\n",
    "\n",
    "# import keras\n",
    "import keras\n",
    "from keras.models import Sequential\n",
    "from keras import backend as K\n",
    "backend_keras = keras.backend.backend()\n",
    "print(\"keras is using\", backend_keras,\"as the backend\")\n",
    "from keras.layers.core import Dense\n",
    "from keras.optimizers import SGD"
   ]
  },
  {
   "cell_type": "markdown",
   "metadata": {},
   "source": [
    "# Load the data"
   ]
  },
  {
   "cell_type": "code",
   "execution_count": 226,
   "metadata": {},
   "outputs": [
    {
     "name": "stdout",
     "output_type": "stream",
     "text": [
      "(6171, 50, 50)\n",
      "(6171,)\n"
     ]
    }
   ],
   "source": [
    "images = np.load(\"training_set.npy\")\n",
    "labels_all = np.load(\"training_redshift_labels.npy\")\n",
    "print(train.shape)\n",
    "print(labels_all.shape)\n",
    "\n",
    "images = list(images)\n",
    "labels_all = list(labels_all)"
   ]
  },
  {
   "cell_type": "markdown",
   "metadata": {},
   "source": [
    "# Preprocessing"
   ]
  },
  {
   "cell_type": "code",
   "execution_count": 227,
   "metadata": {},
   "outputs": [],
   "source": [
    "# Shuffle the data\n",
    "shuffled_images = []\n",
    "shuffled_labels_all = []\n",
    "while images:\n",
    "    i = random.randrange(len(images))\n",
    "    shuffled_images.append(images[i])\n",
    "    del images[i]\n",
    "    shuffled_labels_all.append(labels_all[i])\n",
    "    del labels_all[i]\n",
    "    \n",
    "images = np.array(shuffled_images[:])\n",
    "labels_all = np.array(shuffled_labels_all)"
   ]
  },
  {
   "cell_type": "code",
   "execution_count": 228,
   "metadata": {},
   "outputs": [
    {
     "name": "stdout",
     "output_type": "stream",
     "text": [
      "(6171, 50, 50)\n",
      "(6171,)\n"
     ]
    }
   ],
   "source": [
    "print(images.shape)\n",
    "print(labels_all.shape)"
   ]
  },
  {
   "cell_type": "markdown",
   "metadata": {},
   "source": [
    "### make the labels so that the model can learn them\n",
    "Sofar the labels are floats "
   ]
  },
  {
   "cell_type": "code",
   "execution_count": 185,
   "metadata": {},
   "outputs": [
    {
     "name": "stdout",
     "output_type": "stream",
     "text": [
      "[5.0, 5.5, 6.0, 6.5, 7.0, 7.5, 8.0, 8.5, 9.0, 9.5, 10.0, 10.5, 11.0, 11.5, 12.0, 12.5, 13.0] \n",
      "There are 17 labels. So the the problem is an image classification into 17 classes\n"
     ]
    }
   ],
   "source": [
    "# display the labels\n",
    "l = []\n",
    "for i in labels:\n",
    "    if i not in l: l.append(i)\n",
    "l.sort()\n",
    "print(l,\"\\nThere are\",len(l),\"labels. So the the problem is an image classification into\",len(l),\"classes\")"
   ]
  },
  {
   "cell_type": "code",
   "execution_count": 186,
   "metadata": {},
   "outputs": [
    {
     "name": "stdout",
     "output_type": "stream",
     "text": [
      "train_labels shape = (4997, 17) \n",
      "First 3 entries:\n",
      "[[0. 0. 0. 0. 0. 1. 0. 0. 0. 0. 0. 0. 0. 0. 0. 0. 0.]\n",
      " [0. 0. 0. 0. 0. 0. 0. 0. 0. 0. 0. 0. 0. 0. 0. 0. 1.]\n",
      " [0. 0. 0. 0. 0. 0. 0. 1. 0. 0. 0. 0. 0. 0. 0. 0. 0.]]\n"
     ]
    }
   ],
   "source": [
    "# define the train labels in len 17 arrays\n",
    "\n",
    "train_labels = []\n",
    "for i in labels:\n",
    "    arr = np.zeros(17)\n",
    "    index = int(np.round((i-5)*2,0))\n",
    "    arr[index]=1\n",
    "    train_labels.append(arr[:])\n",
    "    \n",
    "train_labels = np.array(train_labels)\n",
    "print(\"train_labels shape =\", train_labels.shape,\"\\nFirst 3 entries:\")\n",
    "print(train_labels[:3])"
   ]
  },
  {
   "cell_type": "markdown",
   "metadata": {},
   "source": [
    "### normalise the images\n",
    "because the values of the pixels in these images are somewhat unconventional I normalize by dividing by 70 instead of 255, this is because I checked and the max value was 66 point something."
   ]
  },
  {
   "cell_type": "code",
   "execution_count": 187,
   "metadata": {},
   "outputs": [
    {
     "name": "stdout",
     "output_type": "stream",
     "text": [
      "max :  0.9500968\n",
      "min :  0.0\n"
     ]
    }
   ],
   "source": [
    "# normalize images\n",
    "train_images_n = train_images / 70.0 # n for normalized\n",
    "print(\"max : \",np.max(train_images_n))\n",
    "print(\"min : \",np.min(train_images_n))"
   ]
  },
  {
   "cell_type": "markdown",
   "metadata": {},
   "source": [
    "Flatten the images for training"
   ]
  },
  {
   "cell_type": "code",
   "execution_count": 188,
   "metadata": {},
   "outputs": [
    {
     "name": "stdout",
     "output_type": "stream",
     "text": [
      "triain images flatten shape :  (4997, 2500)\n"
     ]
    }
   ],
   "source": [
    "train_images_flatten = np.array([i.flatten(\"C\") for i in train_images])\n",
    "print(\"triain images flatten shape : \",train_images_flatten.shape)"
   ]
  },
  {
   "cell_type": "markdown",
   "metadata": {},
   "source": [
    "# Train Test Split"
   ]
  },
  {
   "cell_type": "code",
   "execution_count": 229,
   "metadata": {},
   "outputs": [],
   "source": [
    "ratio = 0.9\n",
    "cut = int(len(train_images)*ratio)\n",
    "train_images = shuffled_images[:cut]\n",
    "labels = shuffled_labels_all[:cut]\n",
    "test_images = shuffled_images[cut:]\n",
    "labels_test = shuffled_labels_all[cut:]"
   ]
  },
  {
   "cell_type": "markdown",
   "metadata": {},
   "source": [
    "# Define Architecture\n",
    "The input size is 2500 and the output is gonna have size 17. I'm gonna make it single hidden layer."
   ]
  },
  {
   "cell_type": "code",
   "execution_count": 189,
   "metadata": {},
   "outputs": [
    {
     "name": "stdout",
     "output_type": "stream",
     "text": [
      "printing summary of model\n",
      "Model: \"sequential_5\"\n",
      "_________________________________________________________________\n",
      "Layer (type)                 Output Shape              Param #   \n",
      "=================================================================\n",
      "dense_7 (Dense)              (None, 350)               875350    \n",
      "_________________________________________________________________\n",
      "dense_8 (Dense)              (None, 17)                5967      \n",
      "=================================================================\n",
      "Total params: 881,317\n",
      "Trainable params: 881,317\n",
      "Non-trainable params: 0\n",
      "_________________________________________________________________\n"
     ]
    }
   ],
   "source": [
    "model = Sequential()\n",
    "\n",
    "model.add(Dense(350, input_shape=(2500,), activation=\"sigmoid\"))\n",
    "model.add(Dense(17, activation=\"softmax\"))\n",
    "\n",
    "print(\"printing summary of model\")\n",
    "model.summary()"
   ]
  },
  {
   "cell_type": "markdown",
   "metadata": {},
   "source": [
    "# Compile the mode\n",
    "You can compile a network (model) as many times as you want. You need to compile the model if you wish to change the loss function, optimizer or matrices.\n",
    "\n",
    "You need a compiled model to train (because training uses the loss function and the optimizer). But it’s not necessary to compile the model when testing the model on a new data."
   ]
  },
  {
   "cell_type": "code",
   "execution_count": 192,
   "metadata": {},
   "outputs": [
    {
     "name": "stdout",
     "output_type": "stream",
     "text": [
      "[INFO] Compiled the network...\n"
     ]
    }
   ],
   "source": [
    "# Initialize the initial learning rate and number of Epochs\n",
    "INIT_LR = 0.01\n",
    "EPOCHS = 50\n",
    "\n",
    "# compile the model using SGD optimizer (see imports) and categorical cross-entropy loss\n",
    "print(\"[INFO] Compiled the network...\")\n",
    "opt = SGD(lr = INIT_LR) # stochastic gradient descent\n",
    "model.compile(loss=\"categorical_crossentropy\", optimizer=opt,\n",
    "             metrics=[\"accuracy\"])"
   ]
  },
  {
   "cell_type": "code",
   "execution_count": 193,
   "metadata": {},
   "outputs": [],
   "source": [
    "# split the train into a train and valid set\n",
    "ratio = 0.8\n",
    "cut = int(ratio*len(train_images_flatten))\n",
    "trainX = train_images_flatten[:cut]\n",
    "trainY = train_labels[:cut]\n",
    "valX = train_images_flatten[cut:]\n",
    "valY = train_labels[cut:]"
   ]
  },
  {
   "cell_type": "markdown",
   "metadata": {},
   "source": [
    "## OR possible import an old network / pre-defined network for (re)training"
   ]
  },
  {
   "cell_type": "markdown",
   "metadata": {},
   "source": [
    "# Train the network"
   ]
  },
  {
   "cell_type": "code",
   "execution_count": 194,
   "metadata": {},
   "outputs": [
    {
     "name": "stdout",
     "output_type": "stream",
     "text": [
      "a random guess would have probability 0.058823529411764705\n"
     ]
    }
   ],
   "source": [
    "print(\"a random guess would have probability\",1./17)"
   ]
  },
  {
   "cell_type": "code",
   "execution_count": 195,
   "metadata": {
    "scrolled": true
   },
   "outputs": [
    {
     "name": "stdout",
     "output_type": "stream",
     "text": [
      "Train on 3997 samples, validate on 1000 samples\n",
      "Epoch 1/50\n",
      "3997/3997 [==============================] - 1s 275us/step - loss: 2.8896 - accuracy: 0.0603 - val_loss: 2.8756 - val_accuracy: 0.0640\n",
      "Epoch 2/50\n",
      "3997/3997 [==============================] - 1s 201us/step - loss: 2.8308 - accuracy: 0.0821 - val_loss: 2.8721 - val_accuracy: 0.0550\n",
      "Epoch 3/50\n",
      "3997/3997 [==============================] - 1s 251us/step - loss: 2.7992 - accuracy: 0.0936 - val_loss: 2.8828 - val_accuracy: 0.0630\n",
      "Epoch 4/50\n",
      "3997/3997 [==============================] - 1s 247us/step - loss: 2.7791 - accuracy: 0.0948 - val_loss: 2.8652 - val_accuracy: 0.0680\n",
      "Epoch 5/50\n",
      "3997/3997 [==============================] - 1s 246us/step - loss: 2.7547 - accuracy: 0.1176 - val_loss: 2.8526 - val_accuracy: 0.0630\n",
      "Epoch 6/50\n",
      "3997/3997 [==============================] - 1s 320us/step - loss: 2.7318 - accuracy: 0.1331 - val_loss: 2.8603 - val_accuracy: 0.0730\n",
      "Epoch 7/50\n",
      "3997/3997 [==============================] - 1s 269us/step - loss: 2.7184 - accuracy: 0.1479 - val_loss: 2.8687 - val_accuracy: 0.0580\n",
      "Epoch 8/50\n",
      "3997/3997 [==============================] - 1s 253us/step - loss: 2.7029 - accuracy: 0.1516 - val_loss: 2.8772 - val_accuracy: 0.0690\n",
      "Epoch 9/50\n",
      "3997/3997 [==============================] - 1s 341us/step - loss: 2.6871 - accuracy: 0.1614 - val_loss: 2.8788 - val_accuracy: 0.0720\n",
      "Epoch 10/50\n",
      "3997/3997 [==============================] - 1s 231us/step - loss: 2.6790 - accuracy: 0.1666 - val_loss: 2.8677 - val_accuracy: 0.0760\n",
      "Epoch 11/50\n",
      "3997/3997 [==============================] - 1s 333us/step - loss: 2.6655 - accuracy: 0.1779 - val_loss: 2.8782 - val_accuracy: 0.0690\n",
      "Epoch 12/50\n",
      "3997/3997 [==============================] - 1s 277us/step - loss: 2.6512 - accuracy: 0.1886 - val_loss: 2.8881 - val_accuracy: 0.0550\n",
      "Epoch 13/50\n",
      "3997/3997 [==============================] - 1s 292us/step - loss: 2.6375 - accuracy: 0.1959 - val_loss: 2.8812 - val_accuracy: 0.0610\n",
      "Epoch 14/50\n",
      "3997/3997 [==============================] - 1s 319us/step - loss: 2.6284 - accuracy: 0.2044 - val_loss: 2.8710 - val_accuracy: 0.0670\n",
      "Epoch 15/50\n",
      "3997/3997 [==============================] - 1s 260us/step - loss: 2.6156 - accuracy: 0.2089 - val_loss: 2.8687 - val_accuracy: 0.0700\n",
      "Epoch 16/50\n",
      "3997/3997 [==============================] - 1s 316us/step - loss: 2.6075 - accuracy: 0.2202 - val_loss: 2.8840 - val_accuracy: 0.0620\n",
      "Epoch 17/50\n",
      "3997/3997 [==============================] - 1s 303us/step - loss: 2.5922 - accuracy: 0.2274 - val_loss: 2.8869 - val_accuracy: 0.0610\n",
      "Epoch 18/50\n",
      "3997/3997 [==============================] - 1s 273us/step - loss: 2.5813 - accuracy: 0.2347 - val_loss: 2.8793 - val_accuracy: 0.0690\n",
      "Epoch 19/50\n",
      "3997/3997 [==============================] - 1s 323us/step - loss: 2.5724 - accuracy: 0.2399 - val_loss: 2.8742 - val_accuracy: 0.0490\n",
      "Epoch 20/50\n",
      "3997/3997 [==============================] - 1s 281us/step - loss: 2.5690 - accuracy: 0.2402 - val_loss: 2.8833 - val_accuracy: 0.0630\n",
      "Epoch 21/50\n",
      "3997/3997 [==============================] - 1s 308us/step - loss: 2.5594 - accuracy: 0.2387 - val_loss: 2.8782 - val_accuracy: 0.0650\n",
      "Epoch 22/50\n",
      "3997/3997 [==============================] - 1s 300us/step - loss: 2.5533 - accuracy: 0.2444 - val_loss: 2.8718 - val_accuracy: 0.0610\n",
      "Epoch 23/50\n",
      "3997/3997 [==============================] - 1s 281us/step - loss: 2.5460 - accuracy: 0.2427 - val_loss: 2.8938 - val_accuracy: 0.0460\n",
      "Epoch 24/50\n",
      "3997/3997 [==============================] - 1s 343us/step - loss: 2.5371 - accuracy: 0.2459 - val_loss: 2.8950 - val_accuracy: 0.0700\n",
      "Epoch 25/50\n",
      "3997/3997 [==============================] - 1s 279us/step - loss: 2.5323 - accuracy: 0.2557 - val_loss: 2.8946 - val_accuracy: 0.0720\n",
      "Epoch 26/50\n",
      "3997/3997 [==============================] - 1s 287us/step - loss: 2.5200 - accuracy: 0.2642 - val_loss: 2.8881 - val_accuracy: 0.0670\n",
      "Epoch 27/50\n",
      "3997/3997 [==============================] - 1s 288us/step - loss: 2.5102 - accuracy: 0.2690 - val_loss: 2.8918 - val_accuracy: 0.0490\n",
      "Epoch 28/50\n",
      "3997/3997 [==============================] - 1s 263us/step - loss: 2.4965 - accuracy: 0.2725 - val_loss: 2.8929 - val_accuracy: 0.0580\n",
      "Epoch 29/50\n",
      "3997/3997 [==============================] - 1s 334us/step - loss: 2.4907 - accuracy: 0.2792 - val_loss: 2.8924 - val_accuracy: 0.0600\n",
      "Epoch 30/50\n",
      "3997/3997 [==============================] - 1s 260us/step - loss: 2.4863 - accuracy: 0.2770 - val_loss: 2.8812 - val_accuracy: 0.0600\n",
      "Epoch 31/50\n",
      "3997/3997 [==============================] - 1s 320us/step - loss: 2.4853 - accuracy: 0.2722 - val_loss: 2.8951 - val_accuracy: 0.0600\n",
      "Epoch 32/50\n",
      "3997/3997 [==============================] - 1s 307us/step - loss: 2.4771 - accuracy: 0.2765 - val_loss: 2.8916 - val_accuracy: 0.0540\n",
      "Epoch 33/50\n",
      "3997/3997 [==============================] - 1s 239us/step - loss: 2.4637 - accuracy: 0.2792 - val_loss: 2.8981 - val_accuracy: 0.0620\n",
      "Epoch 34/50\n",
      "3997/3997 [==============================] - 1s 203us/step - loss: 2.4520 - accuracy: 0.2802 - val_loss: 2.9092 - val_accuracy: 0.0650\n",
      "Epoch 35/50\n",
      "3997/3997 [==============================] - 1s 260us/step - loss: 2.4501 - accuracy: 0.2860 - val_loss: 2.8976 - val_accuracy: 0.0500\n",
      "Epoch 36/50\n",
      "3997/3997 [==============================] - 1s 279us/step - loss: 2.4474 - accuracy: 0.2897 - val_loss: 2.9042 - val_accuracy: 0.0660\n",
      "Epoch 37/50\n",
      "3997/3997 [==============================] - 1s 366us/step - loss: 2.4358 - accuracy: 0.2905 - val_loss: 2.9015 - val_accuracy: 0.0650\n",
      "Epoch 38/50\n",
      "3997/3997 [==============================] - 1s 237us/step - loss: 2.4318 - accuracy: 0.2950 - val_loss: 2.9084 - val_accuracy: 0.0590\n",
      "Epoch 39/50\n",
      "3997/3997 [==============================] - 1s 277us/step - loss: 2.4227 - accuracy: 0.2935 - val_loss: 2.8988 - val_accuracy: 0.0530\n",
      "Epoch 40/50\n",
      "3997/3997 [==============================] - 1s 335us/step - loss: 2.4230 - accuracy: 0.3000 - val_loss: 2.9065 - val_accuracy: 0.0430\n",
      "Epoch 41/50\n",
      "3997/3997 [==============================] - 1s 282us/step - loss: 2.4189 - accuracy: 0.2937 - val_loss: 2.9172 - val_accuracy: 0.0600\n",
      "Epoch 42/50\n",
      "3997/3997 [==============================] - 1s 319us/step - loss: 2.4100 - accuracy: 0.3017 - val_loss: 2.9399 - val_accuracy: 0.0530\n",
      "Epoch 43/50\n",
      "3997/3997 [==============================] - 1s 277us/step - loss: 2.3933 - accuracy: 0.3055 - val_loss: 2.9412 - val_accuracy: 0.0550\n",
      "Epoch 44/50\n",
      "3997/3997 [==============================] - 1s 251us/step - loss: 2.3897 - accuracy: 0.3097 - val_loss: 2.9239 - val_accuracy: 0.0570\n",
      "Epoch 45/50\n",
      "3997/3997 [==============================] - 1s 280us/step - loss: 2.3827 - accuracy: 0.3052 - val_loss: 2.9338 - val_accuracy: 0.0550\n",
      "Epoch 46/50\n",
      "3997/3997 [==============================] - 1s 254us/step - loss: 2.3741 - accuracy: 0.3060 - val_loss: 2.9306 - val_accuracy: 0.0700\n",
      "Epoch 47/50\n",
      "3997/3997 [==============================] - 1s 253us/step - loss: 2.3794 - accuracy: 0.3062 - val_loss: 2.9103 - val_accuracy: 0.0580\n",
      "Epoch 48/50\n",
      "3997/3997 [==============================] - 1s 307us/step - loss: 2.3754 - accuracy: 0.3047 - val_loss: 2.9209 - val_accuracy: 0.0570\n",
      "Epoch 49/50\n",
      "3997/3997 [==============================] - 1s 254us/step - loss: 2.3638 - accuracy: 0.3092 - val_loss: 2.9241 - val_accuracy: 0.0730\n",
      "Epoch 50/50\n",
      "3997/3997 [==============================] - 1s 288us/step - loss: 2.3622 - accuracy: 0.3195 - val_loss: 2.9280 - val_accuracy: 0.0700\n"
     ]
    }
   ],
   "source": [
    "H = model.fit(trainX, trainY,\n",
    "             validation_data=(valX,valY),\n",
    "             epochs=EPOCHS, batch_size=32)"
   ]
  },
  {
   "cell_type": "markdown",
   "metadata": {},
   "source": [
    "### Evaluate the netork"
   ]
  },
  {
   "cell_type": "code",
   "execution_count": null,
   "metadata": {},
   "outputs": [],
   "source": [
    "print(\"[INFO] evaluating netowrk...\")\n",
    "predictions = model.predict(trainX, batch_size=32)\n"
   ]
  },
  {
   "cell_type": "markdown",
   "metadata": {},
   "source": [
    "### Save the weights"
   ]
  },
  {
   "cell_type": "code",
   "execution_count": null,
   "metadata": {},
   "outputs": [],
   "source": []
  },
  {
   "cell_type": "markdown",
   "metadata": {},
   "source": [
    "# OR Import an old neural network"
   ]
  },
  {
   "cell_type": "markdown",
   "metadata": {},
   "source": [
    "# Make a prediction and asses accuracy"
   ]
  },
  {
   "cell_type": "code",
   "execution_count": null,
   "metadata": {},
   "outputs": [],
   "source": []
  },
  {
   "cell_type": "code",
   "execution_count": null,
   "metadata": {},
   "outputs": [],
   "source": []
  },
  {
   "cell_type": "code",
   "execution_count": null,
   "metadata": {},
   "outputs": [],
   "source": []
  },
  {
   "cell_type": "code",
   "execution_count": null,
   "metadata": {},
   "outputs": [],
   "source": []
  },
  {
   "cell_type": "code",
   "execution_count": null,
   "metadata": {},
   "outputs": [],
   "source": []
  }
 ],
 "metadata": {
  "kernelspec": {
   "display_name": "Python 3",
   "language": "python",
   "name": "python3"
  },
  "language_info": {
   "codemirror_mode": {
    "name": "ipython",
    "version": 3
   },
   "file_extension": ".py",
   "mimetype": "text/x-python",
   "name": "python",
   "nbconvert_exporter": "python",
   "pygments_lexer": "ipython3",
   "version": "3.7.3"
  }
 },
 "nbformat": 4,
 "nbformat_minor": 2
}
