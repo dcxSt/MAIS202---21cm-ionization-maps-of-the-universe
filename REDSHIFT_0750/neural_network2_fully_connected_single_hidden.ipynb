{
 "cells": [
  {
   "cell_type": "markdown",
   "metadata": {},
   "source": [
    "# BASELINE MODEL\n",
    "\n",
    "Using [this webpage](https://medium.com/@pallawi.ds/ai-starter-train-and-test-your-first-neural-network-classifier-in-keras-from-scratch-b6a5f3b3ebc4) to help me out"
   ]
  },
  {
   "cell_type": "markdown",
   "metadata": {},
   "source": [
    "# import statements"
   ]
  },
  {
   "cell_type": "code",
   "execution_count": 1,
   "metadata": {},
   "outputs": [
    {
     "name": "stderr",
     "output_type": "stream",
     "text": [
      "Using TensorFlow backend.\n"
     ]
    },
    {
     "name": "stdout",
     "output_type": "stream",
     "text": [
      "keras is using tensorflow as the backend\n"
     ]
    }
   ],
   "source": [
    "import matplotlib.pyplot as plt\n",
    "import matplotlib as mpl\n",
    "import sklearn\n",
    "import numpy as np\n",
    "import random\n",
    "\n",
    "# import keras\n",
    "import keras\n",
    "from keras.models import Sequential\n",
    "from keras import backend as K\n",
    "backend_keras = keras.backend.backend()\n",
    "print(\"keras is using\", backend_keras,\"as the backend\")\n",
    "from keras.layers.core import Dense\n",
    "from keras.optimizers import SGD"
   ]
  },
  {
   "cell_type": "markdown",
   "metadata": {},
   "source": [
    "# Load the data"
   ]
  },
  {
   "cell_type": "code",
   "execution_count": 22,
   "metadata": {},
   "outputs": [
    {
     "name": "stdout",
     "output_type": "stream",
     "text": [
      "(2400, 200, 200)\n",
      "(2400,)\n"
     ]
    }
   ],
   "source": [
    "images = np.load(\"redshift0750_data.npy\")\n",
    "labels_all = np.load(\"redshift0750_labels.npy\")\n",
    "print(images.shape)\n",
    "print(labels_all.shape)\n",
    "\n",
    "images = list(images)\n",
    "labels_all = list(labels_all)"
   ]
  },
  {
   "cell_type": "markdown",
   "metadata": {},
   "source": [
    "# Preprocessing"
   ]
  },
  {
   "cell_type": "code",
   "execution_count": 23,
   "metadata": {},
   "outputs": [],
   "source": [
    "# Shuffle the data\n",
    "shuffled_images = []\n",
    "shuffled_labels_all = []\n",
    "while images:\n",
    "    i = random.randrange(len(images))\n",
    "    shuffled_images.append(images[i])\n",
    "    del images[i]\n",
    "    shuffled_labels_all.append(labels_all[i])\n",
    "    del labels_all[i]\n",
    "    \n",
    "images = np.array(shuffled_images[:])\n",
    "labels_all = np.array(shuffled_labels_all)"
   ]
  },
  {
   "cell_type": "code",
   "execution_count": 24,
   "metadata": {},
   "outputs": [
    {
     "name": "stdout",
     "output_type": "stream",
     "text": [
      "(2400, 200, 200)\n",
      "(2400,)\n"
     ]
    }
   ],
   "source": [
    "print(images.shape)\n",
    "print(labels_all.shape)"
   ]
  },
  {
   "cell_type": "markdown",
   "metadata": {},
   "source": [
    "### transform the labels so that the model can learn them\n",
    "Sofar the labels are floats "
   ]
  },
  {
   "cell_type": "code",
   "execution_count": 25,
   "metadata": {},
   "outputs": [
    {
     "name": "stdout",
     "output_type": "stream",
     "text": [
      "[0.07, 0.08, 0.092, 0.094, 0.096, 0.098, 0.102, 0.104, 0.106, 0.108, 0.12, 0.13] \n",
      "There are 12 labels. So the the problem is an image classification into 12 classes\n"
     ]
    }
   ],
   "source": [
    "# display the labels\n",
    "l = []\n",
    "for i in labels_all:\n",
    "    if i not in l: l.append(i)\n",
    "l.sort()\n",
    "print(l,\"\\nThere are\",len(l),\"labels. So the the problem is an image classification into\",len(l),\"classes\")"
   ]
  },
  {
   "cell_type": "code",
   "execution_count": 26,
   "metadata": {},
   "outputs": [
    {
     "name": "stdout",
     "output_type": "stream",
     "text": [
      "train_labels shape = (2400, 12) \n",
      "\n",
      "First 3 entries:\n",
      "[[1. 0. 0. 0. 0. 0. 0. 0. 0. 0. 0. 0.]\n",
      " [0. 0. 0. 0. 0. 1. 0. 0. 0. 0. 0. 0.]\n",
      " [0. 0. 1. 0. 0. 0. 0. 0. 0. 0. 0. 0.]]\n"
     ]
    }
   ],
   "source": [
    "# define the train labels in len 12 arrays\n",
    "labels = []\n",
    "for i in labels_all:\n",
    "    arr = np.zeros(len(l))\n",
    "    index = l.index(i)\n",
    "    arr[index]=1\n",
    "    labels.append(arr[:])\n",
    "    \n",
    "labels = np.array(labels)\n",
    "print(\"train_labels shape =\", labels.shape,\"\\n\\nFirst 3 entries:\")\n",
    "print(labels[:3])"
   ]
  },
  {
   "cell_type": "markdown",
   "metadata": {},
   "source": [
    "### normalise the images\n",
    "because the values of the pixels in these images are somewhat unconventional I normalize by dividing by 40 instead of 255, this is because I checked and the max value was 66 point something."
   ]
  },
  {
   "cell_type": "code",
   "execution_count": 32,
   "metadata": {},
   "outputs": [
    {
     "name": "stdout",
     "output_type": "stream",
     "text": [
      "max :  0.8809246\n",
      "min :  0.0\n"
     ]
    }
   ],
   "source": [
    "# normalize images\n",
    "images_n = images / 40.0 # n for normalized\n",
    "print(\"max : \",np.max(images_n))\n",
    "print(\"min : \",np.min(images_n))"
   ]
  },
  {
   "cell_type": "markdown",
   "metadata": {},
   "source": [
    "Flatten the images for training"
   ]
  },
  {
   "cell_type": "code",
   "execution_count": 33,
   "metadata": {},
   "outputs": [
    {
     "name": "stdout",
     "output_type": "stream",
     "text": [
      "triain images flatten shape :  (2400, 40000)\n"
     ]
    }
   ],
   "source": [
    "images_flatten = np.array([i.flatten(\"C\") for i in images_n])\n",
    "print(\"triain images flatten shape : \",images_flatten.shape)"
   ]
  },
  {
   "cell_type": "markdown",
   "metadata": {},
   "source": [
    "# Train Test Split"
   ]
  },
  {
   "cell_type": "code",
   "execution_count": 36,
   "metadata": {},
   "outputs": [
    {
     "name": "stdout",
     "output_type": "stream",
     "text": [
      "the shape of the arrays are (2160, 40000) modify the nn appropriately\n"
     ]
    }
   ],
   "source": [
    "ratio = 0.9\n",
    "cut = int(len(images_flatten)*ratio)\n",
    "images_train = images_flatten[:cut]\n",
    "labels_train = labels[:cut]\n",
    "images_test = images_flatten[cut:]\n",
    "labels_test = labels[cut:]\n",
    "print(\"the shape of the arrays are\", images_train.shape,\"modify the nn appropriately\")"
   ]
  },
  {
   "cell_type": "markdown",
   "metadata": {},
   "source": [
    "# Define Architecture\n",
    "The input size is 40000 and the output is gonna have size 12. I'm gonna make it single hidden layer, see how it does."
   ]
  },
  {
   "cell_type": "code",
   "execution_count": 45,
   "metadata": {},
   "outputs": [
    {
     "name": "stdout",
     "output_type": "stream",
     "text": [
      "printing summary of model\n",
      "Model: \"sequential_4\"\n",
      "_________________________________________________________________\n",
      "Layer (type)                 Output Shape              Param #   \n",
      "=================================================================\n",
      "dense_7 (Dense)              (None, 400)               16000400  \n",
      "_________________________________________________________________\n",
      "dense_8 (Dense)              (None, 12)                4812      \n",
      "=================================================================\n",
      "Total params: 16,005,212\n",
      "Trainable params: 16,005,212\n",
      "Non-trainable params: 0\n",
      "_________________________________________________________________\n"
     ]
    }
   ],
   "source": [
    "model = Sequential()\n",
    "\n",
    "model.add(Dense(400, input_shape=(40000,), activation=\"sigmoid\"))\n",
    "model.add(Dense(12, activation=\"softmax\"))\n",
    "\n",
    "print(\"printing summary of model\")\n",
    "model.summary()"
   ]
  },
  {
   "cell_type": "markdown",
   "metadata": {},
   "source": [
    "# Compile the mode\n",
    "You can compile a network (model) as many times as you want. You need to compile the model if you wish to change the loss function, optimizer or matrices.\n",
    "\n",
    "You need a compiled model to train (because training uses the loss function and the optimizer). But it’s not necessary to compile the model when testing the model on a new data."
   ]
  },
  {
   "cell_type": "code",
   "execution_count": 50,
   "metadata": {},
   "outputs": [
    {
     "name": "stdout",
     "output_type": "stream",
     "text": [
      "[INFO] Compiled the network...\n"
     ]
    }
   ],
   "source": [
    "# Initialize the initial learning rate and number of Epochs\n",
    "INIT_LR = 0.01\n",
    "EPOCHS = 50\n",
    "\n",
    "# compile the model using SGD optimizer (see imports) and categorical cross-entropy loss\n",
    "print(\"[INFO] Compiled the network...\")\n",
    "opt = SGD(lr = INIT_LR) # stochastic gradient descent\n",
    "model.compile(loss=\"categorical_crossentropy\", optimizer=opt,\n",
    "             metrics=[\"accuracy\"])"
   ]
  },
  {
   "cell_type": "code",
   "execution_count": 51,
   "metadata": {},
   "outputs": [],
   "source": [
    "# split the train into a train and valid set to feed into the model\n",
    "ratio = 0.8\n",
    "cut = int(ratio*len(images_train))\n",
    "trainX = images_train[:cut]\n",
    "trainY = labels_train[:cut]\n",
    "valX = images_train[cut:]\n",
    "valY = labels_train[cut:]"
   ]
  },
  {
   "cell_type": "markdown",
   "metadata": {},
   "source": [
    "## OR possible import an old network / pre-defined network for (re)training"
   ]
  },
  {
   "cell_type": "markdown",
   "metadata": {},
   "source": [
    "# Train the network"
   ]
  },
  {
   "cell_type": "code",
   "execution_count": 56,
   "metadata": {},
   "outputs": [
    {
     "name": "stdout",
     "output_type": "stream",
     "text": [
      "a random guess would have probability 8.333333333333334 % or out of 1 that would be 0.08333333333333333\n"
     ]
    }
   ],
   "source": [
    "print(\"a random guess would have probability\",100./12,\"% or out of 1 that would be\",1./12)"
   ]
  },
  {
   "cell_type": "code",
   "execution_count": 53,
   "metadata": {
    "scrolled": true
   },
   "outputs": [
    {
     "name": "stdout",
     "output_type": "stream",
     "text": [
      "Train on 1728 samples, validate on 432 samples\n",
      "Epoch 1/50\n",
      "1728/1728 [==============================] - 7s 4ms/step - loss: 2.2183 - accuracy: 0.2743 - val_loss: 2.2672 - val_accuracy: 0.2500\n",
      "Epoch 2/50\n",
      "1728/1728 [==============================] - 6s 4ms/step - loss: 2.1385 - accuracy: 0.3084 - val_loss: 2.2324 - val_accuracy: 0.2153\n",
      "Epoch 3/50\n",
      "1728/1728 [==============================] - 6s 4ms/step - loss: 2.0739 - accuracy: 0.3328 - val_loss: 2.1843 - val_accuracy: 0.1898\n",
      "Epoch 4/50\n",
      "1728/1728 [==============================] - 6s 4ms/step - loss: 2.0236 - accuracy: 0.3484 - val_loss: 2.1524 - val_accuracy: 0.2222\n",
      "Epoch 5/50\n",
      "1728/1728 [==============================] - 7s 4ms/step - loss: 1.9755 - accuracy: 0.3478 - val_loss: 2.1414 - val_accuracy: 0.2431\n",
      "Epoch 6/50\n",
      "1728/1728 [==============================] - 7s 4ms/step - loss: 1.9328 - accuracy: 0.3750 - val_loss: 2.0980 - val_accuracy: 0.2060\n",
      "Epoch 7/50\n",
      "1728/1728 [==============================] - 7s 4ms/step - loss: 1.8875 - accuracy: 0.4062 - val_loss: 2.0697 - val_accuracy: 0.2153\n",
      "Epoch 8/50\n",
      "1728/1728 [==============================] - 6s 4ms/step - loss: 1.8569 - accuracy: 0.4034 - val_loss: 2.0501 - val_accuracy: 0.2060\n",
      "Epoch 9/50\n",
      "1728/1728 [==============================] - 6s 4ms/step - loss: 1.8160 - accuracy: 0.4219 - val_loss: 2.0587 - val_accuracy: 0.1968\n",
      "Epoch 10/50\n",
      "1728/1728 [==============================] - 7s 4ms/step - loss: 1.7835 - accuracy: 0.4358 - val_loss: 2.0042 - val_accuracy: 0.1968\n",
      "Epoch 11/50\n",
      "1728/1728 [==============================] - 7s 4ms/step - loss: 1.7522 - accuracy: 0.4572 - val_loss: 1.9930 - val_accuracy: 0.1944\n",
      "Epoch 12/50\n",
      "1728/1728 [==============================] - 7s 4ms/step - loss: 1.7193 - accuracy: 0.4635 - val_loss: 1.9901 - val_accuracy: 0.2060\n",
      "Epoch 13/50\n",
      "1728/1728 [==============================] - 6s 4ms/step - loss: 1.6928 - accuracy: 0.4740 - val_loss: 1.9668 - val_accuracy: 0.1944\n",
      "Epoch 14/50\n",
      "1728/1728 [==============================] - 7s 4ms/step - loss: 1.6648 - accuracy: 0.4774 - val_loss: 1.9553 - val_accuracy: 0.2014\n",
      "Epoch 15/50\n",
      "1728/1728 [==============================] - 7s 4ms/step - loss: 1.6386 - accuracy: 0.4913 - val_loss: 1.9386 - val_accuracy: 0.2083\n",
      "Epoch 16/50\n",
      "1728/1728 [==============================] - 6s 4ms/step - loss: 1.6066 - accuracy: 0.5203 - val_loss: 1.9308 - val_accuracy: 0.2384\n",
      "Epoch 17/50\n",
      "1728/1728 [==============================] - 7s 4ms/step - loss: 1.5845 - accuracy: 0.5226 - val_loss: 1.9184 - val_accuracy: 0.2106\n",
      "Epoch 18/50\n",
      "1728/1728 [==============================] - 6s 4ms/step - loss: 1.5623 - accuracy: 0.5243 - val_loss: 1.9217 - val_accuracy: 0.2130\n",
      "Epoch 19/50\n",
      "1728/1728 [==============================] - 7s 4ms/step - loss: 1.5348 - accuracy: 0.5370 - val_loss: 1.8929 - val_accuracy: 0.2014\n",
      "Epoch 20/50\n",
      "1728/1728 [==============================] - 6s 4ms/step - loss: 1.5167 - accuracy: 0.5463 - val_loss: 1.8836 - val_accuracy: 0.1944\n",
      "Epoch 21/50\n",
      "1728/1728 [==============================] - 7s 4ms/step - loss: 1.4984 - accuracy: 0.5532 - val_loss: 1.8722 - val_accuracy: 0.2269\n",
      "Epoch 22/50\n",
      "1728/1728 [==============================] - 6s 4ms/step - loss: 1.4735 - accuracy: 0.5463 - val_loss: 1.8605 - val_accuracy: 0.2292\n",
      "Epoch 23/50\n",
      "1728/1728 [==============================] - 6s 4ms/step - loss: 1.4518 - accuracy: 0.5758 - val_loss: 1.8535 - val_accuracy: 0.2153\n",
      "Epoch 24/50\n",
      "1728/1728 [==============================] - 6s 4ms/step - loss: 1.4340 - accuracy: 0.5868 - val_loss: 1.8615 - val_accuracy: 0.2106\n",
      "Epoch 25/50\n",
      "1728/1728 [==============================] - 7s 4ms/step - loss: 1.4155 - accuracy: 0.5810 - val_loss: 1.8398 - val_accuracy: 0.1991\n",
      "Epoch 26/50\n",
      "1728/1728 [==============================] - 7s 4ms/step - loss: 1.3959 - accuracy: 0.6007 - val_loss: 1.8504 - val_accuracy: 0.2384\n",
      "Epoch 27/50\n",
      "1728/1728 [==============================] - 7s 4ms/step - loss: 1.3793 - accuracy: 0.5949 - val_loss: 1.8411 - val_accuracy: 0.2083\n",
      "Epoch 28/50\n",
      "1728/1728 [==============================] - 8s 4ms/step - loss: 1.3611 - accuracy: 0.6140 - val_loss: 1.8193 - val_accuracy: 0.2153\n",
      "Epoch 29/50\n",
      "1728/1728 [==============================] - 6s 4ms/step - loss: 1.3474 - accuracy: 0.6088 - val_loss: 1.8120 - val_accuracy: 0.2014\n",
      "Epoch 30/50\n",
      "1728/1728 [==============================] - 6s 3ms/step - loss: 1.3274 - accuracy: 0.6123 - val_loss: 1.8049 - val_accuracy: 0.1991\n",
      "Epoch 31/50\n",
      "1728/1728 [==============================] - 6s 4ms/step - loss: 1.3149 - accuracy: 0.6377 - val_loss: 1.8004 - val_accuracy: 0.2037\n",
      "Epoch 32/50\n",
      "1728/1728 [==============================] - 7s 4ms/step - loss: 1.2981 - accuracy: 0.6279 - val_loss: 1.7954 - val_accuracy: 0.2083\n",
      "Epoch 33/50\n",
      "1728/1728 [==============================] - 7s 4ms/step - loss: 1.2854 - accuracy: 0.6314 - val_loss: 1.7952 - val_accuracy: 0.1921\n",
      "Epoch 34/50\n",
      "1728/1728 [==============================] - 6s 4ms/step - loss: 1.2703 - accuracy: 0.6354 - val_loss: 1.7801 - val_accuracy: 0.2037\n",
      "Epoch 35/50\n",
      "1728/1728 [==============================] - 6s 4ms/step - loss: 1.2530 - accuracy: 0.6522 - val_loss: 1.7740 - val_accuracy: 0.2130\n",
      "Epoch 36/50\n",
      "1728/1728 [==============================] - 6s 3ms/step - loss: 1.2380 - accuracy: 0.6395 - val_loss: 1.7760 - val_accuracy: 0.1829\n",
      "Epoch 37/50\n",
      "1728/1728 [==============================] - 6s 4ms/step - loss: 1.2265 - accuracy: 0.6510 - val_loss: 1.7691 - val_accuracy: 0.2014\n",
      "Epoch 38/50\n",
      "1728/1728 [==============================] - 7s 4ms/step - loss: 1.2121 - accuracy: 0.6481 - val_loss: 1.7701 - val_accuracy: 0.2199\n",
      "Epoch 39/50\n",
      "1728/1728 [==============================] - 6s 4ms/step - loss: 1.1980 - accuracy: 0.6568 - val_loss: 1.7703 - val_accuracy: 0.2176\n",
      "Epoch 40/50\n",
      "1728/1728 [==============================] - 6s 4ms/step - loss: 1.1902 - accuracy: 0.6620 - val_loss: 1.7763 - val_accuracy: 0.2037\n",
      "Epoch 41/50\n",
      "1728/1728 [==============================] - 6s 4ms/step - loss: 1.1760 - accuracy: 0.6632 - val_loss: 1.7630 - val_accuracy: 0.2037\n",
      "Epoch 42/50\n",
      "1728/1728 [==============================] - 6s 4ms/step - loss: 1.1590 - accuracy: 0.6777 - val_loss: 1.7759 - val_accuracy: 0.2569\n",
      "Epoch 43/50\n",
      "1728/1728 [==============================] - 6s 4ms/step - loss: 1.1491 - accuracy: 0.6829 - val_loss: 1.7554 - val_accuracy: 0.2176\n",
      "Epoch 44/50\n",
      "1728/1728 [==============================] - 6s 4ms/step - loss: 1.1363 - accuracy: 0.6904 - val_loss: 1.7673 - val_accuracy: 0.2153\n",
      "Epoch 45/50\n",
      "1728/1728 [==============================] - 7s 4ms/step - loss: 1.1300 - accuracy: 0.6753 - val_loss: 1.7586 - val_accuracy: 0.2245\n",
      "Epoch 46/50\n",
      "1728/1728 [==============================] - 6s 4ms/step - loss: 1.1145 - accuracy: 0.6927 - val_loss: 1.7602 - val_accuracy: 0.2245\n",
      "Epoch 47/50\n",
      "1728/1728 [==============================] - 6s 4ms/step - loss: 1.1026 - accuracy: 0.7118 - val_loss: 1.7420 - val_accuracy: 0.2153\n",
      "Epoch 48/50\n",
      "1728/1728 [==============================] - 6s 4ms/step - loss: 1.0948 - accuracy: 0.7078 - val_loss: 1.7460 - val_accuracy: 0.2130\n",
      "Epoch 49/50\n",
      "1728/1728 [==============================] - 6s 4ms/step - loss: 1.0841 - accuracy: 0.7124 - val_loss: 1.7442 - val_accuracy: 0.1991\n",
      "Epoch 50/50\n",
      "1728/1728 [==============================] - 6s 4ms/step - loss: 1.0723 - accuracy: 0.7170 - val_loss: 1.7511 - val_accuracy: 0.2130\n"
     ]
    }
   ],
   "source": [
    "H = model.fit(trainX, trainY,\n",
    "             validation_data=(valX,valY),\n",
    "             epochs=EPOCHS, batch_size=32)"
   ]
  },
  {
   "cell_type": "markdown",
   "metadata": {},
   "source": [
    "## Evaluate the netork"
   ]
  },
  {
   "cell_type": "code",
   "execution_count": 54,
   "metadata": {},
   "outputs": [
    {
     "name": "stdout",
     "output_type": "stream",
     "text": [
      "[INFO] evaluating netowrk...\n",
      "The test data set accuracy is 16.666666666666664\n"
     ]
    }
   ],
   "source": [
    "print(\"[INFO] evaluating netowrk...\")\n",
    "predictions = model.predict(images_test, batch_size=32)\n",
    "correct, incorrect = 0,0\n",
    "if len(predictions)!=len(labels_test): raise Exception\n",
    "for i in range(len(predictions)):\n",
    "    if list(predictions[i]).index(max(predictions[i])) == list(labels_test[i]).index(1): \n",
    "        correct +=1\n",
    "    else: \n",
    "        incorrect +=1\n",
    "    \n",
    "print(\"The test data set accuracy is\", 100*(correct / (correct+incorrect)))"
   ]
  },
  {
   "cell_type": "code",
   "execution_count": 55,
   "metadata": {},
   "outputs": [
    {
     "data": {
      "image/png": "[encoded data removed]",
      "text/plain": [
       "<Figure size 432x288 with 1 Axes>"
      ]
     },
     "metadata": {},
     "output_type": "display_data"
    }
   ],
   "source": [
    "# plot the training loss and accuracy for each epoch\n",
    "N = np.arange(0, EPOCHS)\n",
    "plt.style.use(\"ggplot\")\n",
    "plt.figure()\n",
    "plt.plot(N, H.history[\"loss\"], label=\"train_loss\")\n",
    "plt.plot(N, H.history[\"val_loss\"], label=\"val_loss\")\n",
    "plt.plot(N, H.history[\"accuracy\"], label=\"train_acc\")\n",
    "plt.plot(N, H.history[\"val_accuracy\"], label=\"val_acc\")\n",
    "plt.title(\"Training Loss and Accuracy (simple multiclass classification)\")\n",
    "plt.xlabel(\"Epoch #\")\n",
    "plt.ylabel(\"Loss/Accuracy\")\n",
    "plt.legend()\n",
    "plt.savefig(\"training_performance.png\")\n",
    "plt.show()"
   ]
  },
  {
   "cell_type": "markdown",
   "metadata": {},
   "source": [
    "### Save the weights"
   ]
  },
  {
   "cell_type": "code",
   "execution_count": 22,
   "metadata": {},
   "outputs": [
    {
     "name": "stdout",
     "output_type": "stream",
     "text": [
      "[INFO] serializing network...\n"
     ]
    }
   ],
   "source": [
    "# save the model to the disk\n",
    "print(\"[INFO] serializing network...\")\n",
    "model.save(\"keras_single_hidden_layer_40000_400_12_acc_.model\")"
   ]
  },
  {
   "cell_type": "markdown",
   "metadata": {},
   "source": [
    "# OR Import an old neural network"
   ]
  },
  {
   "cell_type": "code",
   "execution_count": null,
   "metadata": {},
   "outputs": [],
   "source": []
  },
  {
   "cell_type": "code",
   "execution_count": null,
   "metadata": {},
   "outputs": [],
   "source": []
  }
 ],
 "metadata": {
  "kernelspec": {
   "display_name": "Python 3",
   "language": "python",
   "name": "python3"
  },
  "language_info": {
   "codemirror_mode": {
    "name": "ipython",
    "version": 3
   },
   "file_extension": ".py",
   "mimetype": "text/x-python",
   "name": "python",
   "nbconvert_exporter": "python",
   "pygments_lexer": "ipython3",
   "version": "3.7.3"
  }
 },
 "nbformat": 4,
 "nbformat_minor": 2
}
