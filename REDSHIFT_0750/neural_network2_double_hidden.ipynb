{
 "cells": [
  {
   "cell_type": "markdown",
   "metadata": {},
   "source": [
    "# BASELINE MODEL\n",
    "\n",
    "Using [this webpage](https://medium.com/@pallawi.ds/ai-starter-train-and-test-your-first-neural-network-classifier-in-keras-from-scratch-b6a5f3b3ebc4) to help me out"
   ]
  },
  {
   "cell_type": "markdown",
   "metadata": {},
   "source": [
    "# import statements"
   ]
  },
  {
   "cell_type": "code",
   "execution_count": 15,
   "metadata": {},
   "outputs": [
    {
     "name": "stdout",
     "output_type": "stream",
     "text": [
      "keras is using tensorflow as the backend\n"
     ]
    }
   ],
   "source": [
    "import matplotlib.pyplot as plt\n",
    "import matplotlib as mpl\n",
    "import sklearn\n",
    "import numpy as np\n",
    "import random\n",
    "\n",
    "# import keras\n",
    "import keras\n",
    "from keras.models import Sequential\n",
    "from keras import backend as K\n",
    "backend_keras = keras.backend.backend()\n",
    "print(\"keras is using\", backend_keras,\"as the backend\")\n",
    "from keras.layers.core import Dense\n",
    "from keras.optimizers import SGD"
   ]
  },
  {
   "cell_type": "markdown",
   "metadata": {},
   "source": [
    "# Load the data"
   ]
  },
  {
   "cell_type": "code",
   "execution_count": 16,
   "metadata": {},
   "outputs": [
    {
     "name": "stdout",
     "output_type": "stream",
     "text": [
      "(2400, 200, 200)\n",
      "(2400,)\n"
     ]
    }
   ],
   "source": [
    "images = np.load(\"redshift0750_data.npy\")\n",
    "labels_all = np.load(\"redshift0750_labels.npy\")\n",
    "print(images.shape)\n",
    "print(labels_all.shape)\n",
    "\n",
    "images = list(images)\n",
    "labels_all = list(labels_all)"
   ]
  },
  {
   "cell_type": "markdown",
   "metadata": {},
   "source": [
    "# Preprocessing"
   ]
  },
  {
   "cell_type": "code",
   "execution_count": 17,
   "metadata": {},
   "outputs": [],
   "source": [
    "# Shuffle the data\n",
    "shuffled_images = []\n",
    "shuffled_labels_all = []\n",
    "while images:\n",
    "    i = random.randrange(len(images))\n",
    "    shuffled_images.append(images[i])\n",
    "    del images[i]\n",
    "    shuffled_labels_all.append(labels_all[i])\n",
    "    del labels_all[i]\n",
    "    \n",
    "images = np.array(shuffled_images[:])\n",
    "labels_all = np.array(shuffled_labels_all)"
   ]
  },
  {
   "cell_type": "code",
   "execution_count": 18,
   "metadata": {},
   "outputs": [
    {
     "name": "stdout",
     "output_type": "stream",
     "text": [
      "(2400, 200, 200)\n",
      "(2400,)\n"
     ]
    }
   ],
   "source": [
    "print(images.shape)\n",
    "print(labels_all.shape)"
   ]
  },
  {
   "cell_type": "markdown",
   "metadata": {},
   "source": [
    "### transform the labels so that the model can learn them\n",
    "Sofar the labels are floats "
   ]
  },
  {
   "cell_type": "code",
   "execution_count": 19,
   "metadata": {},
   "outputs": [
    {
     "name": "stdout",
     "output_type": "stream",
     "text": [
      "[0.07, 0.08, 0.092, 0.094, 0.096, 0.098, 0.102, 0.104, 0.106, 0.108, 0.12, 0.13] \n",
      "There are 12 labels. So the the problem is an image classification into 12 classes\n"
     ]
    }
   ],
   "source": [
    "# display the labels\n",
    "l = []\n",
    "for i in labels_all:\n",
    "    if i not in l: l.append(i)\n",
    "l.sort()\n",
    "print(l,\"\\nThere are\",len(l),\"labels. So the the problem is an image classification into\",len(l),\"classes\")"
   ]
  },
  {
   "cell_type": "code",
   "execution_count": 20,
   "metadata": {},
   "outputs": [
    {
     "name": "stdout",
     "output_type": "stream",
     "text": [
      "train_labels shape = (2400, 12) \n",
      "\n",
      "First 3 entries:\n",
      "[[0. 0. 0. 0. 0. 1. 0. 0. 0. 0. 0. 0.]\n",
      " [1. 0. 0. 0. 0. 0. 0. 0. 0. 0. 0. 0.]\n",
      " [0. 0. 1. 0. 0. 0. 0. 0. 0. 0. 0. 0.]]\n"
     ]
    }
   ],
   "source": [
    "# define the train labels in len 12 arrays\n",
    "labels = []\n",
    "for i in labels_all:\n",
    "    arr = np.zeros(len(l))\n",
    "    index = l.index(i)\n",
    "    arr[index]=1\n",
    "    labels.append(arr[:])\n",
    "    \n",
    "labels = np.array(labels)\n",
    "print(\"train_labels shape =\", labels.shape,\"\\n\\nFirst 3 entries:\")\n",
    "print(labels[:3])"
   ]
  },
  {
   "cell_type": "markdown",
   "metadata": {},
   "source": [
    "### normalise the images\n",
    "because the values of the pixels in these images are somewhat unconventional I normalize by dividing by 40 instead of 255, this is because I checked and the max value was 66 point something."
   ]
  },
  {
   "cell_type": "code",
   "execution_count": 21,
   "metadata": {},
   "outputs": [
    {
     "name": "stdout",
     "output_type": "stream",
     "text": [
      "max :  0.8809246\n",
      "min :  0.0\n"
     ]
    }
   ],
   "source": [
    "# normalize images\n",
    "images_n = images / 40.0 # n for normalized\n",
    "print(\"max : \",np.max(images_n))\n",
    "print(\"min : \",np.min(images_n))"
   ]
  },
  {
   "cell_type": "markdown",
   "metadata": {},
   "source": [
    "Flatten the images for training"
   ]
  },
  {
   "cell_type": "code",
   "execution_count": 22,
   "metadata": {},
   "outputs": [
    {
     "name": "stdout",
     "output_type": "stream",
     "text": [
      "triain images flatten shape :  (2400, 40000)\n"
     ]
    }
   ],
   "source": [
    "images_flatten = np.array([i.flatten(\"C\") for i in images_n])\n",
    "print(\"triain images flatten shape : \",images_flatten.shape)"
   ]
  },
  {
   "cell_type": "markdown",
   "metadata": {},
   "source": [
    "# Train Test Split"
   ]
  },
  {
   "cell_type": "code",
   "execution_count": 23,
   "metadata": {},
   "outputs": [
    {
     "name": "stdout",
     "output_type": "stream",
     "text": [
      "the shape of the arrays are (2160, 40000) modify the nn appropriately\n"
     ]
    }
   ],
   "source": [
    "ratio = 0.9\n",
    "cut = int(len(images_flatten)*ratio)\n",
    "images_train = images_flatten[:cut]\n",
    "labels_train = labels[:cut]\n",
    "images_test = images_flatten[cut:]\n",
    "labels_test = labels[cut:]\n",
    "print(\"the shape of the arrays are\", images_train.shape,\"modify the nn appropriately\")"
   ]
  },
  {
   "cell_type": "markdown",
   "metadata": {},
   "source": [
    "# Define Architecture\n",
    "The input size is 40000 and the output is gonna have size 12. I'm gonna make it single hidden layer, see how it does."
   ]
  },
  {
   "cell_type": "code",
   "execution_count": 24,
   "metadata": {},
   "outputs": [
    {
     "name": "stdout",
     "output_type": "stream",
     "text": [
      "printing summary of model\n",
      "Model: \"sequential_1\"\n",
      "_________________________________________________________________\n",
      "Layer (type)                 Output Shape              Param #   \n",
      "=================================================================\n",
      "dense_1 (Dense)              (None, 800)               32000800  \n",
      "_________________________________________________________________\n",
      "dense_2 (Dense)              (None, 250)               200250    \n",
      "_________________________________________________________________\n",
      "dense_3 (Dense)              (None, 12)                3012      \n",
      "=================================================================\n",
      "Total params: 32,204,062\n",
      "Trainable params: 32,204,062\n",
      "Non-trainable params: 0\n",
      "_________________________________________________________________\n"
     ]
    }
   ],
   "source": [
    "model = Sequential()\n",
    "\n",
    "model.add(Dense(800, input_shape=(40000,), activation=\"sigmoid\"))\n",
    "model.add(Dense(250, activation=\"sigmoid\"))\n",
    "model.add(Dense(12, activation=\"softmax\"))\n",
    "\n",
    "print(\"printing summary of model\")\n",
    "model.summary()"
   ]
  },
  {
   "cell_type": "markdown",
   "metadata": {},
   "source": [
    "# Compile the mode\n",
    "You can compile a network (model) as many times as you want. You need to compile the model if you wish to change the loss function, optimizer or matrices.\n",
    "\n",
    "You need a compiled model to train (because training uses the loss function and the optimizer). But it’s not necessary to compile the model when testing the model on a new data."
   ]
  },
  {
   "cell_type": "code",
   "execution_count": 26,
   "metadata": {},
   "outputs": [
    {
     "name": "stdout",
     "output_type": "stream",
     "text": [
      "[INFO] Compiled the network...\n"
     ]
    }
   ],
   "source": [
    "# Initialize the initial learning rate and number of Epochs\n",
    "INIT_LR = 0.03\n",
    "EPOCHS = 50\n",
    "\n",
    "# compile the model using SGD optimizer (see imports) and categorical cross-entropy loss\n",
    "print(\"[INFO] Compiled the network...\")\n",
    "#opt = SGD(lr = INIT_LR) # stochastic gradient descent\n",
    "opt = keras.optimizers.Adam(learning_rate=0.01, beta_1=0.9, beta_2=0.999, amsgrad=False) # adams optimizer\n",
    "model.compile(loss=\"categorical_crossentropy\", optimizer=opt,\n",
    "             metrics=[\"accuracy\"])"
   ]
  },
  {
   "cell_type": "code",
   "execution_count": 27,
   "metadata": {},
   "outputs": [],
   "source": [
    "# split the train into a train and valid set to feed into the model\n",
    "ratio = 0.8\n",
    "cut = int(ratio*len(images_train))\n",
    "trainX = images_train[:cut]\n",
    "trainY = labels_train[:cut]\n",
    "valX = images_train[cut:]\n",
    "valY = labels_train[cut:]"
   ]
  },
  {
   "cell_type": "markdown",
   "metadata": {},
   "source": [
    "## OR possible import an old network / pre-defined network for (re)training"
   ]
  },
  {
   "cell_type": "markdown",
   "metadata": {},
   "source": [
    "# Train the network"
   ]
  },
  {
   "cell_type": "code",
   "execution_count": 28,
   "metadata": {},
   "outputs": [
    {
     "name": "stdout",
     "output_type": "stream",
     "text": [
      "a random guess would have probability 8.333333333333334 % or out of 1 that would be 0.08333333333333333\n"
     ]
    }
   ],
   "source": [
    "print(\"a random guess would have probability\",100./12,\"% or out of 1 that would be\",1./12)"
   ]
  },
  {
   "cell_type": "code",
   "execution_count": 29,
   "metadata": {
    "scrolled": true
   },
   "outputs": [
    {
     "name": "stdout",
     "output_type": "stream",
     "text": [
      "Train on 1728 samples, validate on 432 samples\n",
      "Epoch 1/50\n",
      "1728/1728 [==============================] - 27s 16ms/step - loss: 2.8912 - accuracy: 0.0810 - val_loss: 2.6447 - val_accuracy: 0.0602\n",
      "Epoch 2/50\n",
      "1728/1728 [==============================] - 38s 22ms/step - loss: 2.6044 - accuracy: 0.0868 - val_loss: 2.5361 - val_accuracy: 0.0764\n",
      "Epoch 3/50\n",
      "1728/1728 [==============================] - 31s 18ms/step - loss: 2.5865 - accuracy: 0.0943 - val_loss: 2.5472 - val_accuracy: 0.1042\n",
      "Epoch 4/50\n",
      "1728/1728 [==============================] - 27s 16ms/step - loss: 2.6004 - accuracy: 0.0775 - val_loss: 2.6412 - val_accuracy: 0.0856\n",
      "Epoch 5/50\n",
      "1728/1728 [==============================] - 26s 15ms/step - loss: 2.5692 - accuracy: 0.1024 - val_loss: 2.6158 - val_accuracy: 0.0949\n",
      "Epoch 6/50\n",
      "1728/1728 [==============================] - 25s 15ms/step - loss: 2.6063 - accuracy: 0.0764 - val_loss: 2.5632 - val_accuracy: 0.0880\n",
      "Epoch 7/50\n",
      "1728/1728 [==============================] - 33s 19ms/step - loss: 2.6050 - accuracy: 0.0793 - val_loss: 2.6144 - val_accuracy: 0.0764\n",
      "Epoch 8/50\n",
      "1728/1728 [==============================] - 25s 14ms/step - loss: 2.6153 - accuracy: 0.0775 - val_loss: 2.6338 - val_accuracy: 0.0856\n",
      "Epoch 9/50\n",
      "1728/1728 [==============================] - 25s 14ms/step - loss: 2.6027 - accuracy: 0.0752 - val_loss: 2.6278 - val_accuracy: 0.1042\n",
      "Epoch 10/50\n",
      "1728/1728 [==============================] - 23s 13ms/step - loss: 2.5805 - accuracy: 0.0862 - val_loss: 2.5339 - val_accuracy: 0.0949\n",
      "Epoch 11/50\n",
      "1728/1728 [==============================] - 29s 17ms/step - loss: 2.6125 - accuracy: 0.0723 - val_loss: 2.6325 - val_accuracy: 0.0764\n",
      "Epoch 12/50\n",
      "1728/1728 [==============================] - 24s 14ms/step - loss: 2.6171 - accuracy: 0.0804 - val_loss: 2.7334 - val_accuracy: 0.0880\n",
      "Epoch 13/50\n",
      "1728/1728 [==============================] - 26s 15ms/step - loss: 2.6089 - accuracy: 0.0758 - val_loss: 2.5812 - val_accuracy: 0.0764\n",
      "Epoch 14/50\n",
      "1728/1728 [==============================] - 25s 14ms/step - loss: 2.6318 - accuracy: 0.0781 - val_loss: 2.5623 - val_accuracy: 0.0718\n",
      "Epoch 15/50\n",
      "1728/1728 [==============================] - 26s 15ms/step - loss: 2.6165 - accuracy: 0.0758 - val_loss: 2.6216 - val_accuracy: 0.0856\n",
      "Epoch 16/50\n",
      "1728/1728 [==============================] - 27s 15ms/step - loss: 2.6036 - accuracy: 0.0874 - val_loss: 2.6822 - val_accuracy: 0.0810\n",
      "Epoch 17/50\n",
      "1728/1728 [==============================] - 25s 14ms/step - loss: 2.6084 - accuracy: 0.0862 - val_loss: 2.6579 - val_accuracy: 0.0880\n",
      "Epoch 18/50\n",
      "1728/1728 [==============================] - 23s 13ms/step - loss: 2.5815 - accuracy: 0.0868 - val_loss: 2.6010 - val_accuracy: 0.0856\n",
      "Epoch 19/50\n",
      "1728/1728 [==============================] - 25s 14ms/step - loss: 2.6206 - accuracy: 0.0833 - val_loss: 2.6489 - val_accuracy: 0.0764\n",
      "Epoch 20/50\n",
      "1728/1728 [==============================] - 26s 15ms/step - loss: 2.5870 - accuracy: 0.0880 - val_loss: 2.5750 - val_accuracy: 0.0949\n",
      "Epoch 21/50\n",
      "1728/1728 [==============================] - 25s 14ms/step - loss: 2.6118 - accuracy: 0.0880 - val_loss: 2.6172 - val_accuracy: 0.0718\n",
      "Epoch 22/50\n",
      "1728/1728 [==============================] - 26s 15ms/step - loss: 2.5761 - accuracy: 0.0932 - val_loss: 2.5260 - val_accuracy: 0.0949\n",
      "Epoch 23/50\n",
      "1728/1728 [==============================] - 29s 17ms/step - loss: 2.6032 - accuracy: 0.0810 - val_loss: 2.6310 - val_accuracy: 0.0602\n",
      "Epoch 24/50\n",
      "1728/1728 [==============================] - 27s 16ms/step - loss: 2.5926 - accuracy: 0.0810 - val_loss: 2.6066 - val_accuracy: 0.0810\n",
      "Epoch 25/50\n",
      "1728/1728 [==============================] - 29s 17ms/step - loss: 2.5845 - accuracy: 0.0799 - val_loss: 2.5562 - val_accuracy: 0.0880\n",
      "Epoch 26/50\n",
      "1728/1728 [==============================] - 27s 16ms/step - loss: 2.6079 - accuracy: 0.0909 - val_loss: 2.6144 - val_accuracy: 0.0718\n",
      "Epoch 27/50\n",
      "1728/1728 [==============================] - 25s 15ms/step - loss: 2.5827 - accuracy: 0.0758 - val_loss: 2.5641 - val_accuracy: 0.0718\n",
      "Epoch 28/50\n",
      "1728/1728 [==============================] - 26s 15ms/step - loss: 2.6152 - accuracy: 0.0799 - val_loss: 2.5713 - val_accuracy: 0.0718\n",
      "Epoch 29/50\n",
      "1728/1728 [==============================] - 24s 14ms/step - loss: 2.6012 - accuracy: 0.0839 - val_loss: 2.6292 - val_accuracy: 0.0880\n",
      "Epoch 30/50\n",
      "1728/1728 [==============================] - 25s 14ms/step - loss: 2.5891 - accuracy: 0.0833 - val_loss: 2.6325 - val_accuracy: 0.0880\n",
      "Epoch 31/50\n",
      "1728/1728 [==============================] - 27s 16ms/step - loss: 2.5969 - accuracy: 0.0770 - val_loss: 2.6633 - val_accuracy: 0.0602\n",
      "Epoch 32/50\n",
      "1728/1728 [==============================] - 26s 15ms/step - loss: 2.6019 - accuracy: 0.0729 - val_loss: 2.6042 - val_accuracy: 0.0880\n",
      "Epoch 33/50\n",
      "1728/1728 [==============================] - 25s 14ms/step - loss: 2.5722 - accuracy: 0.0799 - val_loss: 2.6508 - val_accuracy: 0.0949\n",
      "Epoch 34/50\n",
      "1728/1728 [==============================] - 25s 14ms/step - loss: 2.5843 - accuracy: 0.0810 - val_loss: 2.6440 - val_accuracy: 0.0880\n",
      "Epoch 35/50\n",
      "1728/1728 [==============================] - 26s 15ms/step - loss: 2.5828 - accuracy: 0.0833 - val_loss: 2.5074 - val_accuracy: 0.1042\n",
      "Epoch 36/50\n",
      "1728/1728 [==============================] - 23s 13ms/step - loss: 2.5571 - accuracy: 0.0712 - val_loss: 2.6048 - val_accuracy: 0.0718\n",
      "Epoch 37/50\n",
      "1728/1728 [==============================] - 23s 13ms/step - loss: 2.6165 - accuracy: 0.0781 - val_loss: 2.7597 - val_accuracy: 0.0718\n",
      "Epoch 38/50\n",
      "1728/1728 [==============================] - 23s 13ms/step - loss: 2.5745 - accuracy: 0.0862 - val_loss: 2.5843 - val_accuracy: 0.0856\n",
      "Epoch 39/50\n",
      "1728/1728 [==============================] - 23s 13ms/step - loss: 2.6173 - accuracy: 0.0833 - val_loss: 2.8510 - val_accuracy: 0.0602\n",
      "Epoch 40/50\n",
      "1728/1728 [==============================] - 23s 14ms/step - loss: 2.5860 - accuracy: 0.0793 - val_loss: 2.7344 - val_accuracy: 0.0764\n",
      "Epoch 41/50\n",
      "1728/1728 [==============================] - 24s 14ms/step - loss: 2.5814 - accuracy: 0.0880 - val_loss: 2.5784 - val_accuracy: 0.0810\n",
      "Epoch 42/50\n",
      "1728/1728 [==============================] - 23s 13ms/step - loss: 2.6358 - accuracy: 0.0764 - val_loss: 2.5792 - val_accuracy: 0.0602\n",
      "Epoch 43/50\n",
      "1728/1728 [==============================] - 23s 13ms/step - loss: 2.6198 - accuracy: 0.0810 - val_loss: 2.6819 - val_accuracy: 0.0764\n",
      "Epoch 44/50\n",
      "1728/1728 [==============================] - 23s 13ms/step - loss: 2.5999 - accuracy: 0.0804 - val_loss: 2.6597 - val_accuracy: 0.1042\n",
      "Epoch 45/50\n",
      "1728/1728 [==============================] - 24s 14ms/step - loss: 2.6549 - accuracy: 0.0712 - val_loss: 2.7620 - val_accuracy: 0.0602\n",
      "Epoch 46/50\n",
      "1728/1728 [==============================] - 23s 13ms/step - loss: 2.6175 - accuracy: 0.0770 - val_loss: 2.5909 - val_accuracy: 0.0764\n",
      "Epoch 47/50\n",
      "1728/1728 [==============================] - 23s 13ms/step - loss: 2.5749 - accuracy: 0.0874 - val_loss: 2.5967 - val_accuracy: 0.0764\n",
      "Epoch 48/50\n",
      "1728/1728 [==============================] - 23s 13ms/step - loss: 2.6127 - accuracy: 0.0775 - val_loss: 2.5601 - val_accuracy: 0.0949\n",
      "Epoch 49/50\n",
      "1728/1728 [==============================] - 24s 14ms/step - loss: 2.6286 - accuracy: 0.0770 - val_loss: 2.5509 - val_accuracy: 0.0764\n",
      "Epoch 50/50\n",
      "1728/1728 [==============================] - 23s 13ms/step - loss: 2.5808 - accuracy: 0.0966 - val_loss: 2.6396 - val_accuracy: 0.0602\n"
     ]
    }
   ],
   "source": [
    "H = model.fit(trainX, trainY,\n",
    "             validation_data=(valX,valY),\n",
    "             epochs=EPOCHS, batch_size=32)"
   ]
  },
  {
   "cell_type": "markdown",
   "metadata": {},
   "source": [
    "## Evaluate the netork"
   ]
  },
  {
   "cell_type": "code",
   "execution_count": 30,
   "metadata": {},
   "outputs": [
    {
     "name": "stdout",
     "output_type": "stream",
     "text": [
      "[INFO] evaluating netowrk...\n",
      "The test data set accuracy is 9.166666666666666\n",
      "THIS IS A BULLSHIT MODEL ITS EXACTLY RANDOM\n"
     ]
    }
   ],
   "source": [
    "print(\"[INFO] evaluating netowrk...\")\n",
    "predictions = model.predict(images_test, batch_size=32)\n",
    "correct, incorrect = 0,0\n",
    "if len(predictions)!=len(labels_test): raise Exception\n",
    "for i in range(len(predictions)):\n",
    "    if list(predictions[i]).index(max(predictions[i])) == list(labels_test[i]).index(1): \n",
    "        correct +=1\n",
    "    else: \n",
    "        incorrect +=1\n",
    "    \n",
    "print(\"The test data set accuracy is\", 100*(correct / (correct+incorrect)))\n",
    "print(\"THIS IS A BULLSHIT MODEL ITS EXACTLY RANDOM\")"
   ]
  },
  {
   "cell_type": "code",
   "execution_count": 31,
   "metadata": {},
   "outputs": [
    {
     "data": {
      "image/png": "[encoded data removed]",
      "text/plain": [
       "<Figure size 432x288 with 1 Axes>"
      ]
     },
     "metadata": {},
     "output_type": "display_data"
    }
   ],
   "source": [
    "# plot the training loss and accuracy for each epoch\n",
    "N = np.arange(0, EPOCHS)\n",
    "plt.style.use(\"ggplot\")\n",
    "plt.figure()\n",
    "plt.plot(N, H.history[\"loss\"], label=\"train_loss\")\n",
    "plt.plot(N, H.history[\"val_loss\"], label=\"val_loss\")\n",
    "plt.plot(N, H.history[\"accuracy\"], label=\"train_acc\")\n",
    "plt.plot(N, H.history[\"val_accuracy\"], label=\"val_acc\")\n",
    "plt.title(\"Training Loss and Accuracy (simple multiclass classification)\")\n",
    "plt.xlabel(\"Epoch #\")\n",
    "plt.ylabel(\"Loss/Accuracy\")\n",
    "plt.legend()\n",
    "plt.savefig(\"training_performance.png\")\n",
    "plt.show()"
   ]
  },
  {
   "cell_type": "markdown",
   "metadata": {},
   "source": [
    "### Save the weights"
   ]
  },
  {
   "cell_type": "code",
   "execution_count": 32,
   "metadata": {},
   "outputs": [
    {
     "name": "stdout",
     "output_type": "stream",
     "text": [
      "[INFO] serializing network...\n"
     ]
    }
   ],
   "source": [
    "# save the model to the disk\n",
    "print(\"[INFO] serializing network...\")\n",
    "model.save(\"keras_single_hidden_layer_40000_800_250_12_acc_____.model\")"
   ]
  },
  {
   "cell_type": "markdown",
   "metadata": {},
   "source": [
    "# OR Import an old neural network"
   ]
  },
  {
   "cell_type": "code",
   "execution_count": null,
   "metadata": {},
   "outputs": [],
   "source": []
  },
  {
   "cell_type": "code",
   "execution_count": null,
   "metadata": {},
   "outputs": [],
   "source": []
  }
 ],
 "metadata": {
  "kernelspec": {
   "display_name": "Python 3",
   "language": "python",
   "name": "python3"
  },
  "language_info": {
   "codemirror_mode": {
    "name": "ipython",
    "version": 3
   },
   "file_extension": ".py",
   "mimetype": "text/x-python",
   "name": "python",
   "nbconvert_exporter": "python",
   "pygments_lexer": "ipython3",
   "version": "3.7.3"
  }
 },
 "nbformat": 4,
 "nbformat_minor": 2
}
