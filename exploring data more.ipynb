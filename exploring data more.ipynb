{
 "cells": [
  {
   "cell_type": "markdown",
   "metadata": {},
   "source": [
    "See this tutorial http://www.dataperspective.info/2019/02/how-to-import-data-into-google-colab.html for info on how to import data from google drive."
   ]
  },
  {
   "cell_type": "code",
   "execution_count": 1,
   "metadata": {},
   "outputs": [],
   "source": [
    "import numpy as np\n",
    "import random\n",
    "import matplotlib.pyplot as plt\n",
    "import matplotlib.cm as cm\n",
    "import os"
   ]
  },
  {
   "cell_type": "code",
   "execution_count": 6,
   "metadata": {},
   "outputs": [
    {
     "name": "stdout",
     "output_type": "stream",
     "text": [
      "--2019-10-06 21:31:38--  https://drive.google.com/drive/folders/1bY4gtwdeu7x9otU3eb_0BFXwaXrFY59C/z_first_ionization_z013.00_Hllfilter1_RHIIfilter1_RHImax50_200_300Mpc\n",
      "Resolving drive.google.com (drive.google.com)... 172.217.13.142, 2607:f8b0:4020:807::200e\n",
      "Connecting to drive.google.com (drive.google.com)|172.217.13.142|:443... connected.\n",
      "HTTP request sent, awaiting response... 400 Bad Request\n",
      "2019-10-06 21:31:38 ERROR 400: Bad Request.\n",
      "\n"
     ]
    }
   ],
   "source": [
    "!wget https://drive.google.com/drive/folders/1bY4gtwdeu7x9otU3eb_0BFXwaXrFY59C/z_first_ionization_z013.00_Hllfilter1_RHIIfilter1_RHImax50_200_300Mpc"
   ]
  },
  {
   "cell_type": "code",
   "execution_count": 4,
   "metadata": {},
   "outputs": [
    {
     "ename": "NotADirectoryError",
     "evalue": "[Errno 20] Not a directory: '1bY4gtwdeu7x9otU3eb_0BFXwaXrFY59C/z_first_ionization_z013.00_Hllfilter1_RHIIfilter1_RHImax50_200_300Mpc'",
     "output_type": "error",
     "traceback": [
      "\u001b[0;31m---------------------------------------------------------------------------\u001b[0m",
      "\u001b[0;31mNotADirectoryError\u001b[0m                        Traceback (most recent call last)",
      "\u001b[0;32m<ipython-input-4-4ff451feec0b>\u001b[0m in \u001b[0;36m<module>\u001b[0;34m\u001b[0m\n\u001b[1;32m      1\u001b[0m \u001b[0mfname\u001b[0m \u001b[0;34m=\u001b[0m \u001b[0;34m'1bY4gtwdeu7x9otU3eb_0BFXwaXrFY59C/z_first_ionization_z013.00_Hllfilter1_RHIIfilter1_RHImax50_200_300Mpc'\u001b[0m\u001b[0;34m\u001b[0m\u001b[0;34m\u001b[0m\u001b[0m\n\u001b[0;32m----> 2\u001b[0;31m \u001b[0mf\u001b[0m \u001b[0;34m=\u001b[0m \u001b[0mopen\u001b[0m\u001b[0;34m(\u001b[0m\u001b[0mfname\u001b[0m\u001b[0;34m,\u001b[0m \u001b[0;34m\"rb\"\u001b[0m\u001b[0;34m)\u001b[0m\u001b[0;34m\u001b[0m\u001b[0;34m\u001b[0m\u001b[0m\n\u001b[0m",
      "\u001b[0;31mNotADirectoryError\u001b[0m: [Errno 20] Not a directory: '1bY4gtwdeu7x9otU3eb_0BFXwaXrFY59C/z_first_ionization_z013.00_Hllfilter1_RHIIfilter1_RHImax50_200_300Mpc'"
     ]
    }
   ],
   "source": [
    "fname = '1bY4gtwdeu7x9otU3eb_0BFXwaXrFY59C/z_first_ionization_z013.00_Hllfilter1_RHIIfilter1_RHImax50_200_300Mpc'\n",
    "f = open(fname, \"rb\")"
   ]
  },
  {
   "cell_type": "code",
   "execution_count": null,
   "metadata": {},
   "outputs": [],
   "source": []
  },
  {
   "cell_type": "code",
   "execution_count": null,
   "metadata": {},
   "outputs": [],
   "source": []
  },
  {
   "cell_type": "code",
   "execution_count": null,
   "metadata": {},
   "outputs": [],
   "source": []
  },
  {
   "cell_type": "code",
   "execution_count": null,
   "metadata": {},
   "outputs": [],
   "source": []
  },
  {
   "cell_type": "code",
   "execution_count": null,
   "metadata": {},
   "outputs": [],
   "source": []
  }
 ],
 "metadata": {
  "kernelspec": {
   "display_name": "Python 3",
   "language": "python",
   "name": "python3"
  },
  "language_info": {
   "codemirror_mode": {
    "name": "ipython",
    "version": 3
   },
   "file_extension": ".py",
   "mimetype": "text/x-python",
   "name": "python",
   "nbconvert_exporter": "python",
   "pygments_lexer": "ipython3",
   "version": "3.7.3"
  }
 },
 "nbformat": 4,
 "nbformat_minor": 2
}
